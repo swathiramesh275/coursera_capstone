{
  "nbformat": 4,
  "nbformat_minor": 0,
  "metadata": {
    "colab": {
      "name": "Titanic.ipynb",
      "provenance": [],
      "collapsed_sections": []
    },
    "kernelspec": {
      "name": "python3",
      "display_name": "Python 3"
    },
    "language_info": {
      "name": "python"
    }
  },
  "cells": [
    {
      "cell_type": "markdown",
      "metadata": {
        "id": "mBK6GohwoRhL"
      },
      "source": [
        "# **Titanic**"
      ]
    },
    {
      "cell_type": "markdown",
      "metadata": {
        "id": "gsJ2g9-ZoUQN"
      },
      "source": [
        "### 1.Data Evaluation"
      ]
    },
    {
      "cell_type": "code",
      "metadata": {
        "id": "lnP_VpMjDqCY"
      },
      "source": [
        "import pandas as pd\n",
        "import numpy as np\n",
        "import matplotlib.pyplot as plt\n",
        "%matplotlib inline\n",
        "import seaborn as sns"
      ],
      "execution_count": 1,
      "outputs": []
    },
    {
      "cell_type": "code",
      "metadata": {
        "id": "5Wu723sdgPuL"
      },
      "source": [
        "from sklearn.model_selection import train_test_split\n",
        "from sklearn.linear_model import LogisticRegression\n",
        "from sklearn.metrics import classification_report"
      ],
      "execution_count": 2,
      "outputs": []
    },
    {
      "cell_type": "code",
      "metadata": {
        "id": "BE8h-OUkES_8"
      },
      "source": [
        "df=pd.read_csv(\"https://raw.githubusercontent.com/dsrscientist/dataset1/master/titanic_train.csv\")"
      ],
      "execution_count": 3,
      "outputs": []
    },
    {
      "cell_type": "code",
      "metadata": {
        "colab": {
          "base_uri": "https://localhost:8080/",
          "height": 204
        },
        "id": "yLqdDlLuEde0",
        "outputId": "113c7879-7621-477f-c9ae-f0e2c3e33495"
      },
      "source": [
        "df.head()"
      ],
      "execution_count": 4,
      "outputs": [
        {
          "output_type": "execute_result",
          "data": {
            "text/html": [
              "<div>\n",
              "<style scoped>\n",
              "    .dataframe tbody tr th:only-of-type {\n",
              "        vertical-align: middle;\n",
              "    }\n",
              "\n",
              "    .dataframe tbody tr th {\n",
              "        vertical-align: top;\n",
              "    }\n",
              "\n",
              "    .dataframe thead th {\n",
              "        text-align: right;\n",
              "    }\n",
              "</style>\n",
              "<table border=\"1\" class=\"dataframe\">\n",
              "  <thead>\n",
              "    <tr style=\"text-align: right;\">\n",
              "      <th></th>\n",
              "      <th>PassengerId</th>\n",
              "      <th>Survived</th>\n",
              "      <th>Pclass</th>\n",
              "      <th>Name</th>\n",
              "      <th>Sex</th>\n",
              "      <th>Age</th>\n",
              "      <th>SibSp</th>\n",
              "      <th>Parch</th>\n",
              "      <th>Ticket</th>\n",
              "      <th>Fare</th>\n",
              "      <th>Cabin</th>\n",
              "      <th>Embarked</th>\n",
              "    </tr>\n",
              "  </thead>\n",
              "  <tbody>\n",
              "    <tr>\n",
              "      <th>0</th>\n",
              "      <td>1</td>\n",
              "      <td>0</td>\n",
              "      <td>3</td>\n",
              "      <td>Braund, Mr. Owen Harris</td>\n",
              "      <td>male</td>\n",
              "      <td>22.0</td>\n",
              "      <td>1</td>\n",
              "      <td>0</td>\n",
              "      <td>A/5 21171</td>\n",
              "      <td>7.2500</td>\n",
              "      <td>NaN</td>\n",
              "      <td>S</td>\n",
              "    </tr>\n",
              "    <tr>\n",
              "      <th>1</th>\n",
              "      <td>2</td>\n",
              "      <td>1</td>\n",
              "      <td>1</td>\n",
              "      <td>Cumings, Mrs. John Bradley (Florence Briggs Th...</td>\n",
              "      <td>female</td>\n",
              "      <td>38.0</td>\n",
              "      <td>1</td>\n",
              "      <td>0</td>\n",
              "      <td>PC 17599</td>\n",
              "      <td>71.2833</td>\n",
              "      <td>C85</td>\n",
              "      <td>C</td>\n",
              "    </tr>\n",
              "    <tr>\n",
              "      <th>2</th>\n",
              "      <td>3</td>\n",
              "      <td>1</td>\n",
              "      <td>3</td>\n",
              "      <td>Heikkinen, Miss. Laina</td>\n",
              "      <td>female</td>\n",
              "      <td>26.0</td>\n",
              "      <td>0</td>\n",
              "      <td>0</td>\n",
              "      <td>STON/O2. 3101282</td>\n",
              "      <td>7.9250</td>\n",
              "      <td>NaN</td>\n",
              "      <td>S</td>\n",
              "    </tr>\n",
              "    <tr>\n",
              "      <th>3</th>\n",
              "      <td>4</td>\n",
              "      <td>1</td>\n",
              "      <td>1</td>\n",
              "      <td>Futrelle, Mrs. Jacques Heath (Lily May Peel)</td>\n",
              "      <td>female</td>\n",
              "      <td>35.0</td>\n",
              "      <td>1</td>\n",
              "      <td>0</td>\n",
              "      <td>113803</td>\n",
              "      <td>53.1000</td>\n",
              "      <td>C123</td>\n",
              "      <td>S</td>\n",
              "    </tr>\n",
              "    <tr>\n",
              "      <th>4</th>\n",
              "      <td>5</td>\n",
              "      <td>0</td>\n",
              "      <td>3</td>\n",
              "      <td>Allen, Mr. William Henry</td>\n",
              "      <td>male</td>\n",
              "      <td>35.0</td>\n",
              "      <td>0</td>\n",
              "      <td>0</td>\n",
              "      <td>373450</td>\n",
              "      <td>8.0500</td>\n",
              "      <td>NaN</td>\n",
              "      <td>S</td>\n",
              "    </tr>\n",
              "  </tbody>\n",
              "</table>\n",
              "</div>"
            ],
            "text/plain": [
              "   PassengerId  Survived  Pclass  ...     Fare Cabin  Embarked\n",
              "0            1         0       3  ...   7.2500   NaN         S\n",
              "1            2         1       1  ...  71.2833   C85         C\n",
              "2            3         1       3  ...   7.9250   NaN         S\n",
              "3            4         1       1  ...  53.1000  C123         S\n",
              "4            5         0       3  ...   8.0500   NaN         S\n",
              "\n",
              "[5 rows x 12 columns]"
            ]
          },
          "metadata": {
            "tags": []
          },
          "execution_count": 4
        }
      ]
    },
    {
      "cell_type": "code",
      "metadata": {
        "colab": {
          "base_uri": "https://localhost:8080/"
        },
        "id": "WEpc_KcvEpz8",
        "outputId": "30720fbb-d53a-4ea5-e32d-c2c6b2e39606"
      },
      "source": [
        "df.columns"
      ],
      "execution_count": 5,
      "outputs": [
        {
          "output_type": "execute_result",
          "data": {
            "text/plain": [
              "Index(['PassengerId', 'Survived', 'Pclass', 'Name', 'Sex', 'Age', 'SibSp',\n",
              "       'Parch', 'Ticket', 'Fare', 'Cabin', 'Embarked'],\n",
              "      dtype='object')"
            ]
          },
          "metadata": {
            "tags": []
          },
          "execution_count": 5
        }
      ]
    },
    {
      "cell_type": "code",
      "metadata": {
        "colab": {
          "base_uri": "https://localhost:8080/",
          "height": 297
        },
        "id": "BNIqFal-t7Kv",
        "outputId": "c038e8b8-33e5-4de5-eb82-3507a5f512f3"
      },
      "source": [
        "df.describe()"
      ],
      "execution_count": 6,
      "outputs": [
        {
          "output_type": "execute_result",
          "data": {
            "text/html": [
              "<div>\n",
              "<style scoped>\n",
              "    .dataframe tbody tr th:only-of-type {\n",
              "        vertical-align: middle;\n",
              "    }\n",
              "\n",
              "    .dataframe tbody tr th {\n",
              "        vertical-align: top;\n",
              "    }\n",
              "\n",
              "    .dataframe thead th {\n",
              "        text-align: right;\n",
              "    }\n",
              "</style>\n",
              "<table border=\"1\" class=\"dataframe\">\n",
              "  <thead>\n",
              "    <tr style=\"text-align: right;\">\n",
              "      <th></th>\n",
              "      <th>PassengerId</th>\n",
              "      <th>Survived</th>\n",
              "      <th>Pclass</th>\n",
              "      <th>Age</th>\n",
              "      <th>SibSp</th>\n",
              "      <th>Parch</th>\n",
              "      <th>Fare</th>\n",
              "    </tr>\n",
              "  </thead>\n",
              "  <tbody>\n",
              "    <tr>\n",
              "      <th>count</th>\n",
              "      <td>891.000000</td>\n",
              "      <td>891.000000</td>\n",
              "      <td>891.000000</td>\n",
              "      <td>714.000000</td>\n",
              "      <td>891.000000</td>\n",
              "      <td>891.000000</td>\n",
              "      <td>891.000000</td>\n",
              "    </tr>\n",
              "    <tr>\n",
              "      <th>mean</th>\n",
              "      <td>446.000000</td>\n",
              "      <td>0.383838</td>\n",
              "      <td>2.308642</td>\n",
              "      <td>29.699118</td>\n",
              "      <td>0.523008</td>\n",
              "      <td>0.381594</td>\n",
              "      <td>32.204208</td>\n",
              "    </tr>\n",
              "    <tr>\n",
              "      <th>std</th>\n",
              "      <td>257.353842</td>\n",
              "      <td>0.486592</td>\n",
              "      <td>0.836071</td>\n",
              "      <td>14.526497</td>\n",
              "      <td>1.102743</td>\n",
              "      <td>0.806057</td>\n",
              "      <td>49.693429</td>\n",
              "    </tr>\n",
              "    <tr>\n",
              "      <th>min</th>\n",
              "      <td>1.000000</td>\n",
              "      <td>0.000000</td>\n",
              "      <td>1.000000</td>\n",
              "      <td>0.420000</td>\n",
              "      <td>0.000000</td>\n",
              "      <td>0.000000</td>\n",
              "      <td>0.000000</td>\n",
              "    </tr>\n",
              "    <tr>\n",
              "      <th>25%</th>\n",
              "      <td>223.500000</td>\n",
              "      <td>0.000000</td>\n",
              "      <td>2.000000</td>\n",
              "      <td>20.125000</td>\n",
              "      <td>0.000000</td>\n",
              "      <td>0.000000</td>\n",
              "      <td>7.910400</td>\n",
              "    </tr>\n",
              "    <tr>\n",
              "      <th>50%</th>\n",
              "      <td>446.000000</td>\n",
              "      <td>0.000000</td>\n",
              "      <td>3.000000</td>\n",
              "      <td>28.000000</td>\n",
              "      <td>0.000000</td>\n",
              "      <td>0.000000</td>\n",
              "      <td>14.454200</td>\n",
              "    </tr>\n",
              "    <tr>\n",
              "      <th>75%</th>\n",
              "      <td>668.500000</td>\n",
              "      <td>1.000000</td>\n",
              "      <td>3.000000</td>\n",
              "      <td>38.000000</td>\n",
              "      <td>1.000000</td>\n",
              "      <td>0.000000</td>\n",
              "      <td>31.000000</td>\n",
              "    </tr>\n",
              "    <tr>\n",
              "      <th>max</th>\n",
              "      <td>891.000000</td>\n",
              "      <td>1.000000</td>\n",
              "      <td>3.000000</td>\n",
              "      <td>80.000000</td>\n",
              "      <td>8.000000</td>\n",
              "      <td>6.000000</td>\n",
              "      <td>512.329200</td>\n",
              "    </tr>\n",
              "  </tbody>\n",
              "</table>\n",
              "</div>"
            ],
            "text/plain": [
              "       PassengerId    Survived      Pclass  ...       SibSp       Parch        Fare\n",
              "count   891.000000  891.000000  891.000000  ...  891.000000  891.000000  891.000000\n",
              "mean    446.000000    0.383838    2.308642  ...    0.523008    0.381594   32.204208\n",
              "std     257.353842    0.486592    0.836071  ...    1.102743    0.806057   49.693429\n",
              "min       1.000000    0.000000    1.000000  ...    0.000000    0.000000    0.000000\n",
              "25%     223.500000    0.000000    2.000000  ...    0.000000    0.000000    7.910400\n",
              "50%     446.000000    0.000000    3.000000  ...    0.000000    0.000000   14.454200\n",
              "75%     668.500000    1.000000    3.000000  ...    1.000000    0.000000   31.000000\n",
              "max     891.000000    1.000000    3.000000  ...    8.000000    6.000000  512.329200\n",
              "\n",
              "[8 rows x 7 columns]"
            ]
          },
          "metadata": {
            "tags": []
          },
          "execution_count": 6
        }
      ]
    },
    {
      "cell_type": "code",
      "metadata": {
        "colab": {
          "base_uri": "https://localhost:8080/"
        },
        "id": "LKHFK_4Wt-EP",
        "outputId": "e85fc9d5-0032-486d-d519-c09da1546cc2"
      },
      "source": [
        "df.info()"
      ],
      "execution_count": 7,
      "outputs": [
        {
          "output_type": "stream",
          "text": [
            "<class 'pandas.core.frame.DataFrame'>\n",
            "RangeIndex: 891 entries, 0 to 890\n",
            "Data columns (total 12 columns):\n",
            " #   Column       Non-Null Count  Dtype  \n",
            "---  ------       --------------  -----  \n",
            " 0   PassengerId  891 non-null    int64  \n",
            " 1   Survived     891 non-null    int64  \n",
            " 2   Pclass       891 non-null    int64  \n",
            " 3   Name         891 non-null    object \n",
            " 4   Sex          891 non-null    object \n",
            " 5   Age          714 non-null    float64\n",
            " 6   SibSp        891 non-null    int64  \n",
            " 7   Parch        891 non-null    int64  \n",
            " 8   Ticket       891 non-null    object \n",
            " 9   Fare         891 non-null    float64\n",
            " 10  Cabin        204 non-null    object \n",
            " 11  Embarked     889 non-null    object \n",
            "dtypes: float64(2), int64(5), object(5)\n",
            "memory usage: 83.7+ KB\n"
          ],
          "name": "stdout"
        }
      ]
    },
    {
      "cell_type": "code",
      "metadata": {
        "colab": {
          "base_uri": "https://localhost:8080/"
        },
        "id": "8nLdnY76uP8_",
        "outputId": "5e9ade5c-ebe7-411f-c828-6423a6d3b2a4"
      },
      "source": [
        "df.shape"
      ],
      "execution_count": 8,
      "outputs": [
        {
          "output_type": "execute_result",
          "data": {
            "text/plain": [
              "(891, 12)"
            ]
          },
          "metadata": {
            "tags": []
          },
          "execution_count": 8
        }
      ]
    },
    {
      "cell_type": "markdown",
      "metadata": {
        "id": "aCer_GjBJ0vS"
      },
      "source": [
        "## **2.EDA**"
      ]
    },
    {
      "cell_type": "code",
      "metadata": {
        "colab": {
          "base_uri": "https://localhost:8080/",
          "height": 296
        },
        "id": "P2cDrjfMgIE1",
        "outputId": "f486ef99-5af3-4559-ce3d-90b31e87a0d8"
      },
      "source": [
        "sns.countplot(x='Survived', data=df)"
      ],
      "execution_count": 9,
      "outputs": [
        {
          "output_type": "execute_result",
          "data": {
            "text/plain": [
              "<matplotlib.axes._subplots.AxesSubplot at 0x7f4d63531850>"
            ]
          },
          "metadata": {
            "tags": []
          },
          "execution_count": 9
        },
        {
          "output_type": "display_data",
          "data": {
            "image/png": "[encoded data removed]",
            "text/plain": [
              "<Figure size 432x288 with 1 Axes>"
            ]
          },
          "metadata": {
            "tags": [],
            "needs_background": "light"
          }
        }
      ]
    },
    {
      "cell_type": "markdown",
      "metadata": {
        "id": "tsh7KqYFJ7hj"
      },
      "source": [
        "**Inference:** the not suvived data is more than survived data.\n",
        "\n",
        "There is only a minor class imbalence. "
      ]
    },
    {
      "cell_type": "code",
      "metadata": {
        "colab": {
          "base_uri": "https://localhost:8080/",
          "height": 296
        },
        "id": "XwUVZ1nNgICU",
        "outputId": "0ff207c9-08d4-41c7-af6e-caf56ded5aac"
      },
      "source": [
        "sns.countplot(x='Survived', hue='Sex', data=df)"
      ],
      "execution_count": 10,
      "outputs": [
        {
          "output_type": "execute_result",
          "data": {
            "text/plain": [
              "<matplotlib.axes._subplots.AxesSubplot at 0x7f4d5f665890>"
            ]
          },
          "metadata": {
            "tags": []
          },
          "execution_count": 10
        },
        {
          "output_type": "display_data",
          "data": {
            "image/png": "[encoded data removed]",
            "text/plain": [
              "<Figure size 432x288 with 1 Axes>"
            ]
          },
          "metadata": {
            "tags": [],
            "needs_background": "light"
          }
        }
      ]
    },
    {
      "cell_type": "markdown",
      "metadata": {
        "id": "HIT0ccPRKWMT"
      },
      "source": [
        "**Inference:**Female death rate is higher than male "
      ]
    },
    {
      "cell_type": "code",
      "metadata": {
        "colab": {
          "base_uri": "https://localhost:8080/",
          "height": 296
        },
        "id": "bnPnySD2gH_k",
        "outputId": "64496eab-71b9-495b-a620-7ea6204f7882"
      },
      "source": [
        "sns.countplot(x='Survived', hue='Pclass', data=df)"
      ],
      "execution_count": 11,
      "outputs": [
        {
          "output_type": "execute_result",
          "data": {
            "text/plain": [
              "<matplotlib.axes._subplots.AxesSubplot at 0x7f4d5ef17c90>"
            ]
          },
          "metadata": {
            "tags": []
          },
          "execution_count": 11
        },
        {
          "output_type": "display_data",
          "data": {
            "image/png": "[encoded data removed]",
            "text/plain": [
              "<Figure size 432x288 with 1 Axes>"
            ]
          },
          "metadata": {
            "tags": [],
            "needs_background": "light"
          }
        }
      ]
    },
    {
      "cell_type": "markdown",
      "metadata": {
        "id": "LlATkMFfKiPZ"
      },
      "source": [
        "**Inference:**Third class passengers are not highly survived in the accident."
      ]
    },
    {
      "cell_type": "code",
      "metadata": {
        "colab": {
          "base_uri": "https://localhost:8080/",
          "height": 333
        },
        "id": "CGrlH1OlgH9L",
        "outputId": "bde25bc6-2275-40aa-938a-78efde13cfbe"
      },
      "source": [
        "plt.hist(df['Age'].dropna())"
      ],
      "execution_count": 12,
      "outputs": [
        {
          "output_type": "execute_result",
          "data": {
            "text/plain": [
              "(array([ 54.,  46., 177., 169., 118.,  70.,  45.,  24.,   9.,   2.]),\n",
              " array([ 0.42 ,  8.378, 16.336, 24.294, 32.252, 40.21 , 48.168, 56.126,\n",
              "        64.084, 72.042, 80.   ]),\n",
              " <a list of 10 Patch objects>)"
            ]
          },
          "metadata": {
            "tags": []
          },
          "execution_count": 12
        },
        {
          "output_type": "display_data",
          "data": {
            "image/png": "[encoded data removed]",
            "text/plain": [
              "<Figure size 432x288 with 1 Axes>"
            ]
          },
          "metadata": {
            "tags": [],
            "needs_background": "light"
          }
        }
      ]
    },
    {
      "cell_type": "code",
      "metadata": {
        "colab": {
          "base_uri": "https://localhost:8080/",
          "height": 350
        },
        "id": "dX6Hmz9egk_C",
        "outputId": "500e6bcb-a2a8-4ca5-a9fd-15f4f3fad7e0"
      },
      "source": [
        "sns.boxplot(df['Pclass'], df['Age'])"
      ],
      "execution_count": 13,
      "outputs": [
        {
          "output_type": "stream",
          "text": [
            "/usr/local/lib/python3.7/dist-packages/seaborn/_decorators.py:43: FutureWarning: Pass the following variables as keyword args: x, y. From version 0.12, the only valid positional argument will be `data`, and passing other arguments without an explicit keyword will result in an error or misinterpretation.\n",
            "  FutureWarning\n"
          ],
          "name": "stderr"
        },
        {
          "output_type": "execute_result",
          "data": {
            "text/plain": [
              "<matplotlib.axes._subplots.AxesSubplot at 0x7f4d5e62e150>"
            ]
          },
          "metadata": {
            "tags": []
          },
          "execution_count": 13
        },
        {
          "output_type": "display_data",
          "data": {
            "image/png": "[encoded data removed]",
            "text/plain": [
              "<Figure size 432x288 with 1 Axes>"
            ]
          },
          "metadata": {
            "tags": [],
            "needs_background": "light"
          }
        }
      ]
    },
    {
      "cell_type": "markdown",
      "metadata": {
        "id": "Ql_AvVG1LDnA"
      },
      "source": [
        "**Inference:**The data of first class pasengers are equally distributed\n",
        "\n",
        "There are some outliers present in 2 and 3 class pasenger data"
      ]
    },
    {
      "cell_type": "code",
      "metadata": {
        "id": "pZc5YAnEjXCK",
        "colab": {
          "base_uri": "https://localhost:8080/",
          "height": 333
        },
        "outputId": "d2a79475-632e-4dbc-d76d-b9d3104124f6"
      },
      "source": [
        "df.corr()['Survived'].sort_values(ascending=False).drop(['Survived']).plot(kind='bar')"
      ],
      "execution_count": 14,
      "outputs": [
        {
          "output_type": "execute_result",
          "data": {
            "text/plain": [
              "<matplotlib.axes._subplots.AxesSubplot at 0x7f4d5e522710>"
            ]
          },
          "metadata": {
            "tags": []
          },
          "execution_count": 14
        },
        {
          "output_type": "display_data",
          "data": {
            "image/png": "[encoded data removed]",
            "text/plain": [
              "<Figure size 432x288 with 1 Axes>"
            ]
          },
          "metadata": {
            "tags": [],
            "needs_background": "light"
          }
        }
      ]
    },
    {
      "cell_type": "markdown",
      "metadata": {
        "id": "L5lrm4mjL1KY"
      },
      "source": [
        "**Inference:** Pclass is highly correlated with the Survived data.\n",
        "\n",
        "Where SibSp is least correlated with Survived data."
      ]
    },
    {
      "cell_type": "code",
      "metadata": {
        "colab": {
          "base_uri": "https://localhost:8080/",
          "height": 337
        },
        "id": "VYFk44ppjYgK",
        "outputId": "858cee4d-76a4-4e23-af05-31f0b7c05ae6"
      },
      "source": [
        "sns.heatmap(df.corr())"
      ],
      "execution_count": 15,
      "outputs": [
        {
          "output_type": "execute_result",
          "data": {
            "text/plain": [
              "<matplotlib.axes._subplots.AxesSubplot at 0x7f4d5e502710>"
            ]
          },
          "metadata": {
            "tags": []
          },
          "execution_count": 15
        },
        {
          "output_type": "display_data",
          "data": {
            "image/png": "[encoded data removed]",
            "text/plain": [
              "<Figure size 432x288 with 2 Axes>"
            ]
          },
          "metadata": {
            "tags": [],
            "needs_background": "light"
          }
        }
      ]
    },
    {
      "cell_type": "markdown",
      "metadata": {
        "id": "TNP_jZZfMXhA"
      },
      "source": [
        "## **3.Feature engineering**"
      ]
    },
    {
      "cell_type": "code",
      "metadata": {
        "colab": {
          "base_uri": "https://localhost:8080/"
        },
        "id": "ucLHam6SMgMD",
        "outputId": "7a81955d-aa11-4f2f-be5c-7e8645edf97c"
      },
      "source": [
        "print(df.isnull().sum())"
      ],
      "execution_count": 16,
      "outputs": [
        {
          "output_type": "stream",
          "text": [
            "PassengerId      0\n",
            "Survived         0\n",
            "Pclass           0\n",
            "Name             0\n",
            "Sex              0\n",
            "Age            177\n",
            "SibSp            0\n",
            "Parch            0\n",
            "Ticket           0\n",
            "Fare             0\n",
            "Cabin          687\n",
            "Embarked         2\n",
            "dtype: int64\n"
          ],
          "name": "stdout"
        }
      ]
    },
    {
      "cell_type": "markdown",
      "metadata": {
        "id": "J9JDgeNgMuhf"
      },
      "source": [
        "Replacing the missing values with the corresponding column"
      ]
    },
    {
      "cell_type": "code",
      "metadata": {
        "id": "dtT-3G_Bgk8X"
      },
      "source": [
        "def impute_missing_age(columns):\n",
        "\n",
        "    age = columns[0]\n",
        "\n",
        "    passenger_class = columns[1]\n",
        "\n",
        "    \n",
        "\n",
        "    if pd.isnull(age):\n",
        "\n",
        "        if(passenger_class == 1):\n",
        "\n",
        "            return df[df['Pclass'] == 1]['Age'].mean()\n",
        "\n",
        "        elif(passenger_class == 2):\n",
        "\n",
        "            return df[df['Pclass'] == 2]['Age'].mean()\n",
        "\n",
        "        elif(passenger_class == 3):\n",
        "\n",
        "            return df[df['Pclass'] == 3]['Age'].mean()\n",
        "\n",
        "    else:\n",
        "\n",
        "        return age"
      ],
      "execution_count": 17,
      "outputs": []
    },
    {
      "cell_type": "code",
      "metadata": {
        "id": "YD-u8o31gk5S"
      },
      "source": [
        "df['Age'] = df[['Age', 'Pclass']].apply(impute_missing_age, axis = 1)"
      ],
      "execution_count": 18,
      "outputs": []
    },
    {
      "cell_type": "markdown",
      "metadata": {
        "id": "Wxtry0ohONZL"
      },
      "source": [
        "Droping the cabin column since it is less correlated with Survived data"
      ]
    },
    {
      "cell_type": "code",
      "metadata": {
        "id": "-RqXTA8igg7B"
      },
      "source": [
        "df.drop('Cabin', axis=1, inplace = True)"
      ],
      "execution_count": 19,
      "outputs": []
    },
    {
      "cell_type": "markdown",
      "metadata": {
        "id": "9tlbL5gAOejz"
      },
      "source": [
        "Droping rows with missing values"
      ]
    },
    {
      "cell_type": "code",
      "metadata": {
        "id": "zOCOsrpQigoV"
      },
      "source": [
        "df.dropna(inplace=True)"
      ],
      "execution_count": 20,
      "outputs": []
    },
    {
      "cell_type": "code",
      "metadata": {
        "colab": {
          "base_uri": "https://localhost:8080/"
        },
        "id": "KlwZwP5HjOlS",
        "outputId": "95ece0d8-e248-448c-e29d-2a224c0231e7"
      },
      "source": [
        "print(df.isnull().sum())"
      ],
      "execution_count": 21,
      "outputs": [
        {
          "output_type": "stream",
          "text": [
            "PassengerId    0\n",
            "Survived       0\n",
            "Pclass         0\n",
            "Name           0\n",
            "Sex            0\n",
            "Age            0\n",
            "SibSp          0\n",
            "Parch          0\n",
            "Ticket         0\n",
            "Fare           0\n",
            "Embarked       0\n",
            "dtype: int64\n"
          ],
          "name": "stdout"
        }
      ]
    },
    {
      "cell_type": "markdown",
      "metadata": {
        "id": "UfgKUa9tOpA5"
      },
      "source": [
        "Droping the un wanted columns"
      ]
    },
    {
      "cell_type": "code",
      "metadata": {
        "id": "Iu--zFV3Er6p"
      },
      "source": [
        "df.drop(['Name', 'PassengerId', 'Ticket', 'Embarked'], axis = 1, inplace = True)"
      ],
      "execution_count": 22,
      "outputs": []
    },
    {
      "cell_type": "markdown",
      "metadata": {
        "id": "i4E2LekROzNr"
      },
      "source": [
        "**Encoding the Sex column**"
      ]
    },
    {
      "cell_type": "code",
      "metadata": {
        "id": "GSuMJ4p8BXEx"
      },
      "source": [
        "from sklearn.preprocessing import LabelEncoder\n",
        "LE= LabelEncoder()\n",
        "df['Sex']=LE.fit_transform(df['Sex'])"
      ],
      "execution_count": 23,
      "outputs": []
    },
    {
      "cell_type": "code",
      "metadata": {
        "colab": {
          "base_uri": "https://localhost:8080/"
        },
        "id": "_L8ULtZkCGOA",
        "outputId": "7e425b23-cbe2-40a6-bc7e-689e459ead50"
      },
      "source": [
        "df.info()"
      ],
      "execution_count": 24,
      "outputs": [
        {
          "output_type": "stream",
          "text": [
            "<class 'pandas.core.frame.DataFrame'>\n",
            "Int64Index: 889 entries, 0 to 890\n",
            "Data columns (total 7 columns):\n",
            " #   Column    Non-Null Count  Dtype  \n",
            "---  ------    --------------  -----  \n",
            " 0   Survived  889 non-null    int64  \n",
            " 1   Pclass    889 non-null    int64  \n",
            " 2   Sex       889 non-null    int64  \n",
            " 3   Age       889 non-null    float64\n",
            " 4   SibSp     889 non-null    int64  \n",
            " 5   Parch     889 non-null    int64  \n",
            " 6   Fare      889 non-null    float64\n",
            "dtypes: float64(2), int64(5)\n",
            "memory usage: 55.6 KB\n"
          ],
          "name": "stdout"
        }
      ]
    },
    {
      "cell_type": "markdown",
      "metadata": {
        "id": "t6XMlcXvO59y"
      },
      "source": [
        "### Skewness and outlier detection "
      ]
    },
    {
      "cell_type": "code",
      "metadata": {
        "colab": {
          "base_uri": "https://localhost:8080/"
        },
        "id": "lcGyfgbT9DlO",
        "outputId": "c42b6772-90bb-41fc-921c-abeb9bf5526a"
      },
      "source": [
        "df.skew()"
      ],
      "execution_count": 25,
      "outputs": [
        {
          "output_type": "execute_result",
          "data": {
            "text/plain": [
              "Survived    0.484568\n",
              "Pclass     -0.636998\n",
              "Sex        -0.625625\n",
              "Age         0.507710\n",
              "SibSp       3.691058\n",
              "Parch       2.745160\n",
              "Fare        4.801440\n",
              "dtype: float64"
            ]
          },
          "metadata": {
            "tags": []
          },
          "execution_count": 25
        }
      ]
    },
    {
      "cell_type": "markdown",
      "metadata": {
        "id": "LZCojd_2PETM"
      },
      "source": [
        "Using Zscore methord to remove outlier"
      ]
    },
    {
      "cell_type": "code",
      "metadata": {
        "colab": {
          "base_uri": "https://localhost:8080/"
        },
        "id": "yoNL25t2KD7g",
        "outputId": "389fece6-4d9a-4165-d314-d3f542165899"
      },
      "source": [
        "from scipy import stats\n",
        "import numpy as np\n",
        "print(\"Old Shape: \", df.shape)   \n",
        "z = np.abs(stats.zscore(df))\n",
        "print(z)"
      ],
      "execution_count": 26,
      "outputs": [
        {
          "output_type": "stream",
          "text": [
            "Old Shape:  (889, 7)\n",
            "[[0.78696114 0.82520863 0.73534203 ... 0.43135024 0.47432585 0.50023975]\n",
            " [1.27071078 1.57221121 1.35991138 ... 0.43135024 0.47432585 0.78894661]\n",
            " [1.27071078 0.82520863 1.35991138 ... 0.47519908 0.47432585 0.48664993]\n",
            " ...\n",
            " [0.78696114 0.82520863 1.35991138 ... 0.43135024 2.00611934 0.17408416]\n",
            " [1.27071078 1.57221121 0.73534203 ... 0.47519908 0.47432585 0.0422126 ]\n",
            " [0.78696114 0.82520863 0.73534203 ... 0.47519908 0.47432585 0.49017322]]\n"
          ],
          "name": "stdout"
        }
      ]
    },
    {
      "cell_type": "code",
      "metadata": {
        "colab": {
          "base_uri": "https://localhost:8080/"
        },
        "id": "AO3Nuiu9KHZy",
        "outputId": "46bef6a1-f638-4afa-8aca-1a7a296b45f5"
      },
      "source": [
        "threshold = 3\n",
        "print(np.where(z > 3))"
      ],
      "execution_count": 27,
      "outputs": [
        {
          "output_type": "stream",
          "text": [
            "(array([ 13,  16,  25,  27,  50,  59,  67,  70,  85,  87,  95, 115, 117,\n",
            "       118, 158, 163, 166, 170, 179, 181, 200, 232, 257, 260, 265, 277,\n",
            "       298, 310, 323, 340, 359, 376, 379, 385, 436, 437, 437, 479, 492,\n",
            "       526, 540, 541, 556, 566, 609, 629, 637, 671, 677, 678, 682, 685,\n",
            "       688, 699, 715, 729, 735, 736, 741, 744, 773, 778, 786, 791, 812,\n",
            "       823, 844, 848, 849, 856, 861, 883]), array([5, 4, 5, 6, 4, 4, 4, 4, 5, 6, 3, 3, 6, 4, 4, 4, 5, 4, 4, 4, 4, 4,\n",
            "       6, 4, 4, 4, 6, 6, 4, 6, 5, 6, 6, 4, 5, 5, 6, 4, 3, 6, 4, 4, 6, 5,\n",
            "       5, 3, 5, 3, 5, 6, 4, 4, 6, 6, 6, 6, 5, 6, 6, 3, 5, 6, 4, 4, 4, 4,\n",
            "       4, 4, 3, 5, 4, 5]))\n"
          ],
          "name": "stdout"
        }
      ]
    },
    {
      "cell_type": "code",
      "metadata": {
        "id": "A3dDnAhKKJAg"
      },
      "source": [
        "after_zscore = df[(z < 3).all(axis=1)]"
      ],
      "execution_count": 28,
      "outputs": []
    },
    {
      "cell_type": "code",
      "metadata": {
        "colab": {
          "base_uri": "https://localhost:8080/"
        },
        "id": "3EmMe9IkKKr4",
        "outputId": "1fae0fa5-b684-4c95-81b7-51b44f2d6871"
      },
      "source": [
        "after_zscore.shape"
      ],
      "execution_count": 29,
      "outputs": [
        {
          "output_type": "execute_result",
          "data": {
            "text/plain": [
              "(818, 7)"
            ]
          },
          "metadata": {
            "tags": []
          },
          "execution_count": 29
        }
      ]
    },
    {
      "cell_type": "code",
      "metadata": {
        "colab": {
          "base_uri": "https://localhost:8080/"
        },
        "id": "IcboHLFgKLNb",
        "outputId": "155d9424-7762-45bb-e8dc-5133d833e702"
      },
      "source": [
        "after_zscore.skew()"
      ],
      "execution_count": 30,
      "outputs": [
        {
          "output_type": "execute_result",
          "data": {
            "text/plain": [
              "Survived    0.457268\n",
              "Pclass     -0.639191\n",
              "Sex        -0.671699\n",
              "Age         0.400467\n",
              "SibSp       1.975774\n",
              "Parch       2.118544\n",
              "Fare        2.342849\n",
              "dtype: float64"
            ]
          },
          "metadata": {
            "tags": []
          },
          "execution_count": 30
        }
      ]
    },
    {
      "cell_type": "code",
      "metadata": {
        "id": "2PM0Sl8RtDIq"
      },
      "source": [
        "df=after_zscore"
      ],
      "execution_count": 31,
      "outputs": []
    },
    {
      "cell_type": "markdown",
      "metadata": {
        "id": "-lZTwuk7PLs3"
      },
      "source": [
        "Using Square root transformation methord to reduce Skewness"
      ]
    },
    {
      "cell_type": "code",
      "metadata": {
        "colab": {
          "base_uri": "https://localhost:8080/",
          "height": 514
        },
        "id": "uEtlsK_FKLKr",
        "outputId": "41f3fb5b-7b75-470a-98ff-d894616aa4ce"
      },
      "source": [
        "#calculating the square root for data\n",
        "\n",
        "df1 = np.sqrt(df)\n",
        "\n",
        "df1.head(15)"
      ],
      "execution_count": 32,
      "outputs": [
        {
          "output_type": "execute_result",
          "data": {
            "text/html": [
              "<div>\n",
              "<style scoped>\n",
              "    .dataframe tbody tr th:only-of-type {\n",
              "        vertical-align: middle;\n",
              "    }\n",
              "\n",
              "    .dataframe tbody tr th {\n",
              "        vertical-align: top;\n",
              "    }\n",
              "\n",
              "    .dataframe thead th {\n",
              "        text-align: right;\n",
              "    }\n",
              "</style>\n",
              "<table border=\"1\" class=\"dataframe\">\n",
              "  <thead>\n",
              "    <tr style=\"text-align: right;\">\n",
              "      <th></th>\n",
              "      <th>Survived</th>\n",
              "      <th>Pclass</th>\n",
              "      <th>Sex</th>\n",
              "      <th>Age</th>\n",
              "      <th>SibSp</th>\n",
              "      <th>Parch</th>\n",
              "      <th>Fare</th>\n",
              "    </tr>\n",
              "  </thead>\n",
              "  <tbody>\n",
              "    <tr>\n",
              "      <th>0</th>\n",
              "      <td>0.0</td>\n",
              "      <td>1.732051</td>\n",
              "      <td>1.0</td>\n",
              "      <td>4.690416</td>\n",
              "      <td>1.000000</td>\n",
              "      <td>0.000000</td>\n",
              "      <td>2.692582</td>\n",
              "    </tr>\n",
              "    <tr>\n",
              "      <th>1</th>\n",
              "      <td>1.0</td>\n",
              "      <td>1.000000</td>\n",
              "      <td>0.0</td>\n",
              "      <td>6.164414</td>\n",
              "      <td>1.000000</td>\n",
              "      <td>0.000000</td>\n",
              "      <td>8.442944</td>\n",
              "    </tr>\n",
              "    <tr>\n",
              "      <th>2</th>\n",
              "      <td>1.0</td>\n",
              "      <td>1.732051</td>\n",
              "      <td>0.0</td>\n",
              "      <td>5.099020</td>\n",
              "      <td>0.000000</td>\n",
              "      <td>0.000000</td>\n",
              "      <td>2.815138</td>\n",
              "    </tr>\n",
              "    <tr>\n",
              "      <th>3</th>\n",
              "      <td>1.0</td>\n",
              "      <td>1.000000</td>\n",
              "      <td>0.0</td>\n",
              "      <td>5.916080</td>\n",
              "      <td>1.000000</td>\n",
              "      <td>0.000000</td>\n",
              "      <td>7.286975</td>\n",
              "    </tr>\n",
              "    <tr>\n",
              "      <th>4</th>\n",
              "      <td>0.0</td>\n",
              "      <td>1.732051</td>\n",
              "      <td>1.0</td>\n",
              "      <td>5.916080</td>\n",
              "      <td>0.000000</td>\n",
              "      <td>0.000000</td>\n",
              "      <td>2.837252</td>\n",
              "    </tr>\n",
              "    <tr>\n",
              "      <th>5</th>\n",
              "      <td>0.0</td>\n",
              "      <td>1.732051</td>\n",
              "      <td>1.0</td>\n",
              "      <td>5.014042</td>\n",
              "      <td>0.000000</td>\n",
              "      <td>0.000000</td>\n",
              "      <td>2.908316</td>\n",
              "    </tr>\n",
              "    <tr>\n",
              "      <th>6</th>\n",
              "      <td>0.0</td>\n",
              "      <td>1.000000</td>\n",
              "      <td>1.0</td>\n",
              "      <td>7.348469</td>\n",
              "      <td>0.000000</td>\n",
              "      <td>0.000000</td>\n",
              "      <td>7.201562</td>\n",
              "    </tr>\n",
              "    <tr>\n",
              "      <th>7</th>\n",
              "      <td>0.0</td>\n",
              "      <td>1.732051</td>\n",
              "      <td>1.0</td>\n",
              "      <td>1.414214</td>\n",
              "      <td>1.732051</td>\n",
              "      <td>1.000000</td>\n",
              "      <td>4.590752</td>\n",
              "    </tr>\n",
              "    <tr>\n",
              "      <th>8</th>\n",
              "      <td>1.0</td>\n",
              "      <td>1.732051</td>\n",
              "      <td>0.0</td>\n",
              "      <td>5.196152</td>\n",
              "      <td>0.000000</td>\n",
              "      <td>1.414214</td>\n",
              "      <td>3.336660</td>\n",
              "    </tr>\n",
              "    <tr>\n",
              "      <th>9</th>\n",
              "      <td>1.0</td>\n",
              "      <td>1.414214</td>\n",
              "      <td>0.0</td>\n",
              "      <td>3.741657</td>\n",
              "      <td>1.000000</td>\n",
              "      <td>0.000000</td>\n",
              "      <td>5.483685</td>\n",
              "    </tr>\n",
              "    <tr>\n",
              "      <th>10</th>\n",
              "      <td>1.0</td>\n",
              "      <td>1.732051</td>\n",
              "      <td>0.0</td>\n",
              "      <td>2.000000</td>\n",
              "      <td>1.000000</td>\n",
              "      <td>1.000000</td>\n",
              "      <td>4.086563</td>\n",
              "    </tr>\n",
              "    <tr>\n",
              "      <th>11</th>\n",
              "      <td>1.0</td>\n",
              "      <td>1.000000</td>\n",
              "      <td>0.0</td>\n",
              "      <td>7.615773</td>\n",
              "      <td>0.000000</td>\n",
              "      <td>0.000000</td>\n",
              "      <td>5.152669</td>\n",
              "    </tr>\n",
              "    <tr>\n",
              "      <th>12</th>\n",
              "      <td>0.0</td>\n",
              "      <td>1.732051</td>\n",
              "      <td>1.0</td>\n",
              "      <td>4.472136</td>\n",
              "      <td>0.000000</td>\n",
              "      <td>0.000000</td>\n",
              "      <td>2.837252</td>\n",
              "    </tr>\n",
              "    <tr>\n",
              "      <th>14</th>\n",
              "      <td>0.0</td>\n",
              "      <td>1.732051</td>\n",
              "      <td>0.0</td>\n",
              "      <td>3.741657</td>\n",
              "      <td>0.000000</td>\n",
              "      <td>0.000000</td>\n",
              "      <td>2.802535</td>\n",
              "    </tr>\n",
              "    <tr>\n",
              "      <th>15</th>\n",
              "      <td>1.0</td>\n",
              "      <td>1.414214</td>\n",
              "      <td>0.0</td>\n",
              "      <td>7.416198</td>\n",
              "      <td>0.000000</td>\n",
              "      <td>0.000000</td>\n",
              "      <td>4.000000</td>\n",
              "    </tr>\n",
              "  </tbody>\n",
              "</table>\n",
              "</div>"
            ],
            "text/plain": [
              "    Survived    Pclass  Sex       Age     SibSp     Parch      Fare\n",
              "0        0.0  1.732051  1.0  4.690416  1.000000  0.000000  2.692582\n",
              "1        1.0  1.000000  0.0  6.164414  1.000000  0.000000  8.442944\n",
              "2        1.0  1.732051  0.0  5.099020  0.000000  0.000000  2.815138\n",
              "3        1.0  1.000000  0.0  5.916080  1.000000  0.000000  7.286975\n",
              "4        0.0  1.732051  1.0  5.916080  0.000000  0.000000  2.837252\n",
              "5        0.0  1.732051  1.0  5.014042  0.000000  0.000000  2.908316\n",
              "6        0.0  1.000000  1.0  7.348469  0.000000  0.000000  7.201562\n",
              "7        0.0  1.732051  1.0  1.414214  1.732051  1.000000  4.590752\n",
              "8        1.0  1.732051  0.0  5.196152  0.000000  1.414214  3.336660\n",
              "9        1.0  1.414214  0.0  3.741657  1.000000  0.000000  5.483685\n",
              "10       1.0  1.732051  0.0  2.000000  1.000000  1.000000  4.086563\n",
              "11       1.0  1.000000  0.0  7.615773  0.000000  0.000000  5.152669\n",
              "12       0.0  1.732051  1.0  4.472136  0.000000  0.000000  2.837252\n",
              "14       0.0  1.732051  0.0  3.741657  0.000000  0.000000  2.802535\n",
              "15       1.0  1.414214  0.0  7.416198  0.000000  0.000000  4.000000"
            ]
          },
          "metadata": {
            "tags": []
          },
          "execution_count": 32
        }
      ]
    },
    {
      "cell_type": "code",
      "metadata": {
        "colab": {
          "base_uri": "https://localhost:8080/"
        },
        "id": "CWW2lmIXKLIe",
        "outputId": "4f2e1604-de8a-4b62-8fe3-6f2ad37fbd19"
      },
      "source": [
        "df1.skew()"
      ],
      "execution_count": 33,
      "outputs": [
        {
          "output_type": "execute_result",
          "data": {
            "text/plain": [
              "Survived    0.457268\n",
              "Pclass     -0.758649\n",
              "Sex        -0.671699\n",
              "Age        -0.812475\n",
              "SibSp       1.133008\n",
              "Parch       1.719456\n",
              "Fare        1.363890\n",
              "dtype: float64"
            ]
          },
          "metadata": {
            "tags": []
          },
          "execution_count": 33
        }
      ]
    },
    {
      "cell_type": "markdown",
      "metadata": {
        "id": "-5I8GYXyPrqc"
      },
      "source": [
        "Skewness is reduced"
      ]
    },
    {
      "cell_type": "code",
      "metadata": {
        "id": "oBBizHXjtQNf"
      },
      "source": [
        "df=df1"
      ],
      "execution_count": 34,
      "outputs": []
    },
    {
      "cell_type": "code",
      "metadata": {
        "id": "RLu0X62raXjE"
      },
      "source": [
        "y = df['Survived']\n",
        "x = df.drop('Survived', axis = 1)"
      ],
      "execution_count": 35,
      "outputs": []
    },
    {
      "cell_type": "markdown",
      "metadata": {
        "id": "-SyytO7OPu7j"
      },
      "source": [
        "### Test Train split"
      ]
    },
    {
      "cell_type": "code",
      "metadata": {
        "id": "8mv2ahdG7wzP"
      },
      "source": [
        "x_train, x_test, y_train, y_test = train_test_split(x,y,test_size=0.2,random_state=47)"
      ],
      "execution_count": 36,
      "outputs": []
    },
    {
      "cell_type": "markdown",
      "metadata": {
        "id": "cGrlVxu_P0P5"
      },
      "source": [
        "Scaling using min max scaler"
      ]
    },
    {
      "cell_type": "code",
      "metadata": {
        "id": "lKmaVZOo7lg1"
      },
      "source": [
        "# data normalization with sklearn\n",
        "from sklearn.preprocessing import MinMaxScaler\n",
        "\n",
        "# fit scaler on training data\n",
        "norm = MinMaxScaler().fit(x_train)\n",
        "\n",
        "# transform training data\n",
        "x_train_norm = norm.transform(x_train)\n",
        "\n",
        "# transform testing dataabs\n",
        "x_test_norm = norm.transform(x_test)"
      ],
      "execution_count": 37,
      "outputs": []
    },
    {
      "cell_type": "code",
      "metadata": {
        "id": "_LoJjs3N7pJX"
      },
      "source": [
        "x_test=pd.DataFrame(x_test_norm)\n",
        "x_train=pd.DataFrame(x_train_norm)"
      ],
      "execution_count": 38,
      "outputs": []
    },
    {
      "cell_type": "code",
      "metadata": {
        "colab": {
          "base_uri": "https://localhost:8080/",
          "height": 297
        },
        "id": "ywV5UvJz7rQ3",
        "outputId": "5e85e22e-1347-406d-9c8f-ddacec0ab2fe"
      },
      "source": [
        "x_train.describe()"
      ],
      "execution_count": 39,
      "outputs": [
        {
          "output_type": "execute_result",
          "data": {
            "text/html": [
              "<div>\n",
              "<style scoped>\n",
              "    .dataframe tbody tr th:only-of-type {\n",
              "        vertical-align: middle;\n",
              "    }\n",
              "\n",
              "    .dataframe tbody tr th {\n",
              "        vertical-align: top;\n",
              "    }\n",
              "\n",
              "    .dataframe thead th {\n",
              "        text-align: right;\n",
              "    }\n",
              "</style>\n",
              "<table border=\"1\" class=\"dataframe\">\n",
              "  <thead>\n",
              "    <tr style=\"text-align: right;\">\n",
              "      <th></th>\n",
              "      <th>0</th>\n",
              "      <th>1</th>\n",
              "      <th>2</th>\n",
              "      <th>3</th>\n",
              "      <th>4</th>\n",
              "      <th>5</th>\n",
              "    </tr>\n",
              "  </thead>\n",
              "  <tbody>\n",
              "    <tr>\n",
              "      <th>count</th>\n",
              "      <td>654.000000</td>\n",
              "      <td>654.000000</td>\n",
              "      <td>654.000000</td>\n",
              "      <td>654.000000</td>\n",
              "      <td>654.000000</td>\n",
              "      <td>654.000000</td>\n",
              "    </tr>\n",
              "    <tr>\n",
              "      <th>mean</th>\n",
              "      <td>0.665870</td>\n",
              "      <td>0.646789</td>\n",
              "      <td>0.622134</td>\n",
              "      <td>0.182627</td>\n",
              "      <td>0.159814</td>\n",
              "      <td>0.354385</td>\n",
              "    </tr>\n",
              "    <tr>\n",
              "      <th>std</th>\n",
              "      <td>0.410674</td>\n",
              "      <td>0.478333</td>\n",
              "      <td>0.171020</td>\n",
              "      <td>0.289833</td>\n",
              "      <td>0.326934</td>\n",
              "      <td>0.185622</td>\n",
              "    </tr>\n",
              "    <tr>\n",
              "      <th>min</th>\n",
              "      <td>0.000000</td>\n",
              "      <td>0.000000</td>\n",
              "      <td>0.000000</td>\n",
              "      <td>0.000000</td>\n",
              "      <td>0.000000</td>\n",
              "      <td>0.000000</td>\n",
              "    </tr>\n",
              "    <tr>\n",
              "      <th>25%</th>\n",
              "      <td>0.565826</td>\n",
              "      <td>0.000000</td>\n",
              "      <td>0.559435</td>\n",
              "      <td>0.000000</td>\n",
              "      <td>0.000000</td>\n",
              "      <td>0.218842</td>\n",
              "    </tr>\n",
              "    <tr>\n",
              "      <th>50%</th>\n",
              "      <td>1.000000</td>\n",
              "      <td>1.000000</td>\n",
              "      <td>0.606879</td>\n",
              "      <td>0.000000</td>\n",
              "      <td>0.000000</td>\n",
              "      <td>0.280805</td>\n",
              "    </tr>\n",
              "    <tr>\n",
              "      <th>75%</th>\n",
              "      <td>1.000000</td>\n",
              "      <td>1.000000</td>\n",
              "      <td>0.721850</td>\n",
              "      <td>0.577350</td>\n",
              "      <td>0.000000</td>\n",
              "      <td>0.410212</td>\n",
              "    </tr>\n",
              "    <tr>\n",
              "      <th>max</th>\n",
              "      <td>1.000000</td>\n",
              "      <td>1.000000</td>\n",
              "      <td>1.000000</td>\n",
              "      <td>1.000000</td>\n",
              "      <td>1.000000</td>\n",
              "      <td>1.000000</td>\n",
              "    </tr>\n",
              "  </tbody>\n",
              "</table>\n",
              "</div>"
            ],
            "text/plain": [
              "                0           1           2           3           4           5\n",
              "count  654.000000  654.000000  654.000000  654.000000  654.000000  654.000000\n",
              "mean     0.665870    0.646789    0.622134    0.182627    0.159814    0.354385\n",
              "std      0.410674    0.478333    0.171020    0.289833    0.326934    0.185622\n",
              "min      0.000000    0.000000    0.000000    0.000000    0.000000    0.000000\n",
              "25%      0.565826    0.000000    0.559435    0.000000    0.000000    0.218842\n",
              "50%      1.000000    1.000000    0.606879    0.000000    0.000000    0.280805\n",
              "75%      1.000000    1.000000    0.721850    0.577350    0.000000    0.410212\n",
              "max      1.000000    1.000000    1.000000    1.000000    1.000000    1.000000"
            ]
          },
          "metadata": {
            "tags": []
          },
          "execution_count": 39
        }
      ]
    },
    {
      "cell_type": "markdown",
      "metadata": {
        "id": "DDKqicz9QDag"
      },
      "source": [
        "## **Model Construction**"
      ]
    },
    {
      "cell_type": "code",
      "metadata": {
        "id": "y8pRHKxk78Ll"
      },
      "source": [
        "from sklearn.model_selection import train_test_split\n",
        "from sklearn.metrics import classification_report, confusion_matrix\n",
        "from sklearn.ensemble import RandomForestClassifier\n",
        "from sklearn.metrics import accuracy_score,confusion_matrix,classification_report"
      ],
      "execution_count": 40,
      "outputs": []
    },
    {
      "cell_type": "markdown",
      "metadata": {
        "id": "3aeT2wpKQJcL"
      },
      "source": [
        "**RandomForestClassifier**"
      ]
    },
    {
      "cell_type": "code",
      "metadata": {
        "colab": {
          "base_uri": "https://localhost:8080/"
        },
        "id": "FDyMDsNn70wH",
        "outputId": "8fe586ea-8635-4177-de78-cd3d358908bc"
      },
      "source": [
        "clf= RandomForestClassifier(n_estimators=700).fit(x_train, y_train)\n",
        "predRFC= clf.predict(x_test)\n",
        "randomforest_accu=accuracy_score(y_test,predRFC)\n",
        "randomforest_accu\n",
        "#print(confusion_matrix(y_test, predRFC))\n",
        "print(classification_report(y_test, predRFC))"
      ],
      "execution_count": 41,
      "outputs": [
        {
          "output_type": "stream",
          "text": [
            "              precision    recall  f1-score   support\n",
            "\n",
            "         0.0       0.83      0.88      0.86       108\n",
            "         1.0       0.74      0.66      0.70        56\n",
            "\n",
            "    accuracy                           0.80       164\n",
            "   macro avg       0.79      0.77      0.78       164\n",
            "weighted avg       0.80      0.80      0.80       164\n",
            "\n"
          ],
          "name": "stdout"
        }
      ]
    },
    {
      "cell_type": "code",
      "metadata": {
        "colab": {
          "base_uri": "https://localhost:8080/"
        },
        "id": "jIX3pwaF8A1U",
        "outputId": "f4f24e14-ef6c-441e-9afc-c09a53539ce4"
      },
      "source": [
        "randomforest_accu"
      ],
      "execution_count": 42,
      "outputs": [
        {
          "output_type": "execute_result",
          "data": {
            "text/plain": [
              "0.8048780487804879"
            ]
          },
          "metadata": {
            "tags": []
          },
          "execution_count": 42
        }
      ]
    },
    {
      "cell_type": "code",
      "metadata": {
        "colab": {
          "base_uri": "https://localhost:8080/"
        },
        "id": "HJn4Z2B38NDF",
        "outputId": "54e08a90-3783-4779-bb3a-00ac0533747d"
      },
      "source": [
        "from sklearn.model_selection import cross_val_score\n",
        "print(cross_val_score(clf, x_train, y_train, cv=10))"
      ],
      "execution_count": 43,
      "outputs": [
        {
          "output_type": "stream",
          "text": [
            "[0.87878788 0.75757576 0.78787879 0.89393939 0.83076923 0.8\n",
            " 0.78461538 0.81538462 0.8        0.87692308]\n"
          ],
          "name": "stdout"
        }
      ]
    },
    {
      "cell_type": "code",
      "metadata": {
        "colab": {
          "base_uri": "https://localhost:8080/"
        },
        "id": "C4dtcFbv8DEB",
        "outputId": "b82168a3-b279-4f5b-991c-db41b1b08517"
      },
      "source": [
        "from sklearn.model_selection import cross_val_score\n",
        "randomforest_cv= cross_val_score(clf,x_train,y_train,scoring='accuracy', cv = 3).mean()\n",
        "randomforest_cv"
      ],
      "execution_count": 44,
      "outputs": [
        {
          "output_type": "execute_result",
          "data": {
            "text/plain": [
              "0.7935779816513762"
            ]
          },
          "metadata": {
            "tags": []
          },
          "execution_count": 44
        }
      ]
    },
    {
      "cell_type": "markdown",
      "metadata": {
        "id": "hyiKpw-4QLmb"
      },
      "source": [
        "**SVC**"
      ]
    },
    {
      "cell_type": "code",
      "metadata": {
        "id": "PzMalapQ8rI8",
        "colab": {
          "base_uri": "https://localhost:8080/"
        },
        "outputId": "8410a42a-0e3f-450e-f652-3d1775342864"
      },
      "source": [
        "from sklearn.svm import SVC\n",
        "from sklearn.model_selection import cross_val_score\n",
        "from sklearn import svm\n",
        "from sklearn.svm import LinearSVC\n",
        "svc=SVC(kernel='rbf')\n",
        "svc.fit(x_train,y_train)\n",
        "\n",
        "#svc = LinearSVC(random_state=0, tol=1e-5)\n",
        "#svc.fit(x_train, y_train.ravel()) \n",
        "\n",
        "\n",
        "svc.score(x_train,y_train)\n",
        "predsvc=svc.predict(x_test)\n",
        "svc_acc=accuracy_score(y_test,predsvc)\n",
        "print(svc_acc)\n",
        "print(confusion_matrix(y_test,predsvc))\n",
        "print(classification_report(y_test,predsvc))"
      ],
      "execution_count": 45,
      "outputs": [
        {
          "output_type": "stream",
          "text": [
            "0.823170731707317\n",
            "[[98 10]\n",
            " [19 37]]\n",
            "              precision    recall  f1-score   support\n",
            "\n",
            "         0.0       0.84      0.91      0.87       108\n",
            "         1.0       0.79      0.66      0.72        56\n",
            "\n",
            "    accuracy                           0.82       164\n",
            "   macro avg       0.81      0.78      0.79       164\n",
            "weighted avg       0.82      0.82      0.82       164\n",
            "\n"
          ],
          "name": "stdout"
        }
      ]
    },
    {
      "cell_type": "code",
      "metadata": {
        "colab": {
          "base_uri": "https://localhost:8080/"
        },
        "id": "9Bn99hRFlunv",
        "outputId": "06a45b02-da39-4b6a-9b4e-58e11c281c58"
      },
      "source": [
        "svc_cv=cross_val_score(svc,x,y,scoring='accuracy', cv = 10).mean()\n",
        "svc_cv"
      ],
      "execution_count": 46,
      "outputs": [
        {
          "output_type": "execute_result",
          "data": {
            "text/plain": [
              "0.8020325203252032"
            ]
          },
          "metadata": {
            "tags": []
          },
          "execution_count": 46
        }
      ]
    },
    {
      "cell_type": "markdown",
      "metadata": {
        "id": "CpQHWMA4QOQj"
      },
      "source": [
        "**DecisionTreeClassifier**"
      ]
    },
    {
      "cell_type": "code",
      "metadata": {
        "colab": {
          "base_uri": "https://localhost:8080/",
          "height": 221
        },
        "id": "PscdTgCfmHOD",
        "outputId": "5e991ec6-3b18-4d8a-f5f4-e20151763954"
      },
      "source": [
        "from sklearn.tree import DecisionTreeClassifier\n",
        "DTC = DecisionTreeClassifier()\n",
        "\n",
        "DTC.fit(x_train,y_train)\n",
        "\n",
        "predDTC = DTC.predict(x_test)\n",
        "\n",
        "reportDTC = classification_report(y_test,predDTC, output_dict = True)\n",
        "\n",
        "crDTC = pd.DataFrame(reportDTC).transpose()\n",
        "dtc_acc=accuracy_score(y_test,predDTC)\n",
        "print(dtc_acc)\n",
        "crDTC"
      ],
      "execution_count": 47,
      "outputs": [
        {
          "output_type": "stream",
          "text": [
            "0.7621951219512195\n"
          ],
          "name": "stdout"
        },
        {
          "output_type": "execute_result",
          "data": {
            "text/html": [
              "<div>\n",
              "<style scoped>\n",
              "    .dataframe tbody tr th:only-of-type {\n",
              "        vertical-align: middle;\n",
              "    }\n",
              "\n",
              "    .dataframe tbody tr th {\n",
              "        vertical-align: top;\n",
              "    }\n",
              "\n",
              "    .dataframe thead th {\n",
              "        text-align: right;\n",
              "    }\n",
              "</style>\n",
              "<table border=\"1\" class=\"dataframe\">\n",
              "  <thead>\n",
              "    <tr style=\"text-align: right;\">\n",
              "      <th></th>\n",
              "      <th>precision</th>\n",
              "      <th>recall</th>\n",
              "      <th>f1-score</th>\n",
              "      <th>support</th>\n",
              "    </tr>\n",
              "  </thead>\n",
              "  <tbody>\n",
              "    <tr>\n",
              "      <th>0.0</th>\n",
              "      <td>0.822430</td>\n",
              "      <td>0.814815</td>\n",
              "      <td>0.818605</td>\n",
              "      <td>108.000000</td>\n",
              "    </tr>\n",
              "    <tr>\n",
              "      <th>1.0</th>\n",
              "      <td>0.649123</td>\n",
              "      <td>0.660714</td>\n",
              "      <td>0.654867</td>\n",
              "      <td>56.000000</td>\n",
              "    </tr>\n",
              "    <tr>\n",
              "      <th>accuracy</th>\n",
              "      <td>0.762195</td>\n",
              "      <td>0.762195</td>\n",
              "      <td>0.762195</td>\n",
              "      <td>0.762195</td>\n",
              "    </tr>\n",
              "    <tr>\n",
              "      <th>macro avg</th>\n",
              "      <td>0.735776</td>\n",
              "      <td>0.737765</td>\n",
              "      <td>0.736736</td>\n",
              "      <td>164.000000</td>\n",
              "    </tr>\n",
              "    <tr>\n",
              "      <th>weighted avg</th>\n",
              "      <td>0.763252</td>\n",
              "      <td>0.762195</td>\n",
              "      <td>0.762694</td>\n",
              "      <td>164.000000</td>\n",
              "    </tr>\n",
              "  </tbody>\n",
              "</table>\n",
              "</div>"
            ],
            "text/plain": [
              "              precision    recall  f1-score     support\n",
              "0.0            0.822430  0.814815  0.818605  108.000000\n",
              "1.0            0.649123  0.660714  0.654867   56.000000\n",
              "accuracy       0.762195  0.762195  0.762195    0.762195\n",
              "macro avg      0.735776  0.737765  0.736736  164.000000\n",
              "weighted avg   0.763252  0.762195  0.762694  164.000000"
            ]
          },
          "metadata": {
            "tags": []
          },
          "execution_count": 47
        }
      ]
    },
    {
      "cell_type": "code",
      "metadata": {
        "colab": {
          "base_uri": "https://localhost:8080/"
        },
        "id": "RYa-vFWLmNDn",
        "outputId": "872289a6-1bd5-43bd-d15a-a1952bb83f93"
      },
      "source": [
        "from sklearn.model_selection import cross_val_score\n",
        "dtc_cv=cross_val_score(DTC,x,y,scoring='accuracy', cv = 10).mean()\n",
        "dtc_cv"
      ],
      "execution_count": 48,
      "outputs": [
        {
          "output_type": "execute_result",
          "data": {
            "text/plain": [
              "0.7860734718458295"
            ]
          },
          "metadata": {
            "tags": []
          },
          "execution_count": 48
        }
      ]
    },
    {
      "cell_type": "markdown",
      "metadata": {
        "id": "aYGQyB8yQRCh"
      },
      "source": [
        "**GaussianNB**"
      ]
    },
    {
      "cell_type": "code",
      "metadata": {
        "colab": {
          "base_uri": "https://localhost:8080/",
          "height": 221
        },
        "id": "imkHD_z-mPUI",
        "outputId": "a7c3bfc3-1d8c-430e-8b54-8255948fae5e"
      },
      "source": [
        "from sklearn.naive_bayes import GaussianNB\n",
        "GNB = GaussianNB()\n",
        "\n",
        "GNB.fit(x_train,y_train)\n",
        "\n",
        "predGNB = GNB.predict(x_test)\n",
        "\n",
        "reportGNB = classification_report(y_test, predGNB, output_dict = True)\n",
        "  \n",
        "crGNB = pd.DataFrame(reportGNB).transpose()\n",
        "gnb_acc=accuracy_score(y_test,predGNB)\n",
        "print(gnb_acc)\n",
        "crGNB"
      ],
      "execution_count": 49,
      "outputs": [
        {
          "output_type": "stream",
          "text": [
            "0.8048780487804879\n"
          ],
          "name": "stdout"
        },
        {
          "output_type": "execute_result",
          "data": {
            "text/html": [
              "<div>\n",
              "<style scoped>\n",
              "    .dataframe tbody tr th:only-of-type {\n",
              "        vertical-align: middle;\n",
              "    }\n",
              "\n",
              "    .dataframe tbody tr th {\n",
              "        vertical-align: top;\n",
              "    }\n",
              "\n",
              "    .dataframe thead th {\n",
              "        text-align: right;\n",
              "    }\n",
              "</style>\n",
              "<table border=\"1\" class=\"dataframe\">\n",
              "  <thead>\n",
              "    <tr style=\"text-align: right;\">\n",
              "      <th></th>\n",
              "      <th>precision</th>\n",
              "      <th>recall</th>\n",
              "      <th>f1-score</th>\n",
              "      <th>support</th>\n",
              "    </tr>\n",
              "  </thead>\n",
              "  <tbody>\n",
              "    <tr>\n",
              "      <th>0.0</th>\n",
              "      <td>0.839286</td>\n",
              "      <td>0.870370</td>\n",
              "      <td>0.854545</td>\n",
              "      <td>108.000000</td>\n",
              "    </tr>\n",
              "    <tr>\n",
              "      <th>1.0</th>\n",
              "      <td>0.730769</td>\n",
              "      <td>0.678571</td>\n",
              "      <td>0.703704</td>\n",
              "      <td>56.000000</td>\n",
              "    </tr>\n",
              "    <tr>\n",
              "      <th>accuracy</th>\n",
              "      <td>0.804878</td>\n",
              "      <td>0.804878</td>\n",
              "      <td>0.804878</td>\n",
              "      <td>0.804878</td>\n",
              "    </tr>\n",
              "    <tr>\n",
              "      <th>macro avg</th>\n",
              "      <td>0.785027</td>\n",
              "      <td>0.774471</td>\n",
              "      <td>0.779125</td>\n",
              "      <td>164.000000</td>\n",
              "    </tr>\n",
              "    <tr>\n",
              "      <th>weighted avg</th>\n",
              "      <td>0.802231</td>\n",
              "      <td>0.804878</td>\n",
              "      <td>0.803039</td>\n",
              "      <td>164.000000</td>\n",
              "    </tr>\n",
              "  </tbody>\n",
              "</table>\n",
              "</div>"
            ],
            "text/plain": [
              "              precision    recall  f1-score     support\n",
              "0.0            0.839286  0.870370  0.854545  108.000000\n",
              "1.0            0.730769  0.678571  0.703704   56.000000\n",
              "accuracy       0.804878  0.804878  0.804878    0.804878\n",
              "macro avg      0.785027  0.774471  0.779125  164.000000\n",
              "weighted avg   0.802231  0.804878  0.803039  164.000000"
            ]
          },
          "metadata": {
            "tags": []
          },
          "execution_count": 49
        }
      ]
    },
    {
      "cell_type": "code",
      "metadata": {
        "colab": {
          "base_uri": "https://localhost:8080/"
        },
        "id": "Zl5B-okymRjo",
        "outputId": "0322a220-b900-49ba-e87a-c93afa38871e"
      },
      "source": [
        "gnb_cv=cross_val_score(GNB,x,y,scoring='accuracy', cv = 10).mean()\n",
        "gnb_cv"
      ],
      "execution_count": 50,
      "outputs": [
        {
          "output_type": "execute_result",
          "data": {
            "text/plain": [
              "0.7715146040349292"
            ]
          },
          "metadata": {
            "tags": []
          },
          "execution_count": 50
        }
      ]
    },
    {
      "cell_type": "markdown",
      "metadata": {
        "id": "Wa8HBMoMQT7K"
      },
      "source": [
        "**KNeighborsClassifier**"
      ]
    },
    {
      "cell_type": "code",
      "metadata": {
        "colab": {
          "base_uri": "https://localhost:8080/",
          "height": 221
        },
        "id": "FU8seUfvmTa7",
        "outputId": "e2c52030-004c-4c1a-85d6-3c1f80b6aaaa"
      },
      "source": [
        "from sklearn.neighbors import KNeighborsClassifier\n",
        "KNN = KNeighborsClassifier()\n",
        "\n",
        "KNN.fit(x_train,y_train)\n",
        "\n",
        "predKNN = KNN.predict(x_test)\n",
        "\n",
        "reportKNN = classification_report(y_test,predKNN, output_dict = True)\n",
        "\n",
        "crKNN = pd.DataFrame(reportKNN).transpose()\n",
        "knn_acc=accuracy_score(y_test,predKNN)\n",
        "print(knn_acc)\n",
        "crKNN"
      ],
      "execution_count": 51,
      "outputs": [
        {
          "output_type": "stream",
          "text": [
            "0.7926829268292683\n"
          ],
          "name": "stdout"
        },
        {
          "output_type": "execute_result",
          "data": {
            "text/html": [
              "<div>\n",
              "<style scoped>\n",
              "    .dataframe tbody tr th:only-of-type {\n",
              "        vertical-align: middle;\n",
              "    }\n",
              "\n",
              "    .dataframe tbody tr th {\n",
              "        vertical-align: top;\n",
              "    }\n",
              "\n",
              "    .dataframe thead th {\n",
              "        text-align: right;\n",
              "    }\n",
              "</style>\n",
              "<table border=\"1\" class=\"dataframe\">\n",
              "  <thead>\n",
              "    <tr style=\"text-align: right;\">\n",
              "      <th></th>\n",
              "      <th>precision</th>\n",
              "      <th>recall</th>\n",
              "      <th>f1-score</th>\n",
              "      <th>support</th>\n",
              "    </tr>\n",
              "  </thead>\n",
              "  <tbody>\n",
              "    <tr>\n",
              "      <th>0.0</th>\n",
              "      <td>0.824561</td>\n",
              "      <td>0.870370</td>\n",
              "      <td>0.846847</td>\n",
              "      <td>108.000000</td>\n",
              "    </tr>\n",
              "    <tr>\n",
              "      <th>1.0</th>\n",
              "      <td>0.720000</td>\n",
              "      <td>0.642857</td>\n",
              "      <td>0.679245</td>\n",
              "      <td>56.000000</td>\n",
              "    </tr>\n",
              "    <tr>\n",
              "      <th>accuracy</th>\n",
              "      <td>0.792683</td>\n",
              "      <td>0.792683</td>\n",
              "      <td>0.792683</td>\n",
              "      <td>0.792683</td>\n",
              "    </tr>\n",
              "    <tr>\n",
              "      <th>macro avg</th>\n",
              "      <td>0.772281</td>\n",
              "      <td>0.756614</td>\n",
              "      <td>0.763046</td>\n",
              "      <td>164.000000</td>\n",
              "    </tr>\n",
              "    <tr>\n",
              "      <th>weighted avg</th>\n",
              "      <td>0.788858</td>\n",
              "      <td>0.792683</td>\n",
              "      <td>0.789617</td>\n",
              "      <td>164.000000</td>\n",
              "    </tr>\n",
              "  </tbody>\n",
              "</table>\n",
              "</div>"
            ],
            "text/plain": [
              "              precision    recall  f1-score     support\n",
              "0.0            0.824561  0.870370  0.846847  108.000000\n",
              "1.0            0.720000  0.642857  0.679245   56.000000\n",
              "accuracy       0.792683  0.792683  0.792683    0.792683\n",
              "macro avg      0.772281  0.756614  0.763046  164.000000\n",
              "weighted avg   0.788858  0.792683  0.789617  164.000000"
            ]
          },
          "metadata": {
            "tags": []
          },
          "execution_count": 51
        }
      ]
    },
    {
      "cell_type": "code",
      "metadata": {
        "colab": {
          "base_uri": "https://localhost:8080/"
        },
        "id": "InNh0g3ymVqa",
        "outputId": "d885fd7e-bb6c-44ca-8218-b23fddfaa756"
      },
      "source": [
        "knn_cv=cross_val_score(KNN,x,y,scoring='accuracy', cv = 10).mean()\n",
        "knn_cv"
      ],
      "execution_count": 52,
      "outputs": [
        {
          "output_type": "execute_result",
          "data": {
            "text/plain": [
              "0.8020475760313159"
            ]
          },
          "metadata": {
            "tags": []
          },
          "execution_count": 52
        }
      ]
    },
    {
      "cell_type": "markdown",
      "metadata": {
        "id": "3hU4Y7UgQXJo"
      },
      "source": [
        "## **Hyper parameter tuning**"
      ]
    },
    {
      "cell_type": "markdown",
      "metadata": {
        "id": "9c7YYe1wQuzx"
      },
      "source": [
        "Performing hyper parameter tuning for 4 best model accoding the accuracy and cross validation score"
      ]
    },
    {
      "cell_type": "code",
      "metadata": {
        "colab": {
          "base_uri": "https://localhost:8080/"
        },
        "id": "EN3-UHskmZg6",
        "outputId": "7cfc4249-2235-467f-a5e1-f517eea811b9"
      },
      "source": [
        "#FINDING BEST RANDOM STATE\n",
        "\n",
        "from sklearn.metrics import r2_score\n",
        "d=5\n",
        "for i in range(0,100):\n",
        "  x_train, x_test, y_train, y_test = train_test_split(x,y,test_size=0.2,random_state=i)\n",
        "  DTC.fit(x_train,y_train)\n",
        "  pred_train=DTC.predict(x_train)\n",
        "  pred_test = DTC.predict(x_test)\n",
        "  a=r2_score(y_train,pred_train)\n",
        "  b=r2_score(y_test,pred_test)\n",
        "  c=a-b\n",
        "  print(i,c)\n",
        "  if d>=c:\n",
        "    d=c\n",
        "    print(\"least value\",i,d)\n",
        "  #a[i]=c\n",
        "  #print(f\"At randome state {i}, the training accuracy is :- {r2_score(y_train,pred_train)}\")\n",
        "  #print(f\"At randome state {i}, the test accuracy is :- {r2_score(y_test,pred_test)}\")"
      ],
      "execution_count": 53,
      "outputs": [
        {
          "output_type": "stream",
          "text": [
            "0 0.6850688976377954\n",
            "least value 0 0.6850688976377954\n",
            "1 0.9539093980954446\n",
            "2 1.043941929133858\n",
            "3 0.7798360198691253\n",
            "4 0.8565605839920666\n",
            "5 0.8359787499322383\n",
            "6 0.8712570860027176\n",
            "7 0.9504360637114522\n",
            "8 0.927940632658072\n",
            "9 0.7980953269618173\n",
            "10 0.8371194211919852\n",
            "11 0.8017482054129565\n",
            "12 0.7913250024892433\n",
            "13 0.8017482054129565\n",
            "14 0.716040498341663\n",
            "15 0.6982233028287703\n",
            "16 0.9152670853093575\n",
            "17 1.1346546301688987\n",
            "18 0.8752007252007252\n",
            "19 1.038176464615697\n",
            "20 1.050928886407051\n",
            "21 0.8886930876981404\n",
            "22 0.7832082918115957\n",
            "23 0.8530191699225637\n",
            "24 0.9422187266272768\n",
            "25 0.933260920992655\n",
            "26 0.9015238949465257\n",
            "27 0.9135786638987593\n",
            "28 0.9540095088077643\n",
            "29 0.922130905511811\n",
            "30 0.9822066894798067\n",
            "31 0.9165833768674494\n",
            "32 1.0295018535026623\n",
            "33 0.7605525169942912\n",
            "34 0.8696559121906178\n",
            "35 0.7669176824803223\n",
            "36 0.9148249037783922\n",
            "37 0.9602540616733058\n",
            "38 1.0071506658715963\n",
            "39 0.8711519368071675\n",
            "40 0.7592648999898467\n",
            "41 0.7642109828156343\n",
            "42 0.7968942556151859\n",
            "43 0.8581299212598428\n",
            "44 0.8769538924480682\n",
            "45 1.0573476992211213\n",
            "46 0.8501355233913374\n",
            "47 1.0337135702457405\n",
            "48 1.0489574536811541\n",
            "49 0.8755790748198754\n",
            "50 0.9496657097936417\n",
            "51 1.0518843959577597\n",
            "52 0.8482433226569688\n",
            "53 0.9065659680307044\n",
            "54 0.9601913928677257\n",
            "55 0.7953018706569612\n",
            "56 1.1901007099761622\n",
            "57 0.7631279791760374\n",
            "58 0.921561718312477\n",
            "59 0.8700137063684255\n",
            "60 0.9498207307094022\n",
            "61 0.948185341789993\n",
            "62 1.076861840233743\n",
            "63 0.8323818897637797\n",
            "64 0.968178840995571\n",
            "65 0.8978921297465786\n",
            "66 0.894262223192228\n",
            "67 0.9859489147368352\n",
            "68 1.1610795145278892\n",
            "69 0.9695748567357003\n",
            "70 0.9602540616733058\n",
            "71 0.7785754675067653\n",
            "72 0.976496072283898\n",
            "73 0.6668275032329409\n",
            "least value 73 0.6668275032329409\n",
            "74 0.928567913385827\n",
            "75 0.6671503598286337\n",
            "76 1.0375760795893831\n",
            "77 0.8975440861378192\n",
            "78 0.9667451374103501\n",
            "79 0.9479594452051787\n",
            "80 0.9543159448818898\n",
            "81 0.8175323019668235\n",
            "82 1.022094922617838\n",
            "83 0.9042680766331862\n",
            "84 0.9786154213741394\n",
            "85 0.8293492982013656\n",
            "86 0.8196309055118111\n",
            "87 0.9242838310608275\n",
            "88 0.8303509145871317\n",
            "89 1.0715766341734732\n",
            "90 0.910891706498849\n",
            "91 0.707381673845985\n",
            "92 1.0446322807730057\n",
            "93 0.7943966785114158\n",
            "94 0.8325049212598425\n",
            "95 0.7299234076367977\n",
            "96 0.8261441374004532\n",
            "97 0.8932170468960496\n",
            "98 0.9536158839143534\n",
            "99 0.9990747990265556\n"
          ],
          "name": "stdout"
        }
      ]
    },
    {
      "cell_type": "code",
      "metadata": {
        "id": "OyoIqx6GuDso"
      },
      "source": [
        "x_train, x_test, y_train, y_test = train_test_split(x,y,test_size=0.2,random_state=47)"
      ],
      "execution_count": 54,
      "outputs": []
    },
    {
      "cell_type": "markdown",
      "metadata": {
        "id": "2TOrs0PgQdqK"
      },
      "source": [
        "**DecisionTreeClassifier**"
      ]
    },
    {
      "cell_type": "code",
      "metadata": {
        "id": "ut0_SjiSt6Gw"
      },
      "source": [
        "from sklearn.model_selection import GridSearchCV\n",
        "parameter ={ 'max_depth': np.arange(2,10),'criterion':['gini','entropy'],'splitter':['best', 'random']}"
      ],
      "execution_count": 55,
      "outputs": []
    },
    {
      "cell_type": "code",
      "metadata": {
        "id": "qlnAM_SiuIFf"
      },
      "source": [
        "GCV=GridSearchCV(DecisionTreeClassifier(),parameter,cv=5)"
      ],
      "execution_count": 56,
      "outputs": []
    },
    {
      "cell_type": "code",
      "metadata": {
        "colab": {
          "base_uri": "https://localhost:8080/"
        },
        "id": "lVD0oOQDuJxH",
        "outputId": "5ba725b3-26d5-4344-97f0-1717440a8473"
      },
      "source": [
        "GCV.fit(x_train,y_train)"
      ],
      "execution_count": 57,
      "outputs": [
        {
          "output_type": "execute_result",
          "data": {
            "text/plain": [
              "GridSearchCV(cv=5, error_score=nan,\n",
              "             estimator=DecisionTreeClassifier(ccp_alpha=0.0, class_weight=None,\n",
              "                                              criterion='gini', max_depth=None,\n",
              "                                              max_features=None,\n",
              "                                              max_leaf_nodes=None,\n",
              "                                              min_impurity_decrease=0.0,\n",
              "                                              min_impurity_split=None,\n",
              "                                              min_samples_leaf=1,\n",
              "                                              min_samples_split=2,\n",
              "                                              min_weight_fraction_leaf=0.0,\n",
              "                                              presort='deprecated',\n",
              "                                              random_state=None,\n",
              "                                              splitter='best'),\n",
              "             iid='deprecated', n_jobs=None,\n",
              "             param_grid={'criterion': ['gini', 'entropy'],\n",
              "                         'max_depth': array([2, 3, 4, 5, 6, 7, 8, 9]),\n",
              "                         'splitter': ['best', 'random']},\n",
              "             pre_dispatch='2*n_jobs', refit=True, return_train_score=False,\n",
              "             scoring=None, verbose=0)"
            ]
          },
          "metadata": {
            "tags": []
          },
          "execution_count": 57
        }
      ]
    },
    {
      "cell_type": "code",
      "metadata": {
        "colab": {
          "base_uri": "https://localhost:8080/"
        },
        "id": "UxS9VHUBuKP0",
        "outputId": "fabb0f38-73cb-4d78-8952-16dddcf4bfb8"
      },
      "source": [
        "GCV.best_params_"
      ],
      "execution_count": 58,
      "outputs": [
        {
          "output_type": "execute_result",
          "data": {
            "text/plain": [
              "{'criterion': 'gini', 'max_depth': 5, 'splitter': 'random'}"
            ]
          },
          "metadata": {
            "tags": []
          },
          "execution_count": 58
        }
      ]
    },
    {
      "cell_type": "code",
      "metadata": {
        "id": "I2LzGkXluSuz"
      },
      "source": [
        "# Create the some more parameters list\n",
        "parameters_DT = {'max_depth': [6,7,8,9,10],\n",
        "'min_samples_leaf': [2,3,4,5,6,7],\n",
        "'min_samples_split': [2,3,4,5,6,7]} "
      ],
      "execution_count": 59,
      "outputs": []
    },
    {
      "cell_type": "code",
      "metadata": {
        "id": "iac98Eo4uTEr"
      },
      "source": [
        "GCV=GridSearchCV(DecisionTreeClassifier(),parameters_DT,cv=5)"
      ],
      "execution_count": 60,
      "outputs": []
    },
    {
      "cell_type": "code",
      "metadata": {
        "colab": {
          "base_uri": "https://localhost:8080/"
        },
        "id": "qWY0285LuUyO",
        "outputId": "1aa6a18c-8356-458e-c95c-f43112beb3bc"
      },
      "source": [
        "GCV.fit(x_train,y_train)"
      ],
      "execution_count": 61,
      "outputs": [
        {
          "output_type": "execute_result",
          "data": {
            "text/plain": [
              "GridSearchCV(cv=5, error_score=nan,\n",
              "             estimator=DecisionTreeClassifier(ccp_alpha=0.0, class_weight=None,\n",
              "                                              criterion='gini', max_depth=None,\n",
              "                                              max_features=None,\n",
              "                                              max_leaf_nodes=None,\n",
              "                                              min_impurity_decrease=0.0,\n",
              "                                              min_impurity_split=None,\n",
              "                                              min_samples_leaf=1,\n",
              "                                              min_samples_split=2,\n",
              "                                              min_weight_fraction_leaf=0.0,\n",
              "                                              presort='deprecated',\n",
              "                                              random_state=None,\n",
              "                                              splitter='best'),\n",
              "             iid='deprecated', n_jobs=None,\n",
              "             param_grid={'max_depth': [6, 7, 8, 9, 10],\n",
              "                         'min_samples_leaf': [2, 3, 4, 5, 6, 7],\n",
              "                         'min_samples_split': [2, 3, 4, 5, 6, 7]},\n",
              "             pre_dispatch='2*n_jobs', refit=True, return_train_score=False,\n",
              "             scoring=None, verbose=0)"
            ]
          },
          "metadata": {
            "tags": []
          },
          "execution_count": 61
        }
      ]
    },
    {
      "cell_type": "code",
      "metadata": {
        "colab": {
          "base_uri": "https://localhost:8080/"
        },
        "id": "e2OX_khauZix",
        "outputId": "73ec3bd8-d7f7-4804-a6a5-6a9b2c98ba1a"
      },
      "source": [
        "final_mod=DecisionTreeClassifier(criterion='entropy',splitter= 'random',random_state = 1,max_depth=10,min_samples_leaf= 6, min_samples_split= 7)\n",
        "final_mod.fit(x_train,y_train)\n",
        "pred=final_mod.predict(x_test)\n",
        "acc=accuracy_score(y_test,pred)\n",
        "print(acc)"
      ],
      "execution_count": 62,
      "outputs": [
        {
          "output_type": "stream",
          "text": [
            "0.7987804878048781\n"
          ],
          "name": "stdout"
        }
      ]
    },
    {
      "cell_type": "code",
      "metadata": {
        "colab": {
          "base_uri": "https://localhost:8080/"
        },
        "id": "xgSbE53XE4BW",
        "outputId": "03d3d999-9367-459e-c208-c9418bc68ff3"
      },
      "source": [
        "dt_cv=cross_val_score(final_mod,x,y,scoring='accuracy', cv = 10).mean()\n",
        "dt_cv"
      ],
      "execution_count": 63,
      "outputs": [
        {
          "output_type": "execute_result",
          "data": {
            "text/plain": [
              "0.7946552243300211"
            ]
          },
          "metadata": {
            "tags": []
          },
          "execution_count": 63
        }
      ]
    },
    {
      "cell_type": "code",
      "metadata": {
        "id": "MI-x0dp2FCuH"
      },
      "source": [
        "dt_final=pred\n",
        "dt_finalmod=final_mod"
      ],
      "execution_count": 64,
      "outputs": []
    },
    {
      "cell_type": "markdown",
      "metadata": {
        "id": "dVdlJw09QhAg"
      },
      "source": [
        "**RandomForestClassifier**"
      ]
    },
    {
      "cell_type": "code",
      "metadata": {
        "colab": {
          "base_uri": "https://localhost:8080/"
        },
        "id": "wjm0l_fYDC-5",
        "outputId": "dc2dc50f-c1bc-4f96-8c4f-3a1ee54b1e3a"
      },
      "source": [
        "#With Hyper Parameters Tuning\n",
        "#2-2,Randomforest\n",
        "#importing modules\n",
        "from sklearn.model_selection import GridSearchCV\n",
        "from sklearn.ensemble import RandomForestClassifier\n",
        "#making the instance\n",
        "model=RandomForestClassifier()\n",
        "#hyper parameters set\n",
        "params = {'criterion':['gini','entropy'],\n",
        "          'n_estimators':[10,15,20,25,30],\n",
        "          'min_samples_leaf':[1,2,3],\n",
        "          'min_samples_split':[3,4,5,6,7], \n",
        "          'random_state':[123],\n",
        "          'n_jobs':[-1]}\n",
        "#Making models with hyper parameters sets\n",
        "model1 = GridSearchCV(model, param_grid=params, n_jobs=-1)\n",
        "#learning\n",
        "model1.fit(x_train,y_train)\n",
        "#The best hyper parameters set\n",
        "print(\"Best Hyper Parameters:\\n\",model1.best_params_)\n",
        "#Prediction\n",
        "prediction=model1.predict(x_test)\n",
        "#importing the metrics module\n",
        "from sklearn import metrics\n",
        "#evaluation(Accuracy)\n",
        "print(\"Accuracy:\",metrics.accuracy_score(prediction,y_test))\n",
        "#evaluation(Confusion Metrix)\n",
        "print(\"Confusion Metrix:\\n\",metrics.confusion_matrix(prediction,y_test))\n",
        "rf_final=prediction\n",
        "rf_finalmod=model1"
      ],
      "execution_count": 65,
      "outputs": [
        {
          "output_type": "stream",
          "text": [
            "Best Hyper Parameters:\n",
            " {'criterion': 'entropy', 'min_samples_leaf': 2, 'min_samples_split': 5, 'n_estimators': 20, 'n_jobs': -1, 'random_state': 123}\n",
            "Accuracy: 0.7926829268292683\n",
            "Confusion Metrix:\n",
            " [[93 19]\n",
            " [15 37]]\n"
          ],
          "name": "stdout"
        }
      ]
    },
    {
      "cell_type": "code",
      "metadata": {
        "colab": {
          "base_uri": "https://localhost:8080/"
        },
        "id": "Aa7R-9IhDQYs",
        "outputId": "448a91f6-b202-4de5-f1ed-61024c5feab3"
      },
      "source": [
        "rf_cv=cross_val_score(model1,x,y,scoring='accuracy', cv = 3).mean()\n",
        "rf_cv"
      ],
      "execution_count": 66,
      "outputs": [
        {
          "output_type": "execute_result",
          "data": {
            "text/plain": [
              "0.8117548301371831"
            ]
          },
          "metadata": {
            "tags": []
          },
          "execution_count": 66
        }
      ]
    },
    {
      "cell_type": "markdown",
      "metadata": {
        "id": "ief7vfF-Qj7w"
      },
      "source": [
        "**svm**"
      ]
    },
    {
      "cell_type": "code",
      "metadata": {
        "colab": {
          "base_uri": "https://localhost:8080/"
        },
        "id": "CtZKTSUb-wF9",
        "outputId": "4e20594c-bd33-4bf7-cb73-2e78dbd5b884"
      },
      "source": [
        "#With Hyper Parameters Tuning\n",
        "#2-3,SVM\n",
        "#importing modules\n",
        "from sklearn.model_selection import GridSearchCV\n",
        "from sklearn import svm\n",
        "#making the instance\n",
        "model=svm.SVC()\n",
        "#Hyper Parameters Set\n",
        "params = {'C': [6,7,8,9,10,11,12], \n",
        "          'kernel': ['linear','rbf']}\n",
        "#Making models with hyper parameters sets\n",
        "model1 = GridSearchCV(model, param_grid=params, n_jobs=-1)\n",
        "#Learning\n",
        "model1.fit(x_train,y_train)\n",
        "#The best hyper parameters set\n",
        "print(\"Best Hyper Parameters:\\n\",model1.best_params_)\n",
        "#Prediction\n",
        "prediction=model1.predict(x_test)\n",
        "#importing the metrics module\n",
        "from sklearn import metrics\n",
        "#evaluation(Accuracy)\n",
        "print(\"Accuracy:\",metrics.accuracy_score(prediction,y_test))\n",
        "#evaluation(Confusion Metrix)\n",
        "print(\"Confusion Metrix:\\n\",metrics.confusion_matrix(prediction,y_test))\n",
        "svm_final=prediction\n",
        "svm_finalmod=model1"
      ],
      "execution_count": 67,
      "outputs": [
        {
          "output_type": "stream",
          "text": [
            "Best Hyper Parameters:\n",
            " {'C': 9, 'kernel': 'rbf'}\n",
            "Accuracy: 0.8048780487804879\n",
            "Confusion Metrix:\n",
            " [[95 19]\n",
            " [13 37]]\n"
          ],
          "name": "stdout"
        }
      ]
    },
    {
      "cell_type": "code",
      "metadata": {
        "colab": {
          "base_uri": "https://localhost:8080/"
        },
        "id": "X8ZxPO4tCeZ5",
        "outputId": "2046eac3-85bc-4954-8a1f-b3e542dca42b"
      },
      "source": [
        "svc_cv=cross_val_score(model1,x,y,scoring='accuracy', cv = 10).mean()\n",
        "svc_cv"
      ],
      "execution_count": 68,
      "outputs": [
        {
          "output_type": "execute_result",
          "data": {
            "text/plain": [
              "0.8044564890093346"
            ]
          },
          "metadata": {
            "tags": []
          },
          "execution_count": 68
        }
      ]
    },
    {
      "cell_type": "markdown",
      "metadata": {
        "id": "w1W6Ur-VQngp"
      },
      "source": [
        "**KNeighborsClassifier**"
      ]
    },
    {
      "cell_type": "code",
      "metadata": {
        "colab": {
          "base_uri": "https://localhost:8080/"
        },
        "id": "3aOl1NXK_3uw",
        "outputId": "ea5f29ca-0672-4fdf-d175-5c9178c12997"
      },
      "source": [
        "#With Hyper Parameters Tuning\n",
        "#2-4,kNearestNeighbors\n",
        "#importing modules\n",
        "from sklearn.model_selection import GridSearchCV\n",
        "from sklearn.neighbors import KNeighborsClassifier\n",
        "#making the instance\n",
        "model = KNeighborsClassifier(n_jobs=-1)\n",
        "#Hyper Parameters Set\n",
        "params = {'n_neighbors':[5,6,7,8,9,10],\n",
        "          'leaf_size':[1,2,3,5],\n",
        "          'weights':['uniform', 'distance'],\n",
        "          'algorithm':['auto', 'ball_tree','kd_tree','brute'],\n",
        "          'n_jobs':[-1]}\n",
        "#Making models with hyper parameters sets\n",
        "model1 = GridSearchCV(model, param_grid=params, n_jobs=1)\n",
        "#Learning\n",
        "model1.fit(x_train,y_train)\n",
        "#The best hyper parameters set\n",
        "print(\"Best Hyper Parameters:\\n\",model1.best_params_)\n",
        "#Prediction\n",
        "prediction=model1.predict(x_test)\n",
        "#importing the metrics module\n",
        "from sklearn import metrics\n",
        "#evaluation(Accuracy)\n",
        "print(\"Accuracy:\",metrics.accuracy_score(prediction,y_test))\n",
        "#evaluation(Confusion Metrix)\n",
        "print(\"Confusion Metrix:\\n\",metrics.confusion_matrix(prediction,y_test))\n",
        "knn_final=prediction\n",
        "knn_finalmod=model1"
      ],
      "execution_count": 69,
      "outputs": [
        {
          "output_type": "stream",
          "text": [
            "Best Hyper Parameters:\n",
            " {'algorithm': 'auto', 'leaf_size': 1, 'n_jobs': -1, 'n_neighbors': 10, 'weights': 'distance'}\n",
            "Accuracy: 0.7987804878048781\n",
            "Confusion Metrix:\n",
            " [[91 16]\n",
            " [17 40]]\n"
          ],
          "name": "stdout"
        }
      ]
    },
    {
      "cell_type": "code",
      "metadata": {
        "colab": {
          "base_uri": "https://localhost:8080/"
        },
        "id": "baG4D2QdAjGv",
        "outputId": "c77d4c1d-3fab-4985-952e-8f5851a45a10"
      },
      "source": [
        "knn_cv=cross_val_score(model1,x,y,scoring='accuracy', cv = 10).mean()\n",
        "knn_cv"
      ],
      "execution_count": 70,
      "outputs": [
        {
          "output_type": "execute_result",
          "data": {
            "text/plain": [
              "0.7995784402288468"
            ]
          },
          "metadata": {
            "tags": []
          },
          "execution_count": 70
        }
      ]
    },
    {
      "cell_type": "markdown",
      "metadata": {
        "id": "AMsUarFKQqde"
      },
      "source": [
        "## **Evaluation**"
      ]
    },
    {
      "cell_type": "code",
      "metadata": {
        "id": "GQ9ruwZ5Fejh"
      },
      "source": [
        "from sklearn.datasets import make_circles\n",
        "from sklearn.metrics import accuracy_score\n",
        "from sklearn.metrics import precision_score\n",
        "from sklearn.metrics import recall_score\n",
        "from sklearn.metrics import f1_score\n",
        "from sklearn.metrics import cohen_kappa_score\n",
        "from sklearn.metrics import roc_auc_score\n",
        "from sklearn.metrics import confusion_matrix"
      ],
      "execution_count": 71,
      "outputs": []
    },
    {
      "cell_type": "code",
      "metadata": {
        "colab": {
          "base_uri": "https://localhost:8080/"
        },
        "id": "suonoIo6FYvY",
        "outputId": "bf86f816-f38c-4b40-fbf6-c8273a91697d"
      },
      "source": [
        "print(\"Random Forest\")\n",
        "print(\"-----------------------------------------\")\n",
        "# accuracy: (tp + tn) / (p + n)\n",
        "accuracy_rfc = accuracy_score(y_test, rf_final)\n",
        "print('Accuracy: %f' % accuracy_rfc)\n",
        "# precision tp / (tp + fp)\n",
        "precision_rfc = precision_score(y_test, rf_final)\n",
        "print('Precision: %f' % precision_rfc)\n",
        "# recall: tp / (tp + fn)\n",
        "recall_rfc = recall_score(y_test, rf_final)\n",
        "print('Recall: %f' % recall_rfc)\n",
        "# f1: 2 tp / (2 tp + fp + fn)\n",
        "f1_rfc = f1_score(y_test, rf_final)\n",
        "print('F1 score: %f' % f1_rfc)\n",
        "\n",
        "\n",
        "print(\"------------------------------------------\")\n",
        "print(\"Decision Tree\")\n",
        "print(\"-----------------------------------------\")\n",
        "# accuracy: (tp + tn) / (p + n)\n",
        "accuracy_dt = accuracy_score(y_test, dt_final)\n",
        "print('Accuracy: %f' % accuracy_dt)\n",
        "# precision tp / (tp + fp)\n",
        "precision_dt = precision_score(y_test, dt_final)\n",
        "print('Precision: %f' % precision_dt)\n",
        "# recall: tp / (tp + fn)\n",
        "recall_dt = recall_score(y_test, dt_final)\n",
        "print('Recall: %f' % recall_dt)\n",
        "# f1: 2 tp / (2 tp + fp + fn)\n",
        "f1_dt = f1_score(y_test, dt_final)\n",
        "print('F1 score: %f' % f1_dt)\n",
        "\n",
        "print(\"------------------------------------------\")\n",
        "print(\"KNN\")\n",
        "print(\"-----------------------------------------\")\n",
        "# accuracy: (tp + tn) / (p + n)\n",
        "accuracy_knn = accuracy_score(y_test, knn_final)\n",
        "print('Accuracy: %f' % accuracy_knn)\n",
        "# precision tp / (tp + fp)\n",
        "precision_knn = precision_score(y_test, knn_final)\n",
        "print('Precision: %f' % precision_knn)\n",
        "# recall: tp / (tp + fn)\n",
        "recall_knn = recall_score(y_test, knn_final)\n",
        "print('Recall: %f' % recall_knn)\n",
        "# f1: 2 tp / (2 tp + fp + fn)\n",
        "f1_knn = f1_score(y_test, knn_final)\n",
        "print('F1 score: %f' % f1_knn)\n",
        "\n",
        "print(\"------------------------------------------\")\n",
        "print(\"SVC\")\n",
        "print(\"-----------------------------------------\")\n",
        "# accuracy: (tp + tn) / (p + n)\n",
        "accuracy_svc = accuracy_score(y_test, svm_final)\n",
        "print('Accuracy: %f' % accuracy_svc)\n",
        "# precision tp / (tp + fp)\n",
        "precision_svc = precision_score(y_test, svm_final)\n",
        "print('Precision: %f' % precision_svc)\n",
        "# recall: tp / (tp + fn)\n",
        "recall_svc = recall_score(y_test, svm_final)\n",
        "print('Recall: %f' % recall_svc)\n",
        "# f1: 2 tp / (2 tp + fp + fn)\n",
        "f1_svc = f1_score(y_test, svm_final)\n",
        "print('F1 score: %f' % f1_svc)"
      ],
      "execution_count": 72,
      "outputs": [
        {
          "output_type": "stream",
          "text": [
            "Random Forest\n",
            "-----------------------------------------\n",
            "Accuracy: 0.792683\n",
            "Precision: 0.711538\n",
            "Recall: 0.660714\n",
            "F1 score: 0.685185\n",
            "------------------------------------------\n",
            "Decision Tree\n",
            "-----------------------------------------\n",
            "Accuracy: 0.798780\n",
            "Precision: 0.744681\n",
            "Recall: 0.625000\n",
            "F1 score: 0.679612\n",
            "------------------------------------------\n",
            "KNN\n",
            "-----------------------------------------\n",
            "Accuracy: 0.798780\n",
            "Precision: 0.701754\n",
            "Recall: 0.714286\n",
            "F1 score: 0.707965\n",
            "------------------------------------------\n",
            "SVC\n",
            "-----------------------------------------\n",
            "Accuracy: 0.804878\n",
            "Precision: 0.740000\n",
            "Recall: 0.660714\n",
            "F1 score: 0.698113\n"
          ],
          "name": "stdout"
        }
      ]
    },
    {
      "cell_type": "markdown",
      "metadata": {
        "id": "yDpqoBX3JcUv"
      },
      "source": [
        "### **When comparing accuracy and cross validation the best model is SVC **"
      ]
    },
    {
      "cell_type": "code",
      "metadata": {
        "colab": {
          "base_uri": "https://localhost:8080/"
        },
        "id": "x-9dr2OvRBIL",
        "outputId": "9ac80acf-aba7-40c4-ded5-09edc5776603"
      },
      "source": [
        "import joblib\n",
        "joblib.dump(rf_finalmod,\"final model.pkl\")"
      ],
      "execution_count": 73,
      "outputs": [
        {
          "output_type": "execute_result",
          "data": {
            "text/plain": [
              "['final model.pkl']"
            ]
          },
          "metadata": {
            "tags": []
          },
          "execution_count": 73
        }
      ]
    }
  ]
}