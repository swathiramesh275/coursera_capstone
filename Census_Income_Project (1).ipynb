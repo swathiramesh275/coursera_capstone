{
  "nbformat": 4,
  "nbformat_minor": 0,
  "metadata": {
    "colab": {
      "name": "Census Income Project.ipynb",
      "provenance": [],
      "collapsed_sections": []
    },
    "kernelspec": {
      "name": "python3",
      "display_name": "Python 3"
    },
    "language_info": {
      "name": "python"
    }
  },
  "cells": [
    {
      "cell_type": "markdown",
      "metadata": {
        "id": "U9oU1GHbqK0a"
      },
      "source": [
        "# **Census Income Project**"
      ]
    },
    {
      "cell_type": "markdown",
      "metadata": {
        "id": "eQCHpQEOg0KQ"
      },
      "source": [
        "## **1. Dataset loading**"
      ]
    },
    {
      "cell_type": "code",
      "metadata": {
        "id": "dr7nq32vojNV"
      },
      "source": [
        "import pandas as pd\n",
        "import numpy as np\n",
        "import matplotlib.pyplot as plt\n",
        "import seaborn as sns\n",
        "import warnings\n",
        "warnings.filterwarnings('ignore')"
      ],
      "execution_count": 1,
      "outputs": []
    },
    {
      "cell_type": "code",
      "metadata": {
        "id": "gsiDPAPCmptk"
      },
      "source": [
        "df=pd.read_csv(\"https://raw.githubusercontent.com/dsrscientist/dataset1/master/census_income.csv\")"
      ],
      "execution_count": 75,
      "outputs": []
    },
    {
      "cell_type": "code",
      "metadata": {
        "colab": {
          "base_uri": "https://localhost:8080/",
          "height": 200
        },
        "id": "Rap6vDYuoqhC",
        "outputId": "6d84d76d-f3a1-4b33-cbb4-7e78d8a10ef8"
      },
      "source": [
        "df.head()"
      ],
      "execution_count": 3,
      "outputs": [
        {
          "output_type": "execute_result",
          "data": {
            "text/html": [
              "<div>\n",
              "<style scoped>\n",
              "    .dataframe tbody tr th:only-of-type {\n",
              "        vertical-align: middle;\n",
              "    }\n",
              "\n",
              "    .dataframe tbody tr th {\n",
              "        vertical-align: top;\n",
              "    }\n",
              "\n",
              "    .dataframe thead th {\n",
              "        text-align: right;\n",
              "    }\n",
              "</style>\n",
              "<table border=\"1\" class=\"dataframe\">\n",
              "  <thead>\n",
              "    <tr style=\"text-align: right;\">\n",
              "      <th></th>\n",
              "      <th>Age</th>\n",
              "      <th>Workclass</th>\n",
              "      <th>Fnlwgt</th>\n",
              "      <th>Education</th>\n",
              "      <th>Education_num</th>\n",
              "      <th>Marital_status</th>\n",
              "      <th>Occupation</th>\n",
              "      <th>Relationship</th>\n",
              "      <th>Race</th>\n",
              "      <th>Sex</th>\n",
              "      <th>Capital_gain</th>\n",
              "      <th>Capital_loss</th>\n",
              "      <th>Hours_per_week</th>\n",
              "      <th>Native_country</th>\n",
              "      <th>Income</th>\n",
              "    </tr>\n",
              "  </thead>\n",
              "  <tbody>\n",
              "    <tr>\n",
              "      <th>0</th>\n",
              "      <td>50</td>\n",
              "      <td>Self-emp-not-inc</td>\n",
              "      <td>83311</td>\n",
              "      <td>Bachelors</td>\n",
              "      <td>13</td>\n",
              "      <td>Married-civ-spouse</td>\n",
              "      <td>Exec-managerial</td>\n",
              "      <td>Husband</td>\n",
              "      <td>White</td>\n",
              "      <td>Male</td>\n",
              "      <td>0</td>\n",
              "      <td>0</td>\n",
              "      <td>13</td>\n",
              "      <td>United-States</td>\n",
              "      <td>&lt;=50K</td>\n",
              "    </tr>\n",
              "    <tr>\n",
              "      <th>1</th>\n",
              "      <td>38</td>\n",
              "      <td>Private</td>\n",
              "      <td>215646</td>\n",
              "      <td>HS-grad</td>\n",
              "      <td>9</td>\n",
              "      <td>Divorced</td>\n",
              "      <td>Handlers-cleaners</td>\n",
              "      <td>Not-in-family</td>\n",
              "      <td>White</td>\n",
              "      <td>Male</td>\n",
              "      <td>0</td>\n",
              "      <td>0</td>\n",
              "      <td>40</td>\n",
              "      <td>United-States</td>\n",
              "      <td>&lt;=50K</td>\n",
              "    </tr>\n",
              "    <tr>\n",
              "      <th>2</th>\n",
              "      <td>53</td>\n",
              "      <td>Private</td>\n",
              "      <td>234721</td>\n",
              "      <td>11th</td>\n",
              "      <td>7</td>\n",
              "      <td>Married-civ-spouse</td>\n",
              "      <td>Handlers-cleaners</td>\n",
              "      <td>Husband</td>\n",
              "      <td>Black</td>\n",
              "      <td>Male</td>\n",
              "      <td>0</td>\n",
              "      <td>0</td>\n",
              "      <td>40</td>\n",
              "      <td>United-States</td>\n",
              "      <td>&lt;=50K</td>\n",
              "    </tr>\n",
              "    <tr>\n",
              "      <th>3</th>\n",
              "      <td>28</td>\n",
              "      <td>Private</td>\n",
              "      <td>338409</td>\n",
              "      <td>Bachelors</td>\n",
              "      <td>13</td>\n",
              "      <td>Married-civ-spouse</td>\n",
              "      <td>Prof-specialty</td>\n",
              "      <td>Wife</td>\n",
              "      <td>Black</td>\n",
              "      <td>Female</td>\n",
              "      <td>0</td>\n",
              "      <td>0</td>\n",
              "      <td>40</td>\n",
              "      <td>Cuba</td>\n",
              "      <td>&lt;=50K</td>\n",
              "    </tr>\n",
              "    <tr>\n",
              "      <th>4</th>\n",
              "      <td>37</td>\n",
              "      <td>Private</td>\n",
              "      <td>284582</td>\n",
              "      <td>Masters</td>\n",
              "      <td>14</td>\n",
              "      <td>Married-civ-spouse</td>\n",
              "      <td>Exec-managerial</td>\n",
              "      <td>Wife</td>\n",
              "      <td>White</td>\n",
              "      <td>Female</td>\n",
              "      <td>0</td>\n",
              "      <td>0</td>\n",
              "      <td>40</td>\n",
              "      <td>United-States</td>\n",
              "      <td>&lt;=50K</td>\n",
              "    </tr>\n",
              "  </tbody>\n",
              "</table>\n",
              "</div>"
            ],
            "text/plain": [
              "   Age          Workclass  Fnlwgt  ... Hours_per_week  Native_country  Income\n",
              "0   50   Self-emp-not-inc   83311  ...             13   United-States   <=50K\n",
              "1   38            Private  215646  ...             40   United-States   <=50K\n",
              "2   53            Private  234721  ...             40   United-States   <=50K\n",
              "3   28            Private  338409  ...             40            Cuba   <=50K\n",
              "4   37            Private  284582  ...             40   United-States   <=50K\n",
              "\n",
              "[5 rows x 15 columns]"
            ]
          },
          "metadata": {
            "tags": []
          },
          "execution_count": 3
        }
      ]
    },
    {
      "cell_type": "code",
      "metadata": {
        "colab": {
          "base_uri": "https://localhost:8080/",
          "height": 290
        },
        "id": "iIqqdCVeZWYr",
        "outputId": "9eb547b3-7178-48a9-dc42-4cddd6573ced"
      },
      "source": [
        "df.describe()"
      ],
      "execution_count": 4,
      "outputs": [
        {
          "output_type": "execute_result",
          "data": {
            "text/html": [
              "<div>\n",
              "<style scoped>\n",
              "    .dataframe tbody tr th:only-of-type {\n",
              "        vertical-align: middle;\n",
              "    }\n",
              "\n",
              "    .dataframe tbody tr th {\n",
              "        vertical-align: top;\n",
              "    }\n",
              "\n",
              "    .dataframe thead th {\n",
              "        text-align: right;\n",
              "    }\n",
              "</style>\n",
              "<table border=\"1\" class=\"dataframe\">\n",
              "  <thead>\n",
              "    <tr style=\"text-align: right;\">\n",
              "      <th></th>\n",
              "      <th>Age</th>\n",
              "      <th>Fnlwgt</th>\n",
              "      <th>Education_num</th>\n",
              "      <th>Capital_gain</th>\n",
              "      <th>Capital_loss</th>\n",
              "      <th>Hours_per_week</th>\n",
              "    </tr>\n",
              "  </thead>\n",
              "  <tbody>\n",
              "    <tr>\n",
              "      <th>count</th>\n",
              "      <td>32560.000000</td>\n",
              "      <td>3.256000e+04</td>\n",
              "      <td>32560.000000</td>\n",
              "      <td>32560.000000</td>\n",
              "      <td>32560.000000</td>\n",
              "      <td>32560.000000</td>\n",
              "    </tr>\n",
              "    <tr>\n",
              "      <th>mean</th>\n",
              "      <td>38.581634</td>\n",
              "      <td>1.897818e+05</td>\n",
              "      <td>10.080590</td>\n",
              "      <td>1077.615172</td>\n",
              "      <td>87.306511</td>\n",
              "      <td>40.437469</td>\n",
              "    </tr>\n",
              "    <tr>\n",
              "      <th>std</th>\n",
              "      <td>13.640642</td>\n",
              "      <td>1.055498e+05</td>\n",
              "      <td>2.572709</td>\n",
              "      <td>7385.402999</td>\n",
              "      <td>402.966116</td>\n",
              "      <td>12.347618</td>\n",
              "    </tr>\n",
              "    <tr>\n",
              "      <th>min</th>\n",
              "      <td>17.000000</td>\n",
              "      <td>1.228500e+04</td>\n",
              "      <td>1.000000</td>\n",
              "      <td>0.000000</td>\n",
              "      <td>0.000000</td>\n",
              "      <td>1.000000</td>\n",
              "    </tr>\n",
              "    <tr>\n",
              "      <th>25%</th>\n",
              "      <td>28.000000</td>\n",
              "      <td>1.178315e+05</td>\n",
              "      <td>9.000000</td>\n",
              "      <td>0.000000</td>\n",
              "      <td>0.000000</td>\n",
              "      <td>40.000000</td>\n",
              "    </tr>\n",
              "    <tr>\n",
              "      <th>50%</th>\n",
              "      <td>37.000000</td>\n",
              "      <td>1.783630e+05</td>\n",
              "      <td>10.000000</td>\n",
              "      <td>0.000000</td>\n",
              "      <td>0.000000</td>\n",
              "      <td>40.000000</td>\n",
              "    </tr>\n",
              "    <tr>\n",
              "      <th>75%</th>\n",
              "      <td>48.000000</td>\n",
              "      <td>2.370545e+05</td>\n",
              "      <td>12.000000</td>\n",
              "      <td>0.000000</td>\n",
              "      <td>0.000000</td>\n",
              "      <td>45.000000</td>\n",
              "    </tr>\n",
              "    <tr>\n",
              "      <th>max</th>\n",
              "      <td>90.000000</td>\n",
              "      <td>1.484705e+06</td>\n",
              "      <td>16.000000</td>\n",
              "      <td>99999.000000</td>\n",
              "      <td>4356.000000</td>\n",
              "      <td>99.000000</td>\n",
              "    </tr>\n",
              "  </tbody>\n",
              "</table>\n",
              "</div>"
            ],
            "text/plain": [
              "                Age        Fnlwgt  ...  Capital_loss  Hours_per_week\n",
              "count  32560.000000  3.256000e+04  ...  32560.000000    32560.000000\n",
              "mean      38.581634  1.897818e+05  ...     87.306511       40.437469\n",
              "std       13.640642  1.055498e+05  ...    402.966116       12.347618\n",
              "min       17.000000  1.228500e+04  ...      0.000000        1.000000\n",
              "25%       28.000000  1.178315e+05  ...      0.000000       40.000000\n",
              "50%       37.000000  1.783630e+05  ...      0.000000       40.000000\n",
              "75%       48.000000  2.370545e+05  ...      0.000000       45.000000\n",
              "max       90.000000  1.484705e+06  ...   4356.000000       99.000000\n",
              "\n",
              "[8 rows x 6 columns]"
            ]
          },
          "metadata": {
            "tags": []
          },
          "execution_count": 4
        }
      ]
    },
    {
      "cell_type": "markdown",
      "metadata": {
        "id": "uCK8fk5cg29H"
      },
      "source": [
        "## **2.Checking basic details**"
      ]
    },
    {
      "cell_type": "code",
      "metadata": {
        "id": "ji0prko4or4l",
        "colab": {
          "base_uri": "https://localhost:8080/"
        },
        "outputId": "d139adf8-4e91-4056-d82e-12172bdaf4ea"
      },
      "source": [
        "df['Income'].value_counts()"
      ],
      "execution_count": 5,
      "outputs": [
        {
          "output_type": "execute_result",
          "data": {
            "text/plain": [
              " <=50K    24719\n",
              " >50K      7841\n",
              "Name: Income, dtype: int64"
            ]
          },
          "metadata": {
            "tags": []
          },
          "execution_count": 5
        }
      ]
    },
    {
      "cell_type": "code",
      "metadata": {
        "colab": {
          "base_uri": "https://localhost:8080/"
        },
        "id": "XUDVHBuUA4AV",
        "outputId": "312795fc-94fa-46e8-a7d6-8299c23b6d9b"
      },
      "source": [
        "df.dtypes"
      ],
      "execution_count": 6,
      "outputs": [
        {
          "output_type": "execute_result",
          "data": {
            "text/plain": [
              "Age                int64\n",
              "Workclass         object\n",
              "Fnlwgt             int64\n",
              "Education         object\n",
              "Education_num      int64\n",
              "Marital_status    object\n",
              "Occupation        object\n",
              "Relationship      object\n",
              "Race              object\n",
              "Sex               object\n",
              "Capital_gain       int64\n",
              "Capital_loss       int64\n",
              "Hours_per_week     int64\n",
              "Native_country    object\n",
              "Income            object\n",
              "dtype: object"
            ]
          },
          "metadata": {
            "tags": []
          },
          "execution_count": 6
        }
      ]
    },
    {
      "cell_type": "code",
      "metadata": {
        "colab": {
          "base_uri": "https://localhost:8080/"
        },
        "id": "irEzyw4vLIt1",
        "outputId": "2b4daeb9-46f7-4461-ef44-67b024ef6c1c"
      },
      "source": [
        "print(df.isnull().sum())"
      ],
      "execution_count": 7,
      "outputs": [
        {
          "output_type": "stream",
          "text": [
            "Age               0\n",
            "Workclass         0\n",
            "Fnlwgt            0\n",
            "Education         0\n",
            "Education_num     0\n",
            "Marital_status    0\n",
            "Occupation        0\n",
            "Relationship      0\n",
            "Race              0\n",
            "Sex               0\n",
            "Capital_gain      0\n",
            "Capital_loss      0\n",
            "Hours_per_week    0\n",
            "Native_country    0\n",
            "Income            0\n",
            "dtype: int64\n"
          ],
          "name": "stdout"
        }
      ]
    },
    {
      "cell_type": "code",
      "metadata": {
        "colab": {
          "base_uri": "https://localhost:8080/"
        },
        "id": "9LqqCWDEKsT1",
        "outputId": "48cedbfe-7aa2-4649-9110-a398730f5e93"
      },
      "source": [
        "for i in df.columns:\n",
        "  print(df[i].value_counts())\n",
        "  print(\"________________________________________\")"
      ],
      "execution_count": 80,
      "outputs": [
        {
          "output_type": "stream",
          "text": [
            "36    898\n",
            "31    888\n",
            "34    886\n",
            "23    877\n",
            "35    876\n",
            "     ... \n",
            "83      6\n",
            "85      3\n",
            "88      3\n",
            "87      1\n",
            "86      1\n",
            "Name: Age, Length: 73, dtype: int64\n",
            "________________________________________\n",
            " Private             22696\n",
            " Self-emp-not-inc     2541\n",
            " Local-gov            2093\n",
            " ?                    1836\n",
            " State-gov            1297\n",
            " Self-emp-inc         1116\n",
            " Federal-gov           960\n",
            " Without-pay            14\n",
            " Never-worked            7\n",
            "Name: Workclass, dtype: int64\n",
            "________________________________________\n",
            "123011    13\n",
            "203488    13\n",
            "164190    13\n",
            "121124    12\n",
            "148995    12\n",
            "          ..\n",
            "68318      1\n",
            "284211     1\n",
            "312881     1\n",
            "177711     1\n",
            "229376     1\n",
            "Name: Fnlwgt, Length: 21647, dtype: int64\n",
            "________________________________________\n",
            " HS-grad         10501\n",
            " Some-college     7291\n",
            " Bachelors        5354\n",
            " Masters          1723\n",
            " Assoc-voc        1382\n",
            " 11th             1175\n",
            " Assoc-acdm       1067\n",
            " 10th              933\n",
            " 7th-8th           646\n",
            " Prof-school       576\n",
            " 9th               514\n",
            " 12th              433\n",
            " Doctorate         413\n",
            " 5th-6th           333\n",
            " 1st-4th           168\n",
            " Preschool          51\n",
            "Name: Education, dtype: int64\n",
            "________________________________________\n",
            "9     10501\n",
            "10     7291\n",
            "13     5354\n",
            "14     1723\n",
            "11     1382\n",
            "7      1175\n",
            "12     1067\n",
            "6       933\n",
            "4       646\n",
            "15      576\n",
            "5       514\n",
            "8       433\n",
            "16      413\n",
            "3       333\n",
            "2       168\n",
            "1        51\n",
            "Name: Education_num, dtype: int64\n",
            "________________________________________\n",
            " Married-civ-spouse       14976\n",
            " Never-married            10682\n",
            " Divorced                  4443\n",
            " Separated                 1025\n",
            " Widowed                    993\n",
            " Married-spouse-absent      418\n",
            " Married-AF-spouse           23\n",
            "Name: Marital_status, dtype: int64\n",
            "________________________________________\n",
            " Prof-specialty       4140\n",
            " Craft-repair         4099\n",
            " Exec-managerial      4066\n",
            " Adm-clerical         3769\n",
            " Sales                3650\n",
            " Other-service        3295\n",
            " Machine-op-inspct    2002\n",
            " ?                    1843\n",
            " Transport-moving     1597\n",
            " Handlers-cleaners    1370\n",
            " Farming-fishing       994\n",
            " Tech-support          928\n",
            " Protective-serv       649\n",
            " Priv-house-serv       149\n",
            " Armed-Forces            9\n",
            "Name: Occupation, dtype: int64\n",
            "________________________________________\n",
            " Husband           13193\n",
            " Not-in-family      8304\n",
            " Own-child          5068\n",
            " Unmarried          3446\n",
            " Wife               1568\n",
            " Other-relative      981\n",
            "Name: Relationship, dtype: int64\n",
            "________________________________________\n",
            " White                 27815\n",
            " Black                  3124\n",
            " Asian-Pac-Islander     1039\n",
            " Amer-Indian-Eskimo      311\n",
            " Other                   271\n",
            "Name: Race, dtype: int64\n",
            "________________________________________\n",
            " Male      21789\n",
            " Female    10771\n",
            "Name: Sex, dtype: int64\n",
            "________________________________________\n",
            "0        29849\n",
            "15024      347\n",
            "7688       284\n",
            "7298       246\n",
            "99999      159\n",
            "         ...  \n",
            "4931         1\n",
            "1455         1\n",
            "6097         1\n",
            "22040        1\n",
            "1111         1\n",
            "Name: Capital_gain, Length: 119, dtype: int64\n",
            "________________________________________\n",
            "0       31041\n",
            "1902      202\n",
            "1977      168\n",
            "1887      159\n",
            "1848       51\n",
            "        ...  \n",
            "1411        1\n",
            "1539        1\n",
            "2472        1\n",
            "1944        1\n",
            "2201        1\n",
            "Name: Capital_loss, Length: 92, dtype: int64\n",
            "________________________________________\n",
            "40    15216\n",
            "50     2819\n",
            "45     1824\n",
            "60     1475\n",
            "35     1297\n",
            "      ...  \n",
            "92        1\n",
            "94        1\n",
            "87        1\n",
            "74        1\n",
            "82        1\n",
            "Name: Hours_per_week, Length: 94, dtype: int64\n",
            "________________________________________\n",
            " United-States                 29169\n",
            " Mexico                          643\n",
            " ?                               583\n",
            " Philippines                     198\n",
            " Germany                         137\n",
            " Canada                          121\n",
            " Puerto-Rico                     114\n",
            " El-Salvador                     106\n",
            " India                           100\n",
            " Cuba                             95\n",
            " England                          90\n",
            " Jamaica                          81\n",
            " South                            80\n",
            " China                            75\n",
            " Italy                            73\n",
            " Dominican-Republic               70\n",
            " Vietnam                          67\n",
            " Guatemala                        64\n",
            " Japan                            62\n",
            " Poland                           60\n",
            " Columbia                         59\n",
            " Taiwan                           51\n",
            " Haiti                            44\n",
            " Iran                             43\n",
            " Portugal                         37\n",
            " Nicaragua                        34\n",
            " Peru                             31\n",
            " Greece                           29\n",
            " France                           29\n",
            " Ecuador                          28\n",
            " Ireland                          24\n",
            " Hong                             20\n",
            " Cambodia                         19\n",
            " Trinadad&Tobago                  19\n",
            " Laos                             18\n",
            " Thailand                         18\n",
            " Yugoslavia                       16\n",
            " Outlying-US(Guam-USVI-etc)       14\n",
            " Hungary                          13\n",
            " Honduras                         13\n",
            " Scotland                         12\n",
            " Holand-Netherlands                1\n",
            "Name: Native_country, dtype: int64\n",
            "________________________________________\n",
            " <=50K    24719\n",
            " >50K      7841\n",
            "Name: Income, dtype: int64\n",
            "________________________________________\n"
          ],
          "name": "stdout"
        }
      ]
    },
    {
      "cell_type": "markdown",
      "metadata": {
        "id": "t8u5ab03LlAF"
      },
      "source": [
        "**There is no missing values present when we checked earlier but null values are present in the form of \"?\"**"
      ]
    },
    {
      "cell_type": "code",
      "metadata": {
        "id": "XVUDW4QKLZ0r"
      },
      "source": [
        "df= df.replace(' ?', np.nan)"
      ],
      "execution_count": 81,
      "outputs": []
    },
    {
      "cell_type": "code",
      "metadata": {
        "colab": {
          "base_uri": "https://localhost:8080/"
        },
        "id": "nTsnYQkLSvC6",
        "outputId": "36d09a04-de64-4d51-87c2-0c32534aaad6"
      },
      "source": [
        "print(df.isnull().sum())"
      ],
      "execution_count": 82,
      "outputs": [
        {
          "output_type": "stream",
          "text": [
            "Age                  0\n",
            "Workclass         1836\n",
            "Fnlwgt               0\n",
            "Education            0\n",
            "Education_num        0\n",
            "Marital_status       0\n",
            "Occupation        1843\n",
            "Relationship         0\n",
            "Race                 0\n",
            "Sex                  0\n",
            "Capital_gain         0\n",
            "Capital_loss         0\n",
            "Hours_per_week       0\n",
            "Native_country     583\n",
            "Income               0\n",
            "dtype: int64\n"
          ],
          "name": "stdout"
        }
      ]
    },
    {
      "cell_type": "markdown",
      "metadata": {
        "id": "O1yJc0Ifg7zA"
      },
      "source": [
        "Replacing missing values with mode"
      ]
    },
    {
      "cell_type": "code",
      "metadata": {
        "id": "VnEHSIVOSwrA"
      },
      "source": [
        "df['Workclass'].fillna(df['Workclass'].mode()[0], inplace=True)\n",
        "df['Occupation'].fillna(df['Occupation'].mode()[0], inplace=True)\n",
        "df['Native_country'].fillna(df['Native_country'].mode()[0], inplace=True)"
      ],
      "execution_count": 11,
      "outputs": []
    },
    {
      "cell_type": "code",
      "metadata": {
        "colab": {
          "base_uri": "https://localhost:8080/"
        },
        "id": "BmxXcmhJUipw",
        "outputId": "0c8a22e0-7c68-44b3-b858-c0473225016d"
      },
      "source": [
        "print(df.isnull().sum())"
      ],
      "execution_count": 12,
      "outputs": [
        {
          "output_type": "stream",
          "text": [
            "Age               0\n",
            "Workclass         0\n",
            "Fnlwgt            0\n",
            "Education         0\n",
            "Education_num     0\n",
            "Marital_status    0\n",
            "Occupation        0\n",
            "Relationship      0\n",
            "Race              0\n",
            "Sex               0\n",
            "Capital_gain      0\n",
            "Capital_loss      0\n",
            "Hours_per_week    0\n",
            "Native_country    0\n",
            "Income            0\n",
            "dtype: int64\n"
          ],
          "name": "stdout"
        }
      ]
    },
    {
      "cell_type": "markdown",
      "metadata": {
        "id": "vKjXs7UvhDXX"
      },
      "source": [
        "## **3.EDA**"
      ]
    },
    {
      "cell_type": "code",
      "metadata": {
        "colab": {
          "base_uri": "https://localhost:8080/",
          "height": 458
        },
        "id": "7TeNmqIhU4zn",
        "outputId": "bc23d317-6d13-482b-f598-db79dc69c38d"
      },
      "source": [
        "plt.figure(figsize=(22,7))\n",
        "sns.countplot(x='Age',hue='Income',data=df)"
      ],
      "execution_count": 13,
      "outputs": [
        {
          "output_type": "execute_result",
          "data": {
            "text/plain": [
              "<matplotlib.axes._subplots.AxesSubplot at 0x7f99b9e2e050>"
            ]
          },
          "metadata": {
            "tags": []
          },
          "execution_count": 13
        },
        {
          "output_type": "display_data",
          "data": {
            "image/png": "[encoded data removed]",
            "text/plain": [
              "<Figure size 1584x504 with 1 Axes>"
            ]
          },
          "metadata": {
            "tags": [],
            "needs_background": "light"
          }
        }
      ]
    },
    {
      "cell_type": "markdown",
      "metadata": {
        "id": "aG5sSCk2VNGI"
      },
      "source": [
        "We can notice here in age of 17 to 30 most of people having less than 50k of income and after when in increasing age we see in category of more then 50k no of people are increasing"
      ]
    },
    {
      "cell_type": "code",
      "metadata": {
        "colab": {
          "base_uri": "https://localhost:8080/"
        },
        "id": "-gijrBldWAhT",
        "outputId": "3803f891-afba-49f6-97fc-090defd47d3a"
      },
      "source": [
        "df.info()"
      ],
      "execution_count": 14,
      "outputs": [
        {
          "output_type": "stream",
          "text": [
            "<class 'pandas.core.frame.DataFrame'>\n",
            "RangeIndex: 32560 entries, 0 to 32559\n",
            "Data columns (total 15 columns):\n",
            " #   Column          Non-Null Count  Dtype \n",
            "---  ------          --------------  ----- \n",
            " 0   Age             32560 non-null  int64 \n",
            " 1   Workclass       32560 non-null  object\n",
            " 2   Fnlwgt          32560 non-null  int64 \n",
            " 3   Education       32560 non-null  object\n",
            " 4   Education_num   32560 non-null  int64 \n",
            " 5   Marital_status  32560 non-null  object\n",
            " 6   Occupation      32560 non-null  object\n",
            " 7   Relationship    32560 non-null  object\n",
            " 8   Race            32560 non-null  object\n",
            " 9   Sex             32560 non-null  object\n",
            " 10  Capital_gain    32560 non-null  int64 \n",
            " 11  Capital_loss    32560 non-null  int64 \n",
            " 12  Hours_per_week  32560 non-null  int64 \n",
            " 13  Native_country  32560 non-null  object\n",
            " 14  Income          32560 non-null  object\n",
            "dtypes: int64(6), object(9)\n",
            "memory usage: 3.7+ MB\n"
          ],
          "name": "stdout"
        }
      ]
    },
    {
      "cell_type": "code",
      "metadata": {
        "colab": {
          "base_uri": "https://localhost:8080/",
          "height": 481
        },
        "id": "B0Te_JXXX4Cp",
        "outputId": "eacbb0dc-10d2-40e3-aedb-39a134adafa0"
      },
      "source": [
        "plt.figure(figsize=(15,7))\n",
        "sns.countplot(x='Income',hue='Income',data=df)\n",
        "plt.xticks(rotation=90)"
      ],
      "execution_count": 92,
      "outputs": [
        {
          "output_type": "execute_result",
          "data": {
            "text/plain": [
              "(array([0, 1]), <a list of 2 Text major ticklabel objects>)"
            ]
          },
          "metadata": {
            "tags": []
          },
          "execution_count": 92
        },
        {
          "output_type": "display_data",
          "data": {
            "image/png": "[encoded data removed]",
            "text/plain": [
              "<Figure size 1080x504 with 1 Axes>"
            ]
          },
          "metadata": {
            "tags": []
          }
        }
      ]
    },
    {
      "cell_type": "code",
      "metadata": {
        "colab": {
          "base_uri": "https://localhost:8080/",
          "height": 631
        },
        "id": "mLpsnYs7XDJW",
        "outputId": "8583eb71-6c8b-4d7b-c492-85377c600977"
      },
      "source": [
        "plt.figure(figsize=(15,7))\n",
        "sns.countplot(x='Native_country',hue='Income',data=df)\n",
        "plt.xticks(rotation=90)"
      ],
      "execution_count": 83,
      "outputs": [
        {
          "output_type": "execute_result",
          "data": {
            "text/plain": [
              "(array([ 0,  1,  2,  3,  4,  5,  6,  7,  8,  9, 10, 11, 12, 13, 14, 15, 16,\n",
              "        17, 18, 19, 20, 21, 22, 23, 24, 25, 26, 27, 28, 29, 30, 31, 32, 33,\n",
              "        34, 35, 36, 37, 38, 39, 40]),\n",
              " <a list of 41 Text major ticklabel objects>)"
            ]
          },
          "metadata": {
            "tags": []
          },
          "execution_count": 83
        },
        {
          "output_type": "display_data",
          "data": {
            "image/png": "[encoded data removed]",
            "text/plain": [
              "<Figure size 1080x504 with 1 Axes>"
            ]
          },
          "metadata": {
            "tags": []
          }
        }
      ]
    },
    {
      "cell_type": "code",
      "metadata": {
        "colab": {
          "base_uri": "https://localhost:8080/",
          "height": 485
        },
        "id": "k7SCZ-4WW2C4",
        "outputId": "48006612-bd16-4a9c-e568-f5275d335f37"
      },
      "source": [
        "plt.figure(figsize=(15,7))\n",
        "sns.countplot(x='Sex',hue='Income',data=df)\n",
        "plt.xticks(rotation=90)"
      ],
      "execution_count": 91,
      "outputs": [
        {
          "output_type": "execute_result",
          "data": {
            "text/plain": [
              "(array([0, 1]), <a list of 2 Text major ticklabel objects>)"
            ]
          },
          "metadata": {
            "tags": []
          },
          "execution_count": 91
        },
        {
          "output_type": "display_data",
          "data": {
            "image/png": "[encoded data removed]",
            "text/plain": [
              "<Figure size 1080x504 with 1 Axes>"
            ]
          },
          "metadata": {
            "tags": []
          }
        }
      ]
    },
    {
      "cell_type": "code",
      "metadata": {
        "colab": {
          "base_uri": "https://localhost:8080/",
          "height": 541
        },
        "id": "8Z6APm5cWyf0",
        "outputId": "5044855e-63b3-4bac-ab0d-b9e0ea1cdbe3"
      },
      "source": [
        "plt.figure(figsize=(15,7))\n",
        "sns.countplot(x='Race',hue='Income',data=df)\n",
        "plt.xticks(rotation=90)"
      ],
      "execution_count": 90,
      "outputs": [
        {
          "output_type": "execute_result",
          "data": {
            "text/plain": [
              "(array([0, 1, 2, 3, 4]), <a list of 5 Text major ticklabel objects>)"
            ]
          },
          "metadata": {
            "tags": []
          },
          "execution_count": 90
        },
        {
          "output_type": "display_data",
          "data": {
            "image/png": "[encoded data removed]",
            "text/plain": [
              "<Figure size 1080x504 with 1 Axes>"
            ]
          },
          "metadata": {
            "tags": []
          }
        }
      ]
    },
    {
      "cell_type": "code",
      "metadata": {
        "colab": {
          "base_uri": "https://localhost:8080/",
          "height": 512
        },
        "id": "i8OQrGuqWuv2",
        "outputId": "bcfbacdf-e509-46dd-e945-4fb721e8d378"
      },
      "source": [
        "plt.figure(figsize=(15,7))\n",
        "sns.countplot(x='Relationship',hue='Income',data=df)\n",
        "plt.xticks(rotation=90)"
      ],
      "execution_count": 89,
      "outputs": [
        {
          "output_type": "execute_result",
          "data": {
            "text/plain": [
              "(array([0, 1, 2, 3, 4, 5]), <a list of 6 Text major ticklabel objects>)"
            ]
          },
          "metadata": {
            "tags": []
          },
          "execution_count": 89
        },
        {
          "output_type": "display_data",
          "data": {
            "image/png": "[encoded data removed]",
            "text/plain": [
              "<Figure size 1080x504 with 1 Axes>"
            ]
          },
          "metadata": {
            "tags": []
          }
        }
      ]
    },
    {
      "cell_type": "code",
      "metadata": {
        "colab": {
          "base_uri": "https://localhost:8080/",
          "height": 550
        },
        "id": "nbr9DN33WmuD",
        "outputId": "2d66d641-2fad-424c-d624-28bf305a8a49"
      },
      "source": [
        "plt.figure(figsize=(15,7))\n",
        "sns.countplot(x='Occupation',hue='Income',data=df)\n",
        "plt.xticks(rotation=90)"
      ],
      "execution_count": 84,
      "outputs": [
        {
          "output_type": "execute_result",
          "data": {
            "text/plain": [
              "(array([ 0,  1,  2,  3,  4,  5,  6,  7,  8,  9, 10, 11, 12, 13]),\n",
              " <a list of 14 Text major ticklabel objects>)"
            ]
          },
          "metadata": {
            "tags": []
          },
          "execution_count": 84
        },
        {
          "output_type": "display_data",
          "data": {
            "image/png": "[encoded data removed]",
            "text/plain": [
              "<Figure size 1080x504 with 1 Axes>"
            ]
          },
          "metadata": {
            "tags": []
          }
        }
      ]
    },
    {
      "cell_type": "code",
      "metadata": {
        "colab": {
          "base_uri": "https://localhost:8080/",
          "height": 553
        },
        "id": "TMF0XirIWhZ0",
        "outputId": "2e6fb03d-ac81-43fb-e2fa-35849429d7af"
      },
      "source": [
        "plt.figure(figsize=(15,7))\n",
        "sns.countplot(x='Marital_status',hue='Income',data=df)\n",
        "plt.xticks(rotation=90)"
      ],
      "execution_count": 88,
      "outputs": [
        {
          "output_type": "execute_result",
          "data": {
            "text/plain": [
              "(array([0, 1, 2, 3, 4, 5, 6]), <a list of 7 Text major ticklabel objects>)"
            ]
          },
          "metadata": {
            "tags": []
          },
          "execution_count": 88
        },
        {
          "output_type": "display_data",
          "data": {
            "image/png": "[encoded data removed]",
            "text/plain": [
              "<Figure size 1080x504 with 1 Axes>"
            ]
          },
          "metadata": {
            "tags": []
          }
        }
      ]
    },
    {
      "cell_type": "code",
      "metadata": {
        "colab": {
          "base_uri": "https://localhost:8080/",
          "height": 528
        },
        "id": "mkw41PiCWFi7",
        "outputId": "b96d4785-1f8b-4246-be74-df6ba0347548"
      },
      "source": [
        "plt.figure(figsize=(15,7))\n",
        "sns.countplot(x='Education',hue='Income',data=df)\n",
        "plt.xticks(rotation=90)"
      ],
      "execution_count": 87,
      "outputs": [
        {
          "output_type": "execute_result",
          "data": {
            "text/plain": [
              "(array([ 0,  1,  2,  3,  4,  5,  6,  7,  8,  9, 10, 11, 12, 13, 14, 15]),\n",
              " <a list of 16 Text major ticklabel objects>)"
            ]
          },
          "metadata": {
            "tags": []
          },
          "execution_count": 87
        },
        {
          "output_type": "display_data",
          "data": {
            "image/png": "[encoded data removed]",
            "text/plain": [
              "<Figure size 1080x504 with 1 Axes>"
            ]
          },
          "metadata": {
            "tags": []
          }
        }
      ]
    },
    {
      "cell_type": "code",
      "metadata": {
        "colab": {
          "base_uri": "https://localhost:8080/",
          "height": 458
        },
        "id": "mwpgEePgV5cs",
        "outputId": "dc70f68c-2572-4235-b230-54f81074e7f9"
      },
      "source": [
        "plt.figure(figsize=(15,7))\n",
        "sns.countplot(x='Workclass',hue='Income',data=df)"
      ],
      "execution_count": 85,
      "outputs": [
        {
          "output_type": "execute_result",
          "data": {
            "text/plain": [
              "<matplotlib.axes._subplots.AxesSubplot at 0x7f99a63bded0>"
            ]
          },
          "metadata": {
            "tags": []
          },
          "execution_count": 85
        },
        {
          "output_type": "display_data",
          "data": {
            "image/png": "[encoded data removed]",
            "text/plain": [
              "<Figure size 1080x504 with 1 Axes>"
            ]
          },
          "metadata": {
            "tags": []
          }
        }
      ]
    },
    {
      "cell_type": "code",
      "metadata": {
        "colab": {
          "base_uri": "https://localhost:8080/",
          "height": 458
        },
        "id": "bw8SPVQoU4w_",
        "outputId": "a099ca35-a3a8-459a-d5e8-a73fc59f0237"
      },
      "source": [
        "plt.figure(figsize=(15,7))\n",
        "sns.countplot(x='Relationship',hue='Income',data=df)"
      ],
      "execution_count": 86,
      "outputs": [
        {
          "output_type": "execute_result",
          "data": {
            "text/plain": [
              "<matplotlib.axes._subplots.AxesSubplot at 0x7f99a61f6fd0>"
            ]
          },
          "metadata": {
            "tags": []
          },
          "execution_count": 86
        },
        {
          "output_type": "display_data",
          "data": {
            "image/png": "[encoded data removed]",
            "text/plain": [
              "<Figure size 1080x504 with 1 Axes>"
            ]
          },
          "metadata": {
            "tags": []
          }
        }
      ]
    },
    {
      "cell_type": "markdown",
      "metadata": {
        "id": "-qiiLNyMhKTL"
      },
      "source": [
        "## **4. Data pre-processing**"
      ]
    },
    {
      "cell_type": "markdown",
      "metadata": {
        "id": "6Rcgv0gehOp1"
      },
      "source": [
        "### **Encoding**"
      ]
    },
    {
      "cell_type": "code",
      "metadata": {
        "id": "0VhWgS5vU4vK"
      },
      "source": [
        "categ_columns=['Workclass','Education','Marital_status','Occupation','Ralationship','Race','Sex','Native_country','Income']"
      ],
      "execution_count": 25,
      "outputs": []
    },
    {
      "cell_type": "code",
      "metadata": {
        "id": "om5noTxyU4sO"
      },
      "source": [
        "from sklearn.preprocessing import LabelEncoder\n",
        "for col in df.columns:\n",
        "    if df[col].dtypes == 'object':\n",
        "        encoder = LabelEncoder()\n",
        "        df[col] = encoder.fit_transform(df[col])"
      ],
      "execution_count": 26,
      "outputs": []
    },
    {
      "cell_type": "code",
      "metadata": {
        "colab": {
          "base_uri": "https://localhost:8080/"
        },
        "id": "yEj-8KflU4p5",
        "outputId": "db90eebe-74d8-41ea-f006-7d160d50123e"
      },
      "source": [
        "df.info()"
      ],
      "execution_count": 27,
      "outputs": [
        {
          "output_type": "stream",
          "text": [
            "<class 'pandas.core.frame.DataFrame'>\n",
            "RangeIndex: 32560 entries, 0 to 32559\n",
            "Data columns (total 15 columns):\n",
            " #   Column          Non-Null Count  Dtype\n",
            "---  ------          --------------  -----\n",
            " 0   Age             32560 non-null  int64\n",
            " 1   Workclass       32560 non-null  int64\n",
            " 2   Fnlwgt          32560 non-null  int64\n",
            " 3   Education       32560 non-null  int64\n",
            " 4   Education_num   32560 non-null  int64\n",
            " 5   Marital_status  32560 non-null  int64\n",
            " 6   Occupation      32560 non-null  int64\n",
            " 7   Relationship    32560 non-null  int64\n",
            " 8   Race            32560 non-null  int64\n",
            " 9   Sex             32560 non-null  int64\n",
            " 10  Capital_gain    32560 non-null  int64\n",
            " 11  Capital_loss    32560 non-null  int64\n",
            " 12  Hours_per_week  32560 non-null  int64\n",
            " 13  Native_country  32560 non-null  int64\n",
            " 14  Income          32560 non-null  int64\n",
            "dtypes: int64(15)\n",
            "memory usage: 3.7 MB\n"
          ],
          "name": "stdout"
        }
      ]
    },
    {
      "cell_type": "code",
      "metadata": {
        "colab": {
          "base_uri": "https://localhost:8080/",
          "height": 200
        },
        "id": "bXZ56HRjU4m9",
        "outputId": "cc4e9c68-a1f7-40ed-b810-fee02fef9d9c"
      },
      "source": [
        "df.head()"
      ],
      "execution_count": 28,
      "outputs": [
        {
          "output_type": "execute_result",
          "data": {
            "text/html": [
              "<div>\n",
              "<style scoped>\n",
              "    .dataframe tbody tr th:only-of-type {\n",
              "        vertical-align: middle;\n",
              "    }\n",
              "\n",
              "    .dataframe tbody tr th {\n",
              "        vertical-align: top;\n",
              "    }\n",
              "\n",
              "    .dataframe thead th {\n",
              "        text-align: right;\n",
              "    }\n",
              "</style>\n",
              "<table border=\"1\" class=\"dataframe\">\n",
              "  <thead>\n",
              "    <tr style=\"text-align: right;\">\n",
              "      <th></th>\n",
              "      <th>Age</th>\n",
              "      <th>Workclass</th>\n",
              "      <th>Fnlwgt</th>\n",
              "      <th>Education</th>\n",
              "      <th>Education_num</th>\n",
              "      <th>Marital_status</th>\n",
              "      <th>Occupation</th>\n",
              "      <th>Relationship</th>\n",
              "      <th>Race</th>\n",
              "      <th>Sex</th>\n",
              "      <th>Capital_gain</th>\n",
              "      <th>Capital_loss</th>\n",
              "      <th>Hours_per_week</th>\n",
              "      <th>Native_country</th>\n",
              "      <th>Income</th>\n",
              "    </tr>\n",
              "  </thead>\n",
              "  <tbody>\n",
              "    <tr>\n",
              "      <th>0</th>\n",
              "      <td>50</td>\n",
              "      <td>6</td>\n",
              "      <td>83311</td>\n",
              "      <td>9</td>\n",
              "      <td>13</td>\n",
              "      <td>2</td>\n",
              "      <td>4</td>\n",
              "      <td>0</td>\n",
              "      <td>4</td>\n",
              "      <td>1</td>\n",
              "      <td>0</td>\n",
              "      <td>0</td>\n",
              "      <td>13</td>\n",
              "      <td>39</td>\n",
              "      <td>0</td>\n",
              "    </tr>\n",
              "    <tr>\n",
              "      <th>1</th>\n",
              "      <td>38</td>\n",
              "      <td>4</td>\n",
              "      <td>215646</td>\n",
              "      <td>11</td>\n",
              "      <td>9</td>\n",
              "      <td>0</td>\n",
              "      <td>6</td>\n",
              "      <td>1</td>\n",
              "      <td>4</td>\n",
              "      <td>1</td>\n",
              "      <td>0</td>\n",
              "      <td>0</td>\n",
              "      <td>40</td>\n",
              "      <td>39</td>\n",
              "      <td>0</td>\n",
              "    </tr>\n",
              "    <tr>\n",
              "      <th>2</th>\n",
              "      <td>53</td>\n",
              "      <td>4</td>\n",
              "      <td>234721</td>\n",
              "      <td>1</td>\n",
              "      <td>7</td>\n",
              "      <td>2</td>\n",
              "      <td>6</td>\n",
              "      <td>0</td>\n",
              "      <td>2</td>\n",
              "      <td>1</td>\n",
              "      <td>0</td>\n",
              "      <td>0</td>\n",
              "      <td>40</td>\n",
              "      <td>39</td>\n",
              "      <td>0</td>\n",
              "    </tr>\n",
              "    <tr>\n",
              "      <th>3</th>\n",
              "      <td>28</td>\n",
              "      <td>4</td>\n",
              "      <td>338409</td>\n",
              "      <td>9</td>\n",
              "      <td>13</td>\n",
              "      <td>2</td>\n",
              "      <td>10</td>\n",
              "      <td>5</td>\n",
              "      <td>2</td>\n",
              "      <td>0</td>\n",
              "      <td>0</td>\n",
              "      <td>0</td>\n",
              "      <td>40</td>\n",
              "      <td>5</td>\n",
              "      <td>0</td>\n",
              "    </tr>\n",
              "    <tr>\n",
              "      <th>4</th>\n",
              "      <td>37</td>\n",
              "      <td>4</td>\n",
              "      <td>284582</td>\n",
              "      <td>12</td>\n",
              "      <td>14</td>\n",
              "      <td>2</td>\n",
              "      <td>4</td>\n",
              "      <td>5</td>\n",
              "      <td>4</td>\n",
              "      <td>0</td>\n",
              "      <td>0</td>\n",
              "      <td>0</td>\n",
              "      <td>40</td>\n",
              "      <td>39</td>\n",
              "      <td>0</td>\n",
              "    </tr>\n",
              "  </tbody>\n",
              "</table>\n",
              "</div>"
            ],
            "text/plain": [
              "   Age  Workclass  Fnlwgt  ...  Hours_per_week  Native_country  Income\n",
              "0   50          6   83311  ...              13              39       0\n",
              "1   38          4  215646  ...              40              39       0\n",
              "2   53          4  234721  ...              40              39       0\n",
              "3   28          4  338409  ...              40               5       0\n",
              "4   37          4  284582  ...              40              39       0\n",
              "\n",
              "[5 rows x 15 columns]"
            ]
          },
          "metadata": {
            "tags": []
          },
          "execution_count": 28
        }
      ]
    },
    {
      "cell_type": "code",
      "metadata": {
        "colab": {
          "base_uri": "https://localhost:8080/",
          "height": 606
        },
        "id": "1nx4PjQSYXrb",
        "outputId": "285a2d7d-db95-42c2-a15e-1a1b325dc757"
      },
      "source": [
        "plt.figure(figsize=(25,20))\n",
        "for i in enumerate(df.columns):\n",
        "    plt.subplot(8,4,i[0]+1)\n",
        "    sns.distplot(df[i[1]])"
      ],
      "execution_count": 29,
      "outputs": [
        {
          "output_type": "display_data",
          "data": {
            "image/png": "[encoded data removed]",
            "text/plain": [
              "<Figure size 1800x1440 with 15 Axes>"
            ]
          },
          "metadata": {
            "tags": [],
            "needs_background": "light"
          }
        }
      ]
    },
    {
      "cell_type": "code",
      "metadata": {
        "colab": {
          "base_uri": "https://localhost:8080/",
          "height": 502
        },
        "id": "mBW-90cfYtvz",
        "outputId": "078d963b-69a6-4be5-97ad-87483d662544"
      },
      "source": [
        "df.corr()"
      ],
      "execution_count": 30,
      "outputs": [
        {
          "output_type": "execute_result",
          "data": {
            "text/html": [
              "<div>\n",
              "<style scoped>\n",
              "    .dataframe tbody tr th:only-of-type {\n",
              "        vertical-align: middle;\n",
              "    }\n",
              "\n",
              "    .dataframe tbody tr th {\n",
              "        vertical-align: top;\n",
              "    }\n",
              "\n",
              "    .dataframe thead th {\n",
              "        text-align: right;\n",
              "    }\n",
              "</style>\n",
              "<table border=\"1\" class=\"dataframe\">\n",
              "  <thead>\n",
              "    <tr style=\"text-align: right;\">\n",
              "      <th></th>\n",
              "      <th>Age</th>\n",
              "      <th>Workclass</th>\n",
              "      <th>Fnlwgt</th>\n",
              "      <th>Education</th>\n",
              "      <th>Education_num</th>\n",
              "      <th>Marital_status</th>\n",
              "      <th>Occupation</th>\n",
              "      <th>Relationship</th>\n",
              "      <th>Race</th>\n",
              "      <th>Sex</th>\n",
              "      <th>Capital_gain</th>\n",
              "      <th>Capital_loss</th>\n",
              "      <th>Hours_per_week</th>\n",
              "      <th>Native_country</th>\n",
              "      <th>Income</th>\n",
              "    </tr>\n",
              "  </thead>\n",
              "  <tbody>\n",
              "    <tr>\n",
              "      <th>Age</th>\n",
              "      <td>1.000000</td>\n",
              "      <td>0.003786</td>\n",
              "      <td>-0.076646</td>\n",
              "      <td>-0.010508</td>\n",
              "      <td>0.036527</td>\n",
              "      <td>-0.266292</td>\n",
              "      <td>-0.020946</td>\n",
              "      <td>-0.263698</td>\n",
              "      <td>0.028718</td>\n",
              "      <td>0.088832</td>\n",
              "      <td>0.077674</td>\n",
              "      <td>0.057775</td>\n",
              "      <td>0.068756</td>\n",
              "      <td>-0.001151</td>\n",
              "      <td>0.234039</td>\n",
              "    </tr>\n",
              "    <tr>\n",
              "      <th>Workclass</th>\n",
              "      <td>0.003786</td>\n",
              "      <td>1.000000</td>\n",
              "      <td>-0.016587</td>\n",
              "      <td>0.023537</td>\n",
              "      <td>0.052015</td>\n",
              "      <td>-0.064798</td>\n",
              "      <td>0.255004</td>\n",
              "      <td>-0.090449</td>\n",
              "      <td>0.049720</td>\n",
              "      <td>0.095942</td>\n",
              "      <td>0.033828</td>\n",
              "      <td>0.012231</td>\n",
              "      <td>0.138974</td>\n",
              "      <td>-0.007710</td>\n",
              "      <td>0.051645</td>\n",
              "    </tr>\n",
              "    <tr>\n",
              "      <th>Fnlwgt</th>\n",
              "      <td>-0.076646</td>\n",
              "      <td>-0.016587</td>\n",
              "      <td>1.000000</td>\n",
              "      <td>-0.028156</td>\n",
              "      <td>-0.043159</td>\n",
              "      <td>0.028184</td>\n",
              "      <td>0.001554</td>\n",
              "      <td>0.008922</td>\n",
              "      <td>-0.021278</td>\n",
              "      <td>0.026882</td>\n",
              "      <td>0.000437</td>\n",
              "      <td>-0.010259</td>\n",
              "      <td>-0.018770</td>\n",
              "      <td>-0.051957</td>\n",
              "      <td>-0.009481</td>\n",
              "    </tr>\n",
              "    <tr>\n",
              "      <th>Education</th>\n",
              "      <td>-0.010508</td>\n",
              "      <td>0.023537</td>\n",
              "      <td>-0.028156</td>\n",
              "      <td>1.000000</td>\n",
              "      <td>0.359172</td>\n",
              "      <td>-0.038398</td>\n",
              "      <td>-0.021274</td>\n",
              "      <td>-0.010879</td>\n",
              "      <td>0.014135</td>\n",
              "      <td>-0.027349</td>\n",
              "      <td>0.030047</td>\n",
              "      <td>0.016744</td>\n",
              "      <td>0.055510</td>\n",
              "      <td>0.064291</td>\n",
              "      <td>0.079311</td>\n",
              "    </tr>\n",
              "    <tr>\n",
              "      <th>Education_num</th>\n",
              "      <td>0.036527</td>\n",
              "      <td>0.052015</td>\n",
              "      <td>-0.043159</td>\n",
              "      <td>0.359172</td>\n",
              "      <td>1.000000</td>\n",
              "      <td>-0.069338</td>\n",
              "      <td>0.109748</td>\n",
              "      <td>-0.094145</td>\n",
              "      <td>0.031825</td>\n",
              "      <td>0.012256</td>\n",
              "      <td>0.122627</td>\n",
              "      <td>0.079932</td>\n",
              "      <td>0.148127</td>\n",
              "      <td>0.050831</td>\n",
              "      <td>0.335182</td>\n",
              "    </tr>\n",
              "    <tr>\n",
              "      <th>Marital_status</th>\n",
              "      <td>-0.266292</td>\n",
              "      <td>-0.064798</td>\n",
              "      <td>0.028184</td>\n",
              "      <td>-0.038398</td>\n",
              "      <td>-0.069338</td>\n",
              "      <td>1.000000</td>\n",
              "      <td>-0.009617</td>\n",
              "      <td>0.185461</td>\n",
              "      <td>-0.068025</td>\n",
              "      <td>-0.129337</td>\n",
              "      <td>-0.043398</td>\n",
              "      <td>-0.034182</td>\n",
              "      <td>-0.190521</td>\n",
              "      <td>-0.023827</td>\n",
              "      <td>-0.199295</td>\n",
              "    </tr>\n",
              "    <tr>\n",
              "      <th>Occupation</th>\n",
              "      <td>-0.020946</td>\n",
              "      <td>0.255004</td>\n",
              "      <td>0.001554</td>\n",
              "      <td>-0.021274</td>\n",
              "      <td>0.109748</td>\n",
              "      <td>-0.009617</td>\n",
              "      <td>1.000000</td>\n",
              "      <td>-0.075620</td>\n",
              "      <td>0.006779</td>\n",
              "      <td>0.080328</td>\n",
              "      <td>0.025511</td>\n",
              "      <td>0.017979</td>\n",
              "      <td>0.080384</td>\n",
              "      <td>-0.012532</td>\n",
              "      <td>0.075448</td>\n",
              "    </tr>\n",
              "    <tr>\n",
              "      <th>Relationship</th>\n",
              "      <td>-0.263698</td>\n",
              "      <td>-0.090449</td>\n",
              "      <td>0.008922</td>\n",
              "      <td>-0.010879</td>\n",
              "      <td>-0.094145</td>\n",
              "      <td>0.185461</td>\n",
              "      <td>-0.075620</td>\n",
              "      <td>1.000000</td>\n",
              "      <td>-0.116052</td>\n",
              "      <td>-0.582453</td>\n",
              "      <td>-0.057918</td>\n",
              "      <td>-0.061064</td>\n",
              "      <td>-0.248975</td>\n",
              "      <td>-0.005504</td>\n",
              "      <td>-0.250924</td>\n",
              "    </tr>\n",
              "    <tr>\n",
              "      <th>Race</th>\n",
              "      <td>0.028718</td>\n",
              "      <td>0.049720</td>\n",
              "      <td>-0.021278</td>\n",
              "      <td>0.014135</td>\n",
              "      <td>0.031825</td>\n",
              "      <td>-0.068025</td>\n",
              "      <td>0.006779</td>\n",
              "      <td>-0.116052</td>\n",
              "      <td>1.000000</td>\n",
              "      <td>0.087197</td>\n",
              "      <td>0.011143</td>\n",
              "      <td>0.018902</td>\n",
              "      <td>0.041910</td>\n",
              "      <td>0.137849</td>\n",
              "      <td>0.071853</td>\n",
              "    </tr>\n",
              "    <tr>\n",
              "      <th>Sex</th>\n",
              "      <td>0.088832</td>\n",
              "      <td>0.095942</td>\n",
              "      <td>0.026882</td>\n",
              "      <td>-0.027349</td>\n",
              "      <td>0.012256</td>\n",
              "      <td>-0.129337</td>\n",
              "      <td>0.080328</td>\n",
              "      <td>-0.582453</td>\n",
              "      <td>0.087197</td>\n",
              "      <td>1.000000</td>\n",
              "      <td>0.048477</td>\n",
              "      <td>0.045572</td>\n",
              "      <td>0.229312</td>\n",
              "      <td>-0.008125</td>\n",
              "      <td>0.215995</td>\n",
              "    </tr>\n",
              "    <tr>\n",
              "      <th>Capital_gain</th>\n",
              "      <td>0.077674</td>\n",
              "      <td>0.033828</td>\n",
              "      <td>0.000437</td>\n",
              "      <td>0.030047</td>\n",
              "      <td>0.122627</td>\n",
              "      <td>-0.043398</td>\n",
              "      <td>0.025511</td>\n",
              "      <td>-0.057918</td>\n",
              "      <td>0.011143</td>\n",
              "      <td>0.048477</td>\n",
              "      <td>1.000000</td>\n",
              "      <td>-0.031614</td>\n",
              "      <td>0.078409</td>\n",
              "      <td>-0.001984</td>\n",
              "      <td>0.223333</td>\n",
              "    </tr>\n",
              "    <tr>\n",
              "      <th>Capital_loss</th>\n",
              "      <td>0.057775</td>\n",
              "      <td>0.012231</td>\n",
              "      <td>-0.010259</td>\n",
              "      <td>0.016744</td>\n",
              "      <td>0.079932</td>\n",
              "      <td>-0.034182</td>\n",
              "      <td>0.017979</td>\n",
              "      <td>-0.061064</td>\n",
              "      <td>0.018902</td>\n",
              "      <td>0.045572</td>\n",
              "      <td>-0.031614</td>\n",
              "      <td>1.000000</td>\n",
              "      <td>0.054256</td>\n",
              "      <td>0.000420</td>\n",
              "      <td>0.150523</td>\n",
              "    </tr>\n",
              "    <tr>\n",
              "      <th>Hours_per_week</th>\n",
              "      <td>0.068756</td>\n",
              "      <td>0.138974</td>\n",
              "      <td>-0.018770</td>\n",
              "      <td>0.055510</td>\n",
              "      <td>0.148127</td>\n",
              "      <td>-0.190521</td>\n",
              "      <td>0.080384</td>\n",
              "      <td>-0.248975</td>\n",
              "      <td>0.041910</td>\n",
              "      <td>0.229312</td>\n",
              "      <td>0.078409</td>\n",
              "      <td>0.054256</td>\n",
              "      <td>1.000000</td>\n",
              "      <td>-0.002671</td>\n",
              "      <td>0.229690</td>\n",
              "    </tr>\n",
              "    <tr>\n",
              "      <th>Native_country</th>\n",
              "      <td>-0.001151</td>\n",
              "      <td>-0.007710</td>\n",
              "      <td>-0.051957</td>\n",
              "      <td>0.064291</td>\n",
              "      <td>0.050831</td>\n",
              "      <td>-0.023827</td>\n",
              "      <td>-0.012532</td>\n",
              "      <td>-0.005504</td>\n",
              "      <td>0.137849</td>\n",
              "      <td>-0.008125</td>\n",
              "      <td>-0.001984</td>\n",
              "      <td>0.000420</td>\n",
              "      <td>-0.002671</td>\n",
              "      <td>1.000000</td>\n",
              "      <td>0.015845</td>\n",
              "    </tr>\n",
              "    <tr>\n",
              "      <th>Income</th>\n",
              "      <td>0.234039</td>\n",
              "      <td>0.051645</td>\n",
              "      <td>-0.009481</td>\n",
              "      <td>0.079311</td>\n",
              "      <td>0.335182</td>\n",
              "      <td>-0.199295</td>\n",
              "      <td>0.075448</td>\n",
              "      <td>-0.250924</td>\n",
              "      <td>0.071853</td>\n",
              "      <td>0.215995</td>\n",
              "      <td>0.223333</td>\n",
              "      <td>0.150523</td>\n",
              "      <td>0.229690</td>\n",
              "      <td>0.015845</td>\n",
              "      <td>1.000000</td>\n",
              "    </tr>\n",
              "  </tbody>\n",
              "</table>\n",
              "</div>"
            ],
            "text/plain": [
              "                     Age  Workclass  ...  Native_country    Income\n",
              "Age             1.000000   0.003786  ...       -0.001151  0.234039\n",
              "Workclass       0.003786   1.000000  ...       -0.007710  0.051645\n",
              "Fnlwgt         -0.076646  -0.016587  ...       -0.051957 -0.009481\n",
              "Education      -0.010508   0.023537  ...        0.064291  0.079311\n",
              "Education_num   0.036527   0.052015  ...        0.050831  0.335182\n",
              "Marital_status -0.266292  -0.064798  ...       -0.023827 -0.199295\n",
              "Occupation     -0.020946   0.255004  ...       -0.012532  0.075448\n",
              "Relationship   -0.263698  -0.090449  ...       -0.005504 -0.250924\n",
              "Race            0.028718   0.049720  ...        0.137849  0.071853\n",
              "Sex             0.088832   0.095942  ...       -0.008125  0.215995\n",
              "Capital_gain    0.077674   0.033828  ...       -0.001984  0.223333\n",
              "Capital_loss    0.057775   0.012231  ...        0.000420  0.150523\n",
              "Hours_per_week  0.068756   0.138974  ...       -0.002671  0.229690\n",
              "Native_country -0.001151  -0.007710  ...        1.000000  0.015845\n",
              "Income          0.234039   0.051645  ...        0.015845  1.000000\n",
              "\n",
              "[15 rows x 15 columns]"
            ]
          },
          "metadata": {
            "tags": []
          },
          "execution_count": 30
        }
      ]
    },
    {
      "cell_type": "code",
      "metadata": {
        "colab": {
          "base_uri": "https://localhost:8080/",
          "height": 683
        },
        "id": "pk4Ah7JxYvD9",
        "outputId": "7ff3786c-6128-43ad-f69b-5a8869c11e5a"
      },
      "source": [
        "df_corr=df.corr()\n",
        "plt.figure(figsize=[24,10])\n",
        "sns.heatmap(df_corr)"
      ],
      "execution_count": 31,
      "outputs": [
        {
          "output_type": "execute_result",
          "data": {
            "text/plain": [
              "<matplotlib.axes._subplots.AxesSubplot at 0x7f99acec6d90>"
            ]
          },
          "metadata": {
            "tags": []
          },
          "execution_count": 31
        },
        {
          "output_type": "display_data",
          "data": {
            "image/png": "[encoded data removed]",
            "text/plain": [
              "<Figure size 1728x720 with 2 Axes>"
            ]
          },
          "metadata": {
            "tags": [],
            "needs_background": "light"
          }
        }
      ]
    },
    {
      "cell_type": "markdown",
      "metadata": {
        "id": "VbWvfniqhYx2"
      },
      "source": [
        "### **Skewness removal**"
      ]
    },
    {
      "cell_type": "code",
      "metadata": {
        "colab": {
          "base_uri": "https://localhost:8080/"
        },
        "id": "z8EVvLNwY74o",
        "outputId": "ebf52015-5387-44c4-cb91-6584015cd6c3"
      },
      "source": [
        "df.skew()"
      ],
      "execution_count": 32,
      "outputs": [
        {
          "output_type": "execute_result",
          "data": {
            "text/plain": [
              "Age                0.558738\n",
              "Workclass         -0.752280\n",
              "Fnlwgt             1.446972\n",
              "Education         -0.934063\n",
              "Education_num     -0.311630\n",
              "Marital_status    -0.013448\n",
              "Occupation         0.114540\n",
              "Relationship       0.786784\n",
              "Race              -2.435332\n",
              "Sex               -0.719244\n",
              "Capital_gain      11.953690\n",
              "Capital_loss       4.594549\n",
              "Hours_per_week     0.227636\n",
              "Native_country    -3.658235\n",
              "Income             1.212383\n",
              "dtype: float64"
            ]
          },
          "metadata": {
            "tags": []
          },
          "execution_count": 32
        }
      ]
    },
    {
      "cell_type": "code",
      "metadata": {
        "colab": {
          "base_uri": "https://localhost:8080/"
        },
        "id": "R8lqlYAUZvNp",
        "outputId": "daefceda-c0e2-40cf-91f4-991273918fb4"
      },
      "source": [
        "from scipy import stats\n",
        "import numpy as np\n",
        "print(\"Old Shape: \", df.shape)   \n",
        "z = np.abs(stats.zscore(df))\n",
        "print(z)"
      ],
      "execution_count": 33,
      "outputs": [
        {
          "output_type": "stream",
          "text": [
            "Old Shape:  (32560, 15)\n",
            "[[0.83709708 1.46388339 1.0087417  ... 2.22212013 0.29157343 0.5632099 ]\n",
            " [0.04264043 0.09012148 0.24504633 ... 0.03542999 0.29157343 0.5632099 ]\n",
            " [1.05703146 0.09012148 0.42576955 ... 0.03542999 0.29157343 0.5632099 ]\n",
            " ...\n",
            " [1.42358875 0.09012148 0.3588108  ... 0.03542999 0.29157343 0.5632099 ]\n",
            " [1.21562378 0.09012148 0.11092744 ... 1.65520046 0.29157343 0.5632099 ]\n",
            " [0.98372    0.77700244 0.92986178 ... 0.03542999 0.29157343 1.77553698]]\n"
          ],
          "name": "stdout"
        }
      ]
    },
    {
      "cell_type": "code",
      "metadata": {
        "colab": {
          "base_uri": "https://localhost:8080/"
        },
        "id": "VOdJksMMZyxs",
        "outputId": "cf3df673-406e-454b-9a03-2c6360d810ff"
      },
      "source": [
        "threshold = 3\n",
        "print(np.where(z > 3))"
      ],
      "execution_count": 34,
      "outputs": [
        {
          "output_type": "stream",
          "text": [
            "(array([    3,     9,    10, ..., 32532, 32550, 32552]), array([13, 12,  8, ...,  8,  8,  8]))\n"
          ],
          "name": "stdout"
        }
      ]
    },
    {
      "cell_type": "code",
      "metadata": {
        "id": "FxaN_tpNZ0tq"
      },
      "source": [
        "after_zscore = df[(z < 3).all(axis=1)]"
      ],
      "execution_count": 35,
      "outputs": []
    },
    {
      "cell_type": "code",
      "metadata": {
        "colab": {
          "base_uri": "https://localhost:8080/"
        },
        "id": "687b3RQNZ2nB",
        "outputId": "7e61366e-469a-464d-88f8-816aac4dec1d"
      },
      "source": [
        "after_zscore.shape"
      ],
      "execution_count": 36,
      "outputs": [
        {
          "output_type": "execute_result",
          "data": {
            "text/plain": [
              "(27417, 15)"
            ]
          },
          "metadata": {
            "tags": []
          },
          "execution_count": 36
        }
      ]
    },
    {
      "cell_type": "code",
      "metadata": {
        "colab": {
          "base_uri": "https://localhost:8080/"
        },
        "id": "WsOmNDdrZ3yT",
        "outputId": "93396f6b-f57a-4757-d3f9-378d43aa37b3"
      },
      "source": [
        "df.shape"
      ],
      "execution_count": 37,
      "outputs": [
        {
          "output_type": "execute_result",
          "data": {
            "text/plain": [
              "(32560, 15)"
            ]
          },
          "metadata": {
            "tags": []
          },
          "execution_count": 37
        }
      ]
    },
    {
      "cell_type": "code",
      "metadata": {
        "colab": {
          "base_uri": "https://localhost:8080/"
        },
        "id": "gl58xAUTZ9ja",
        "outputId": "a3f11247-a556-4f5a-9453-6b8c3cf0818b"
      },
      "source": [
        "100-(27770/32560)*100"
      ],
      "execution_count": 38,
      "outputs": [
        {
          "output_type": "execute_result",
          "data": {
            "text/plain": [
              "14.711302211302211"
            ]
          },
          "metadata": {
            "tags": []
          },
          "execution_count": 38
        }
      ]
    },
    {
      "cell_type": "markdown",
      "metadata": {
        "id": "qFA33H0BhdHC"
      },
      "source": [
        "### **Removing outlier using z score is not suggested bcz of 14% data loss**"
      ]
    },
    {
      "cell_type": "code",
      "metadata": {
        "id": "L73BZPRrawk1"
      },
      "source": [
        "df1=df[['Age','Fnlwgt','Capital_gain','Capital_loss']]"
      ],
      "execution_count": 39,
      "outputs": []
    },
    {
      "cell_type": "code",
      "metadata": {
        "colab": {
          "base_uri": "https://localhost:8080/",
          "height": 200
        },
        "id": "YnYheVl0aavw",
        "outputId": "0ac2653a-5233-4b22-bc32-04ff1966d53f"
      },
      "source": [
        "df1 = np.sqrt(df)\n",
        "\n",
        "df1.head(5)"
      ],
      "execution_count": 40,
      "outputs": [
        {
          "output_type": "execute_result",
          "data": {
            "text/html": [
              "<div>\n",
              "<style scoped>\n",
              "    .dataframe tbody tr th:only-of-type {\n",
              "        vertical-align: middle;\n",
              "    }\n",
              "\n",
              "    .dataframe tbody tr th {\n",
              "        vertical-align: top;\n",
              "    }\n",
              "\n",
              "    .dataframe thead th {\n",
              "        text-align: right;\n",
              "    }\n",
              "</style>\n",
              "<table border=\"1\" class=\"dataframe\">\n",
              "  <thead>\n",
              "    <tr style=\"text-align: right;\">\n",
              "      <th></th>\n",
              "      <th>Age</th>\n",
              "      <th>Workclass</th>\n",
              "      <th>Fnlwgt</th>\n",
              "      <th>Education</th>\n",
              "      <th>Education_num</th>\n",
              "      <th>Marital_status</th>\n",
              "      <th>Occupation</th>\n",
              "      <th>Relationship</th>\n",
              "      <th>Race</th>\n",
              "      <th>Sex</th>\n",
              "      <th>Capital_gain</th>\n",
              "      <th>Capital_loss</th>\n",
              "      <th>Hours_per_week</th>\n",
              "      <th>Native_country</th>\n",
              "      <th>Income</th>\n",
              "    </tr>\n",
              "  </thead>\n",
              "  <tbody>\n",
              "    <tr>\n",
              "      <th>0</th>\n",
              "      <td>7.071068</td>\n",
              "      <td>2.44949</td>\n",
              "      <td>288.636450</td>\n",
              "      <td>3.000000</td>\n",
              "      <td>3.605551</td>\n",
              "      <td>1.414214</td>\n",
              "      <td>2.000000</td>\n",
              "      <td>0.000000</td>\n",
              "      <td>2.000000</td>\n",
              "      <td>1.0</td>\n",
              "      <td>0.0</td>\n",
              "      <td>0.0</td>\n",
              "      <td>3.605551</td>\n",
              "      <td>6.244998</td>\n",
              "      <td>0.0</td>\n",
              "    </tr>\n",
              "    <tr>\n",
              "      <th>1</th>\n",
              "      <td>6.164414</td>\n",
              "      <td>2.00000</td>\n",
              "      <td>464.377002</td>\n",
              "      <td>3.316625</td>\n",
              "      <td>3.000000</td>\n",
              "      <td>0.000000</td>\n",
              "      <td>2.449490</td>\n",
              "      <td>1.000000</td>\n",
              "      <td>2.000000</td>\n",
              "      <td>1.0</td>\n",
              "      <td>0.0</td>\n",
              "      <td>0.0</td>\n",
              "      <td>6.324555</td>\n",
              "      <td>6.244998</td>\n",
              "      <td>0.0</td>\n",
              "    </tr>\n",
              "    <tr>\n",
              "      <th>2</th>\n",
              "      <td>7.280110</td>\n",
              "      <td>2.00000</td>\n",
              "      <td>484.480134</td>\n",
              "      <td>1.000000</td>\n",
              "      <td>2.645751</td>\n",
              "      <td>1.414214</td>\n",
              "      <td>2.449490</td>\n",
              "      <td>0.000000</td>\n",
              "      <td>1.414214</td>\n",
              "      <td>1.0</td>\n",
              "      <td>0.0</td>\n",
              "      <td>0.0</td>\n",
              "      <td>6.324555</td>\n",
              "      <td>6.244998</td>\n",
              "      <td>0.0</td>\n",
              "    </tr>\n",
              "    <tr>\n",
              "      <th>3</th>\n",
              "      <td>5.291503</td>\n",
              "      <td>2.00000</td>\n",
              "      <td>581.729318</td>\n",
              "      <td>3.000000</td>\n",
              "      <td>3.605551</td>\n",
              "      <td>1.414214</td>\n",
              "      <td>3.162278</td>\n",
              "      <td>2.236068</td>\n",
              "      <td>1.414214</td>\n",
              "      <td>0.0</td>\n",
              "      <td>0.0</td>\n",
              "      <td>0.0</td>\n",
              "      <td>6.324555</td>\n",
              "      <td>2.236068</td>\n",
              "      <td>0.0</td>\n",
              "    </tr>\n",
              "    <tr>\n",
              "      <th>4</th>\n",
              "      <td>6.082763</td>\n",
              "      <td>2.00000</td>\n",
              "      <td>533.462276</td>\n",
              "      <td>3.464102</td>\n",
              "      <td>3.741657</td>\n",
              "      <td>1.414214</td>\n",
              "      <td>2.000000</td>\n",
              "      <td>2.236068</td>\n",
              "      <td>2.000000</td>\n",
              "      <td>0.0</td>\n",
              "      <td>0.0</td>\n",
              "      <td>0.0</td>\n",
              "      <td>6.324555</td>\n",
              "      <td>6.244998</td>\n",
              "      <td>0.0</td>\n",
              "    </tr>\n",
              "  </tbody>\n",
              "</table>\n",
              "</div>"
            ],
            "text/plain": [
              "        Age  Workclass      Fnlwgt  ...  Hours_per_week  Native_country  Income\n",
              "0  7.071068    2.44949  288.636450  ...        3.605551        6.244998     0.0\n",
              "1  6.164414    2.00000  464.377002  ...        6.324555        6.244998     0.0\n",
              "2  7.280110    2.00000  484.480134  ...        6.324555        6.244998     0.0\n",
              "3  5.291503    2.00000  581.729318  ...        6.324555        2.236068     0.0\n",
              "4  6.082763    2.00000  533.462276  ...        6.324555        6.244998     0.0\n",
              "\n",
              "[5 rows x 15 columns]"
            ]
          },
          "metadata": {
            "tags": []
          },
          "execution_count": 40
        }
      ]
    },
    {
      "cell_type": "code",
      "metadata": {
        "colab": {
          "base_uri": "https://localhost:8080/"
        },
        "id": "31WYla1WpZzf",
        "outputId": "855338ed-d881-47cc-ea66-085c4190bbaa"
      },
      "source": [
        "df1.skew()"
      ],
      "execution_count": 41,
      "outputs": [
        {
          "output_type": "execute_result",
          "data": {
            "text/plain": [
              "Age               0.204335\n",
              "Workclass        -2.283787\n",
              "Fnlwgt            0.189066\n",
              "Education        -2.062119\n",
              "Education_num    -1.023535\n",
              "Marital_status   -1.203232\n",
              "Occupation       -0.643240\n",
              "Relationship      0.150789\n",
              "Race             -3.472696\n",
              "Sex              -0.719244\n",
              "Capital_gain      5.894949\n",
              "Capital_loss      4.376279\n",
              "Hours_per_week   -0.984894\n",
              "Native_country   -4.428747\n",
              "Income            1.212383\n",
              "dtype: float64"
            ]
          },
          "metadata": {
            "tags": []
          },
          "execution_count": 41
        }
      ]
    },
    {
      "cell_type": "code",
      "metadata": {
        "id": "g70hAuI9sfDW"
      },
      "source": [
        "df=df1"
      ],
      "execution_count": 42,
      "outputs": []
    },
    {
      "cell_type": "code",
      "metadata": {
        "colab": {
          "base_uri": "https://localhost:8080/"
        },
        "id": "bBmb7iNTY7zd",
        "outputId": "18fb708c-ce43-42c5-ad63-c4fadb425c72"
      },
      "source": [
        "from scipy import stats \n",
        "IQR = stats.iqr(df) \n",
        "IQR"
      ],
      "execution_count": 43,
      "outputs": [
        {
          "output_type": "execute_result",
          "data": {
            "text/plain": [
              "4.0990195135927845"
            ]
          },
          "metadata": {
            "tags": []
          },
          "execution_count": 43
        }
      ]
    },
    {
      "cell_type": "code",
      "metadata": {
        "colab": {
          "base_uri": "https://localhost:8080/"
        },
        "id": "M8fx405Fr1i-",
        "outputId": "efbc761b-c04a-42f4-f8c7-9c46f0b57caa"
      },
      "source": [
        "Q1 = df.quantile(0.25)\n",
        "Q3 = df.quantile(0.75)\n",
        "df_out = df[~((df < (Q1 - 1.5 * IQR)) |(df > (Q3 + 1.5 * IQR))).any(axis=1)]\n",
        "print(df_out.shape)"
      ],
      "execution_count": 44,
      "outputs": [
        {
          "output_type": "stream",
          "text": [
            "(14772, 15)\n"
          ],
          "name": "stdout"
        }
      ]
    },
    {
      "cell_type": "markdown",
      "metadata": {
        "id": "6TbnOkfAsMY3"
      },
      "source": [
        "### Removing data using interquartile methord is also not recomended because of high loss of data."
      ]
    },
    {
      "cell_type": "markdown",
      "metadata": {
        "id": "ihF6RT7-hzHQ"
      },
      "source": [
        "## **5.Feature Engineering**"
      ]
    },
    {
      "cell_type": "code",
      "metadata": {
        "id": "FrhLoBYssam3"
      },
      "source": [
        "y = df['Income']\n",
        "x = df.drop('Income', axis = 1)"
      ],
      "execution_count": 45,
      "outputs": []
    },
    {
      "cell_type": "code",
      "metadata": {
        "id": "uVSz75jWss_M"
      },
      "source": [
        "from sklearn.model_selection import train_test_split\n",
        "from sklearn.linear_model import LogisticRegression\n",
        "from sklearn.metrics import classification_report"
      ],
      "execution_count": 46,
      "outputs": []
    },
    {
      "cell_type": "code",
      "metadata": {
        "id": "RGLtzfi0syu6"
      },
      "source": [
        "x_train, x_test, y_train, y_test = train_test_split(x,y,test_size=0.2,random_state=47)"
      ],
      "execution_count": 47,
      "outputs": []
    },
    {
      "cell_type": "markdown",
      "metadata": {
        "id": "MQlPaGImh52I"
      },
      "source": [
        "### **Treating data imbalence**"
      ]
    },
    {
      "cell_type": "code",
      "metadata": {
        "colab": {
          "base_uri": "https://localhost:8080/"
        },
        "id": "xidymiGxuSbH",
        "outputId": "d63b45b4-5ad4-42d1-fa36-27a3162d3d32"
      },
      "source": [
        "print(df['Income'].value_counts())"
      ],
      "execution_count": 48,
      "outputs": [
        {
          "output_type": "stream",
          "text": [
            "0.0    24719\n",
            "1.0     7841\n",
            "Name: Income, dtype: int64\n"
          ],
          "name": "stdout"
        }
      ]
    },
    {
      "cell_type": "code",
      "metadata": {
        "colab": {
          "base_uri": "https://localhost:8080/"
        },
        "id": "eCjq_UdduFPs",
        "outputId": "21872085-c6f7-4d09-96ad-87c470488ad0"
      },
      "source": [
        "from sklearn.utils import resample\n",
        "X=pd.concat([x_train,y_train],axis=1)\n",
        "label0=X[X.Income==0]\n",
        "label1=X[X.Income==1]\n",
        "label_unsampled=resample(label1,replace=True,n_samples=len(label0),random_state=27)\n",
        "unsampled=pd.concat([label0,label_unsampled])\n",
        "unsampled.Income.value_counts()"
      ],
      "execution_count": 49,
      "outputs": [
        {
          "output_type": "execute_result",
          "data": {
            "text/plain": [
              "1.0    19761\n",
              "0.0    19761\n",
              "Name: Income, dtype: int64"
            ]
          },
          "metadata": {
            "tags": []
          },
          "execution_count": 49
        }
      ]
    },
    {
      "cell_type": "code",
      "metadata": {
        "id": "8MtXDMdOuJ4Q"
      },
      "source": [
        "x_train= unsampled.drop(columns='Income')\n",
        "y_train= unsampled['Income']"
      ],
      "execution_count": 50,
      "outputs": []
    },
    {
      "cell_type": "code",
      "metadata": {
        "colab": {
          "base_uri": "https://localhost:8080/"
        },
        "id": "Oj5eJeMcuufl",
        "outputId": "21a55c55-dbdc-4a0b-cabb-8cdd44248e0b"
      },
      "source": [
        "x_train.isnull().sum()"
      ],
      "execution_count": 51,
      "outputs": [
        {
          "output_type": "execute_result",
          "data": {
            "text/plain": [
              "Age               0\n",
              "Workclass         0\n",
              "Fnlwgt            0\n",
              "Education         0\n",
              "Education_num     0\n",
              "Marital_status    0\n",
              "Occupation        0\n",
              "Relationship      0\n",
              "Race              0\n",
              "Sex               0\n",
              "Capital_gain      0\n",
              "Capital_loss      0\n",
              "Hours_per_week    0\n",
              "Native_country    0\n",
              "dtype: int64"
            ]
          },
          "metadata": {
            "tags": []
          },
          "execution_count": 51
        }
      ]
    },
    {
      "cell_type": "markdown",
      "metadata": {
        "id": "5qGnccMYh8gU"
      },
      "source": [
        "### **Scaling**"
      ]
    },
    {
      "cell_type": "code",
      "metadata": {
        "id": "OBbZo_iEs2Jm"
      },
      "source": [
        "# data normalization with sklearn\n",
        "from sklearn.preprocessing import MinMaxScaler\n",
        "\n",
        "# fit scaler on training data\n",
        "norm = MinMaxScaler().fit(x_train)\n",
        "\n",
        "# transform training data\n",
        "x_train_norm = norm.transform(x_train)\n",
        "\n",
        "# transform testing dataabs\n",
        "x_test_norm = norm.transform(x_test)"
      ],
      "execution_count": 52,
      "outputs": []
    },
    {
      "cell_type": "code",
      "metadata": {
        "id": "-N1ZRiKOs4F1"
      },
      "source": [
        "x_test=pd.DataFrame(x_test_norm)\n",
        "x_train=pd.DataFrame(x_train_norm)"
      ],
      "execution_count": 53,
      "outputs": []
    },
    {
      "cell_type": "code",
      "metadata": {
        "colab": {
          "base_uri": "https://localhost:8080/",
          "height": 290
        },
        "id": "D4GC6fZrs5jg",
        "outputId": "a74f3389-4f5d-40fd-a21c-55016380cd75"
      },
      "source": [
        "x_train.describe()"
      ],
      "execution_count": 54,
      "outputs": [
        {
          "output_type": "execute_result",
          "data": {
            "text/html": [
              "<div>\n",
              "<style scoped>\n",
              "    .dataframe tbody tr th:only-of-type {\n",
              "        vertical-align: middle;\n",
              "    }\n",
              "\n",
              "    .dataframe tbody tr th {\n",
              "        vertical-align: top;\n",
              "    }\n",
              "\n",
              "    .dataframe thead th {\n",
              "        text-align: right;\n",
              "    }\n",
              "</style>\n",
              "<table border=\"1\" class=\"dataframe\">\n",
              "  <thead>\n",
              "    <tr style=\"text-align: right;\">\n",
              "      <th></th>\n",
              "      <th>0</th>\n",
              "      <th>1</th>\n",
              "      <th>2</th>\n",
              "      <th>3</th>\n",
              "      <th>4</th>\n",
              "      <th>5</th>\n",
              "      <th>6</th>\n",
              "      <th>7</th>\n",
              "      <th>8</th>\n",
              "      <th>9</th>\n",
              "      <th>10</th>\n",
              "      <th>11</th>\n",
              "      <th>12</th>\n",
              "      <th>13</th>\n",
              "    </tr>\n",
              "  </thead>\n",
              "  <tbody>\n",
              "    <tr>\n",
              "      <th>count</th>\n",
              "      <td>39522.000000</td>\n",
              "      <td>39522.000000</td>\n",
              "      <td>39522.000000</td>\n",
              "      <td>39522.000000</td>\n",
              "      <td>39522.000000</td>\n",
              "      <td>39522.000000</td>\n",
              "      <td>39522.000000</td>\n",
              "      <td>39522.000000</td>\n",
              "      <td>39522.000000</td>\n",
              "      <td>39522.000000</td>\n",
              "      <td>39522.000000</td>\n",
              "      <td>39522.000000</td>\n",
              "      <td>39522.000000</td>\n",
              "      <td>39522.000000</td>\n",
              "    </tr>\n",
              "    <tr>\n",
              "      <th>mean</th>\n",
              "      <td>0.402401</td>\n",
              "      <td>0.675685</td>\n",
              "      <td>0.308652</td>\n",
              "      <td>0.813131</td>\n",
              "      <td>0.742649</td>\n",
              "      <td>0.589786</td>\n",
              "      <td>0.646432</td>\n",
              "      <td>0.322786</td>\n",
              "      <td>0.951873</td>\n",
              "      <td>0.730935</td>\n",
              "      <td>0.043148</td>\n",
              "      <td>0.042951</td>\n",
              "      <td>0.604761</td>\n",
              "      <td>0.931941</td>\n",
              "    </tr>\n",
              "    <tr>\n",
              "      <th>std</th>\n",
              "      <td>0.190872</td>\n",
              "      <td>0.182901</td>\n",
              "      <td>0.117988</td>\n",
              "      <td>0.192942</td>\n",
              "      <td>0.143390</td>\n",
              "      <td>0.239436</td>\n",
              "      <td>0.256683</td>\n",
              "      <td>0.370285</td>\n",
              "      <td>0.142750</td>\n",
              "      <td>0.443480</td>\n",
              "      <td>0.135109</td>\n",
              "      <td>0.163784</td>\n",
              "      <td>0.112781</td>\n",
              "      <td>0.167175</td>\n",
              "    </tr>\n",
              "    <tr>\n",
              "      <th>min</th>\n",
              "      <td>0.000000</td>\n",
              "      <td>0.000000</td>\n",
              "      <td>0.000000</td>\n",
              "      <td>0.000000</td>\n",
              "      <td>0.000000</td>\n",
              "      <td>0.000000</td>\n",
              "      <td>0.000000</td>\n",
              "      <td>0.000000</td>\n",
              "      <td>0.000000</td>\n",
              "      <td>0.000000</td>\n",
              "      <td>0.000000</td>\n",
              "      <td>0.000000</td>\n",
              "      <td>0.000000</td>\n",
              "      <td>0.000000</td>\n",
              "    </tr>\n",
              "    <tr>\n",
              "      <th>25%</th>\n",
              "      <td>0.269339</td>\n",
              "      <td>0.707107</td>\n",
              "      <td>0.234453</td>\n",
              "      <td>0.774597</td>\n",
              "      <td>0.666667</td>\n",
              "      <td>0.577350</td>\n",
              "      <td>0.462910</td>\n",
              "      <td>0.000000</td>\n",
              "      <td>1.000000</td>\n",
              "      <td>0.000000</td>\n",
              "      <td>0.000000</td>\n",
              "      <td>0.000000</td>\n",
              "      <td>0.594931</td>\n",
              "      <td>0.975305</td>\n",
              "    </tr>\n",
              "    <tr>\n",
              "      <th>50%</th>\n",
              "      <td>0.410433</td>\n",
              "      <td>0.707107</td>\n",
              "      <td>0.311892</td>\n",
              "      <td>0.856349</td>\n",
              "      <td>0.720759</td>\n",
              "      <td>0.577350</td>\n",
              "      <td>0.707107</td>\n",
              "      <td>0.000000</td>\n",
              "      <td>1.000000</td>\n",
              "      <td>1.000000</td>\n",
              "      <td>0.000000</td>\n",
              "      <td>0.000000</td>\n",
              "      <td>0.594931</td>\n",
              "      <td>0.975305</td>\n",
              "    </tr>\n",
              "    <tr>\n",
              "      <th>75%</th>\n",
              "      <td>0.536361</td>\n",
              "      <td>0.707107</td>\n",
              "      <td>0.374866</td>\n",
              "      <td>0.894427</td>\n",
              "      <td>0.868517</td>\n",
              "      <td>0.816497</td>\n",
              "      <td>0.845154</td>\n",
              "      <td>0.632456</td>\n",
              "      <td>1.000000</td>\n",
              "      <td>1.000000</td>\n",
              "      <td>0.000000</td>\n",
              "      <td>0.000000</td>\n",
              "      <td>0.670400</td>\n",
              "      <td>0.975305</td>\n",
              "    </tr>\n",
              "    <tr>\n",
              "      <th>max</th>\n",
              "      <td>1.000000</td>\n",
              "      <td>1.000000</td>\n",
              "      <td>1.000000</td>\n",
              "      <td>1.000000</td>\n",
              "      <td>1.000000</td>\n",
              "      <td>1.000000</td>\n",
              "      <td>1.000000</td>\n",
              "      <td>1.000000</td>\n",
              "      <td>1.000000</td>\n",
              "      <td>1.000000</td>\n",
              "      <td>1.000000</td>\n",
              "      <td>1.000000</td>\n",
              "      <td>1.000000</td>\n",
              "      <td>1.000000</td>\n",
              "    </tr>\n",
              "  </tbody>\n",
              "</table>\n",
              "</div>"
            ],
            "text/plain": [
              "                 0             1   ...            12            13\n",
              "count  39522.000000  39522.000000  ...  39522.000000  39522.000000\n",
              "mean       0.402401      0.675685  ...      0.604761      0.931941\n",
              "std        0.190872      0.182901  ...      0.112781      0.167175\n",
              "min        0.000000      0.000000  ...      0.000000      0.000000\n",
              "25%        0.269339      0.707107  ...      0.594931      0.975305\n",
              "50%        0.410433      0.707107  ...      0.594931      0.975305\n",
              "75%        0.536361      0.707107  ...      0.670400      0.975305\n",
              "max        1.000000      1.000000  ...      1.000000      1.000000\n",
              "\n",
              "[8 rows x 14 columns]"
            ]
          },
          "metadata": {
            "tags": []
          },
          "execution_count": 54
        }
      ]
    },
    {
      "cell_type": "code",
      "metadata": {
        "id": "4wHs7B9As8IE"
      },
      "source": [
        "from sklearn.model_selection import train_test_split\n",
        "from sklearn.metrics import classification_report, confusion_matrix\n",
        "from sklearn.ensemble import RandomForestClassifier\n",
        "from sklearn.metrics import accuracy_score,confusion_matrix,classification_report"
      ],
      "execution_count": 55,
      "outputs": []
    },
    {
      "cell_type": "markdown",
      "metadata": {
        "id": "NyM5q1VfiDcz"
      },
      "source": [
        "## **6.Model construction**"
      ]
    },
    {
      "cell_type": "markdown",
      "metadata": {
        "id": "kP5OOsYpiGec"
      },
      "source": [
        "**RandomForestClassifier**"
      ]
    },
    {
      "cell_type": "code",
      "metadata": {
        "colab": {
          "base_uri": "https://localhost:8080/"
        },
        "id": "T12I3Iz0s-J9",
        "outputId": "c5612e0b-27cc-48ab-814a-d1b834205130"
      },
      "source": [
        "clf= RandomForestClassifier().fit(x_train, y_train)\n",
        "predRFC= clf.predict(x_test)\n",
        "randomforest_accu=accuracy_score(y_test,predRFC)\n",
        "randomforest_accu\n",
        "#print(confusion_matrix(y_test, predRFC))\n",
        "print(classification_report(y_test, predRFC))\n",
        "print(randomforest_accu)"
      ],
      "execution_count": 93,
      "outputs": [
        {
          "output_type": "stream",
          "text": [
            "              precision    recall  f1-score   support\n",
            "\n",
            "         0.0       0.90      0.91      0.90      4958\n",
            "         1.0       0.69      0.68      0.69      1554\n",
            "\n",
            "    accuracy                           0.85      6512\n",
            "   macro avg       0.80      0.79      0.80      6512\n",
            "weighted avg       0.85      0.85      0.85      6512\n",
            "\n",
            "0.8524262899262899\n"
          ],
          "name": "stdout"
        }
      ]
    },
    {
      "cell_type": "code",
      "metadata": {
        "colab": {
          "base_uri": "https://localhost:8080/"
        },
        "id": "3vwO8T-HtGVy",
        "outputId": "0d46378f-4e7b-4d97-ac23-dea3f72b080b"
      },
      "source": [
        "from sklearn.model_selection import cross_val_score\n",
        "randomforest_cv= cross_val_score(clf,x_train,y_train,scoring='accuracy', cv =3).mean()\n",
        "randomforest_cv"
      ],
      "execution_count": 108,
      "outputs": [
        {
          "output_type": "execute_result",
          "data": {
            "text/plain": [
              "0.924750771722079"
            ]
          },
          "metadata": {
            "tags": []
          },
          "execution_count": 108
        }
      ]
    },
    {
      "cell_type": "markdown",
      "metadata": {
        "id": "b19-BrlgiJwj"
      },
      "source": [
        "**SVC**"
      ]
    },
    {
      "cell_type": "code",
      "metadata": {
        "colab": {
          "base_uri": "https://localhost:8080/"
        },
        "id": "joUqalvgtJIb",
        "outputId": "87b621bc-319b-4ebe-afb7-211815063e29"
      },
      "source": [
        "from sklearn.svm import SVC\n",
        "from sklearn.model_selection import cross_val_score\n",
        "from sklearn import svm\n",
        "from sklearn.svm import LinearSVC\n",
        "svc=SVC()\n",
        "svc.fit(x_train,y_train)\n",
        "svc.score(x_train,y_train)\n",
        "predsvc=svc.predict(x_test)\n",
        "svc_acc=accuracy_score(y_test,predsvc)\n",
        "print(svc_acc)\n",
        "print(confusion_matrix(y_test,predsvc))\n",
        "print(classification_report(y_test,predsvc))"
      ],
      "execution_count": 95,
      "outputs": [
        {
          "output_type": "stream",
          "text": [
            "0.7919226044226044\n",
            "[[3776 1182]\n",
            " [ 173 1381]]\n",
            "              precision    recall  f1-score   support\n",
            "\n",
            "         0.0       0.96      0.76      0.85      4958\n",
            "         1.0       0.54      0.89      0.67      1554\n",
            "\n",
            "    accuracy                           0.79      6512\n",
            "   macro avg       0.75      0.83      0.76      6512\n",
            "weighted avg       0.86      0.79      0.81      6512\n",
            "\n"
          ],
          "name": "stdout"
        }
      ]
    },
    {
      "cell_type": "code",
      "metadata": {
        "colab": {
          "base_uri": "https://localhost:8080/"
        },
        "id": "coP3TaxwtNYQ",
        "outputId": "816723fa-4f62-4137-8758-60ad257b8f34"
      },
      "source": [
        "svc_cv=cross_val_score(svc,x,y,scoring='accuracy', cv = 5).mean()\n",
        "svc_cv"
      ],
      "execution_count": 96,
      "outputs": [
        {
          "output_type": "execute_result",
          "data": {
            "text/plain": [
              "0.7930896805896805"
            ]
          },
          "metadata": {
            "tags": []
          },
          "execution_count": 96
        }
      ]
    },
    {
      "cell_type": "markdown",
      "metadata": {
        "id": "FX-RoGToiL5k"
      },
      "source": [
        "**DecisionTreeClassifier**"
      ]
    },
    {
      "cell_type": "code",
      "metadata": {
        "colab": {
          "base_uri": "https://localhost:8080/",
          "height": 216
        },
        "id": "M_gNlNDAtmeC",
        "outputId": "eea12710-715a-417d-96ed-edaab94842a1"
      },
      "source": [
        "from sklearn.tree import DecisionTreeClassifier\n",
        "DTC = DecisionTreeClassifier()\n",
        "\n",
        "DTC.fit(x_train,y_train)\n",
        "\n",
        "predDTC = DTC.predict(x_test)\n",
        "\n",
        "reportDTC = classification_report(y_test,predDTC, output_dict = True)\n",
        "\n",
        "crDTC = pd.DataFrame(reportDTC).transpose()\n",
        "dtc_acc=accuracy_score(y_test,predDTC)\n",
        "print(dtc_acc)\n",
        "crDTC"
      ],
      "execution_count": 97,
      "outputs": [
        {
          "output_type": "stream",
          "text": [
            "0.8184889434889435\n"
          ],
          "name": "stdout"
        },
        {
          "output_type": "execute_result",
          "data": {
            "text/html": [
              "<div>\n",
              "<style scoped>\n",
              "    .dataframe tbody tr th:only-of-type {\n",
              "        vertical-align: middle;\n",
              "    }\n",
              "\n",
              "    .dataframe tbody tr th {\n",
              "        vertical-align: top;\n",
              "    }\n",
              "\n",
              "    .dataframe thead th {\n",
              "        text-align: right;\n",
              "    }\n",
              "</style>\n",
              "<table border=\"1\" class=\"dataframe\">\n",
              "  <thead>\n",
              "    <tr style=\"text-align: right;\">\n",
              "      <th></th>\n",
              "      <th>precision</th>\n",
              "      <th>recall</th>\n",
              "      <th>f1-score</th>\n",
              "      <th>support</th>\n",
              "    </tr>\n",
              "  </thead>\n",
              "  <tbody>\n",
              "    <tr>\n",
              "      <th>0.0</th>\n",
              "      <td>0.877298</td>\n",
              "      <td>0.885438</td>\n",
              "      <td>0.881349</td>\n",
              "      <td>4958.000000</td>\n",
              "    </tr>\n",
              "    <tr>\n",
              "      <th>1.0</th>\n",
              "      <td>0.623342</td>\n",
              "      <td>0.604891</td>\n",
              "      <td>0.613978</td>\n",
              "      <td>1554.000000</td>\n",
              "    </tr>\n",
              "    <tr>\n",
              "      <th>accuracy</th>\n",
              "      <td>0.818489</td>\n",
              "      <td>0.818489</td>\n",
              "      <td>0.818489</td>\n",
              "      <td>0.818489</td>\n",
              "    </tr>\n",
              "    <tr>\n",
              "      <th>macro avg</th>\n",
              "      <td>0.750320</td>\n",
              "      <td>0.745164</td>\n",
              "      <td>0.747663</td>\n",
              "      <td>6512.000000</td>\n",
              "    </tr>\n",
              "    <tr>\n",
              "      <th>weighted avg</th>\n",
              "      <td>0.816695</td>\n",
              "      <td>0.818489</td>\n",
              "      <td>0.817545</td>\n",
              "      <td>6512.000000</td>\n",
              "    </tr>\n",
              "  </tbody>\n",
              "</table>\n",
              "</div>"
            ],
            "text/plain": [
              "              precision    recall  f1-score      support\n",
              "0.0            0.877298  0.885438  0.881349  4958.000000\n",
              "1.0            0.623342  0.604891  0.613978  1554.000000\n",
              "accuracy       0.818489  0.818489  0.818489     0.818489\n",
              "macro avg      0.750320  0.745164  0.747663  6512.000000\n",
              "weighted avg   0.816695  0.818489  0.817545  6512.000000"
            ]
          },
          "metadata": {
            "tags": []
          },
          "execution_count": 97
        }
      ]
    },
    {
      "cell_type": "code",
      "metadata": {
        "colab": {
          "base_uri": "https://localhost:8080/"
        },
        "id": "XRUtXok5t2z1",
        "outputId": "e498f9d0-340f-4d40-a772-4a6cc0cdf896"
      },
      "source": [
        "from sklearn.model_selection import cross_val_score\n",
        "dtc_cv=cross_val_score(DTC,x,y,scoring='accuracy', cv = 10).mean()\n",
        "dtc_cv"
      ],
      "execution_count": 98,
      "outputs": [
        {
          "output_type": "execute_result",
          "data": {
            "text/plain": [
              "0.8121007371007372"
            ]
          },
          "metadata": {
            "tags": []
          },
          "execution_count": 98
        }
      ]
    },
    {
      "cell_type": "markdown",
      "metadata": {
        "id": "_RjCHnXFiOC1"
      },
      "source": [
        "**GaussianNB**"
      ]
    },
    {
      "cell_type": "code",
      "metadata": {
        "colab": {
          "base_uri": "https://localhost:8080/",
          "height": 216
        },
        "id": "P9SHqXyzwhgQ",
        "outputId": "3b6ba638-a453-4ec4-9500-edc29b919042"
      },
      "source": [
        "from sklearn.naive_bayes import GaussianNB\n",
        "GNB = GaussianNB()\n",
        "\n",
        "GNB.fit(x_train,y_train)\n",
        "\n",
        "predGNB = GNB.predict(x_test)\n",
        "\n",
        "reportGNB = classification_report(y_test, predGNB, output_dict = True)\n",
        "  \n",
        "crGNB = pd.DataFrame(reportGNB).transpose()\n",
        "gnb_acc=accuracy_score(y_test,predGNB)\n",
        "print(gnb_acc)\n",
        "crGNB"
      ],
      "execution_count": 99,
      "outputs": [
        {
          "output_type": "stream",
          "text": [
            "0.7933046683046683\n"
          ],
          "name": "stdout"
        },
        {
          "output_type": "execute_result",
          "data": {
            "text/html": [
              "<div>\n",
              "<style scoped>\n",
              "    .dataframe tbody tr th:only-of-type {\n",
              "        vertical-align: middle;\n",
              "    }\n",
              "\n",
              "    .dataframe tbody tr th {\n",
              "        vertical-align: top;\n",
              "    }\n",
              "\n",
              "    .dataframe thead th {\n",
              "        text-align: right;\n",
              "    }\n",
              "</style>\n",
              "<table border=\"1\" class=\"dataframe\">\n",
              "  <thead>\n",
              "    <tr style=\"text-align: right;\">\n",
              "      <th></th>\n",
              "      <th>precision</th>\n",
              "      <th>recall</th>\n",
              "      <th>f1-score</th>\n",
              "      <th>support</th>\n",
              "    </tr>\n",
              "  </thead>\n",
              "  <tbody>\n",
              "    <tr>\n",
              "      <th>0.0</th>\n",
              "      <td>0.919805</td>\n",
              "      <td>0.798104</td>\n",
              "      <td>0.854644</td>\n",
              "      <td>4958.000000</td>\n",
              "    </tr>\n",
              "    <tr>\n",
              "      <th>1.0</th>\n",
              "      <td>0.547059</td>\n",
              "      <td>0.777992</td>\n",
              "      <td>0.642402</td>\n",
              "      <td>1554.000000</td>\n",
              "    </tr>\n",
              "    <tr>\n",
              "      <th>accuracy</th>\n",
              "      <td>0.793305</td>\n",
              "      <td>0.793305</td>\n",
              "      <td>0.793305</td>\n",
              "      <td>0.793305</td>\n",
              "    </tr>\n",
              "    <tr>\n",
              "      <th>macro avg</th>\n",
              "      <td>0.733432</td>\n",
              "      <td>0.788048</td>\n",
              "      <td>0.748523</td>\n",
              "      <td>6512.000000</td>\n",
              "    </tr>\n",
              "    <tr>\n",
              "      <th>weighted avg</th>\n",
              "      <td>0.830854</td>\n",
              "      <td>0.793305</td>\n",
              "      <td>0.803995</td>\n",
              "      <td>6512.000000</td>\n",
              "    </tr>\n",
              "  </tbody>\n",
              "</table>\n",
              "</div>"
            ],
            "text/plain": [
              "              precision    recall  f1-score      support\n",
              "0.0            0.919805  0.798104  0.854644  4958.000000\n",
              "1.0            0.547059  0.777992  0.642402  1554.000000\n",
              "accuracy       0.793305  0.793305  0.793305     0.793305\n",
              "macro avg      0.733432  0.788048  0.748523  6512.000000\n",
              "weighted avg   0.830854  0.793305  0.803995  6512.000000"
            ]
          },
          "metadata": {
            "tags": []
          },
          "execution_count": 99
        }
      ]
    },
    {
      "cell_type": "code",
      "metadata": {
        "colab": {
          "base_uri": "https://localhost:8080/"
        },
        "id": "90a1Sa81wj0e",
        "outputId": "796daf05-9872-4e6b-8399-43a6424e6ae0"
      },
      "source": [
        "gnb_cv=cross_val_score(GNB,x,y,scoring='accuracy', cv = 10).mean()\n",
        "gnb_cv"
      ],
      "execution_count": 100,
      "outputs": [
        {
          "output_type": "execute_result",
          "data": {
            "text/plain": [
              "0.814066339066339"
            ]
          },
          "metadata": {
            "tags": []
          },
          "execution_count": 100
        }
      ]
    },
    {
      "cell_type": "markdown",
      "metadata": {
        "id": "X4ipL_1fiQB1"
      },
      "source": [
        "**KNeighborsClassifier**"
      ]
    },
    {
      "cell_type": "code",
      "metadata": {
        "colab": {
          "base_uri": "https://localhost:8080/",
          "height": 216
        },
        "id": "mltU4lYawmc_",
        "outputId": "4759b511-e77d-4b91-ba71-05ec0b9101b0"
      },
      "source": [
        "from sklearn.neighbors import KNeighborsClassifier\n",
        "KNN = KNeighborsClassifier()\n",
        "\n",
        "KNN.fit(x_train,y_train)\n",
        "\n",
        "predKNN = KNN.predict(x_test)\n",
        "\n",
        "reportKNN = classification_report(y_test,predKNN, output_dict = True)\n",
        "\n",
        "crKNN = pd.DataFrame(reportKNN).transpose()\n",
        "knn_acc=accuracy_score(y_test,predKNN)\n",
        "print(knn_acc)\n",
        "crKNN"
      ],
      "execution_count": 101,
      "outputs": [
        {
          "output_type": "stream",
          "text": [
            "0.7837837837837838\n"
          ],
          "name": "stdout"
        },
        {
          "output_type": "execute_result",
          "data": {
            "text/html": [
              "<div>\n",
              "<style scoped>\n",
              "    .dataframe tbody tr th:only-of-type {\n",
              "        vertical-align: middle;\n",
              "    }\n",
              "\n",
              "    .dataframe tbody tr th {\n",
              "        vertical-align: top;\n",
              "    }\n",
              "\n",
              "    .dataframe thead th {\n",
              "        text-align: right;\n",
              "    }\n",
              "</style>\n",
              "<table border=\"1\" class=\"dataframe\">\n",
              "  <thead>\n",
              "    <tr style=\"text-align: right;\">\n",
              "      <th></th>\n",
              "      <th>precision</th>\n",
              "      <th>recall</th>\n",
              "      <th>f1-score</th>\n",
              "      <th>support</th>\n",
              "    </tr>\n",
              "  </thead>\n",
              "  <tbody>\n",
              "    <tr>\n",
              "      <th>0.0</th>\n",
              "      <td>0.917254</td>\n",
              "      <td>0.787011</td>\n",
              "      <td>0.847156</td>\n",
              "      <td>4958.000000</td>\n",
              "    </tr>\n",
              "    <tr>\n",
              "      <th>1.0</th>\n",
              "      <td>0.532329</td>\n",
              "      <td>0.773488</td>\n",
              "      <td>0.630640</td>\n",
              "      <td>1554.000000</td>\n",
              "    </tr>\n",
              "    <tr>\n",
              "      <th>accuracy</th>\n",
              "      <td>0.783784</td>\n",
              "      <td>0.783784</td>\n",
              "      <td>0.783784</td>\n",
              "      <td>0.783784</td>\n",
              "    </tr>\n",
              "    <tr>\n",
              "      <th>macro avg</th>\n",
              "      <td>0.724792</td>\n",
              "      <td>0.780249</td>\n",
              "      <td>0.738898</td>\n",
              "      <td>6512.000000</td>\n",
              "    </tr>\n",
              "    <tr>\n",
              "      <th>weighted avg</th>\n",
              "      <td>0.825397</td>\n",
              "      <td>0.783784</td>\n",
              "      <td>0.795487</td>\n",
              "      <td>6512.000000</td>\n",
              "    </tr>\n",
              "  </tbody>\n",
              "</table>\n",
              "</div>"
            ],
            "text/plain": [
              "              precision    recall  f1-score      support\n",
              "0.0            0.917254  0.787011  0.847156  4958.000000\n",
              "1.0            0.532329  0.773488  0.630640  1554.000000\n",
              "accuracy       0.783784  0.783784  0.783784     0.783784\n",
              "macro avg      0.724792  0.780249  0.738898  6512.000000\n",
              "weighted avg   0.825397  0.783784  0.795487  6512.000000"
            ]
          },
          "metadata": {
            "tags": []
          },
          "execution_count": 101
        }
      ]
    },
    {
      "cell_type": "code",
      "metadata": {
        "colab": {
          "base_uri": "https://localhost:8080/"
        },
        "id": "glGJrdqCwp2j",
        "outputId": "3f0ef6e1-a335-4514-b103-227c7bdf371a"
      },
      "source": [
        "knn_cv=cross_val_score(KNN,x,y,scoring='accuracy', cv = 10).mean()\n",
        "knn_cv"
      ],
      "execution_count": 102,
      "outputs": [
        {
          "output_type": "execute_result",
          "data": {
            "text/plain": [
              "0.8061732186732187"
            ]
          },
          "metadata": {
            "tags": []
          },
          "execution_count": 102
        }
      ]
    },
    {
      "cell_type": "markdown",
      "metadata": {
        "id": "BZ3Hp_c8iSZD"
      },
      "source": [
        "**LogisticRegression**"
      ]
    },
    {
      "cell_type": "code",
      "metadata": {
        "colab": {
          "base_uri": "https://localhost:8080/",
          "height": 248
        },
        "id": "DWZRdtWxwrjQ",
        "outputId": "b4d140d9-6861-4461-bd9b-ed2352facdfd"
      },
      "source": [
        "from sklearn.linear_model import LogisticRegression\n",
        "\n",
        "LReg = LogisticRegression()\n",
        "\n",
        "LReg.fit(x_train,y_train)\n",
        "\n",
        "predLReg = LReg.predict(x_test)\n",
        "\n",
        "reportLReg = classification_report(y_test, predLReg, output_dict = True)\n",
        "\n",
        "crLReg = pd.DataFrame(reportLReg).transpose()\n",
        "logisticregression_acc=accuracy_score(y_test,predLReg)\n",
        "print(logisticregression_acc)\n",
        "print(confusion_matrix(y_test, predLReg))\n",
        "crLReg"
      ],
      "execution_count": 103,
      "outputs": [
        {
          "output_type": "stream",
          "text": [
            "0.7874692874692875\n",
            "[[3884 1074]\n",
            " [ 310 1244]]\n"
          ],
          "name": "stdout"
        },
        {
          "output_type": "execute_result",
          "data": {
            "text/html": [
              "<div>\n",
              "<style scoped>\n",
              "    .dataframe tbody tr th:only-of-type {\n",
              "        vertical-align: middle;\n",
              "    }\n",
              "\n",
              "    .dataframe tbody tr th {\n",
              "        vertical-align: top;\n",
              "    }\n",
              "\n",
              "    .dataframe thead th {\n",
              "        text-align: right;\n",
              "    }\n",
              "</style>\n",
              "<table border=\"1\" class=\"dataframe\">\n",
              "  <thead>\n",
              "    <tr style=\"text-align: right;\">\n",
              "      <th></th>\n",
              "      <th>precision</th>\n",
              "      <th>recall</th>\n",
              "      <th>f1-score</th>\n",
              "      <th>support</th>\n",
              "    </tr>\n",
              "  </thead>\n",
              "  <tbody>\n",
              "    <tr>\n",
              "      <th>0.0</th>\n",
              "      <td>0.926085</td>\n",
              "      <td>0.783380</td>\n",
              "      <td>0.848776</td>\n",
              "      <td>4958.000000</td>\n",
              "    </tr>\n",
              "    <tr>\n",
              "      <th>1.0</th>\n",
              "      <td>0.536670</td>\n",
              "      <td>0.800515</td>\n",
              "      <td>0.642562</td>\n",
              "      <td>1554.000000</td>\n",
              "    </tr>\n",
              "    <tr>\n",
              "      <th>accuracy</th>\n",
              "      <td>0.787469</td>\n",
              "      <td>0.787469</td>\n",
              "      <td>0.787469</td>\n",
              "      <td>0.787469</td>\n",
              "    </tr>\n",
              "    <tr>\n",
              "      <th>macro avg</th>\n",
              "      <td>0.731377</td>\n",
              "      <td>0.791948</td>\n",
              "      <td>0.745669</td>\n",
              "      <td>6512.000000</td>\n",
              "    </tr>\n",
              "    <tr>\n",
              "      <th>weighted avg</th>\n",
              "      <td>0.833156</td>\n",
              "      <td>0.787469</td>\n",
              "      <td>0.799566</td>\n",
              "      <td>6512.000000</td>\n",
              "    </tr>\n",
              "  </tbody>\n",
              "</table>\n",
              "</div>"
            ],
            "text/plain": [
              "              precision    recall  f1-score      support\n",
              "0.0            0.926085  0.783380  0.848776  4958.000000\n",
              "1.0            0.536670  0.800515  0.642562  1554.000000\n",
              "accuracy       0.787469  0.787469  0.787469     0.787469\n",
              "macro avg      0.731377  0.791948  0.745669  6512.000000\n",
              "weighted avg   0.833156  0.787469  0.799566  6512.000000"
            ]
          },
          "metadata": {
            "tags": []
          },
          "execution_count": 103
        }
      ]
    },
    {
      "cell_type": "code",
      "metadata": {
        "colab": {
          "base_uri": "https://localhost:8080/"
        },
        "id": "W9RHHU1owtlZ",
        "outputId": "3bf8ab7d-b437-4577-dccc-f01c543ed682"
      },
      "source": [
        "logisticregression_cv= cross_val_score(LReg,x,y,scoring='accuracy', cv = 10).mean()\n",
        "logisticregression_cv"
      ],
      "execution_count": 104,
      "outputs": [
        {
          "output_type": "execute_result",
          "data": {
            "text/plain": [
              "0.8074324324324325"
            ]
          },
          "metadata": {
            "tags": []
          },
          "execution_count": 104
        }
      ]
    },
    {
      "cell_type": "markdown",
      "metadata": {
        "id": "RlTpTiyOeJFn"
      },
      "source": [
        "**Choosing decission tree classifier and random forest for hyper parameter tuning.**"
      ]
    },
    {
      "cell_type": "markdown",
      "metadata": {
        "id": "AOcQEgZtiZeu"
      },
      "source": [
        "## **7.HYPER PARAMETER TUNING**"
      ]
    },
    {
      "cell_type": "markdown",
      "metadata": {
        "id": "sRHLeE4nij2I"
      },
      "source": [
        "**FINDING BEST RANDOM STATE**"
      ]
    },
    {
      "cell_type": "code",
      "metadata": {
        "colab": {
          "base_uri": "https://localhost:8080/"
        },
        "id": "6q7NGPjCxbus",
        "outputId": "6dfed6df-c552-4a7d-c2df-2bb9c2e7a5f8"
      },
      "source": [
        "#FINDING BEST RANDOM STATE\n",
        "\n",
        "from sklearn.metrics import r2_score\n",
        "d=5\n",
        "for i in range(0,100):\n",
        "  x_train, x_test, y_train, y_test = train_test_split(x,y,test_size=0.2,random_state=i)\n",
        "  DTC.fit(x_train,y_train)\n",
        "  pred_train=DTC.predict(x_train)\n",
        "  pred_test = DTC.predict(x_test)\n",
        "  a=r2_score(y_train,pred_train)\n",
        "  b=r2_score(y_test,pred_test)\n",
        "  c=a-b\n",
        "  print(i,c)\n",
        "  if d>=c:\n",
        "    d=c\n",
        "    print(\"least value\",i,d)"
      ],
      "execution_count": 69,
      "outputs": [
        {
          "output_type": "stream",
          "text": [
            "0 1.0399755582900403\n",
            "least value 0 1.0399755582900403\n",
            "1 1.062148100272585\n",
            "2 1.0225465831996394\n",
            "least value 2 1.0225465831996394\n",
            "3 1.028599203690954\n",
            "4 1.0497791426742107\n",
            "5 1.044572991129113\n",
            "6 1.0419185423079216\n",
            "7 1.0224407335697534\n",
            "least value 7 1.0224407335697534\n",
            "8 1.0199973993203675\n",
            "least value 8 1.0199973993203675\n",
            "9 1.023653842725873\n",
            "10 1.038938795759615\n",
            "11 1.0216269769181896\n",
            "12 1.0398063125854853\n",
            "13 1.0088145483879354\n",
            "least value 13 1.0088145483879354\n",
            "14 1.051340816650509\n",
            "15 1.0340479008231616\n",
            "16 1.0518911402159932\n",
            "17 1.0295743990990227\n",
            "18 1.0184629734310797\n",
            "19 1.0271274350498203\n",
            "20 1.044462481962482\n",
            "21 1.0192648779229465\n",
            "22 1.0276108845215646\n",
            "23 1.0689810893831693\n",
            "24 1.0256448877425441\n",
            "25 1.0428500726760088\n",
            "26 1.06128396612454\n",
            "27 0.9998656988259615\n",
            "least value 27 0.9998656988259615\n",
            "28 1.0187216505014478\n",
            "29 0.9917615580037991\n",
            "least value 29 0.9917615580037991\n",
            "30 1.0209017228919104\n",
            "31 1.0472955490797833\n",
            "32 1.056115134443713\n",
            "33 1.009505463556653\n",
            "34 1.0251449494795346\n",
            "35 1.0451268889381424\n",
            "36 1.0505656124447993\n",
            "37 1.0630502609091463\n",
            "38 1.0400065842866646\n",
            "39 1.0645708200677624\n",
            "40 1.0162513797671426\n",
            "41 1.0633274209351926\n",
            "42 1.042975356984818\n",
            "43 1.0475947651652397\n",
            "44 1.0610854860806758\n",
            "45 1.011935928832329\n",
            "46 1.0127196065067032\n",
            "47 0.9852875612022896\n",
            "least value 47 0.9852875612022896\n",
            "48 1.0676107188028028\n",
            "49 1.0625115238886247\n",
            "50 1.0499205522163053\n",
            "51 0.9846092349165039\n",
            "least value 51 0.9846092349165039\n",
            "52 1.0353135608672466\n",
            "53 1.0291110887748267\n",
            "54 0.9889076640903113\n",
            "55 1.0559054940773835\n",
            "56 1.0752844810665394\n",
            "57 1.008713098752213\n",
            "58 1.0104552407843137\n",
            "59 1.0714714789304218\n",
            "60 1.083424597178452\n",
            "61 1.0496688808321224\n",
            "62 1.0686284920679543\n",
            "63 1.0014415310053435\n",
            "64 1.0572188825262205\n",
            "65 1.049268597397425\n",
            "66 1.0380645328169305\n",
            "67 1.0527015487928677\n",
            "68 1.0347716255702903\n",
            "69 1.0161688325215554\n",
            "70 1.0283924998296161\n",
            "71 1.0361332023252492\n",
            "72 1.0441582321389609\n",
            "73 1.0327924251552105\n",
            "74 0.9531827689761838\n",
            "least value 74 0.9531827689761838\n",
            "75 0.9988880861199471\n",
            "76 1.0328875075583284\n",
            "77 1.0053254337157278\n",
            "78 1.0604091463925478\n",
            "79 1.0587433041553906\n",
            "80 1.0169444384283677\n",
            "81 1.0476526205012955\n",
            "82 1.0658596522501682\n",
            "83 1.0431161881535616\n",
            "84 1.0541942899087862\n",
            "85 1.0804720645236296\n",
            "86 1.0350845129998523\n",
            "87 1.0119158798181682\n",
            "88 1.0381202491083426\n",
            "89 1.0362744549786689\n",
            "90 1.0104816132126297\n",
            "91 1.0771802366589023\n",
            "92 1.020538160986654\n",
            "93 1.0410301499919872\n",
            "94 0.9948486937347254\n",
            "95 1.025539634359261\n",
            "96 0.9967007260178097\n",
            "97 1.07530002210347\n",
            "98 1.024025104165604\n",
            "99 1.0110615674402341\n"
          ],
          "name": "stdout"
        }
      ]
    },
    {
      "cell_type": "code",
      "metadata": {
        "id": "wrtg5uVcyG5n"
      },
      "source": [
        "x_train, x_test, y_train, y_test = train_test_split(x,y,test_size=0.2,random_state=74)"
      ],
      "execution_count": 60,
      "outputs": []
    },
    {
      "cell_type": "markdown",
      "metadata": {
        "id": "q-aSH08QipiT"
      },
      "source": [
        "**DecisionTreeClassifier**"
      ]
    },
    {
      "cell_type": "code",
      "metadata": {
        "colab": {
          "base_uri": "https://localhost:8080/"
        },
        "id": "Wqi5GAyKyUPF",
        "outputId": "c1dbd939-0e65-462b-b0a1-b7a6cc04f098"
      },
      "source": [
        "from sklearn.model_selection import GridSearchCV\n",
        "parameter ={ 'max_depth': np.arange(2,10),'criterion':['gini','entropy'],'splitter':['best', 'random'],'max_depth': [6,7,8,9,10],\n",
        "'min_samples_leaf': [2,3,4,5,6,7],\n",
        "'min_samples_split': [2,3,4,5,6,7]}\n",
        "GCV=GridSearchCV(DecisionTreeClassifier(),parameter,cv=5)\n",
        "GCV.fit(x_train,y_train)"
      ],
      "execution_count": 71,
      "outputs": [
        {
          "output_type": "execute_result",
          "data": {
            "text/plain": [
              "GridSearchCV(cv=5, error_score=nan,\n",
              "             estimator=DecisionTreeClassifier(ccp_alpha=0.0, class_weight=None,\n",
              "                                              criterion='gini', max_depth=None,\n",
              "                                              max_features=None,\n",
              "                                              max_leaf_nodes=None,\n",
              "                                              min_impurity_decrease=0.0,\n",
              "                                              min_impurity_split=None,\n",
              "                                              min_samples_leaf=1,\n",
              "                                              min_samples_split=2,\n",
              "                                              min_weight_fraction_leaf=0.0,\n",
              "                                              presort='deprecated',\n",
              "                                              random_state=None,\n",
              "                                              splitter='best'),\n",
              "             iid='deprecated', n_jobs=None,\n",
              "             param_grid={'criterion': ['gini', 'entropy'],\n",
              "                         'max_depth': [6, 7, 8, 9, 10],\n",
              "                         'min_samples_leaf': [2, 3, 4, 5, 6, 7],\n",
              "                         'min_samples_split': [2, 3, 4, 5, 6, 7],\n",
              "                         'splitter': ['best', 'random']},\n",
              "             pre_dispatch='2*n_jobs', refit=True, return_train_score=False,\n",
              "             scoring=None, verbose=0)"
            ]
          },
          "metadata": {
            "tags": []
          },
          "execution_count": 71
        }
      ]
    },
    {
      "cell_type": "code",
      "metadata": {
        "colab": {
          "base_uri": "https://localhost:8080/"
        },
        "id": "-nRUX-zmybYV",
        "outputId": "7bf95dd6-8a5a-416c-aea1-de2aedd83e47"
      },
      "source": [
        "GCV.best_params_"
      ],
      "execution_count": 72,
      "outputs": [
        {
          "output_type": "execute_result",
          "data": {
            "text/plain": [
              "{'criterion': 'gini',\n",
              " 'max_depth': 10,\n",
              " 'min_samples_leaf': 7,\n",
              " 'min_samples_split': 5,\n",
              " 'splitter': 'best'}"
            ]
          },
          "metadata": {
            "tags": []
          },
          "execution_count": 72
        }
      ]
    },
    {
      "cell_type": "code",
      "metadata": {
        "colab": {
          "base_uri": "https://localhost:8080/"
        },
        "id": "sFQOT3S7ykY7",
        "outputId": "94172c95-c581-46ed-f179-35ed5e77077c"
      },
      "source": [
        "from sklearn.tree import DecisionTreeClassifier\n",
        "final_mod=DecisionTreeClassifier(criterion='gini',splitter= 'best',random_state = 74,max_depth=10,min_samples_leaf= 7, min_samples_split= 6)\n",
        "final_mod.fit(x_train,y_train)\n",
        "pred=final_mod.predict(x_test)\n",
        "acc=accuracy_score(y_test,pred)\n",
        "print(acc)"
      ],
      "execution_count": 62,
      "outputs": [
        {
          "output_type": "stream",
          "text": [
            "0.8625614250614251\n"
          ],
          "name": "stdout"
        }
      ]
    },
    {
      "cell_type": "code",
      "metadata": {
        "colab": {
          "base_uri": "https://localhost:8080/"
        },
        "id": "RQDbGkBtzvMu",
        "outputId": "5ffe1344-cdf0-4e34-a842-831ac50bda86"
      },
      "source": [
        "from sklearn.model_selection import cross_val_score\n",
        "dtc_cv=cross_val_score(final_mod,x,y,scoring='accuracy', cv = 5).mean()\n",
        "dtc_cv"
      ],
      "execution_count": 64,
      "outputs": [
        {
          "output_type": "execute_result",
          "data": {
            "text/plain": [
              "0.8528255528255528"
            ]
          },
          "metadata": {
            "tags": []
          },
          "execution_count": 64
        }
      ]
    },
    {
      "cell_type": "code",
      "metadata": {
        "id": "cl4WJFz1zxV_"
      },
      "source": [
        "rfc=RandomForestClassifier()\n",
        "param_grid={\n",
        "    'criterion' : [\"gini\", \"entropy\"],\n",
        "    'n_estimators':[200,1000,50],\n",
        "    'min_samples_split':[2,3,4],\n",
        "     'random_state':[10]              \n",
        "}"
      ],
      "execution_count": 75,
      "outputs": []
    },
    {
      "cell_type": "markdown",
      "metadata": {
        "id": "fXXW4fgDitlK"
      },
      "source": [
        "**RandomForestClassifier**"
      ]
    },
    {
      "cell_type": "code",
      "metadata": {
        "colab": {
          "base_uri": "https://localhost:8080/"
        },
        "id": "u-wmtbHW0MMy",
        "outputId": "a0dbadb9-e2c3-4be4-c405-3ce5b2a2f9cd"
      },
      "source": [
        "rf=GridSearchCV(RandomForestClassifier(),param_grid,cv=4,scoring='accuracy',n_jobs=-1,verbose=2)\n",
        "rf.fit(x_train,y_train)"
      ],
      "execution_count": 76,
      "outputs": [
        {
          "output_type": "stream",
          "text": [
            "Fitting 4 folds for each of 18 candidates, totalling 72 fits\n"
          ],
          "name": "stdout"
        },
        {
          "output_type": "stream",
          "text": [
            "[Parallel(n_jobs=-1)]: Using backend LokyBackend with 2 concurrent workers.\n",
            "[Parallel(n_jobs=-1)]: Done  37 tasks      | elapsed:  4.2min\n",
            "[Parallel(n_jobs=-1)]: Done  72 out of  72 | elapsed:  9.2min finished\n"
          ],
          "name": "stderr"
        },
        {
          "output_type": "execute_result",
          "data": {
            "text/plain": [
              "GridSearchCV(cv=4, error_score=nan,\n",
              "             estimator=RandomForestClassifier(bootstrap=True, ccp_alpha=0.0,\n",
              "                                              class_weight=None,\n",
              "                                              criterion='gini', max_depth=None,\n",
              "                                              max_features='auto',\n",
              "                                              max_leaf_nodes=None,\n",
              "                                              max_samples=None,\n",
              "                                              min_impurity_decrease=0.0,\n",
              "                                              min_impurity_split=None,\n",
              "                                              min_samples_leaf=1,\n",
              "                                              min_samples_split=2,\n",
              "                                              min_weight_fraction_leaf=0.0,\n",
              "                                              n_estimators=100, n_jobs=None,\n",
              "                                              oob_score=False,\n",
              "                                              random_state=None, verbose=0,\n",
              "                                              warm_start=False),\n",
              "             iid='deprecated', n_jobs=-1,\n",
              "             param_grid={'criterion': ['gini', 'entropy'],\n",
              "                         'min_samples_split': [2, 3, 4],\n",
              "                         'n_estimators': [200, 1000, 50],\n",
              "                         'random_state': [10]},\n",
              "             pre_dispatch='2*n_jobs', refit=True, return_train_score=False,\n",
              "             scoring='accuracy', verbose=2)"
            ]
          },
          "metadata": {
            "tags": []
          },
          "execution_count": 76
        }
      ]
    },
    {
      "cell_type": "code",
      "metadata": {
        "colab": {
          "base_uri": "https://localhost:8080/"
        },
        "id": "q4jI359h12Ws",
        "outputId": "05ce3a10-c9e9-4964-899a-4179181fd21d"
      },
      "source": [
        "rf.best_params_"
      ],
      "execution_count": 77,
      "outputs": [
        {
          "output_type": "execute_result",
          "data": {
            "text/plain": [
              "{'criterion': 'gini',\n",
              " 'min_samples_split': 3,\n",
              " 'n_estimators': 200,\n",
              " 'random_state': 10}"
            ]
          },
          "metadata": {
            "tags": []
          },
          "execution_count": 77
        }
      ]
    },
    {
      "cell_type": "code",
      "metadata": {
        "colab": {
          "base_uri": "https://localhost:8080/"
        },
        "id": "s910ouUx4TrI",
        "outputId": "b628de7a-afd2-47db-dcc6-1248e17ea416"
      },
      "source": [
        "clf= RandomForestClassifier(criterion='gini',min_samples_split=3,n_estimators=200,random_state=10).fit(x_train, y_train)\n",
        "fianlRFC= clf.predict(x_test)\n",
        "randomforest_accu=accuracy_score(y_test,fianlRFC)\n",
        "randomforest_accu\n",
        "#print(confusion_matrix(y_test, predRFC))\n",
        "print(classification_report(y_test, fianlRFC))\n",
        "print(randomforest_accu)"
      ],
      "execution_count": 65,
      "outputs": [
        {
          "output_type": "stream",
          "text": [
            "              precision    recall  f1-score   support\n",
            "\n",
            "         0.0       0.90      0.94      0.91      4952\n",
            "         1.0       0.76      0.65      0.70      1560\n",
            "\n",
            "    accuracy                           0.87      6512\n",
            "   macro avg       0.83      0.79      0.81      6512\n",
            "weighted avg       0.86      0.87      0.86      6512\n",
            "\n",
            "0.8677825552825553\n"
          ],
          "name": "stdout"
        }
      ]
    },
    {
      "cell_type": "code",
      "metadata": {
        "colab": {
          "base_uri": "https://localhost:8080/"
        },
        "id": "t85VrbB66xMB",
        "outputId": "e4a9f5ba-7ecd-4353-dd71-4aaa09b53c95"
      },
      "source": [
        "print(randomforest_accu)"
      ],
      "execution_count": 66,
      "outputs": [
        {
          "output_type": "stream",
          "text": [
            "0.8677825552825553\n"
          ],
          "name": "stdout"
        }
      ]
    },
    {
      "cell_type": "code",
      "metadata": {
        "colab": {
          "base_uri": "https://localhost:8080/"
        },
        "id": "0SuNdcT55E_C",
        "outputId": "a9deceb5-a3be-452e-86a3-0be1b7f5f923"
      },
      "source": [
        "randomforest_cv= cross_val_score(clf,x,y,scoring='accuracy', cv = 3).mean()\n",
        "randomforest_cv"
      ],
      "execution_count": 67,
      "outputs": [
        {
          "output_type": "execute_result",
          "data": {
            "text/plain": [
              "0.8592445771207663"
            ]
          },
          "metadata": {
            "tags": []
          },
          "execution_count": 67
        }
      ]
    },
    {
      "cell_type": "markdown",
      "metadata": {
        "id": "1Gs9A0xLfEfl"
      },
      "source": [
        "Decission Tree with accuracy 0.862 and cv score 0.852\n",
        "\n",
        "Random forest with accuracy 0.867 and cv score 0.859"
      ]
    },
    {
      "cell_type": "markdown",
      "metadata": {
        "id": "_PYQG2uXi2FS"
      },
      "source": [
        "## **8.Evaluation metrics**"
      ]
    },
    {
      "cell_type": "code",
      "metadata": {
        "id": "NwkSxqKKfiKU"
      },
      "source": [
        "from sklearn.datasets import make_circles\n",
        "from sklearn.metrics import accuracy_score\n",
        "from sklearn.metrics import precision_score\n",
        "from sklearn.metrics import recall_score\n",
        "from sklearn.metrics import f1_score\n",
        "from sklearn.metrics import roc_auc_score\n",
        "from sklearn.metrics import confusion_matrix"
      ],
      "execution_count": 68,
      "outputs": []
    },
    {
      "cell_type": "code",
      "metadata": {
        "colab": {
          "base_uri": "https://localhost:8080/"
        },
        "id": "m2haxeyMfZVW",
        "outputId": "579d7a1d-41ef-4285-f4f3-0fca26d02b48"
      },
      "source": [
        "print(\"Random Forest\")\n",
        "print(\"-----------------------------------------\")\n",
        "# accuracy: (tp + tn) / (p + n)\n",
        "accuracy_rfc = accuracy_score(y_test, fianlRFC)\n",
        "print('Accuracy: %f' % accuracy_rfc)\n",
        "# precision tp / (tp + fp)\n",
        "precision_rfc = precision_score(y_test, fianlRFC)\n",
        "print('Precision: %f' % precision_rfc)\n",
        "# recall: tp / (tp + fn)\n",
        "recall_rfc = recall_score(y_test, fianlRFC)\n",
        "print('Recall: %f' % recall_rfc)\n",
        "# f1: 2 tp / (2 tp + fp + fn)\n",
        "f1_rfc = f1_score(y_test, fianlRFC)\n",
        "print('F1 score: %f' % f1_rfc)\n",
        "\n",
        "\n",
        "print(\"------------------------------------------\")\n",
        "print(\"Decision Tree\")\n",
        "print(\"-----------------------------------------\")\n",
        "# accuracy: (tp + tn) / (p + n)\n",
        "accuracy_dt = accuracy_score(y_test, pred)\n",
        "print('Accuracy: %f' % accuracy_dt)\n",
        "# precision tp / (tp + fp)\n",
        "precision_dt = precision_score(y_test, pred)\n",
        "print('Precision: %f' % precision_dt)\n",
        "# recall: tp / (tp + fn)\n",
        "recall_dt = recall_score(y_test, pred)\n",
        "print('Recall: %f' % recall_dt)\n",
        "# f1: 2 tp / (2 tp + fp + fn)\n",
        "f1_dt = f1_score(y_test, pred)\n",
        "print('F1 score: %f' % f1_dt)"
      ],
      "execution_count": 69,
      "outputs": [
        {
          "output_type": "stream",
          "text": [
            "Random Forest\n",
            "-----------------------------------------\n",
            "Accuracy: 0.867783\n",
            "Precision: 0.761406\n",
            "Recall: 0.652564\n",
            "F1 score: 0.702796\n",
            "------------------------------------------\n",
            "Decision Tree\n",
            "-----------------------------------------\n",
            "Accuracy: 0.862561\n",
            "Precision: 0.753623\n",
            "Recall: 0.633333\n",
            "F1 score: 0.688262\n"
          ],
          "name": "stdout"
        }
      ]
    },
    {
      "cell_type": "markdown",
      "metadata": {
        "id": "KW9F2Lbwgs4v"
      },
      "source": [
        "### **choosing Random forest as the best model with 86.7% accuracy.**"
      ]
    },
    {
      "cell_type": "markdown",
      "metadata": {
        "id": "Pc7OFraMglzi"
      },
      "source": [
        "## **9. roc_auc_score**"
      ]
    },
    {
      "cell_type": "code",
      "metadata": {
        "id": "RYeP-bmBe7DR"
      },
      "source": [
        "# train models\n",
        "from sklearn.linear_model import LogisticRegression\n",
        "from sklearn.neighbors import KNeighborsClassifier\n",
        "\n",
        "# RandomForestClassifier\n",
        "model1 = RandomForestClassifier()\n",
        "# DecisionTreeClassifier\n",
        "model2 = DecisionTreeClassifier()\n",
        "\n",
        "# fit model\n",
        "model1.fit(x_train, y_train)\n",
        "model2.fit(x_train, y_train)\n",
        "\n",
        "# predict probabilities\n",
        "pred_prob1 = model1.predict_proba(x_test)\n",
        "pred_prob2 = model2.predict_proba(x_test)"
      ],
      "execution_count": 70,
      "outputs": []
    },
    {
      "cell_type": "code",
      "metadata": {
        "id": "7dE3t4x1gQJK"
      },
      "source": [
        "from sklearn.metrics import roc_curve\n",
        "\n",
        "# roc curve for models\n",
        "fpr1, tpr1, thresh1 = roc_curve(y_test, pred_prob1[:,1], pos_label=1)\n",
        "fpr2, tpr2, thresh2 = roc_curve(y_test, pred_prob2[:,1], pos_label=1)\n",
        "\n",
        "# roc curve for tpr = fpr \n",
        "random_probs = [0 for i in range(len(y_test))]\n",
        "p_fpr, p_tpr, _ = roc_curve(y_test, random_probs, pos_label=1)"
      ],
      "execution_count": 71,
      "outputs": []
    },
    {
      "cell_type": "code",
      "metadata": {
        "colab": {
          "base_uri": "https://localhost:8080/"
        },
        "id": "ibPIwBWJgSdb",
        "outputId": "7a28de79-9cc2-4063-fb18-c1ee6336a356"
      },
      "source": [
        "from sklearn.metrics import roc_auc_score\n",
        "\n",
        "# auc scores\n",
        "auc_score1 = roc_auc_score(y_test, pred_prob1[:,1])\n",
        "auc_score2 = roc_auc_score(y_test, pred_prob2[:,1])\n",
        "\n",
        "print(auc_score1, auc_score2)"
      ],
      "execution_count": 72,
      "outputs": [
        {
          "output_type": "stream",
          "text": [
            "0.9156617631829667 0.7672372726896151\n"
          ],
          "name": "stdout"
        }
      ]
    },
    {
      "cell_type": "code",
      "metadata": {
        "colab": {
          "base_uri": "https://localhost:8080/",
          "height": 376
        },
        "id": "42BGHKI6gU1m",
        "outputId": "da7b10cc-7283-4985-87f8-2a83727d379e"
      },
      "source": [
        "import matplotlib.pyplot as plt\n",
        "plt.style.use('seaborn')\n",
        "\n",
        "# plot roc curves\n",
        "plt.plot(fpr1, tpr1, linestyle='--',color='orange', label='RandomForestClassifier')\n",
        "plt.plot(p_fpr, p_tpr, linestyle='--', color='blue')\n",
        "# title\n",
        "plt.title('ROC curve')\n",
        "# x label\n",
        "plt.xlabel('False Positive Rate')\n",
        "# y label\n",
        "plt.ylabel('True Positive rate')\n",
        "\n",
        "plt.legend(loc='best')\n",
        "plt.savefig('ROC',dpi=300)\n",
        "plt.show();"
      ],
      "execution_count": 73,
      "outputs": [
        {
          "output_type": "display_data",
          "data": {
            "image/png": "[encoded data removed]",
            "text/plain": [
              "<Figure size 576x396 with 1 Axes>"
            ]
          },
          "metadata": {
            "tags": []
          }
        }
      ]
    },
    {
      "cell_type": "markdown",
      "metadata": {
        "id": "ItK0TSIujAXT"
      },
      "source": [
        "## **10.Saving the model**"
      ]
    },
    {
      "cell_type": "code",
      "metadata": {
        "colab": {
          "base_uri": "https://localhost:8080/"
        },
        "id": "hrtGEuCngaFm",
        "outputId": "fcf764e3-c619-4b17-a7d3-de36dc7126c1"
      },
      "source": [
        "import joblib\n",
        "joblib.dump(fianlRFC,\"final model.pkl\")"
      ],
      "execution_count": 74,
      "outputs": [
        {
          "output_type": "execute_result",
          "data": {
            "text/plain": [
              "['final model.pkl']"
            ]
          },
          "metadata": {
            "tags": []
          },
          "execution_count": 74
        }
      ]
    }
  ]
}