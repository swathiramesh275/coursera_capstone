{
  "nbformat": 4,
  "nbformat_minor": 0,
  "metadata": {
    "colab": {
      "name": "Flight Price Prediction.ipynb",
      "provenance": [],
      "collapsed_sections": []
    },
    "kernelspec": {
      "name": "python3",
      "display_name": "Python 3"
    },
    "language_info": {
      "name": "python"
    }
  },
  "cells": [
    {
      "cell_type": "markdown",
      "metadata": {
        "id": "QeVsRrAbEew1"
      },
      "source": [
        "# **Flight Price Prediction**"
      ]
    },
    {
      "cell_type": "markdown",
      "metadata": {
        "id": "Vy5jpW0F3ZK4"
      },
      "source": [
        "**1.Data understanding**"
      ]
    },
    {
      "cell_type": "code",
      "metadata": {
        "id": "Hl7RFk8uEEEd"
      },
      "source": [
        "import pandas as pd\n",
        "import numpy as np\n",
        "import matplotlib as mlp\n",
        "import seaborn as sns\n",
        "import matplotlib.pyplot as plt"
      ],
      "execution_count": 140,
      "outputs": []
    },
    {
      "cell_type": "code",
      "metadata": {
        "id": "vIRkrQQxEpRK"
      },
      "source": [
        "df=pd.read_excel(\"/content/Data_Train.xlsx\")"
      ],
      "execution_count": 141,
      "outputs": []
    },
    {
      "cell_type": "code",
      "metadata": {
        "id": "eoNuYXn4FWCP",
        "colab": {
          "base_uri": "https://localhost:8080/",
          "height": 240
        },
        "outputId": "4b1bc3f6-efa5-430b-8bb4-696d6fe91fe4"
      },
      "source": [
        "df.head()"
      ],
      "execution_count": 142,
      "outputs": [
        {
          "output_type": "execute_result",
          "data": {
            "text/html": [
              "<div>\n",
              "<style scoped>\n",
              "    .dataframe tbody tr th:only-of-type {\n",
              "        vertical-align: middle;\n",
              "    }\n",
              "\n",
              "    .dataframe tbody tr th {\n",
              "        vertical-align: top;\n",
              "    }\n",
              "\n",
              "    .dataframe thead th {\n",
              "        text-align: right;\n",
              "    }\n",
              "</style>\n",
              "<table border=\"1\" class=\"dataframe\">\n",
              "  <thead>\n",
              "    <tr style=\"text-align: right;\">\n",
              "      <th></th>\n",
              "      <th>Airline</th>\n",
              "      <th>Date_of_Journey</th>\n",
              "      <th>Source</th>\n",
              "      <th>Destination</th>\n",
              "      <th>Route</th>\n",
              "      <th>Dep_Time</th>\n",
              "      <th>Arrival_Time</th>\n",
              "      <th>Duration</th>\n",
              "      <th>Total_Stops</th>\n",
              "      <th>Additional_Info</th>\n",
              "      <th>Price</th>\n",
              "    </tr>\n",
              "  </thead>\n",
              "  <tbody>\n",
              "    <tr>\n",
              "      <th>0</th>\n",
              "      <td>IndiGo</td>\n",
              "      <td>24/03/2019</td>\n",
              "      <td>Banglore</td>\n",
              "      <td>New Delhi</td>\n",
              "      <td>BLR → DEL</td>\n",
              "      <td>22:20</td>\n",
              "      <td>01:10 22 Mar</td>\n",
              "      <td>2h 50m</td>\n",
              "      <td>non-stop</td>\n",
              "      <td>No info</td>\n",
              "      <td>3897</td>\n",
              "    </tr>\n",
              "    <tr>\n",
              "      <th>1</th>\n",
              "      <td>Air India</td>\n",
              "      <td>1/05/2019</td>\n",
              "      <td>Kolkata</td>\n",
              "      <td>Banglore</td>\n",
              "      <td>CCU → IXR → BBI → BLR</td>\n",
              "      <td>05:50</td>\n",
              "      <td>13:15</td>\n",
              "      <td>7h 25m</td>\n",
              "      <td>2 stops</td>\n",
              "      <td>No info</td>\n",
              "      <td>7662</td>\n",
              "    </tr>\n",
              "    <tr>\n",
              "      <th>2</th>\n",
              "      <td>Jet Airways</td>\n",
              "      <td>9/06/2019</td>\n",
              "      <td>Delhi</td>\n",
              "      <td>Cochin</td>\n",
              "      <td>DEL → LKO → BOM → COK</td>\n",
              "      <td>09:25</td>\n",
              "      <td>04:25 10 Jun</td>\n",
              "      <td>19h</td>\n",
              "      <td>2 stops</td>\n",
              "      <td>No info</td>\n",
              "      <td>13882</td>\n",
              "    </tr>\n",
              "    <tr>\n",
              "      <th>3</th>\n",
              "      <td>IndiGo</td>\n",
              "      <td>12/05/2019</td>\n",
              "      <td>Kolkata</td>\n",
              "      <td>Banglore</td>\n",
              "      <td>CCU → NAG → BLR</td>\n",
              "      <td>18:05</td>\n",
              "      <td>23:30</td>\n",
              "      <td>5h 25m</td>\n",
              "      <td>1 stop</td>\n",
              "      <td>No info</td>\n",
              "      <td>6218</td>\n",
              "    </tr>\n",
              "    <tr>\n",
              "      <th>4</th>\n",
              "      <td>IndiGo</td>\n",
              "      <td>01/03/2019</td>\n",
              "      <td>Banglore</td>\n",
              "      <td>New Delhi</td>\n",
              "      <td>BLR → NAG → DEL</td>\n",
              "      <td>16:50</td>\n",
              "      <td>21:35</td>\n",
              "      <td>4h 45m</td>\n",
              "      <td>1 stop</td>\n",
              "      <td>No info</td>\n",
              "      <td>13302</td>\n",
              "    </tr>\n",
              "  </tbody>\n",
              "</table>\n",
              "</div>"
            ],
            "text/plain": [
              "       Airline Date_of_Journey    Source  ... Total_Stops Additional_Info  Price\n",
              "0       IndiGo      24/03/2019  Banglore  ...    non-stop         No info   3897\n",
              "1    Air India       1/05/2019   Kolkata  ...     2 stops         No info   7662\n",
              "2  Jet Airways       9/06/2019     Delhi  ...     2 stops         No info  13882\n",
              "3       IndiGo      12/05/2019   Kolkata  ...      1 stop         No info   6218\n",
              "4       IndiGo      01/03/2019  Banglore  ...      1 stop         No info  13302\n",
              "\n",
              "[5 rows x 11 columns]"
            ]
          },
          "metadata": {
            "tags": []
          },
          "execution_count": 142
        }
      ]
    },
    {
      "cell_type": "code",
      "metadata": {
        "id": "ar0n8CGMnk38"
      },
      "source": [
        "df = df.drop(['Additional_Info'],axis=1)"
      ],
      "execution_count": 143,
      "outputs": []
    },
    {
      "cell_type": "code",
      "metadata": {
        "colab": {
          "base_uri": "https://localhost:8080/"
        },
        "id": "1H57EVjPlyFU",
        "outputId": "89babfcb-8302-4e73-e4ce-a9fc6f37bbdf"
      },
      "source": [
        "df.info()"
      ],
      "execution_count": 144,
      "outputs": [
        {
          "output_type": "stream",
          "text": [
            "<class 'pandas.core.frame.DataFrame'>\n",
            "RangeIndex: 10683 entries, 0 to 10682\n",
            "Data columns (total 10 columns):\n",
            " #   Column           Non-Null Count  Dtype \n",
            "---  ------           --------------  ----- \n",
            " 0   Airline          10683 non-null  object\n",
            " 1   Date_of_Journey  10683 non-null  object\n",
            " 2   Source           10683 non-null  object\n",
            " 3   Destination      10683 non-null  object\n",
            " 4   Route            10682 non-null  object\n",
            " 5   Dep_Time         10683 non-null  object\n",
            " 6   Arrival_Time     10683 non-null  object\n",
            " 7   Duration         10683 non-null  object\n",
            " 8   Total_Stops      10682 non-null  object\n",
            " 9   Price            10683 non-null  int64 \n",
            "dtypes: int64(1), object(9)\n",
            "memory usage: 834.7+ KB\n"
          ],
          "name": "stdout"
        }
      ]
    },
    {
      "cell_type": "code",
      "metadata": {
        "colab": {
          "base_uri": "https://localhost:8080/"
        },
        "id": "tSI9yL4Nl_jV",
        "outputId": "3ad34517-fdfb-4a55-b792-79d2fd2ac200"
      },
      "source": [
        "df.shape"
      ],
      "execution_count": 145,
      "outputs": [
        {
          "output_type": "execute_result",
          "data": {
            "text/plain": [
              "(10683, 10)"
            ]
          },
          "metadata": {
            "tags": []
          },
          "execution_count": 145
        }
      ]
    },
    {
      "cell_type": "code",
      "metadata": {
        "colab": {
          "base_uri": "https://localhost:8080/",
          "height": 299
        },
        "id": "lIWqsp5nlzQ5",
        "outputId": "4739041a-51cc-4caa-98c0-5a49c63ca42f"
      },
      "source": [
        "df.describe()"
      ],
      "execution_count": 146,
      "outputs": [
        {
          "output_type": "execute_result",
          "data": {
            "text/html": [
              "<div>\n",
              "<style scoped>\n",
              "    .dataframe tbody tr th:only-of-type {\n",
              "        vertical-align: middle;\n",
              "    }\n",
              "\n",
              "    .dataframe tbody tr th {\n",
              "        vertical-align: top;\n",
              "    }\n",
              "\n",
              "    .dataframe thead th {\n",
              "        text-align: right;\n",
              "    }\n",
              "</style>\n",
              "<table border=\"1\" class=\"dataframe\">\n",
              "  <thead>\n",
              "    <tr style=\"text-align: right;\">\n",
              "      <th></th>\n",
              "      <th>Price</th>\n",
              "    </tr>\n",
              "  </thead>\n",
              "  <tbody>\n",
              "    <tr>\n",
              "      <th>count</th>\n",
              "      <td>10683.000000</td>\n",
              "    </tr>\n",
              "    <tr>\n",
              "      <th>mean</th>\n",
              "      <td>9087.064121</td>\n",
              "    </tr>\n",
              "    <tr>\n",
              "      <th>std</th>\n",
              "      <td>4611.359167</td>\n",
              "    </tr>\n",
              "    <tr>\n",
              "      <th>min</th>\n",
              "      <td>1759.000000</td>\n",
              "    </tr>\n",
              "    <tr>\n",
              "      <th>25%</th>\n",
              "      <td>5277.000000</td>\n",
              "    </tr>\n",
              "    <tr>\n",
              "      <th>50%</th>\n",
              "      <td>8372.000000</td>\n",
              "    </tr>\n",
              "    <tr>\n",
              "      <th>75%</th>\n",
              "      <td>12373.000000</td>\n",
              "    </tr>\n",
              "    <tr>\n",
              "      <th>max</th>\n",
              "      <td>79512.000000</td>\n",
              "    </tr>\n",
              "  </tbody>\n",
              "</table>\n",
              "</div>"
            ],
            "text/plain": [
              "              Price\n",
              "count  10683.000000\n",
              "mean    9087.064121\n",
              "std     4611.359167\n",
              "min     1759.000000\n",
              "25%     5277.000000\n",
              "50%     8372.000000\n",
              "75%    12373.000000\n",
              "max    79512.000000"
            ]
          },
          "metadata": {
            "tags": []
          },
          "execution_count": 146
        }
      ]
    },
    {
      "cell_type": "markdown",
      "metadata": {
        "id": "8g1yj_Qv3gX_"
      },
      "source": [
        "**2.EDA**"
      ]
    },
    {
      "cell_type": "code",
      "metadata": {
        "colab": {
          "base_uri": "https://localhost:8080/"
        },
        "id": "s-MQsxAIl0r_",
        "outputId": "a2b8b024-142b-4939-e2ac-e12e54241119"
      },
      "source": [
        "df['Price'].value_counts()"
      ],
      "execution_count": 147,
      "outputs": [
        {
          "output_type": "execute_result",
          "data": {
            "text/plain": [
              "10262    258\n",
              "10844    212\n",
              "7229     162\n",
              "4804     160\n",
              "4823     131\n",
              "        ... \n",
              "9502       1\n",
              "13875      1\n",
              "7742       1\n",
              "5703       1\n",
              "4098       1\n",
              "Name: Price, Length: 1870, dtype: int64"
            ]
          },
          "metadata": {
            "tags": []
          },
          "execution_count": 147
        }
      ]
    },
    {
      "cell_type": "code",
      "metadata": {
        "colab": {
          "base_uri": "https://localhost:8080/",
          "height": 408
        },
        "id": "hXLH0Hqfl66f",
        "outputId": "83a29420-90e5-40f4-a53d-1a9005411e17"
      },
      "source": [
        "plt.figure(figsize=(8,5))\n",
        "sns.stripplot(df['Price'])"
      ],
      "execution_count": 148,
      "outputs": [
        {
          "output_type": "stream",
          "text": [
            "/usr/local/lib/python3.7/dist-packages/seaborn/_decorators.py:43: FutureWarning: Pass the following variable as a keyword arg: x. From version 0.12, the only valid positional argument will be `data`, and passing other arguments without an explicit keyword will result in an error or misinterpretation.\n",
            "  FutureWarning\n"
          ],
          "name": "stderr"
        },
        {
          "output_type": "execute_result",
          "data": {
            "text/plain": [
              "<matplotlib.axes._subplots.AxesSubplot at 0x7fa41f7c1b10>"
            ]
          },
          "metadata": {
            "tags": []
          },
          "execution_count": 148
        },
        {
          "output_type": "display_data",
          "data": {
            "image/png": "[encoded data removed]",
            "text/plain": [
              "<Figure size 576x360 with 1 Axes>"
            ]
          },
          "metadata": {
            "tags": [],
            "needs_background": "light"
          }
        }
      ]
    },
    {
      "cell_type": "code",
      "metadata": {
        "colab": {
          "base_uri": "https://localhost:8080/"
        },
        "id": "TDcDiDKKmU0R",
        "outputId": "6e3b89a3-6243-4859-8e2f-3544e37beef4"
      },
      "source": [
        "for i in df.columns:\n",
        "  print(df[i].value_counts())\n",
        "  print(\"-------------------------------\")"
      ],
      "execution_count": 149,
      "outputs": [
        {
          "output_type": "stream",
          "text": [
            "Jet Airways                          3849\n",
            "IndiGo                               2053\n",
            "Air India                            1752\n",
            "Multiple carriers                    1196\n",
            "SpiceJet                              818\n",
            "Vistara                               479\n",
            "Air Asia                              319\n",
            "GoAir                                 194\n",
            "Multiple carriers Premium economy      13\n",
            "Jet Airways Business                    6\n",
            "Vistara Premium economy                 3\n",
            "Trujet                                  1\n",
            "Name: Airline, dtype: int64\n",
            "-------------------------------\n",
            "18/05/2019    504\n",
            "6/06/2019     503\n",
            "21/05/2019    497\n",
            "9/06/2019     495\n",
            "12/06/2019    493\n",
            "9/05/2019     484\n",
            "21/03/2019    423\n",
            "15/05/2019    405\n",
            "27/05/2019    382\n",
            "27/06/2019    355\n",
            "24/06/2019    351\n",
            "1/06/2019     342\n",
            "3/06/2019     333\n",
            "15/06/2019    328\n",
            "24/03/2019    323\n",
            "6/03/2019     308\n",
            "27/03/2019    299\n",
            "24/05/2019    286\n",
            "6/05/2019     282\n",
            "1/05/2019     277\n",
            "12/05/2019    259\n",
            "1/04/2019     257\n",
            "3/03/2019     218\n",
            "9/03/2019     200\n",
            "15/03/2019    162\n",
            "18/03/2019    156\n",
            "01/03/2019    152\n",
            "12/03/2019    142\n",
            "9/04/2019     125\n",
            "3/04/2019     110\n",
            "21/06/2019    109\n",
            "18/06/2019    105\n",
            "09/03/2019    102\n",
            "6/04/2019     100\n",
            "03/03/2019     97\n",
            "06/03/2019     95\n",
            "27/04/2019     94\n",
            "24/04/2019     92\n",
            "3/05/2019      90\n",
            "15/04/2019     89\n",
            "21/04/2019     82\n",
            "18/04/2019     67\n",
            "12/04/2019     63\n",
            "1/03/2019      47\n",
            "Name: Date_of_Journey, dtype: int64\n",
            "-------------------------------\n",
            "Delhi       4537\n",
            "Kolkata     2871\n",
            "Banglore    2197\n",
            "Mumbai       697\n",
            "Chennai      381\n",
            "Name: Source, dtype: int64\n",
            "-------------------------------\n",
            "Cochin       4537\n",
            "Banglore     2871\n",
            "Delhi        1265\n",
            "New Delhi     932\n",
            "Hyderabad     697\n",
            "Kolkata       381\n",
            "Name: Destination, dtype: int64\n",
            "-------------------------------\n",
            "DEL → BOM → COK                      2376\n",
            "BLR → DEL                            1552\n",
            "CCU → BOM → BLR                       979\n",
            "CCU → BLR                             724\n",
            "BOM → HYD                             621\n",
            "                                     ... \n",
            "BOM → DED → DEL → HYD                   1\n",
            "CCU → IXZ → MAA → BLR                   1\n",
            "BLR → CCU → BBI → HYD → VGA → DEL       1\n",
            "BOM → BLR → CCU → BBI → HYD             1\n",
            "BLR → HBX → BOM → BHO → DEL             1\n",
            "Name: Route, Length: 128, dtype: int64\n",
            "-------------------------------\n",
            "18:55    233\n",
            "17:00    227\n",
            "07:05    205\n",
            "10:00    203\n",
            "07:10    202\n",
            "        ... \n",
            "12:05      1\n",
            "04:15      1\n",
            "21:40      1\n",
            "03:00      1\n",
            "16:25      1\n",
            "Name: Dep_Time, Length: 222, dtype: int64\n",
            "-------------------------------\n",
            "19:00           423\n",
            "21:00           360\n",
            "19:15           333\n",
            "16:10           154\n",
            "12:35           122\n",
            "               ... \n",
            "20:25 19 May      1\n",
            "01:10 02 Mar      1\n",
            "00:50 10 May      1\n",
            "01:45 22 Mar      1\n",
            "13:20 02 Mar      1\n",
            "Name: Arrival_Time, Length: 1343, dtype: int64\n",
            "-------------------------------\n",
            "2h 50m     550\n",
            "1h 30m     386\n",
            "2h 55m     337\n",
            "2h 45m     337\n",
            "2h 35m     329\n",
            "          ... \n",
            "5m           1\n",
            "19h 50m      1\n",
            "30h 25m      1\n",
            "36h 25m      1\n",
            "31h 50m      1\n",
            "Name: Duration, Length: 368, dtype: int64\n",
            "-------------------------------\n",
            "1 stop      5625\n",
            "non-stop    3491\n",
            "2 stops     1520\n",
            "3 stops       45\n",
            "4 stops        1\n",
            "Name: Total_Stops, dtype: int64\n",
            "-------------------------------\n",
            "10262    258\n",
            "10844    212\n",
            "7229     162\n",
            "4804     160\n",
            "4823     131\n",
            "        ... \n",
            "9502       1\n",
            "13875      1\n",
            "7742       1\n",
            "5703       1\n",
            "4098       1\n",
            "Name: Price, Length: 1870, dtype: int64\n",
            "-------------------------------\n"
          ],
          "name": "stdout"
        }
      ]
    },
    {
      "cell_type": "code",
      "metadata": {
        "id": "jetPP-ymmmUy"
      },
      "source": [
        "df=df.dropna()"
      ],
      "execution_count": 150,
      "outputs": []
    },
    {
      "cell_type": "code",
      "metadata": {
        "colab": {
          "base_uri": "https://localhost:8080/"
        },
        "id": "paL6Uivmp-DZ",
        "outputId": "12ca92f3-ff33-422a-aa6e-d124b3e5e52d"
      },
      "source": [
        "df.shape"
      ],
      "execution_count": 151,
      "outputs": [
        {
          "output_type": "execute_result",
          "data": {
            "text/plain": [
              "(10682, 10)"
            ]
          },
          "metadata": {
            "tags": []
          },
          "execution_count": 151
        }
      ]
    },
    {
      "cell_type": "code",
      "metadata": {
        "colab": {
          "base_uri": "https://localhost:8080/"
        },
        "id": "A5s-7CvIn-E0",
        "outputId": "fd7be103-5ff2-49a7-9e26-35840988aece"
      },
      "source": [
        "df['Airline'].value_counts()"
      ],
      "execution_count": 152,
      "outputs": [
        {
          "output_type": "execute_result",
          "data": {
            "text/plain": [
              "Jet Airways                          3849\n",
              "IndiGo                               2053\n",
              "Air India                            1751\n",
              "Multiple carriers                    1196\n",
              "SpiceJet                              818\n",
              "Vistara                               479\n",
              "Air Asia                              319\n",
              "GoAir                                 194\n",
              "Multiple carriers Premium economy      13\n",
              "Jet Airways Business                    6\n",
              "Vistara Premium economy                 3\n",
              "Trujet                                  1\n",
              "Name: Airline, dtype: int64"
            ]
          },
          "metadata": {
            "tags": []
          },
          "execution_count": 152
        }
      ]
    },
    {
      "cell_type": "code",
      "metadata": {
        "colab": {
          "base_uri": "https://localhost:8080/",
          "height": 409
        },
        "id": "64XCOyoxqxa5",
        "outputId": "facbb8fb-f6a3-47b1-c676-80a57b16b767"
      },
      "source": [
        "plt.figure(figsize=(10,5))\n",
        "sns.countplot(df['Airline'])"
      ],
      "execution_count": 153,
      "outputs": [
        {
          "output_type": "stream",
          "text": [
            "/usr/local/lib/python3.7/dist-packages/seaborn/_decorators.py:43: FutureWarning: Pass the following variable as a keyword arg: x. From version 0.12, the only valid positional argument will be `data`, and passing other arguments without an explicit keyword will result in an error or misinterpretation.\n",
            "  FutureWarning\n"
          ],
          "name": "stderr"
        },
        {
          "output_type": "execute_result",
          "data": {
            "text/plain": [
              "<matplotlib.axes._subplots.AxesSubplot at 0x7fa41f81c990>"
            ]
          },
          "metadata": {
            "tags": []
          },
          "execution_count": 153
        },
        {
          "output_type": "display_data",
          "data": {
            "image/png": "[encoded data removed]",
            "text/plain": [
              "<Figure size 720x360 with 1 Axes>"
            ]
          },
          "metadata": {
            "tags": [],
            "needs_background": "light"
          }
        }
      ]
    },
    {
      "cell_type": "code",
      "metadata": {
        "colab": {
          "base_uri": "https://localhost:8080/",
          "height": 1000
        },
        "id": "hLo29Ug4q3nY",
        "outputId": "bc6540b0-438b-45eb-ecc0-fa1c4bdc3c27"
      },
      "source": [
        "plt.figure(figsize=(10,5))\n",
        "\n",
        "sns.pointplot(df['Airline'],df['Price'])\n",
        "plt.xticks(rotation=90)\n",
        "plt.figure(figsize=(10,5))\n",
        "\n",
        "sns.barplot(df['Airline'],df['Price'])\n",
        "plt.xticks(rotation=90)\n",
        "\n",
        "plt.figure(figsize=(10,5))\n",
        "sns.scatterplot(df['Airline'],df['Price'])\n",
        "plt.xticks(rotation=90)\n",
        "\n",
        "plt.figure(figsize=(15,5))\n",
        "sns.boxplot(df['Airline'],df['Price'])\n",
        "plt.xticks(rotation=90)"
      ],
      "execution_count": 154,
      "outputs": [
        {
          "output_type": "stream",
          "text": [
            "/usr/local/lib/python3.7/dist-packages/seaborn/_decorators.py:43: FutureWarning: Pass the following variables as keyword args: x, y. From version 0.12, the only valid positional argument will be `data`, and passing other arguments without an explicit keyword will result in an error or misinterpretation.\n",
            "  FutureWarning\n",
            "/usr/local/lib/python3.7/dist-packages/seaborn/_decorators.py:43: FutureWarning: Pass the following variables as keyword args: x, y. From version 0.12, the only valid positional argument will be `data`, and passing other arguments without an explicit keyword will result in an error or misinterpretation.\n",
            "  FutureWarning\n",
            "/usr/local/lib/python3.7/dist-packages/seaborn/_decorators.py:43: FutureWarning: Pass the following variables as keyword args: x, y. From version 0.12, the only valid positional argument will be `data`, and passing other arguments without an explicit keyword will result in an error or misinterpretation.\n",
            "  FutureWarning\n",
            "/usr/local/lib/python3.7/dist-packages/seaborn/_decorators.py:43: FutureWarning: Pass the following variables as keyword args: x, y. From version 0.12, the only valid positional argument will be `data`, and passing other arguments without an explicit keyword will result in an error or misinterpretation.\n",
            "  FutureWarning\n"
          ],
          "name": "stderr"
        },
        {
          "output_type": "execute_result",
          "data": {
            "text/plain": [
              "(array([ 0,  1,  2,  3,  4,  5,  6,  7,  8,  9, 10, 11]),\n",
              " <a list of 12 Text major ticklabel objects>)"
            ]
          },
          "metadata": {
            "tags": []
          },
          "execution_count": 154
        },
        {
          "output_type": "display_data",
          "data": {
            "image/png": "[encoded data removed]",
            "text/plain": [
              "<Figure size 720x360 with 1 Axes>"
            ]
          },
          "metadata": {
            "tags": [],
            "needs_background": "light"
          }
        },
        {
          "output_type": "display_data",
          "data": {
            "image/png": "[encoded data removed]",
            "text/plain": [
              "<Figure size 720x360 with 1 Axes>"
            ]
          },
          "metadata": {
            "tags": [],
            "needs_background": "light"
          }
        },
        {
          "output_type": "display_data",
          "data": {
            "image/png": "[encoded data removed]",
            "text/plain": [
              "<Figure size 720x360 with 1 Axes>"
            ]
          },
          "metadata": {
            "tags": [],
            "needs_background": "light"
          }
        },
        {
          "output_type": "display_data",
          "data": {
            "image/png": "[encoded data removed]",
            "text/plain": [
              "<Figure size 1080x360 with 1 Axes>"
            ]
          },
          "metadata": {
            "tags": [],
            "needs_background": "light"
          }
        }
      ]
    },
    {
      "cell_type": "markdown",
      "metadata": {
        "id": "nNDKo4LR342n"
      },
      "source": [
        "**3.Data Preprocessing**"
      ]
    },
    {
      "cell_type": "code",
      "metadata": {
        "id": "qtfjh2XltnZm"
      },
      "source": [
        "feature = ['Arrival_Time','Dep_Time','Date_of_Journey','Total_Stops','Duration']\n",
        "df.drop(feature,axis=1,inplace=True)"
      ],
      "execution_count": 155,
      "outputs": []
    },
    {
      "cell_type": "code",
      "metadata": {
        "colab": {
          "base_uri": "https://localhost:8080/",
          "height": 205
        },
        "id": "MFEwty71uED4",
        "outputId": "92b3abdb-8a0f-4cac-c9e2-0afb58e40862"
      },
      "source": [
        "df.head()"
      ],
      "execution_count": 156,
      "outputs": [
        {
          "output_type": "execute_result",
          "data": {
            "text/html": [
              "<div>\n",
              "<style scoped>\n",
              "    .dataframe tbody tr th:only-of-type {\n",
              "        vertical-align: middle;\n",
              "    }\n",
              "\n",
              "    .dataframe tbody tr th {\n",
              "        vertical-align: top;\n",
              "    }\n",
              "\n",
              "    .dataframe thead th {\n",
              "        text-align: right;\n",
              "    }\n",
              "</style>\n",
              "<table border=\"1\" class=\"dataframe\">\n",
              "  <thead>\n",
              "    <tr style=\"text-align: right;\">\n",
              "      <th></th>\n",
              "      <th>Airline</th>\n",
              "      <th>Source</th>\n",
              "      <th>Destination</th>\n",
              "      <th>Route</th>\n",
              "      <th>Price</th>\n",
              "    </tr>\n",
              "  </thead>\n",
              "  <tbody>\n",
              "    <tr>\n",
              "      <th>0</th>\n",
              "      <td>IndiGo</td>\n",
              "      <td>Banglore</td>\n",
              "      <td>New Delhi</td>\n",
              "      <td>BLR → DEL</td>\n",
              "      <td>3897</td>\n",
              "    </tr>\n",
              "    <tr>\n",
              "      <th>1</th>\n",
              "      <td>Air India</td>\n",
              "      <td>Kolkata</td>\n",
              "      <td>Banglore</td>\n",
              "      <td>CCU → IXR → BBI → BLR</td>\n",
              "      <td>7662</td>\n",
              "    </tr>\n",
              "    <tr>\n",
              "      <th>2</th>\n",
              "      <td>Jet Airways</td>\n",
              "      <td>Delhi</td>\n",
              "      <td>Cochin</td>\n",
              "      <td>DEL → LKO → BOM → COK</td>\n",
              "      <td>13882</td>\n",
              "    </tr>\n",
              "    <tr>\n",
              "      <th>3</th>\n",
              "      <td>IndiGo</td>\n",
              "      <td>Kolkata</td>\n",
              "      <td>Banglore</td>\n",
              "      <td>CCU → NAG → BLR</td>\n",
              "      <td>6218</td>\n",
              "    </tr>\n",
              "    <tr>\n",
              "      <th>4</th>\n",
              "      <td>IndiGo</td>\n",
              "      <td>Banglore</td>\n",
              "      <td>New Delhi</td>\n",
              "      <td>BLR → NAG → DEL</td>\n",
              "      <td>13302</td>\n",
              "    </tr>\n",
              "  </tbody>\n",
              "</table>\n",
              "</div>"
            ],
            "text/plain": [
              "       Airline    Source Destination                  Route  Price\n",
              "0       IndiGo  Banglore   New Delhi              BLR → DEL   3897\n",
              "1    Air India   Kolkata    Banglore  CCU → IXR → BBI → BLR   7662\n",
              "2  Jet Airways     Delhi      Cochin  DEL → LKO → BOM → COK  13882\n",
              "3       IndiGo   Kolkata    Banglore        CCU → NAG → BLR   6218\n",
              "4       IndiGo  Banglore   New Delhi        BLR → NAG → DEL  13302"
            ]
          },
          "metadata": {
            "tags": []
          },
          "execution_count": 156
        }
      ]
    },
    {
      "cell_type": "code",
      "metadata": {
        "colab": {
          "base_uri": "https://localhost:8080/",
          "height": 205
        },
        "id": "knXlbPPbyPFd",
        "outputId": "c24c7d66-be42-42f2-ba07-9f02dfcb7b77"
      },
      "source": [
        "df.head()"
      ],
      "execution_count": 161,
      "outputs": [
        {
          "output_type": "execute_result",
          "data": {
            "text/html": [
              "<div>\n",
              "<style scoped>\n",
              "    .dataframe tbody tr th:only-of-type {\n",
              "        vertical-align: middle;\n",
              "    }\n",
              "\n",
              "    .dataframe tbody tr th {\n",
              "        vertical-align: top;\n",
              "    }\n",
              "\n",
              "    .dataframe thead th {\n",
              "        text-align: right;\n",
              "    }\n",
              "</style>\n",
              "<table border=\"1\" class=\"dataframe\">\n",
              "  <thead>\n",
              "    <tr style=\"text-align: right;\">\n",
              "      <th></th>\n",
              "      <th>Airline</th>\n",
              "      <th>Source</th>\n",
              "      <th>Destination</th>\n",
              "      <th>Route</th>\n",
              "      <th>Price</th>\n",
              "    </tr>\n",
              "  </thead>\n",
              "  <tbody>\n",
              "    <tr>\n",
              "      <th>0</th>\n",
              "      <td>IndiGo</td>\n",
              "      <td>Banglore</td>\n",
              "      <td>New Delhi</td>\n",
              "      <td>BLR → DEL</td>\n",
              "      <td>3897</td>\n",
              "    </tr>\n",
              "    <tr>\n",
              "      <th>1</th>\n",
              "      <td>Air India</td>\n",
              "      <td>Kolkata</td>\n",
              "      <td>Banglore</td>\n",
              "      <td>CCU → IXR → BBI → BLR</td>\n",
              "      <td>7662</td>\n",
              "    </tr>\n",
              "    <tr>\n",
              "      <th>2</th>\n",
              "      <td>Jet Airways</td>\n",
              "      <td>Delhi</td>\n",
              "      <td>Cochin</td>\n",
              "      <td>DEL → LKO → BOM → COK</td>\n",
              "      <td>13882</td>\n",
              "    </tr>\n",
              "    <tr>\n",
              "      <th>3</th>\n",
              "      <td>IndiGo</td>\n",
              "      <td>Kolkata</td>\n",
              "      <td>Banglore</td>\n",
              "      <td>CCU → NAG → BLR</td>\n",
              "      <td>6218</td>\n",
              "    </tr>\n",
              "    <tr>\n",
              "      <th>4</th>\n",
              "      <td>IndiGo</td>\n",
              "      <td>Banglore</td>\n",
              "      <td>New Delhi</td>\n",
              "      <td>BLR → NAG → DEL</td>\n",
              "      <td>13302</td>\n",
              "    </tr>\n",
              "  </tbody>\n",
              "</table>\n",
              "</div>"
            ],
            "text/plain": [
              "       Airline    Source Destination                  Route  Price\n",
              "0       IndiGo  Banglore   New Delhi              BLR → DEL   3897\n",
              "1    Air India   Kolkata    Banglore  CCU → IXR → BBI → BLR   7662\n",
              "2  Jet Airways     Delhi      Cochin  DEL → LKO → BOM → COK  13882\n",
              "3       IndiGo   Kolkata    Banglore        CCU → NAG → BLR   6218\n",
              "4       IndiGo  Banglore   New Delhi        BLR → NAG → DEL  13302"
            ]
          },
          "metadata": {
            "tags": []
          },
          "execution_count": 161
        }
      ]
    },
    {
      "cell_type": "code",
      "metadata": {
        "id": "9JyT5eyKwCuX"
      },
      "source": [
        "x= df.drop(columns='Price')\n",
        "y= df['Price']"
      ],
      "execution_count": 157,
      "outputs": []
    },
    {
      "cell_type": "markdown",
      "metadata": {
        "id": "IoDuvITg37ZW"
      },
      "source": [
        "**encoding**"
      ]
    },
    {
      "cell_type": "code",
      "metadata": {
        "id": "cnPyNclUySxu"
      },
      "source": [
        "x=pd.get_dummies(x)"
      ],
      "execution_count": 159,
      "outputs": []
    },
    {
      "cell_type": "code",
      "metadata": {
        "colab": {
          "base_uri": "https://localhost:8080/",
          "height": 324
        },
        "id": "2S2BUWWoyks-",
        "outputId": "8ca7f820-425d-4d09-ea99-7e27a28c21ae"
      },
      "source": [
        "x.head()"
      ],
      "execution_count": 160,
      "outputs": [
        {
          "output_type": "execute_result",
          "data": {
            "text/html": [
              "<div>\n",
              "<style scoped>\n",
              "    .dataframe tbody tr th:only-of-type {\n",
              "        vertical-align: middle;\n",
              "    }\n",
              "\n",
              "    .dataframe tbody tr th {\n",
              "        vertical-align: top;\n",
              "    }\n",
              "\n",
              "    .dataframe thead th {\n",
              "        text-align: right;\n",
              "    }\n",
              "</style>\n",
              "<table border=\"1\" class=\"dataframe\">\n",
              "  <thead>\n",
              "    <tr style=\"text-align: right;\">\n",
              "      <th></th>\n",
              "      <th>Airline_Air Asia</th>\n",
              "      <th>Airline_Air India</th>\n",
              "      <th>Airline_GoAir</th>\n",
              "      <th>Airline_IndiGo</th>\n",
              "      <th>Airline_Jet Airways</th>\n",
              "      <th>Airline_Jet Airways Business</th>\n",
              "      <th>Airline_Multiple carriers</th>\n",
              "      <th>Airline_Multiple carriers Premium economy</th>\n",
              "      <th>Airline_SpiceJet</th>\n",
              "      <th>Airline_Trujet</th>\n",
              "      <th>Airline_Vistara</th>\n",
              "      <th>Airline_Vistara Premium economy</th>\n",
              "      <th>Source_Banglore</th>\n",
              "      <th>Source_Chennai</th>\n",
              "      <th>Source_Delhi</th>\n",
              "      <th>Source_Kolkata</th>\n",
              "      <th>Source_Mumbai</th>\n",
              "      <th>Destination_Banglore</th>\n",
              "      <th>Destination_Cochin</th>\n",
              "      <th>Destination_Delhi</th>\n",
              "      <th>Destination_Hyderabad</th>\n",
              "      <th>Destination_Kolkata</th>\n",
              "      <th>Destination_New Delhi</th>\n",
              "      <th>Route_BLR → AMD → DEL</th>\n",
              "      <th>Route_BLR → BBI → DEL</th>\n",
              "      <th>Route_BLR → BDQ → DEL</th>\n",
              "      <th>Route_BLR → BOM → AMD → DEL</th>\n",
              "      <th>Route_BLR → BOM → BHO → DEL</th>\n",
              "      <th>Route_BLR → BOM → DEL</th>\n",
              "      <th>Route_BLR → BOM → IDR → DEL</th>\n",
              "      <th>Route_BLR → BOM → IDR → GWL → DEL</th>\n",
              "      <th>Route_BLR → BOM → IXC → DEL</th>\n",
              "      <th>Route_BLR → BOM → JDH → DEL</th>\n",
              "      <th>Route_BLR → BOM → NAG → DEL</th>\n",
              "      <th>Route_BLR → BOM → UDR → DEL</th>\n",
              "      <th>Route_BLR → CCU → BBI → DEL</th>\n",
              "      <th>Route_BLR → CCU → BBI → HYD → DEL</th>\n",
              "      <th>Route_BLR → CCU → BBI → HYD → VGA → DEL</th>\n",
              "      <th>Route_BLR → CCU → DEL</th>\n",
              "      <th>Route_BLR → CCU → GAU → DEL</th>\n",
              "      <th>...</th>\n",
              "      <th>Route_CCU → JAI → DEL → BLR</th>\n",
              "      <th>Route_CCU → KNU → BLR</th>\n",
              "      <th>Route_CCU → MAA → BLR</th>\n",
              "      <th>Route_CCU → NAG → BLR</th>\n",
              "      <th>Route_CCU → PAT → BLR</th>\n",
              "      <th>Route_CCU → PNQ → BLR</th>\n",
              "      <th>Route_CCU → RPR → HYD → BLR</th>\n",
              "      <th>Route_CCU → VNS → DEL → BLR</th>\n",
              "      <th>Route_CCU → VTZ → BLR</th>\n",
              "      <th>Route_DEL → AMD → BOM → COK</th>\n",
              "      <th>Route_DEL → AMD → COK</th>\n",
              "      <th>Route_DEL → ATQ → BOM → COK</th>\n",
              "      <th>Route_DEL → BBI → COK</th>\n",
              "      <th>Route_DEL → BDQ → BOM → COK</th>\n",
              "      <th>Route_DEL → BHO → BOM → COK</th>\n",
              "      <th>Route_DEL → BLR → COK</th>\n",
              "      <th>Route_DEL → BOM → COK</th>\n",
              "      <th>Route_DEL → CCU → BOM → COK</th>\n",
              "      <th>Route_DEL → COK</th>\n",
              "      <th>Route_DEL → DED → BOM → COK</th>\n",
              "      <th>Route_DEL → GOI → BOM → COK</th>\n",
              "      <th>Route_DEL → GWL → IDR → BOM → COK</th>\n",
              "      <th>Route_DEL → HYD → BOM → COK</th>\n",
              "      <th>Route_DEL → HYD → COK</th>\n",
              "      <th>Route_DEL → HYD → MAA → COK</th>\n",
              "      <th>Route_DEL → IDR → BOM → COK</th>\n",
              "      <th>Route_DEL → IXC → BOM → COK</th>\n",
              "      <th>Route_DEL → IXU → BOM → COK</th>\n",
              "      <th>Route_DEL → JAI → BOM → COK</th>\n",
              "      <th>Route_DEL → JDH → BOM → COK</th>\n",
              "      <th>Route_DEL → LKO → BOM → COK</th>\n",
              "      <th>Route_DEL → LKO → COK</th>\n",
              "      <th>Route_DEL → MAA → BOM → COK</th>\n",
              "      <th>Route_DEL → MAA → COK</th>\n",
              "      <th>Route_DEL → NAG → BOM → COK</th>\n",
              "      <th>Route_DEL → PNQ → COK</th>\n",
              "      <th>Route_DEL → RPR → NAG → BOM → COK</th>\n",
              "      <th>Route_DEL → TRV → COK</th>\n",
              "      <th>Route_DEL → UDR → BOM → COK</th>\n",
              "      <th>Route_MAA → CCU</th>\n",
              "    </tr>\n",
              "  </thead>\n",
              "  <tbody>\n",
              "    <tr>\n",
              "      <th>0</th>\n",
              "      <td>0</td>\n",
              "      <td>0</td>\n",
              "      <td>0</td>\n",
              "      <td>1</td>\n",
              "      <td>0</td>\n",
              "      <td>0</td>\n",
              "      <td>0</td>\n",
              "      <td>0</td>\n",
              "      <td>0</td>\n",
              "      <td>0</td>\n",
              "      <td>0</td>\n",
              "      <td>0</td>\n",
              "      <td>1</td>\n",
              "      <td>0</td>\n",
              "      <td>0</td>\n",
              "      <td>0</td>\n",
              "      <td>0</td>\n",
              "      <td>0</td>\n",
              "      <td>0</td>\n",
              "      <td>0</td>\n",
              "      <td>0</td>\n",
              "      <td>0</td>\n",
              "      <td>1</td>\n",
              "      <td>0</td>\n",
              "      <td>0</td>\n",
              "      <td>0</td>\n",
              "      <td>0</td>\n",
              "      <td>0</td>\n",
              "      <td>0</td>\n",
              "      <td>0</td>\n",
              "      <td>0</td>\n",
              "      <td>0</td>\n",
              "      <td>0</td>\n",
              "      <td>0</td>\n",
              "      <td>0</td>\n",
              "      <td>0</td>\n",
              "      <td>0</td>\n",
              "      <td>0</td>\n",
              "      <td>0</td>\n",
              "      <td>0</td>\n",
              "      <td>...</td>\n",
              "      <td>0</td>\n",
              "      <td>0</td>\n",
              "      <td>0</td>\n",
              "      <td>0</td>\n",
              "      <td>0</td>\n",
              "      <td>0</td>\n",
              "      <td>0</td>\n",
              "      <td>0</td>\n",
              "      <td>0</td>\n",
              "      <td>0</td>\n",
              "      <td>0</td>\n",
              "      <td>0</td>\n",
              "      <td>0</td>\n",
              "      <td>0</td>\n",
              "      <td>0</td>\n",
              "      <td>0</td>\n",
              "      <td>0</td>\n",
              "      <td>0</td>\n",
              "      <td>0</td>\n",
              "      <td>0</td>\n",
              "      <td>0</td>\n",
              "      <td>0</td>\n",
              "      <td>0</td>\n",
              "      <td>0</td>\n",
              "      <td>0</td>\n",
              "      <td>0</td>\n",
              "      <td>0</td>\n",
              "      <td>0</td>\n",
              "      <td>0</td>\n",
              "      <td>0</td>\n",
              "      <td>0</td>\n",
              "      <td>0</td>\n",
              "      <td>0</td>\n",
              "      <td>0</td>\n",
              "      <td>0</td>\n",
              "      <td>0</td>\n",
              "      <td>0</td>\n",
              "      <td>0</td>\n",
              "      <td>0</td>\n",
              "      <td>0</td>\n",
              "    </tr>\n",
              "    <tr>\n",
              "      <th>1</th>\n",
              "      <td>0</td>\n",
              "      <td>1</td>\n",
              "      <td>0</td>\n",
              "      <td>0</td>\n",
              "      <td>0</td>\n",
              "      <td>0</td>\n",
              "      <td>0</td>\n",
              "      <td>0</td>\n",
              "      <td>0</td>\n",
              "      <td>0</td>\n",
              "      <td>0</td>\n",
              "      <td>0</td>\n",
              "      <td>0</td>\n",
              "      <td>0</td>\n",
              "      <td>0</td>\n",
              "      <td>1</td>\n",
              "      <td>0</td>\n",
              "      <td>1</td>\n",
              "      <td>0</td>\n",
              "      <td>0</td>\n",
              "      <td>0</td>\n",
              "      <td>0</td>\n",
              "      <td>0</td>\n",
              "      <td>0</td>\n",
              "      <td>0</td>\n",
              "      <td>0</td>\n",
              "      <td>0</td>\n",
              "      <td>0</td>\n",
              "      <td>0</td>\n",
              "      <td>0</td>\n",
              "      <td>0</td>\n",
              "      <td>0</td>\n",
              "      <td>0</td>\n",
              "      <td>0</td>\n",
              "      <td>0</td>\n",
              "      <td>0</td>\n",
              "      <td>0</td>\n",
              "      <td>0</td>\n",
              "      <td>0</td>\n",
              "      <td>0</td>\n",
              "      <td>...</td>\n",
              "      <td>0</td>\n",
              "      <td>0</td>\n",
              "      <td>0</td>\n",
              "      <td>0</td>\n",
              "      <td>0</td>\n",
              "      <td>0</td>\n",
              "      <td>0</td>\n",
              "      <td>0</td>\n",
              "      <td>0</td>\n",
              "      <td>0</td>\n",
              "      <td>0</td>\n",
              "      <td>0</td>\n",
              "      <td>0</td>\n",
              "      <td>0</td>\n",
              "      <td>0</td>\n",
              "      <td>0</td>\n",
              "      <td>0</td>\n",
              "      <td>0</td>\n",
              "      <td>0</td>\n",
              "      <td>0</td>\n",
              "      <td>0</td>\n",
              "      <td>0</td>\n",
              "      <td>0</td>\n",
              "      <td>0</td>\n",
              "      <td>0</td>\n",
              "      <td>0</td>\n",
              "      <td>0</td>\n",
              "      <td>0</td>\n",
              "      <td>0</td>\n",
              "      <td>0</td>\n",
              "      <td>0</td>\n",
              "      <td>0</td>\n",
              "      <td>0</td>\n",
              "      <td>0</td>\n",
              "      <td>0</td>\n",
              "      <td>0</td>\n",
              "      <td>0</td>\n",
              "      <td>0</td>\n",
              "      <td>0</td>\n",
              "      <td>0</td>\n",
              "    </tr>\n",
              "    <tr>\n",
              "      <th>2</th>\n",
              "      <td>0</td>\n",
              "      <td>0</td>\n",
              "      <td>0</td>\n",
              "      <td>0</td>\n",
              "      <td>1</td>\n",
              "      <td>0</td>\n",
              "      <td>0</td>\n",
              "      <td>0</td>\n",
              "      <td>0</td>\n",
              "      <td>0</td>\n",
              "      <td>0</td>\n",
              "      <td>0</td>\n",
              "      <td>0</td>\n",
              "      <td>0</td>\n",
              "      <td>1</td>\n",
              "      <td>0</td>\n",
              "      <td>0</td>\n",
              "      <td>0</td>\n",
              "      <td>1</td>\n",
              "      <td>0</td>\n",
              "      <td>0</td>\n",
              "      <td>0</td>\n",
              "      <td>0</td>\n",
              "      <td>0</td>\n",
              "      <td>0</td>\n",
              "      <td>0</td>\n",
              "      <td>0</td>\n",
              "      <td>0</td>\n",
              "      <td>0</td>\n",
              "      <td>0</td>\n",
              "      <td>0</td>\n",
              "      <td>0</td>\n",
              "      <td>0</td>\n",
              "      <td>0</td>\n",
              "      <td>0</td>\n",
              "      <td>0</td>\n",
              "      <td>0</td>\n",
              "      <td>0</td>\n",
              "      <td>0</td>\n",
              "      <td>0</td>\n",
              "      <td>...</td>\n",
              "      <td>0</td>\n",
              "      <td>0</td>\n",
              "      <td>0</td>\n",
              "      <td>0</td>\n",
              "      <td>0</td>\n",
              "      <td>0</td>\n",
              "      <td>0</td>\n",
              "      <td>0</td>\n",
              "      <td>0</td>\n",
              "      <td>0</td>\n",
              "      <td>0</td>\n",
              "      <td>0</td>\n",
              "      <td>0</td>\n",
              "      <td>0</td>\n",
              "      <td>0</td>\n",
              "      <td>0</td>\n",
              "      <td>0</td>\n",
              "      <td>0</td>\n",
              "      <td>0</td>\n",
              "      <td>0</td>\n",
              "      <td>0</td>\n",
              "      <td>0</td>\n",
              "      <td>0</td>\n",
              "      <td>0</td>\n",
              "      <td>0</td>\n",
              "      <td>0</td>\n",
              "      <td>0</td>\n",
              "      <td>0</td>\n",
              "      <td>0</td>\n",
              "      <td>0</td>\n",
              "      <td>1</td>\n",
              "      <td>0</td>\n",
              "      <td>0</td>\n",
              "      <td>0</td>\n",
              "      <td>0</td>\n",
              "      <td>0</td>\n",
              "      <td>0</td>\n",
              "      <td>0</td>\n",
              "      <td>0</td>\n",
              "      <td>0</td>\n",
              "    </tr>\n",
              "    <tr>\n",
              "      <th>3</th>\n",
              "      <td>0</td>\n",
              "      <td>0</td>\n",
              "      <td>0</td>\n",
              "      <td>1</td>\n",
              "      <td>0</td>\n",
              "      <td>0</td>\n",
              "      <td>0</td>\n",
              "      <td>0</td>\n",
              "      <td>0</td>\n",
              "      <td>0</td>\n",
              "      <td>0</td>\n",
              "      <td>0</td>\n",
              "      <td>0</td>\n",
              "      <td>0</td>\n",
              "      <td>0</td>\n",
              "      <td>1</td>\n",
              "      <td>0</td>\n",
              "      <td>1</td>\n",
              "      <td>0</td>\n",
              "      <td>0</td>\n",
              "      <td>0</td>\n",
              "      <td>0</td>\n",
              "      <td>0</td>\n",
              "      <td>0</td>\n",
              "      <td>0</td>\n",
              "      <td>0</td>\n",
              "      <td>0</td>\n",
              "      <td>0</td>\n",
              "      <td>0</td>\n",
              "      <td>0</td>\n",
              "      <td>0</td>\n",
              "      <td>0</td>\n",
              "      <td>0</td>\n",
              "      <td>0</td>\n",
              "      <td>0</td>\n",
              "      <td>0</td>\n",
              "      <td>0</td>\n",
              "      <td>0</td>\n",
              "      <td>0</td>\n",
              "      <td>0</td>\n",
              "      <td>...</td>\n",
              "      <td>0</td>\n",
              "      <td>0</td>\n",
              "      <td>0</td>\n",
              "      <td>1</td>\n",
              "      <td>0</td>\n",
              "      <td>0</td>\n",
              "      <td>0</td>\n",
              "      <td>0</td>\n",
              "      <td>0</td>\n",
              "      <td>0</td>\n",
              "      <td>0</td>\n",
              "      <td>0</td>\n",
              "      <td>0</td>\n",
              "      <td>0</td>\n",
              "      <td>0</td>\n",
              "      <td>0</td>\n",
              "      <td>0</td>\n",
              "      <td>0</td>\n",
              "      <td>0</td>\n",
              "      <td>0</td>\n",
              "      <td>0</td>\n",
              "      <td>0</td>\n",
              "      <td>0</td>\n",
              "      <td>0</td>\n",
              "      <td>0</td>\n",
              "      <td>0</td>\n",
              "      <td>0</td>\n",
              "      <td>0</td>\n",
              "      <td>0</td>\n",
              "      <td>0</td>\n",
              "      <td>0</td>\n",
              "      <td>0</td>\n",
              "      <td>0</td>\n",
              "      <td>0</td>\n",
              "      <td>0</td>\n",
              "      <td>0</td>\n",
              "      <td>0</td>\n",
              "      <td>0</td>\n",
              "      <td>0</td>\n",
              "      <td>0</td>\n",
              "    </tr>\n",
              "    <tr>\n",
              "      <th>4</th>\n",
              "      <td>0</td>\n",
              "      <td>0</td>\n",
              "      <td>0</td>\n",
              "      <td>1</td>\n",
              "      <td>0</td>\n",
              "      <td>0</td>\n",
              "      <td>0</td>\n",
              "      <td>0</td>\n",
              "      <td>0</td>\n",
              "      <td>0</td>\n",
              "      <td>0</td>\n",
              "      <td>0</td>\n",
              "      <td>1</td>\n",
              "      <td>0</td>\n",
              "      <td>0</td>\n",
              "      <td>0</td>\n",
              "      <td>0</td>\n",
              "      <td>0</td>\n",
              "      <td>0</td>\n",
              "      <td>0</td>\n",
              "      <td>0</td>\n",
              "      <td>0</td>\n",
              "      <td>1</td>\n",
              "      <td>0</td>\n",
              "      <td>0</td>\n",
              "      <td>0</td>\n",
              "      <td>0</td>\n",
              "      <td>0</td>\n",
              "      <td>0</td>\n",
              "      <td>0</td>\n",
              "      <td>0</td>\n",
              "      <td>0</td>\n",
              "      <td>0</td>\n",
              "      <td>0</td>\n",
              "      <td>0</td>\n",
              "      <td>0</td>\n",
              "      <td>0</td>\n",
              "      <td>0</td>\n",
              "      <td>0</td>\n",
              "      <td>0</td>\n",
              "      <td>...</td>\n",
              "      <td>0</td>\n",
              "      <td>0</td>\n",
              "      <td>0</td>\n",
              "      <td>0</td>\n",
              "      <td>0</td>\n",
              "      <td>0</td>\n",
              "      <td>0</td>\n",
              "      <td>0</td>\n",
              "      <td>0</td>\n",
              "      <td>0</td>\n",
              "      <td>0</td>\n",
              "      <td>0</td>\n",
              "      <td>0</td>\n",
              "      <td>0</td>\n",
              "      <td>0</td>\n",
              "      <td>0</td>\n",
              "      <td>0</td>\n",
              "      <td>0</td>\n",
              "      <td>0</td>\n",
              "      <td>0</td>\n",
              "      <td>0</td>\n",
              "      <td>0</td>\n",
              "      <td>0</td>\n",
              "      <td>0</td>\n",
              "      <td>0</td>\n",
              "      <td>0</td>\n",
              "      <td>0</td>\n",
              "      <td>0</td>\n",
              "      <td>0</td>\n",
              "      <td>0</td>\n",
              "      <td>0</td>\n",
              "      <td>0</td>\n",
              "      <td>0</td>\n",
              "      <td>0</td>\n",
              "      <td>0</td>\n",
              "      <td>0</td>\n",
              "      <td>0</td>\n",
              "      <td>0</td>\n",
              "      <td>0</td>\n",
              "      <td>0</td>\n",
              "    </tr>\n",
              "  </tbody>\n",
              "</table>\n",
              "<p>5 rows × 151 columns</p>\n",
              "</div>"
            ],
            "text/plain": [
              "   Airline_Air Asia  ...  Route_MAA → CCU\n",
              "0                 0  ...                0\n",
              "1                 0  ...                0\n",
              "2                 0  ...                0\n",
              "3                 0  ...                0\n",
              "4                 0  ...                0\n",
              "\n",
              "[5 rows x 151 columns]"
            ]
          },
          "metadata": {
            "tags": []
          },
          "execution_count": 160
        }
      ]
    },
    {
      "cell_type": "code",
      "metadata": {
        "colab": {
          "base_uri": "https://localhost:8080/"
        },
        "id": "HNKOTRhfzHT6",
        "outputId": "7e15812a-8efb-49ec-9ad1-3162eaf65f50"
      },
      "source": [
        "x.shape"
      ],
      "execution_count": 168,
      "outputs": [
        {
          "output_type": "execute_result",
          "data": {
            "text/plain": [
              "(10682, 151)"
            ]
          },
          "metadata": {
            "tags": []
          },
          "execution_count": 168
        }
      ]
    },
    {
      "cell_type": "code",
      "metadata": {
        "colab": {
          "base_uri": "https://localhost:8080/"
        },
        "id": "zMx76Pjvy5e3",
        "outputId": "8d9911bd-b896-4020-b75e-c0f03578317b"
      },
      "source": [
        "y.shape"
      ],
      "execution_count": 167,
      "outputs": [
        {
          "output_type": "execute_result",
          "data": {
            "text/plain": [
              "(10682,)"
            ]
          },
          "metadata": {
            "tags": []
          },
          "execution_count": 167
        }
      ]
    },
    {
      "cell_type": "markdown",
      "metadata": {
        "id": "z7qv6C_n3_uW"
      },
      "source": [
        "**train_test_split**"
      ]
    },
    {
      "cell_type": "code",
      "metadata": {
        "id": "bpVwHA_Ywbr-"
      },
      "source": [
        "from sklearn.model_selection import train_test_split\n",
        "x_train, x_test, y_train, y_test = train_test_split(x,y,test_size=0.2,random_state=47)"
      ],
      "execution_count": 162,
      "outputs": []
    },
    {
      "cell_type": "code",
      "metadata": {
        "id": "qCC7IlzZwg1F"
      },
      "source": [
        "from sklearn.metrics import mean_squared_error,mean_absolute_error\n",
        "from sklearn.metrics import r2_score\n",
        "from sklearn.model_selection import train_test_split\n",
        "from sklearn.model_selection import cross_val_score\n",
        "from sklearn.linear_model import LinearRegression"
      ],
      "execution_count": 163,
      "outputs": []
    },
    {
      "cell_type": "markdown",
      "metadata": {
        "id": "5tilOVEm4EdB"
      },
      "source": [
        "**finding best random_state**"
      ]
    },
    {
      "cell_type": "code",
      "metadata": {
        "colab": {
          "base_uri": "https://localhost:8080/"
        },
        "id": "hOpKfm4HwlWZ",
        "outputId": "06b70133-2d14-489f-af78-1863505ec577"
      },
      "source": [
        "from sklearn.metrics import r2_score\n",
        "d=5\n",
        "for i in range(0,100):\n",
        "  x_train, x_test, y_train, y_test = train_test_split(x,y,test_size=0.2,random_state=i)\n",
        "  lm=LinearRegression()\n",
        "  lm.fit(x_train,y_train)\n",
        "  pred_train=lm.predict(x_train)\n",
        "  pred_test = lm.predict(x_test)\n",
        "  a=r2_score(y_train,pred_train)\n",
        "  b=r2_score(y_test,pred_test)\n",
        "  c=a-b\n",
        "  print(i,c)\n",
        "  if d>=c:\n",
        "    d=c\n",
        "    print(\"least value\",i,d)"
      ],
      "execution_count": 164,
      "outputs": [
        {
          "output_type": "stream",
          "text": [
            "0 3.2486507363184673e+21\n",
            "1 6.395332609002686e+20\n",
            "2 6.513074794777336e+20\n",
            "3 2.9659934543651143e+22\n",
            "4 1.6664181480567012e+22\n",
            "5 3.2968585448017206e+20\n",
            "6 4.176010758942107e+20\n",
            "7 1.5071612071841202e+22\n",
            "8 5.496786255881497e+21\n",
            "9 1.2694033085015767e+21\n",
            "10 4.4492614277179566e+20\n",
            "11 1.2887807199161927e+22\n",
            "12 3.506284759126687e+21\n",
            "13 9.461195982374493e+20\n",
            "14 1.640883362847125e+20\n",
            "15 1.2001002318347498e+20\n",
            "16 3.36851317267531e+20\n",
            "17 1.4946507745795844e+20\n",
            "18 1.7332306794516318e+22\n",
            "19 2.1551618505517973e+21\n",
            "20 5.96879333572955e+21\n",
            "21 9.608688163614419e+23\n",
            "22 1.8808295956098029e+22\n",
            "23 3.798976590506557e+21\n",
            "24 2.9887789969402335e+19\n",
            "25 -0.005854890862295514\n",
            "least value 25 -0.005854890862295514\n",
            "26 2.0724394434133137e+22\n",
            "27 7.290186954313918e+21\n",
            "28 1.2277085757960463e+21\n",
            "29 2.570264803061244e+18\n",
            "30 2.4245195581684475e+21\n",
            "31 5.956853746485432e+22\n",
            "32 3.533723610172758e+18\n",
            "33 5.953271850614292e+19\n",
            "34 7.741146311560688e+18\n",
            "35 3.780109237254368e+21\n",
            "36 1.0671090055773652e+22\n",
            "37 6.283510418717496e+19\n",
            "38 2.9975730605095473e+22\n",
            "39 1.0759807583652341e+21\n",
            "40 1.6291419030712562e+21\n",
            "41 5.324492025839911e+21\n",
            "42 1.0375068721921778e+20\n",
            "43 6.208863122962213e+21\n",
            "44 6.431758101131297e+22\n",
            "45 9.220435184860117e+21\n",
            "46 3.833542582980497e+21\n",
            "47 6.742614067337253e+21\n",
            "48 4.320290787157466e+22\n",
            "49 1.648074389559054e+22\n",
            "50 3.0187869043137466e+20\n",
            "51 3.5035584150272242e+22\n",
            "52 1.213672360053168e+21\n",
            "53 1.7270732961540218e+23\n",
            "54 8.783297329075361e+20\n",
            "55 2.3452660019435642e+22\n",
            "56 7.803358998834798e+20\n",
            "57 7.478082025430764e+23\n",
            "58 3.0944128131610863e+22\n",
            "59 4.184427254435801e+21\n",
            "60 3.5131731139412813e+20\n",
            "61 6.714458631818885e+19\n",
            "62 6.383754264388572e+21\n",
            "63 1.669911986617168e+22\n",
            "64 8.630531110786993e+21\n",
            "65 2.544706202444001e+21\n",
            "66 6.331834876130593e+20\n",
            "67 1.5736260815924633e+22\n",
            "68 3.1281520354625915e+18\n",
            "69 5.101351582200649e+21\n",
            "70 1.6214971111170536e+20\n",
            "71 7.235028549850268e+20\n",
            "72 7.42649322434838e+20\n",
            "73 7.1205804680433e+21\n",
            "74 4.1529682249356317e+21\n",
            "75 9.134519156576212e+21\n",
            "76 1.995286126122191e+22\n",
            "77 4.2521148620024117e+21\n",
            "78 5.963451880353868e+21\n",
            "79 3.2421115490904054e+20\n",
            "80 3.057032652272185e+21\n",
            "81 6.259753169258672e+23\n",
            "82 1.9226304502407224e+22\n",
            "83 1.341883668241524e+21\n",
            "84 2.2765319361936605e+20\n",
            "85 1.718906902210664e+20\n",
            "86 1.3414874284056744e+22\n",
            "87 5.5877622273767414e+20\n",
            "88 4.2965445555640284e+20\n",
            "89 5.3056598577791625e+20\n",
            "90 1.9076114740598227e+20\n",
            "91 8.022720539137385e+21\n",
            "92 8.536155457110842e+21\n",
            "93 3.550072072371999e+22\n",
            "94 8.676610660560532e+20\n",
            "95 2.0392788560704868e+21\n",
            "96 4.0714269643460326e+20\n",
            "97 1.2732256243028661e+21\n",
            "98 2.4003179567526235e+21\n",
            "99 2.0324327488595592e+21\n"
          ],
          "name": "stdout"
        }
      ]
    },
    {
      "cell_type": "code",
      "metadata": {
        "id": "lz1fveX-w0Ae"
      },
      "source": [
        "x_train, x_test, y_train, y_test = train_test_split(x,y,test_size=0.2,random_state=25)"
      ],
      "execution_count": 192,
      "outputs": []
    },
    {
      "cell_type": "markdown",
      "metadata": {
        "id": "-Be1YSNc4M7w"
      },
      "source": [
        "**Model Construction**"
      ]
    },
    {
      "cell_type": "markdown",
      "metadata": {
        "id": "wO5A289H4Rp-"
      },
      "source": [
        "LinearRegression"
      ]
    },
    {
      "cell_type": "code",
      "metadata": {
        "colab": {
          "base_uri": "https://localhost:8080/"
        },
        "id": "IAXl-RvLw_k7",
        "outputId": "0e615bd7-7d70-4b93-e925-2f1a4ebabdb8"
      },
      "source": [
        "LR=LinearRegression()\n",
        "LR.fit(x_train,y_train)\n",
        "print(LR.score(x_train,y_train))\n",
        "LR_predict=LR.predict(x_test)"
      ],
      "execution_count": 193,
      "outputs": [
        {
          "output_type": "stream",
          "text": [
            "0.6573576297452938\n"
          ],
          "name": "stdout"
        }
      ]
    },
    {
      "cell_type": "code",
      "metadata": {
        "colab": {
          "base_uri": "https://localhost:8080/"
        },
        "id": "AqUORWhdw_ih",
        "outputId": "34035db2-61c6-40f0-ec3a-03d14b448ea2"
      },
      "source": [
        "print('Mean Absolute Error: ',metrics.mean_absolute_error(y_test,LR_predict))\n",
        "print('Mean Squared Error: ',metrics.mean_squared_error(y_test,LR_predict))\n",
        "print('Root Mean Squared Error: ',np.sqrt(metrics.mean_squared_error(y_test,LR_predict)))\n",
        "print('Explained Variance Score: ',metrics.explained_variance_score(y_test,LR_predict))\n",
        "print('r2_score:',r2_score(y_test,LR_predict))"
      ],
      "execution_count": 194,
      "outputs": [
        {
          "output_type": "stream",
          "text": [
            "Mean Absolute Error:  1790.514272344408\n",
            "Mean Squared Error:  7619845.556855405\n",
            "Root Mean Squared Error:  2760.406773802623\n",
            "Explained Variance Score:  0.6634937303779194\n",
            "r2_score: 0.6632125206075893\n"
          ],
          "name": "stdout"
        }
      ]
    },
    {
      "cell_type": "markdown",
      "metadata": {
        "id": "D39tsy5W4TEu"
      },
      "source": [
        "RandomForestRegressor"
      ]
    },
    {
      "cell_type": "code",
      "metadata": {
        "colab": {
          "base_uri": "https://localhost:8080/"
        },
        "id": "ta_UxEWjw_gH",
        "outputId": "4c61af39-d39f-4979-f0a1-5a8e8aac85a8"
      },
      "source": [
        "from sklearn.ensemble import RandomForestRegressor\n",
        "rf=RandomForestRegressor()\n",
        "rf.fit(x_train,y_train)\n",
        "predictions1=rf.predict(x_test)\n",
        "print(rf.score(x_train,y_train))"
      ],
      "execution_count": 195,
      "outputs": [
        {
          "output_type": "stream",
          "text": [
            "0.6739867055752558\n"
          ],
          "name": "stdout"
        }
      ]
    },
    {
      "cell_type": "code",
      "metadata": {
        "colab": {
          "base_uri": "https://localhost:8080/"
        },
        "id": "0BYWTEIEzoB2",
        "outputId": "53336994-8e52-4cb0-9d3f-8f99c3e305a3"
      },
      "source": [
        "print('Mean Absolute Error: ',metrics.mean_absolute_error(y_test,predictions1))\n",
        "print('Mean Squared Error: ',metrics.mean_squared_error(y_test,predictions1))\n",
        "print('Root Mean Squared Error: ',np.sqrt(metrics.mean_squared_error(y_test,predictions1)))\n",
        "print('Explained Variance Score: ',metrics.explained_variance_score(y_test,predictions1))\n",
        "print('r2_score:',r2_score(y_test,predictions1))"
      ],
      "execution_count": 196,
      "outputs": [
        {
          "output_type": "stream",
          "text": [
            "Mean Absolute Error:  1704.2608867910594\n",
            "Mean Squared Error:  7346108.290332123\n",
            "Root Mean Squared Error:  2710.3705079439087\n",
            "Explained Variance Score:  0.675641255013313\n",
            "r2_score: 0.6753113595302762\n"
          ],
          "name": "stdout"
        }
      ]
    },
    {
      "cell_type": "markdown",
      "metadata": {
        "id": "onYe-mvF4Uhu"
      },
      "source": [
        "DecisionTreeRegressor"
      ]
    },
    {
      "cell_type": "code",
      "metadata": {
        "colab": {
          "base_uri": "https://localhost:8080/"
        },
        "id": "vQeap4U_zvw5",
        "outputId": "2cd90b72-2815-4dd6-9489-b04983fd63f2"
      },
      "source": [
        "from sklearn.tree import DecisionTreeRegressor\n",
        "\n",
        "DTR=DecisionTreeRegressor()\n",
        "DTR.fit(x_train,y_train)\n",
        "print(DTR.score(x_train,y_train))\n",
        "DTR_PRED=DTR.predict(x_test)"
      ],
      "execution_count": 197,
      "outputs": [
        {
          "output_type": "stream",
          "text": [
            "0.6745586590096793\n"
          ],
          "name": "stdout"
        }
      ]
    },
    {
      "cell_type": "code",
      "metadata": {
        "colab": {
          "base_uri": "https://localhost:8080/"
        },
        "id": "3jrWy9rNzxq2",
        "outputId": "47812f49-8f77-4ac3-db8e-339a45a16c49"
      },
      "source": [
        "print('Mean Absolute Error: ',metrics.mean_absolute_error(y_test,DTR_PRED))\n",
        "print('Mean Squared Error: ',metrics.mean_squared_error(y_test,DTR_PRED))\n",
        "print('Root Mean Squared Error: ',np.sqrt(metrics.mean_squared_error(y_test,DTR_PRED)))\n",
        "print('Explained Variance Score: ',metrics.explained_variance_score(y_test,DTR_PRED))\n",
        "print('r2_score:',r2_score(y_test,DTR_PRED))"
      ],
      "execution_count": 198,
      "outputs": [
        {
          "output_type": "stream",
          "text": [
            "Mean Absolute Error:  1703.9443853497587\n",
            "Mean Squared Error:  7281444.8440404665\n",
            "Root Mean Squared Error:  2698.41524677735\n",
            "Explained Variance Score:  0.6784873571899637\n",
            "r2_score: 0.6781694015893833\n"
          ],
          "name": "stdout"
        }
      ]
    },
    {
      "cell_type": "markdown",
      "metadata": {
        "id": "xn-dMn241O8n"
      },
      "source": [
        "**Hyper parameter tuning**"
      ]
    },
    {
      "cell_type": "code",
      "metadata": {
        "id": "Qm5kMKwuz4BH"
      },
      "source": [
        "from sklearn.model_selection import GridSearchCV\n",
        "parameter = {\"max_depth\":[1,3,5,7,9,11,12],\n",
        "             'criterion':['mse','friedman_mse']}\n",
        "GCV = GridSearchCV(DecisionTreeRegressor(),parameter,cv=5)"
      ],
      "execution_count": 199,
      "outputs": []
    },
    {
      "cell_type": "code",
      "metadata": {
        "colab": {
          "base_uri": "https://localhost:8080/"
        },
        "id": "yHG5wZWkz_tn",
        "outputId": "c26b2170-a30f-4fe7-d38d-1c9fb7abaee3"
      },
      "source": [
        "GCV.fit(x_train,y_train)"
      ],
      "execution_count": 200,
      "outputs": [
        {
          "output_type": "execute_result",
          "data": {
            "text/plain": [
              "GridSearchCV(cv=5, error_score=nan,\n",
              "             estimator=DecisionTreeRegressor(ccp_alpha=0.0, criterion='mse',\n",
              "                                             max_depth=None, max_features=None,\n",
              "                                             max_leaf_nodes=None,\n",
              "                                             min_impurity_decrease=0.0,\n",
              "                                             min_impurity_split=None,\n",
              "                                             min_samples_leaf=1,\n",
              "                                             min_samples_split=2,\n",
              "                                             min_weight_fraction_leaf=0.0,\n",
              "                                             presort='deprecated',\n",
              "                                             random_state=None,\n",
              "                                             splitter='best'),\n",
              "             iid='deprecated', n_jobs=None,\n",
              "             param_grid={'criterion': ['mse', 'friedman_mse'],\n",
              "                         'max_depth': [1, 3, 5, 7, 9, 11, 12]},\n",
              "             pre_dispatch='2*n_jobs', refit=True, return_train_score=False,\n",
              "             scoring=None, verbose=0)"
            ]
          },
          "metadata": {
            "tags": []
          },
          "execution_count": 200
        }
      ]
    },
    {
      "cell_type": "code",
      "metadata": {
        "colab": {
          "base_uri": "https://localhost:8080/"
        },
        "id": "eXrery0_0Cku",
        "outputId": "a3c95962-389b-40ec-cb14-a9466ad6786c"
      },
      "source": [
        "GCV.best_params_"
      ],
      "execution_count": 201,
      "outputs": [
        {
          "output_type": "execute_result",
          "data": {
            "text/plain": [
              "{'criterion': 'friedman_mse', 'max_depth': 12}"
            ]
          },
          "metadata": {
            "tags": []
          },
          "execution_count": 201
        }
      ]
    },
    {
      "cell_type": "code",
      "metadata": {
        "id": "gGrzf5Rg0EZI"
      },
      "source": [
        "from sklearn.tree import DecisionTreeRegressor\n",
        "\n",
        "DTR=DecisionTreeRegressor(criterion='friedman_mse',max_depth=12)\n",
        "DTR.fit(x_train,y_train)\n",
        "DTR_final=DTR.predict(x_test)"
      ],
      "execution_count": 204,
      "outputs": []
    },
    {
      "cell_type": "code",
      "metadata": {
        "colab": {
          "base_uri": "https://localhost:8080/"
        },
        "id": "wRlhg45r03FX",
        "outputId": "17cde7e6-f850-4180-c08f-3ee69b8fbb78"
      },
      "source": [
        "print(DTR.score(x_train,y_train))"
      ],
      "execution_count": 205,
      "outputs": [
        {
          "output_type": "stream",
          "text": [
            "0.6745586590096793\n"
          ],
          "name": "stdout"
        }
      ]
    },
    {
      "cell_type": "code",
      "metadata": {
        "colab": {
          "base_uri": "https://localhost:8080/"
        },
        "id": "zcWABpQ60HCe",
        "outputId": "b975d62a-d51b-493f-bd90-88f6d24a75cd"
      },
      "source": [
        "print('Mean Absolute Error: ',metrics.mean_absolute_error(y_test,DTR_final))\n",
        "print('Mean Squared Error: ',metrics.mean_squared_error(y_test,DTR_final))\n",
        "print('Root Mean Squared Error: ',np.sqrt(metrics.mean_squared_error(y_test,DTR_final)))\n",
        "print('Explained Variance Score: ',metrics.explained_variance_score(y_test,DTR_final))\n",
        "print('r2_score:',r2_score(y_test,DTR_final))"
      ],
      "execution_count": 206,
      "outputs": [
        {
          "output_type": "stream",
          "text": [
            "Mean Absolute Error:  1704.0716665851355\n",
            "Mean Squared Error:  7282242.642823808\n",
            "Root Mean Squared Error:  2698.563070010373\n",
            "Explained Variance Score:  0.6784511419200909\n",
            "r2_score: 0.6781341398981457\n"
          ],
          "name": "stdout"
        }
      ]
    },
    {
      "cell_type": "markdown",
      "metadata": {
        "id": "gC1i-TAZ1TqG"
      },
      "source": [
        "Final Model"
      ]
    },
    {
      "cell_type": "code",
      "metadata": {
        "colab": {
          "base_uri": "https://localhost:8080/"
        },
        "id": "NbeVNyH31S9v",
        "outputId": "4e96d835-490d-49d8-ec5a-0d5604062e5d"
      },
      "source": [
        "import joblib\n",
        "joblib.dump(DTR,\"finalmodel.pkl\")"
      ],
      "execution_count": 208,
      "outputs": [
        {
          "output_type": "execute_result",
          "data": {
            "text/plain": [
              "['finalmodel.pkl']"
            ]
          },
          "metadata": {
            "tags": []
          },
          "execution_count": 208
        }
      ]
    }
  ]
}