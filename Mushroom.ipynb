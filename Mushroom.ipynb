{
  "nbformat": 4,
  "nbformat_minor": 0,
  "metadata": {
    "colab": {
      "name": "Mushroom.ipynb",
      "provenance": [],
      "collapsed_sections": []
    },
    "kernelspec": {
      "name": "python3",
      "display_name": "Python 3"
    },
    "language_info": {
      "name": "python"
    }
  },
  "cells": [
    {
      "cell_type": "markdown",
      "metadata": {
        "id": "Wva_Zi8cveBR"
      },
      "source": [
        "# **MUSHROOM PROJECT**"
      ]
    },
    {
      "cell_type": "markdown",
      "metadata": {
        "id": "uIroN_k9vsyX"
      },
      "source": [
        "## 1.IMPORTING DATASET"
      ]
    },
    {
      "cell_type": "code",
      "metadata": {
        "id": "ziXdtMZWm9CQ"
      },
      "source": [
        "import numpy as np\n",
        "import pandas as pd\n",
        "import matplotlib.pyplot as plt\n",
        "import seaborn as sns"
      ],
      "execution_count": 1,
      "outputs": []
    },
    {
      "cell_type": "code",
      "metadata": {
        "id": "LqyT9lw2sQZi"
      },
      "source": [
        "df=pd.read_csv(\"https://raw.githubusercontent.com/dsrscientist/dataset1/master/mushrooms.csv\")"
      ],
      "execution_count": 2,
      "outputs": []
    },
    {
      "cell_type": "code",
      "metadata": {
        "colab": {
          "base_uri": "https://localhost:8080/",
          "height": 244
        },
        "id": "Jo3JY9fzHRUW",
        "outputId": "d476de3c-6e66-468b-a9ff-31a85a8b3924"
      },
      "source": [
        "df.describe()"
      ],
      "execution_count": 3,
      "outputs": [
        {
          "output_type": "execute_result",
          "data": {
            "text/html": [
              "<div>\n",
              "<style scoped>\n",
              "    .dataframe tbody tr th:only-of-type {\n",
              "        vertical-align: middle;\n",
              "    }\n",
              "\n",
              "    .dataframe tbody tr th {\n",
              "        vertical-align: top;\n",
              "    }\n",
              "\n",
              "    .dataframe thead th {\n",
              "        text-align: right;\n",
              "    }\n",
              "</style>\n",
              "<table border=\"1\" class=\"dataframe\">\n",
              "  <thead>\n",
              "    <tr style=\"text-align: right;\">\n",
              "      <th></th>\n",
              "      <th>class</th>\n",
              "      <th>cap-shape</th>\n",
              "      <th>cap-surface</th>\n",
              "      <th>cap-color</th>\n",
              "      <th>bruises</th>\n",
              "      <th>odor</th>\n",
              "      <th>gill-attachment</th>\n",
              "      <th>gill-spacing</th>\n",
              "      <th>gill-size</th>\n",
              "      <th>gill-color</th>\n",
              "      <th>stalk-shape</th>\n",
              "      <th>stalk-root</th>\n",
              "      <th>stalk-surface-above-ring</th>\n",
              "      <th>stalk-surface-below-ring</th>\n",
              "      <th>stalk-color-above-ring</th>\n",
              "      <th>stalk-color-below-ring</th>\n",
              "      <th>veil-type</th>\n",
              "      <th>veil-color</th>\n",
              "      <th>ring-number</th>\n",
              "      <th>ring-type</th>\n",
              "      <th>spore-print-color</th>\n",
              "      <th>population</th>\n",
              "      <th>habitat</th>\n",
              "    </tr>\n",
              "  </thead>\n",
              "  <tbody>\n",
              "    <tr>\n",
              "      <th>count</th>\n",
              "      <td>8124</td>\n",
              "      <td>8124</td>\n",
              "      <td>8124</td>\n",
              "      <td>8124</td>\n",
              "      <td>8124</td>\n",
              "      <td>8124</td>\n",
              "      <td>8124</td>\n",
              "      <td>8124</td>\n",
              "      <td>8124</td>\n",
              "      <td>8124</td>\n",
              "      <td>8124</td>\n",
              "      <td>8124</td>\n",
              "      <td>8124</td>\n",
              "      <td>8124</td>\n",
              "      <td>8124</td>\n",
              "      <td>8124</td>\n",
              "      <td>8124</td>\n",
              "      <td>8124</td>\n",
              "      <td>8124</td>\n",
              "      <td>8124</td>\n",
              "      <td>8124</td>\n",
              "      <td>8124</td>\n",
              "      <td>8124</td>\n",
              "    </tr>\n",
              "    <tr>\n",
              "      <th>unique</th>\n",
              "      <td>2</td>\n",
              "      <td>6</td>\n",
              "      <td>4</td>\n",
              "      <td>10</td>\n",
              "      <td>2</td>\n",
              "      <td>9</td>\n",
              "      <td>2</td>\n",
              "      <td>2</td>\n",
              "      <td>2</td>\n",
              "      <td>12</td>\n",
              "      <td>2</td>\n",
              "      <td>5</td>\n",
              "      <td>4</td>\n",
              "      <td>4</td>\n",
              "      <td>9</td>\n",
              "      <td>9</td>\n",
              "      <td>1</td>\n",
              "      <td>4</td>\n",
              "      <td>3</td>\n",
              "      <td>5</td>\n",
              "      <td>9</td>\n",
              "      <td>6</td>\n",
              "      <td>7</td>\n",
              "    </tr>\n",
              "    <tr>\n",
              "      <th>top</th>\n",
              "      <td>e</td>\n",
              "      <td>x</td>\n",
              "      <td>y</td>\n",
              "      <td>n</td>\n",
              "      <td>f</td>\n",
              "      <td>n</td>\n",
              "      <td>f</td>\n",
              "      <td>c</td>\n",
              "      <td>b</td>\n",
              "      <td>b</td>\n",
              "      <td>t</td>\n",
              "      <td>b</td>\n",
              "      <td>s</td>\n",
              "      <td>s</td>\n",
              "      <td>w</td>\n",
              "      <td>w</td>\n",
              "      <td>p</td>\n",
              "      <td>w</td>\n",
              "      <td>o</td>\n",
              "      <td>p</td>\n",
              "      <td>w</td>\n",
              "      <td>v</td>\n",
              "      <td>d</td>\n",
              "    </tr>\n",
              "    <tr>\n",
              "      <th>freq</th>\n",
              "      <td>4208</td>\n",
              "      <td>3656</td>\n",
              "      <td>3244</td>\n",
              "      <td>2284</td>\n",
              "      <td>4748</td>\n",
              "      <td>3528</td>\n",
              "      <td>7914</td>\n",
              "      <td>6812</td>\n",
              "      <td>5612</td>\n",
              "      <td>1728</td>\n",
              "      <td>4608</td>\n",
              "      <td>3776</td>\n",
              "      <td>5176</td>\n",
              "      <td>4936</td>\n",
              "      <td>4464</td>\n",
              "      <td>4384</td>\n",
              "      <td>8124</td>\n",
              "      <td>7924</td>\n",
              "      <td>7488</td>\n",
              "      <td>3968</td>\n",
              "      <td>2388</td>\n",
              "      <td>4040</td>\n",
              "      <td>3148</td>\n",
              "    </tr>\n",
              "  </tbody>\n",
              "</table>\n",
              "</div>"
            ],
            "text/plain": [
              "       class cap-shape cap-surface  ... spore-print-color population habitat\n",
              "count   8124      8124        8124  ...              8124       8124    8124\n",
              "unique     2         6           4  ...                 9          6       7\n",
              "top        e         x           y  ...                 w          v       d\n",
              "freq    4208      3656        3244  ...              2388       4040    3148\n",
              "\n",
              "[4 rows x 23 columns]"
            ]
          },
          "metadata": {
            "tags": []
          },
          "execution_count": 3
        }
      ]
    },
    {
      "cell_type": "markdown",
      "metadata": {
        "id": "k3uxWeWqPRvq"
      },
      "source": [
        "# **Description**\n",
        "\n",
        "Class\t----> edible=e, poisonous=p\n",
        "\n",
        "cap-shape ---->\tbell=b,conical=c,convex=x,flat=f, knobbed=k,sunken=s\n",
        "\n",
        "cap-surface\t----> fibrous=f,grooves=g,scaly=y,smooth=s\n",
        "\n",
        "cap-color ---->\tbrown=n,buff=b,cinnamon=c,gray=g,green=r,pink=p,purple=u,red=e,white=w,yellow=y\n",
        "\n",
        "bruises\t ---->\tbruises=t,no=f\n",
        "\n",
        "odor\t ---->\talmond=a,anise=l,creosote=c,fishy=y,foul=f,musty=m,none=n,pungent=p,spicy=s\n",
        "\n",
        "gill-attachment ---->\t\tattached=a,descending=d,free=f,notched=n\n",
        "\n",
        "gill-spacing ---->\t\tclose=c,crowded=w,distant=d\n",
        "\n",
        "gill-size\t ---->\tbroad=b,narrow=n\n",
        "\n",
        "gill-color ---->\t\tblack=k,brown=n,buff=b,chocolate=h,gray=g, green=r,orange=o,pink=p,purple=u,red=e,white=w,yellow=y\n",
        "\n",
        "stalk-shape\t ---->\tenlarging=e,tapering=t\n",
        "\n",
        "stalk-root\t ---->\tbulbous=b,club=c,cup=u,equal=e,rhizomorphs=z,rooted=r,missing=?\n",
        "\n",
        "stalk-surface-above-ring ---->\t\tfibrous=f,scaly=y,silky=k,smooth=s\n",
        "\n",
        "stalk-surface-below-ring ---->\t\tfibrous=f,scaly=y,silky=k,smooth=s\n",
        "\n",
        "stalk-color-above-ring ---->\t\tbrown=n,buff=b,cinnamon=c,gray=g,orange=o,pink=p,red=e,white=w,yellow=y\n",
        "\n",
        "stalk-color-below-ring\t ---->\tbrown=n,buff=b,cinnamon=c,gray=g,orange=o,pink=p,red=e,white=w,yellow=y\n",
        "\n",
        "veil-type\t ---->\tpartial=p\n",
        "\n",
        "veil-color ---->\t\tbrown=n,orange=o,white=w,yellow=y\n",
        "\n",
        "ring-number ---->\t\tnone=n,one=o,two=t\n",
        "\n",
        "ring-type\t ---->\tcobwebby=c,evanescent=e,flaring=f,large=l,none=n,pendant=p,sheathing=s,zone=z\n",
        "\n",
        "spore-print-color\t ---->\tblack=k,brown=n,buff=b,chocolate=h,green=r,orange=o,purple=u,white=w,yellow=y\n",
        "\n",
        "population\t ---->\tabundant=a,clustered=c,numerous=n,scattered=s,several=v,solitary=y\n",
        "\n",
        "habitat\t ---->\tgrasses=g,leaves=l,meadows=m,paths=p,urban=u,waste=w,woods=d"
      ]
    },
    {
      "cell_type": "code",
      "metadata": {
        "id": "g46ROdTiMIZB",
        "colab": {
          "base_uri": "https://localhost:8080/"
        },
        "outputId": "739e4d0a-6553-43ff-dac1-3cd4410e42c7"
      },
      "source": [
        "df.dtypes"
      ],
      "execution_count": 4,
      "outputs": [
        {
          "output_type": "execute_result",
          "data": {
            "text/plain": [
              "class                       object\n",
              "cap-shape                   object\n",
              "cap-surface                 object\n",
              "cap-color                   object\n",
              "bruises                     object\n",
              "odor                        object\n",
              "gill-attachment             object\n",
              "gill-spacing                object\n",
              "gill-size                   object\n",
              "gill-color                  object\n",
              "stalk-shape                 object\n",
              "stalk-root                  object\n",
              "stalk-surface-above-ring    object\n",
              "stalk-surface-below-ring    object\n",
              "stalk-color-above-ring      object\n",
              "stalk-color-below-ring      object\n",
              "veil-type                   object\n",
              "veil-color                  object\n",
              "ring-number                 object\n",
              "ring-type                   object\n",
              "spore-print-color           object\n",
              "population                  object\n",
              "habitat                     object\n",
              "dtype: object"
            ]
          },
          "metadata": {
            "tags": []
          },
          "execution_count": 4
        }
      ]
    },
    {
      "cell_type": "markdown",
      "metadata": {
        "id": "kauO5J-O1n1Q"
      },
      "source": [
        "### It is a classification problem"
      ]
    },
    {
      "cell_type": "code",
      "metadata": {
        "colab": {
          "base_uri": "https://localhost:8080/"
        },
        "id": "9XCIfS3iHecr",
        "outputId": "beff4198-dc92-471c-c888-0ac7ab899a7f"
      },
      "source": [
        "df.count()"
      ],
      "execution_count": 5,
      "outputs": [
        {
          "output_type": "execute_result",
          "data": {
            "text/plain": [
              "class                       8124\n",
              "cap-shape                   8124\n",
              "cap-surface                 8124\n",
              "cap-color                   8124\n",
              "bruises                     8124\n",
              "odor                        8124\n",
              "gill-attachment             8124\n",
              "gill-spacing                8124\n",
              "gill-size                   8124\n",
              "gill-color                  8124\n",
              "stalk-shape                 8124\n",
              "stalk-root                  8124\n",
              "stalk-surface-above-ring    8124\n",
              "stalk-surface-below-ring    8124\n",
              "stalk-color-above-ring      8124\n",
              "stalk-color-below-ring      8124\n",
              "veil-type                   8124\n",
              "veil-color                  8124\n",
              "ring-number                 8124\n",
              "ring-type                   8124\n",
              "spore-print-color           8124\n",
              "population                  8124\n",
              "habitat                     8124\n",
              "dtype: int64"
            ]
          },
          "metadata": {
            "tags": []
          },
          "execution_count": 5
        }
      ]
    },
    {
      "cell_type": "code",
      "metadata": {
        "colab": {
          "base_uri": "https://localhost:8080/",
          "height": 490
        },
        "id": "dc9hFU2tH4g1",
        "outputId": "e5e02318-d8fe-43ee-eb22-ae53a967ee60"
      },
      "source": [
        "df.isnull()"
      ],
      "execution_count": 6,
      "outputs": [
        {
          "output_type": "execute_result",
          "data": {
            "text/html": [
              "<div>\n",
              "<style scoped>\n",
              "    .dataframe tbody tr th:only-of-type {\n",
              "        vertical-align: middle;\n",
              "    }\n",
              "\n",
              "    .dataframe tbody tr th {\n",
              "        vertical-align: top;\n",
              "    }\n",
              "\n",
              "    .dataframe thead th {\n",
              "        text-align: right;\n",
              "    }\n",
              "</style>\n",
              "<table border=\"1\" class=\"dataframe\">\n",
              "  <thead>\n",
              "    <tr style=\"text-align: right;\">\n",
              "      <th></th>\n",
              "      <th>class</th>\n",
              "      <th>cap-shape</th>\n",
              "      <th>cap-surface</th>\n",
              "      <th>cap-color</th>\n",
              "      <th>bruises</th>\n",
              "      <th>odor</th>\n",
              "      <th>gill-attachment</th>\n",
              "      <th>gill-spacing</th>\n",
              "      <th>gill-size</th>\n",
              "      <th>gill-color</th>\n",
              "      <th>stalk-shape</th>\n",
              "      <th>stalk-root</th>\n",
              "      <th>stalk-surface-above-ring</th>\n",
              "      <th>stalk-surface-below-ring</th>\n",
              "      <th>stalk-color-above-ring</th>\n",
              "      <th>stalk-color-below-ring</th>\n",
              "      <th>veil-type</th>\n",
              "      <th>veil-color</th>\n",
              "      <th>ring-number</th>\n",
              "      <th>ring-type</th>\n",
              "      <th>spore-print-color</th>\n",
              "      <th>population</th>\n",
              "      <th>habitat</th>\n",
              "    </tr>\n",
              "  </thead>\n",
              "  <tbody>\n",
              "    <tr>\n",
              "      <th>0</th>\n",
              "      <td>False</td>\n",
              "      <td>False</td>\n",
              "      <td>False</td>\n",
              "      <td>False</td>\n",
              "      <td>False</td>\n",
              "      <td>False</td>\n",
              "      <td>False</td>\n",
              "      <td>False</td>\n",
              "      <td>False</td>\n",
              "      <td>False</td>\n",
              "      <td>False</td>\n",
              "      <td>False</td>\n",
              "      <td>False</td>\n",
              "      <td>False</td>\n",
              "      <td>False</td>\n",
              "      <td>False</td>\n",
              "      <td>False</td>\n",
              "      <td>False</td>\n",
              "      <td>False</td>\n",
              "      <td>False</td>\n",
              "      <td>False</td>\n",
              "      <td>False</td>\n",
              "      <td>False</td>\n",
              "    </tr>\n",
              "    <tr>\n",
              "      <th>1</th>\n",
              "      <td>False</td>\n",
              "      <td>False</td>\n",
              "      <td>False</td>\n",
              "      <td>False</td>\n",
              "      <td>False</td>\n",
              "      <td>False</td>\n",
              "      <td>False</td>\n",
              "      <td>False</td>\n",
              "      <td>False</td>\n",
              "      <td>False</td>\n",
              "      <td>False</td>\n",
              "      <td>False</td>\n",
              "      <td>False</td>\n",
              "      <td>False</td>\n",
              "      <td>False</td>\n",
              "      <td>False</td>\n",
              "      <td>False</td>\n",
              "      <td>False</td>\n",
              "      <td>False</td>\n",
              "      <td>False</td>\n",
              "      <td>False</td>\n",
              "      <td>False</td>\n",
              "      <td>False</td>\n",
              "    </tr>\n",
              "    <tr>\n",
              "      <th>2</th>\n",
              "      <td>False</td>\n",
              "      <td>False</td>\n",
              "      <td>False</td>\n",
              "      <td>False</td>\n",
              "      <td>False</td>\n",
              "      <td>False</td>\n",
              "      <td>False</td>\n",
              "      <td>False</td>\n",
              "      <td>False</td>\n",
              "      <td>False</td>\n",
              "      <td>False</td>\n",
              "      <td>False</td>\n",
              "      <td>False</td>\n",
              "      <td>False</td>\n",
              "      <td>False</td>\n",
              "      <td>False</td>\n",
              "      <td>False</td>\n",
              "      <td>False</td>\n",
              "      <td>False</td>\n",
              "      <td>False</td>\n",
              "      <td>False</td>\n",
              "      <td>False</td>\n",
              "      <td>False</td>\n",
              "    </tr>\n",
              "    <tr>\n",
              "      <th>3</th>\n",
              "      <td>False</td>\n",
              "      <td>False</td>\n",
              "      <td>False</td>\n",
              "      <td>False</td>\n",
              "      <td>False</td>\n",
              "      <td>False</td>\n",
              "      <td>False</td>\n",
              "      <td>False</td>\n",
              "      <td>False</td>\n",
              "      <td>False</td>\n",
              "      <td>False</td>\n",
              "      <td>False</td>\n",
              "      <td>False</td>\n",
              "      <td>False</td>\n",
              "      <td>False</td>\n",
              "      <td>False</td>\n",
              "      <td>False</td>\n",
              "      <td>False</td>\n",
              "      <td>False</td>\n",
              "      <td>False</td>\n",
              "      <td>False</td>\n",
              "      <td>False</td>\n",
              "      <td>False</td>\n",
              "    </tr>\n",
              "    <tr>\n",
              "      <th>4</th>\n",
              "      <td>False</td>\n",
              "      <td>False</td>\n",
              "      <td>False</td>\n",
              "      <td>False</td>\n",
              "      <td>False</td>\n",
              "      <td>False</td>\n",
              "      <td>False</td>\n",
              "      <td>False</td>\n",
              "      <td>False</td>\n",
              "      <td>False</td>\n",
              "      <td>False</td>\n",
              "      <td>False</td>\n",
              "      <td>False</td>\n",
              "      <td>False</td>\n",
              "      <td>False</td>\n",
              "      <td>False</td>\n",
              "      <td>False</td>\n",
              "      <td>False</td>\n",
              "      <td>False</td>\n",
              "      <td>False</td>\n",
              "      <td>False</td>\n",
              "      <td>False</td>\n",
              "      <td>False</td>\n",
              "    </tr>\n",
              "    <tr>\n",
              "      <th>...</th>\n",
              "      <td>...</td>\n",
              "      <td>...</td>\n",
              "      <td>...</td>\n",
              "      <td>...</td>\n",
              "      <td>...</td>\n",
              "      <td>...</td>\n",
              "      <td>...</td>\n",
              "      <td>...</td>\n",
              "      <td>...</td>\n",
              "      <td>...</td>\n",
              "      <td>...</td>\n",
              "      <td>...</td>\n",
              "      <td>...</td>\n",
              "      <td>...</td>\n",
              "      <td>...</td>\n",
              "      <td>...</td>\n",
              "      <td>...</td>\n",
              "      <td>...</td>\n",
              "      <td>...</td>\n",
              "      <td>...</td>\n",
              "      <td>...</td>\n",
              "      <td>...</td>\n",
              "      <td>...</td>\n",
              "    </tr>\n",
              "    <tr>\n",
              "      <th>8119</th>\n",
              "      <td>False</td>\n",
              "      <td>False</td>\n",
              "      <td>False</td>\n",
              "      <td>False</td>\n",
              "      <td>False</td>\n",
              "      <td>False</td>\n",
              "      <td>False</td>\n",
              "      <td>False</td>\n",
              "      <td>False</td>\n",
              "      <td>False</td>\n",
              "      <td>False</td>\n",
              "      <td>False</td>\n",
              "      <td>False</td>\n",
              "      <td>False</td>\n",
              "      <td>False</td>\n",
              "      <td>False</td>\n",
              "      <td>False</td>\n",
              "      <td>False</td>\n",
              "      <td>False</td>\n",
              "      <td>False</td>\n",
              "      <td>False</td>\n",
              "      <td>False</td>\n",
              "      <td>False</td>\n",
              "    </tr>\n",
              "    <tr>\n",
              "      <th>8120</th>\n",
              "      <td>False</td>\n",
              "      <td>False</td>\n",
              "      <td>False</td>\n",
              "      <td>False</td>\n",
              "      <td>False</td>\n",
              "      <td>False</td>\n",
              "      <td>False</td>\n",
              "      <td>False</td>\n",
              "      <td>False</td>\n",
              "      <td>False</td>\n",
              "      <td>False</td>\n",
              "      <td>False</td>\n",
              "      <td>False</td>\n",
              "      <td>False</td>\n",
              "      <td>False</td>\n",
              "      <td>False</td>\n",
              "      <td>False</td>\n",
              "      <td>False</td>\n",
              "      <td>False</td>\n",
              "      <td>False</td>\n",
              "      <td>False</td>\n",
              "      <td>False</td>\n",
              "      <td>False</td>\n",
              "    </tr>\n",
              "    <tr>\n",
              "      <th>8121</th>\n",
              "      <td>False</td>\n",
              "      <td>False</td>\n",
              "      <td>False</td>\n",
              "      <td>False</td>\n",
              "      <td>False</td>\n",
              "      <td>False</td>\n",
              "      <td>False</td>\n",
              "      <td>False</td>\n",
              "      <td>False</td>\n",
              "      <td>False</td>\n",
              "      <td>False</td>\n",
              "      <td>False</td>\n",
              "      <td>False</td>\n",
              "      <td>False</td>\n",
              "      <td>False</td>\n",
              "      <td>False</td>\n",
              "      <td>False</td>\n",
              "      <td>False</td>\n",
              "      <td>False</td>\n",
              "      <td>False</td>\n",
              "      <td>False</td>\n",
              "      <td>False</td>\n",
              "      <td>False</td>\n",
              "    </tr>\n",
              "    <tr>\n",
              "      <th>8122</th>\n",
              "      <td>False</td>\n",
              "      <td>False</td>\n",
              "      <td>False</td>\n",
              "      <td>False</td>\n",
              "      <td>False</td>\n",
              "      <td>False</td>\n",
              "      <td>False</td>\n",
              "      <td>False</td>\n",
              "      <td>False</td>\n",
              "      <td>False</td>\n",
              "      <td>False</td>\n",
              "      <td>False</td>\n",
              "      <td>False</td>\n",
              "      <td>False</td>\n",
              "      <td>False</td>\n",
              "      <td>False</td>\n",
              "      <td>False</td>\n",
              "      <td>False</td>\n",
              "      <td>False</td>\n",
              "      <td>False</td>\n",
              "      <td>False</td>\n",
              "      <td>False</td>\n",
              "      <td>False</td>\n",
              "    </tr>\n",
              "    <tr>\n",
              "      <th>8123</th>\n",
              "      <td>False</td>\n",
              "      <td>False</td>\n",
              "      <td>False</td>\n",
              "      <td>False</td>\n",
              "      <td>False</td>\n",
              "      <td>False</td>\n",
              "      <td>False</td>\n",
              "      <td>False</td>\n",
              "      <td>False</td>\n",
              "      <td>False</td>\n",
              "      <td>False</td>\n",
              "      <td>False</td>\n",
              "      <td>False</td>\n",
              "      <td>False</td>\n",
              "      <td>False</td>\n",
              "      <td>False</td>\n",
              "      <td>False</td>\n",
              "      <td>False</td>\n",
              "      <td>False</td>\n",
              "      <td>False</td>\n",
              "      <td>False</td>\n",
              "      <td>False</td>\n",
              "      <td>False</td>\n",
              "    </tr>\n",
              "  </tbody>\n",
              "</table>\n",
              "<p>8124 rows × 23 columns</p>\n",
              "</div>"
            ],
            "text/plain": [
              "      class  cap-shape  cap-surface  ...  spore-print-color  population  habitat\n",
              "0     False      False        False  ...              False       False    False\n",
              "1     False      False        False  ...              False       False    False\n",
              "2     False      False        False  ...              False       False    False\n",
              "3     False      False        False  ...              False       False    False\n",
              "4     False      False        False  ...              False       False    False\n",
              "...     ...        ...          ...  ...                ...         ...      ...\n",
              "8119  False      False        False  ...              False       False    False\n",
              "8120  False      False        False  ...              False       False    False\n",
              "8121  False      False        False  ...              False       False    False\n",
              "8122  False      False        False  ...              False       False    False\n",
              "8123  False      False        False  ...              False       False    False\n",
              "\n",
              "[8124 rows x 23 columns]"
            ]
          },
          "metadata": {
            "tags": []
          },
          "execution_count": 6
        }
      ]
    },
    {
      "cell_type": "code",
      "metadata": {
        "id": "jhXQGQjiB_l-",
        "colab": {
          "base_uri": "https://localhost:8080/"
        },
        "outputId": "0679baf4-9e23-48ae-b0fd-a17e6684e979"
      },
      "source": [
        "print(df.isnull().sum())"
      ],
      "execution_count": 7,
      "outputs": [
        {
          "output_type": "stream",
          "text": [
            "class                       0\n",
            "cap-shape                   0\n",
            "cap-surface                 0\n",
            "cap-color                   0\n",
            "bruises                     0\n",
            "odor                        0\n",
            "gill-attachment             0\n",
            "gill-spacing                0\n",
            "gill-size                   0\n",
            "gill-color                  0\n",
            "stalk-shape                 0\n",
            "stalk-root                  0\n",
            "stalk-surface-above-ring    0\n",
            "stalk-surface-below-ring    0\n",
            "stalk-color-above-ring      0\n",
            "stalk-color-below-ring      0\n",
            "veil-type                   0\n",
            "veil-color                  0\n",
            "ring-number                 0\n",
            "ring-type                   0\n",
            "spore-print-color           0\n",
            "population                  0\n",
            "habitat                     0\n",
            "dtype: int64\n"
          ],
          "name": "stdout"
        }
      ]
    },
    {
      "cell_type": "code",
      "metadata": {
        "colab": {
          "base_uri": "https://localhost:8080/",
          "height": 398
        },
        "id": "AJDKMUw3INvN",
        "outputId": "3775b1a7-43a2-444a-fc1a-cddd495b2c51"
      },
      "source": [
        "sns.heatmap(df.isnull())"
      ],
      "execution_count": 8,
      "outputs": [
        {
          "output_type": "execute_result",
          "data": {
            "text/plain": [
              "<matplotlib.axes._subplots.AxesSubplot at 0x7f4a064aef90>"
            ]
          },
          "metadata": {
            "tags": []
          },
          "execution_count": 8
        },
        {
          "output_type": "display_data",
          "data": {
            "image/png": "[encoded data removed]",
            "text/plain": [
              "<Figure size 432x288 with 2 Axes>"
            ]
          },
          "metadata": {
            "tags": [],
            "needs_background": "light"
          }
        }
      ]
    },
    {
      "cell_type": "markdown",
      "metadata": {
        "id": "teBckTOmwVRB"
      },
      "source": [
        "THERE IS NO NULL VALUES PRESENT IN DATASET"
      ]
    },
    {
      "cell_type": "markdown",
      "metadata": {
        "id": "FrBusm1WwOfJ"
      },
      "source": [
        "## 3. EDA"
      ]
    },
    {
      "cell_type": "markdown",
      "metadata": {
        "id": "z6boCOjAwgwH"
      },
      "source": [
        "FINDING IF THERE IS ANY OTHER IRRELAVENT DATA PRESENT IN DATASET"
      ]
    },
    {
      "cell_type": "markdown",
      "metadata": {
        "id": "7tjjBCx66Azl"
      },
      "source": [
        "### univariant analysis"
      ]
    },
    {
      "cell_type": "code",
      "metadata": {
        "colab": {
          "base_uri": "https://localhost:8080/"
        },
        "id": "eDFW-S7KDJeV",
        "outputId": "d01bf2a9-3d97-4eb8-c2e5-b8a99048a979"
      },
      "source": [
        "for i in df.columns:\n",
        "  print(df[i].value_counts())\n",
        "  print(\"-------------------------------\")"
      ],
      "execution_count": 9,
      "outputs": [
        {
          "output_type": "stream",
          "text": [
            "e    4208\n",
            "p    3916\n",
            "Name: class, dtype: int64\n",
            "-------------------------------\n",
            "x    3656\n",
            "f    3152\n",
            "k     828\n",
            "b     452\n",
            "s      32\n",
            "c       4\n",
            "Name: cap-shape, dtype: int64\n",
            "-------------------------------\n",
            "y    3244\n",
            "s    2556\n",
            "f    2320\n",
            "g       4\n",
            "Name: cap-surface, dtype: int64\n",
            "-------------------------------\n",
            "n    2284\n",
            "g    1840\n",
            "e    1500\n",
            "y    1072\n",
            "w    1040\n",
            "b     168\n",
            "p     144\n",
            "c      44\n",
            "r      16\n",
            "u      16\n",
            "Name: cap-color, dtype: int64\n",
            "-------------------------------\n",
            "f    4748\n",
            "t    3376\n",
            "Name: bruises, dtype: int64\n",
            "-------------------------------\n",
            "n    3528\n",
            "f    2160\n",
            "y     576\n",
            "s     576\n",
            "l     400\n",
            "a     400\n",
            "p     256\n",
            "c     192\n",
            "m      36\n",
            "Name: odor, dtype: int64\n",
            "-------------------------------\n",
            "f    7914\n",
            "a     210\n",
            "Name: gill-attachment, dtype: int64\n",
            "-------------------------------\n",
            "c    6812\n",
            "w    1312\n",
            "Name: gill-spacing, dtype: int64\n",
            "-------------------------------\n",
            "b    5612\n",
            "n    2512\n",
            "Name: gill-size, dtype: int64\n",
            "-------------------------------\n",
            "b    1728\n",
            "p    1492\n",
            "w    1202\n",
            "n    1048\n",
            "g     752\n",
            "h     732\n",
            "u     492\n",
            "k     408\n",
            "e      96\n",
            "y      86\n",
            "o      64\n",
            "r      24\n",
            "Name: gill-color, dtype: int64\n",
            "-------------------------------\n",
            "t    4608\n",
            "e    3516\n",
            "Name: stalk-shape, dtype: int64\n",
            "-------------------------------\n",
            "b    3776\n",
            "?    2480\n",
            "e    1120\n",
            "c     556\n",
            "r     192\n",
            "Name: stalk-root, dtype: int64\n",
            "-------------------------------\n",
            "s    5176\n",
            "k    2372\n",
            "f     552\n",
            "y      24\n",
            "Name: stalk-surface-above-ring, dtype: int64\n",
            "-------------------------------\n",
            "s    4936\n",
            "k    2304\n",
            "f     600\n",
            "y     284\n",
            "Name: stalk-surface-below-ring, dtype: int64\n",
            "-------------------------------\n",
            "w    4464\n",
            "p    1872\n",
            "g     576\n",
            "n     448\n",
            "b     432\n",
            "o     192\n",
            "e      96\n",
            "c      36\n",
            "y       8\n",
            "Name: stalk-color-above-ring, dtype: int64\n",
            "-------------------------------\n",
            "w    4384\n",
            "p    1872\n",
            "g     576\n",
            "n     512\n",
            "b     432\n",
            "o     192\n",
            "e      96\n",
            "c      36\n",
            "y      24\n",
            "Name: stalk-color-below-ring, dtype: int64\n",
            "-------------------------------\n",
            "p    8124\n",
            "Name: veil-type, dtype: int64\n",
            "-------------------------------\n",
            "w    7924\n",
            "o      96\n",
            "n      96\n",
            "y       8\n",
            "Name: veil-color, dtype: int64\n",
            "-------------------------------\n",
            "o    7488\n",
            "t     600\n",
            "n      36\n",
            "Name: ring-number, dtype: int64\n",
            "-------------------------------\n",
            "p    3968\n",
            "e    2776\n",
            "l    1296\n",
            "f      48\n",
            "n      36\n",
            "Name: ring-type, dtype: int64\n",
            "-------------------------------\n",
            "w    2388\n",
            "n    1968\n",
            "k    1872\n",
            "h    1632\n",
            "r      72\n",
            "y      48\n",
            "u      48\n",
            "b      48\n",
            "o      48\n",
            "Name: spore-print-color, dtype: int64\n",
            "-------------------------------\n",
            "v    4040\n",
            "y    1712\n",
            "s    1248\n",
            "n     400\n",
            "a     384\n",
            "c     340\n",
            "Name: population, dtype: int64\n",
            "-------------------------------\n",
            "d    3148\n",
            "g    2148\n",
            "p    1144\n",
            "l     832\n",
            "u     368\n",
            "m     292\n",
            "w     192\n",
            "Name: habitat, dtype: int64\n",
            "-------------------------------\n"
          ],
          "name": "stdout"
        }
      ]
    },
    {
      "cell_type": "code",
      "metadata": {
        "colab": {
          "base_uri": "https://localhost:8080/",
          "height": 1000
        },
        "id": "2ZOvkDUm2dke",
        "outputId": "1ad310df-2ab5-42af-9bb3-8c46d7405e6d"
      },
      "source": [
        "df.apply(lambda x : pd.factorize(x)[0]).corr(method='pearson', min_periods=1)"
      ],
      "execution_count": 10,
      "outputs": [
        {
          "output_type": "execute_result",
          "data": {
            "text/html": [
              "<div>\n",
              "<style scoped>\n",
              "    .dataframe tbody tr th:only-of-type {\n",
              "        vertical-align: middle;\n",
              "    }\n",
              "\n",
              "    .dataframe tbody tr th {\n",
              "        vertical-align: top;\n",
              "    }\n",
              "\n",
              "    .dataframe thead th {\n",
              "        text-align: right;\n",
              "    }\n",
              "</style>\n",
              "<table border=\"1\" class=\"dataframe\">\n",
              "  <thead>\n",
              "    <tr style=\"text-align: right;\">\n",
              "      <th></th>\n",
              "      <th>class</th>\n",
              "      <th>cap-shape</th>\n",
              "      <th>cap-surface</th>\n",
              "      <th>cap-color</th>\n",
              "      <th>bruises</th>\n",
              "      <th>odor</th>\n",
              "      <th>gill-attachment</th>\n",
              "      <th>gill-spacing</th>\n",
              "      <th>gill-size</th>\n",
              "      <th>gill-color</th>\n",
              "      <th>stalk-shape</th>\n",
              "      <th>stalk-root</th>\n",
              "      <th>stalk-surface-above-ring</th>\n",
              "      <th>stalk-surface-below-ring</th>\n",
              "      <th>stalk-color-above-ring</th>\n",
              "      <th>stalk-color-below-ring</th>\n",
              "      <th>veil-type</th>\n",
              "      <th>veil-color</th>\n",
              "      <th>ring-number</th>\n",
              "      <th>ring-type</th>\n",
              "      <th>spore-print-color</th>\n",
              "      <th>population</th>\n",
              "      <th>habitat</th>\n",
              "    </tr>\n",
              "  </thead>\n",
              "  <tbody>\n",
              "    <tr>\n",
              "      <th>class</th>\n",
              "      <td>1.000000</td>\n",
              "      <td>-0.112110</td>\n",
              "      <td>0.169663</td>\n",
              "      <td>-0.042028</td>\n",
              "      <td>-0.501530</td>\n",
              "      <td>-0.582015</td>\n",
              "      <td>0.129200</td>\n",
              "      <td>0.348387</td>\n",
              "      <td>0.540024</td>\n",
              "      <td>-0.412869</td>\n",
              "      <td>0.102019</td>\n",
              "      <td>-0.337542</td>\n",
              "      <td>-0.552044</td>\n",
              "      <td>-0.532452</td>\n",
              "      <td>-0.225294</td>\n",
              "      <td>-0.098476</td>\n",
              "      <td>NaN</td>\n",
              "      <td>0.120766</td>\n",
              "      <td>0.152261</td>\n",
              "      <td>-0.556515</td>\n",
              "      <td>-0.560715</td>\n",
              "      <td>-0.155254</td>\n",
              "      <td>-0.191297</td>\n",
              "    </tr>\n",
              "    <tr>\n",
              "      <th>cap-shape</th>\n",
              "      <td>-0.112110</td>\n",
              "      <td>1.000000</td>\n",
              "      <td>-0.057205</td>\n",
              "      <td>0.001839</td>\n",
              "      <td>0.120509</td>\n",
              "      <td>0.175229</td>\n",
              "      <td>0.040082</td>\n",
              "      <td>-0.043906</td>\n",
              "      <td>-0.151921</td>\n",
              "      <td>0.218627</td>\n",
              "      <td>0.126006</td>\n",
              "      <td>0.210858</td>\n",
              "      <td>0.079050</td>\n",
              "      <td>0.074161</td>\n",
              "      <td>0.073171</td>\n",
              "      <td>0.056450</td>\n",
              "      <td>NaN</td>\n",
              "      <td>0.042988</td>\n",
              "      <td>0.058422</td>\n",
              "      <td>0.099599</td>\n",
              "      <td>0.219476</td>\n",
              "      <td>0.139616</td>\n",
              "      <td>0.169343</td>\n",
              "    </tr>\n",
              "    <tr>\n",
              "      <th>cap-surface</th>\n",
              "      <td>0.169663</td>\n",
              "      <td>-0.057205</td>\n",
              "      <td>1.000000</td>\n",
              "      <td>0.016133</td>\n",
              "      <td>-0.047265</td>\n",
              "      <td>-0.106147</td>\n",
              "      <td>-0.186157</td>\n",
              "      <td>0.029686</td>\n",
              "      <td>0.267029</td>\n",
              "      <td>-0.266708</td>\n",
              "      <td>-0.050834</td>\n",
              "      <td>-0.224336</td>\n",
              "      <td>0.080111</td>\n",
              "      <td>0.090350</td>\n",
              "      <td>0.080218</td>\n",
              "      <td>0.092631</td>\n",
              "      <td>NaN</td>\n",
              "      <td>-0.171918</td>\n",
              "      <td>-0.074779</td>\n",
              "      <td>0.107866</td>\n",
              "      <td>-0.283378</td>\n",
              "      <td>0.185359</td>\n",
              "      <td>-0.089972</td>\n",
              "    </tr>\n",
              "    <tr>\n",
              "      <th>cap-color</th>\n",
              "      <td>-0.042028</td>\n",
              "      <td>0.001839</td>\n",
              "      <td>0.016133</td>\n",
              "      <td>1.000000</td>\n",
              "      <td>-0.065879</td>\n",
              "      <td>0.115960</td>\n",
              "      <td>-0.163457</td>\n",
              "      <td>-0.012795</td>\n",
              "      <td>0.015113</td>\n",
              "      <td>0.023458</td>\n",
              "      <td>0.045698</td>\n",
              "      <td>0.067869</td>\n",
              "      <td>-0.020976</td>\n",
              "      <td>-0.042124</td>\n",
              "      <td>-0.063978</td>\n",
              "      <td>-0.065686</td>\n",
              "      <td>NaN</td>\n",
              "      <td>-0.172176</td>\n",
              "      <td>0.184474</td>\n",
              "      <td>0.040785</td>\n",
              "      <td>0.055050</td>\n",
              "      <td>0.070150</td>\n",
              "      <td>0.003142</td>\n",
              "    </tr>\n",
              "    <tr>\n",
              "      <th>bruises</th>\n",
              "      <td>-0.501530</td>\n",
              "      <td>0.120509</td>\n",
              "      <td>-0.047265</td>\n",
              "      <td>-0.065879</td>\n",
              "      <td>1.000000</td>\n",
              "      <td>0.588456</td>\n",
              "      <td>0.137359</td>\n",
              "      <td>0.299473</td>\n",
              "      <td>-0.369596</td>\n",
              "      <td>0.325408</td>\n",
              "      <td>-0.099364</td>\n",
              "      <td>0.267125</td>\n",
              "      <td>0.573538</td>\n",
              "      <td>0.530214</td>\n",
              "      <td>0.267325</td>\n",
              "      <td>0.208451</td>\n",
              "      <td>NaN</td>\n",
              "      <td>0.125606</td>\n",
              "      <td>-0.014367</td>\n",
              "      <td>0.685119</td>\n",
              "      <td>0.543409</td>\n",
              "      <td>-0.008293</td>\n",
              "      <td>0.185130</td>\n",
              "    </tr>\n",
              "    <tr>\n",
              "      <th>odor</th>\n",
              "      <td>-0.582015</td>\n",
              "      <td>0.175229</td>\n",
              "      <td>-0.106147</td>\n",
              "      <td>0.115960</td>\n",
              "      <td>0.588456</td>\n",
              "      <td>1.000000</td>\n",
              "      <td>-0.016816</td>\n",
              "      <td>-0.155748</td>\n",
              "      <td>-0.444492</td>\n",
              "      <td>0.599497</td>\n",
              "      <td>0.324774</td>\n",
              "      <td>0.572311</td>\n",
              "      <td>0.394828</td>\n",
              "      <td>0.353683</td>\n",
              "      <td>0.214888</td>\n",
              "      <td>0.101501</td>\n",
              "      <td>NaN</td>\n",
              "      <td>-0.056362</td>\n",
              "      <td>-0.009788</td>\n",
              "      <td>0.460625</td>\n",
              "      <td>0.563857</td>\n",
              "      <td>0.277777</td>\n",
              "      <td>0.449061</td>\n",
              "    </tr>\n",
              "    <tr>\n",
              "      <th>gill-attachment</th>\n",
              "      <td>0.129200</td>\n",
              "      <td>0.040082</td>\n",
              "      <td>-0.186157</td>\n",
              "      <td>-0.163457</td>\n",
              "      <td>0.137359</td>\n",
              "      <td>-0.016816</td>\n",
              "      <td>1.000000</td>\n",
              "      <td>-0.071489</td>\n",
              "      <td>0.108984</td>\n",
              "      <td>0.184927</td>\n",
              "      <td>-0.186485</td>\n",
              "      <td>0.177363</td>\n",
              "      <td>-0.087714</td>\n",
              "      <td>-0.100591</td>\n",
              "      <td>0.514289</td>\n",
              "      <td>0.595280</td>\n",
              "      <td>NaN</td>\n",
              "      <td>0.842230</td>\n",
              "      <td>0.049642</td>\n",
              "      <td>-0.073149</td>\n",
              "      <td>0.296461</td>\n",
              "      <td>0.164873</td>\n",
              "      <td>0.296916</td>\n",
              "    </tr>\n",
              "    <tr>\n",
              "      <th>gill-spacing</th>\n",
              "      <td>0.348387</td>\n",
              "      <td>-0.043906</td>\n",
              "      <td>0.029686</td>\n",
              "      <td>-0.012795</td>\n",
              "      <td>0.299473</td>\n",
              "      <td>-0.155748</td>\n",
              "      <td>-0.071489</td>\n",
              "      <td>1.000000</td>\n",
              "      <td>0.108333</td>\n",
              "      <td>-0.274645</td>\n",
              "      <td>0.080895</td>\n",
              "      <td>-0.338043</td>\n",
              "      <td>-0.054077</td>\n",
              "      <td>-0.112643</td>\n",
              "      <td>-0.309026</td>\n",
              "      <td>-0.233907</td>\n",
              "      <td>NaN</td>\n",
              "      <td>-0.034235</td>\n",
              "      <td>0.206233</td>\n",
              "      <td>-0.038015</td>\n",
              "      <td>-0.173491</td>\n",
              "      <td>-0.474326</td>\n",
              "      <td>-0.341360</td>\n",
              "    </tr>\n",
              "    <tr>\n",
              "      <th>gill-size</th>\n",
              "      <td>0.540024</td>\n",
              "      <td>-0.151921</td>\n",
              "      <td>0.267029</td>\n",
              "      <td>0.015113</td>\n",
              "      <td>-0.369596</td>\n",
              "      <td>-0.444492</td>\n",
              "      <td>0.108984</td>\n",
              "      <td>0.108333</td>\n",
              "      <td>1.000000</td>\n",
              "      <td>-0.518717</td>\n",
              "      <td>-0.214576</td>\n",
              "      <td>-0.434232</td>\n",
              "      <td>-0.052806</td>\n",
              "      <td>-0.049072</td>\n",
              "      <td>0.186706</td>\n",
              "      <td>0.226610</td>\n",
              "      <td>NaN</td>\n",
              "      <td>0.074866</td>\n",
              "      <td>0.190112</td>\n",
              "      <td>-0.071459</td>\n",
              "      <td>-0.355811</td>\n",
              "      <td>-0.041683</td>\n",
              "      <td>-0.343122</td>\n",
              "    </tr>\n",
              "    <tr>\n",
              "      <th>gill-color</th>\n",
              "      <td>-0.412869</td>\n",
              "      <td>0.218627</td>\n",
              "      <td>-0.266708</td>\n",
              "      <td>0.023458</td>\n",
              "      <td>0.325408</td>\n",
              "      <td>0.599497</td>\n",
              "      <td>0.184927</td>\n",
              "      <td>-0.274645</td>\n",
              "      <td>-0.518717</td>\n",
              "      <td>1.000000</td>\n",
              "      <td>0.308259</td>\n",
              "      <td>0.672537</td>\n",
              "      <td>0.154243</td>\n",
              "      <td>0.146393</td>\n",
              "      <td>0.188830</td>\n",
              "      <td>0.115547</td>\n",
              "      <td>NaN</td>\n",
              "      <td>0.169267</td>\n",
              "      <td>0.016427</td>\n",
              "      <td>0.181942</td>\n",
              "      <td>0.586547</td>\n",
              "      <td>0.293919</td>\n",
              "      <td>0.557094</td>\n",
              "    </tr>\n",
              "    <tr>\n",
              "      <th>stalk-shape</th>\n",
              "      <td>0.102019</td>\n",
              "      <td>0.126006</td>\n",
              "      <td>-0.050834</td>\n",
              "      <td>0.045698</td>\n",
              "      <td>-0.099364</td>\n",
              "      <td>0.324774</td>\n",
              "      <td>-0.186485</td>\n",
              "      <td>0.080895</td>\n",
              "      <td>-0.214576</td>\n",
              "      <td>0.308259</td>\n",
              "      <td>1.000000</td>\n",
              "      <td>0.108669</td>\n",
              "      <td>-0.215639</td>\n",
              "      <td>-0.272673</td>\n",
              "      <td>-0.292659</td>\n",
              "      <td>-0.346565</td>\n",
              "      <td>NaN</td>\n",
              "      <td>-0.170529</td>\n",
              "      <td>-0.325305</td>\n",
              "      <td>-0.224838</td>\n",
              "      <td>-0.138854</td>\n",
              "      <td>0.060160</td>\n",
              "      <td>0.152693</td>\n",
              "    </tr>\n",
              "    <tr>\n",
              "      <th>stalk-root</th>\n",
              "      <td>-0.337542</td>\n",
              "      <td>0.210858</td>\n",
              "      <td>-0.224336</td>\n",
              "      <td>0.067869</td>\n",
              "      <td>0.267125</td>\n",
              "      <td>0.572311</td>\n",
              "      <td>0.177363</td>\n",
              "      <td>-0.338043</td>\n",
              "      <td>-0.434232</td>\n",
              "      <td>0.672537</td>\n",
              "      <td>0.108669</td>\n",
              "      <td>1.000000</td>\n",
              "      <td>0.176554</td>\n",
              "      <td>0.239218</td>\n",
              "      <td>0.218038</td>\n",
              "      <td>0.159988</td>\n",
              "      <td>NaN</td>\n",
              "      <td>0.165131</td>\n",
              "      <td>0.219647</td>\n",
              "      <td>0.101258</td>\n",
              "      <td>0.724314</td>\n",
              "      <td>0.349958</td>\n",
              "      <td>0.652218</td>\n",
              "    </tr>\n",
              "    <tr>\n",
              "      <th>stalk-surface-above-ring</th>\n",
              "      <td>-0.552044</td>\n",
              "      <td>0.079050</td>\n",
              "      <td>0.080111</td>\n",
              "      <td>-0.020976</td>\n",
              "      <td>0.573538</td>\n",
              "      <td>0.394828</td>\n",
              "      <td>-0.087714</td>\n",
              "      <td>-0.054077</td>\n",
              "      <td>-0.052806</td>\n",
              "      <td>0.154243</td>\n",
              "      <td>-0.215639</td>\n",
              "      <td>0.176554</td>\n",
              "      <td>1.000000</td>\n",
              "      <td>0.625233</td>\n",
              "      <td>0.361493</td>\n",
              "      <td>0.279830</td>\n",
              "      <td>NaN</td>\n",
              "      <td>-0.070482</td>\n",
              "      <td>0.016738</td>\n",
              "      <td>0.681449</td>\n",
              "      <td>0.433668</td>\n",
              "      <td>0.147865</td>\n",
              "      <td>0.084259</td>\n",
              "    </tr>\n",
              "    <tr>\n",
              "      <th>stalk-surface-below-ring</th>\n",
              "      <td>-0.532452</td>\n",
              "      <td>0.074161</td>\n",
              "      <td>0.090350</td>\n",
              "      <td>-0.042124</td>\n",
              "      <td>0.530214</td>\n",
              "      <td>0.353683</td>\n",
              "      <td>-0.100591</td>\n",
              "      <td>-0.112643</td>\n",
              "      <td>-0.049072</td>\n",
              "      <td>0.146393</td>\n",
              "      <td>-0.272673</td>\n",
              "      <td>0.239218</td>\n",
              "      <td>0.625233</td>\n",
              "      <td>1.000000</td>\n",
              "      <td>0.336337</td>\n",
              "      <td>0.241018</td>\n",
              "      <td>NaN</td>\n",
              "      <td>-0.093949</td>\n",
              "      <td>-0.019147</td>\n",
              "      <td>0.664514</td>\n",
              "      <td>0.411788</td>\n",
              "      <td>0.150452</td>\n",
              "      <td>0.101106</td>\n",
              "    </tr>\n",
              "    <tr>\n",
              "      <th>stalk-color-above-ring</th>\n",
              "      <td>-0.225294</td>\n",
              "      <td>0.073171</td>\n",
              "      <td>0.080218</td>\n",
              "      <td>-0.063978</td>\n",
              "      <td>0.267325</td>\n",
              "      <td>0.214888</td>\n",
              "      <td>0.514289</td>\n",
              "      <td>-0.309026</td>\n",
              "      <td>0.186706</td>\n",
              "      <td>0.188830</td>\n",
              "      <td>-0.292659</td>\n",
              "      <td>0.218038</td>\n",
              "      <td>0.361493</td>\n",
              "      <td>0.336337</td>\n",
              "      <td>1.000000</td>\n",
              "      <td>0.711672</td>\n",
              "      <td>NaN</td>\n",
              "      <td>0.476776</td>\n",
              "      <td>0.070162</td>\n",
              "      <td>0.455590</td>\n",
              "      <td>0.388465</td>\n",
              "      <td>0.485436</td>\n",
              "      <td>0.367879</td>\n",
              "    </tr>\n",
              "    <tr>\n",
              "      <th>stalk-color-below-ring</th>\n",
              "      <td>-0.098476</td>\n",
              "      <td>0.056450</td>\n",
              "      <td>0.092631</td>\n",
              "      <td>-0.065686</td>\n",
              "      <td>0.208451</td>\n",
              "      <td>0.101501</td>\n",
              "      <td>0.595280</td>\n",
              "      <td>-0.233907</td>\n",
              "      <td>0.226610</td>\n",
              "      <td>0.115547</td>\n",
              "      <td>-0.346565</td>\n",
              "      <td>0.159988</td>\n",
              "      <td>0.279830</td>\n",
              "      <td>0.241018</td>\n",
              "      <td>0.711672</td>\n",
              "      <td>1.000000</td>\n",
              "      <td>NaN</td>\n",
              "      <td>0.529650</td>\n",
              "      <td>0.104307</td>\n",
              "      <td>0.360962</td>\n",
              "      <td>0.344071</td>\n",
              "      <td>0.450038</td>\n",
              "      <td>0.346914</td>\n",
              "    </tr>\n",
              "    <tr>\n",
              "      <th>veil-type</th>\n",
              "      <td>NaN</td>\n",
              "      <td>NaN</td>\n",
              "      <td>NaN</td>\n",
              "      <td>NaN</td>\n",
              "      <td>NaN</td>\n",
              "      <td>NaN</td>\n",
              "      <td>NaN</td>\n",
              "      <td>NaN</td>\n",
              "      <td>NaN</td>\n",
              "      <td>NaN</td>\n",
              "      <td>NaN</td>\n",
              "      <td>NaN</td>\n",
              "      <td>NaN</td>\n",
              "      <td>NaN</td>\n",
              "      <td>NaN</td>\n",
              "      <td>NaN</td>\n",
              "      <td>NaN</td>\n",
              "      <td>NaN</td>\n",
              "      <td>NaN</td>\n",
              "      <td>NaN</td>\n",
              "      <td>NaN</td>\n",
              "      <td>NaN</td>\n",
              "      <td>NaN</td>\n",
              "    </tr>\n",
              "    <tr>\n",
              "      <th>veil-color</th>\n",
              "      <td>0.120766</td>\n",
              "      <td>0.042988</td>\n",
              "      <td>-0.171918</td>\n",
              "      <td>-0.172176</td>\n",
              "      <td>0.125606</td>\n",
              "      <td>-0.056362</td>\n",
              "      <td>0.842230</td>\n",
              "      <td>-0.034235</td>\n",
              "      <td>0.074866</td>\n",
              "      <td>0.169267</td>\n",
              "      <td>-0.170529</td>\n",
              "      <td>0.165131</td>\n",
              "      <td>-0.070482</td>\n",
              "      <td>-0.093949</td>\n",
              "      <td>0.476776</td>\n",
              "      <td>0.529650</td>\n",
              "      <td>NaN</td>\n",
              "      <td>1.000000</td>\n",
              "      <td>-0.042328</td>\n",
              "      <td>-0.117232</td>\n",
              "      <td>0.272223</td>\n",
              "      <td>0.149818</td>\n",
              "      <td>0.295193</td>\n",
              "    </tr>\n",
              "    <tr>\n",
              "      <th>ring-number</th>\n",
              "      <td>0.152261</td>\n",
              "      <td>0.058422</td>\n",
              "      <td>-0.074779</td>\n",
              "      <td>0.184474</td>\n",
              "      <td>-0.014367</td>\n",
              "      <td>-0.009788</td>\n",
              "      <td>0.049642</td>\n",
              "      <td>0.206233</td>\n",
              "      <td>0.190112</td>\n",
              "      <td>0.016427</td>\n",
              "      <td>-0.325305</td>\n",
              "      <td>0.219647</td>\n",
              "      <td>0.016738</td>\n",
              "      <td>-0.019147</td>\n",
              "      <td>0.070162</td>\n",
              "      <td>0.104307</td>\n",
              "      <td>NaN</td>\n",
              "      <td>-0.042328</td>\n",
              "      <td>1.000000</td>\n",
              "      <td>0.006528</td>\n",
              "      <td>0.310930</td>\n",
              "      <td>0.015239</td>\n",
              "      <td>-0.031902</td>\n",
              "    </tr>\n",
              "    <tr>\n",
              "      <th>ring-type</th>\n",
              "      <td>-0.556515</td>\n",
              "      <td>0.099599</td>\n",
              "      <td>0.107866</td>\n",
              "      <td>0.040785</td>\n",
              "      <td>0.685119</td>\n",
              "      <td>0.460625</td>\n",
              "      <td>-0.073149</td>\n",
              "      <td>-0.038015</td>\n",
              "      <td>-0.071459</td>\n",
              "      <td>0.181942</td>\n",
              "      <td>-0.224838</td>\n",
              "      <td>0.101258</td>\n",
              "      <td>0.681449</td>\n",
              "      <td>0.664514</td>\n",
              "      <td>0.455590</td>\n",
              "      <td>0.360962</td>\n",
              "      <td>NaN</td>\n",
              "      <td>-0.117232</td>\n",
              "      <td>0.006528</td>\n",
              "      <td>1.000000</td>\n",
              "      <td>0.426678</td>\n",
              "      <td>0.258874</td>\n",
              "      <td>0.156413</td>\n",
              "    </tr>\n",
              "    <tr>\n",
              "      <th>spore-print-color</th>\n",
              "      <td>-0.560715</td>\n",
              "      <td>0.219476</td>\n",
              "      <td>-0.283378</td>\n",
              "      <td>0.055050</td>\n",
              "      <td>0.543409</td>\n",
              "      <td>0.563857</td>\n",
              "      <td>0.296461</td>\n",
              "      <td>-0.173491</td>\n",
              "      <td>-0.355811</td>\n",
              "      <td>0.586547</td>\n",
              "      <td>-0.138854</td>\n",
              "      <td>0.724314</td>\n",
              "      <td>0.433668</td>\n",
              "      <td>0.411788</td>\n",
              "      <td>0.388465</td>\n",
              "      <td>0.344071</td>\n",
              "      <td>NaN</td>\n",
              "      <td>0.272223</td>\n",
              "      <td>0.310930</td>\n",
              "      <td>0.426678</td>\n",
              "      <td>1.000000</td>\n",
              "      <td>0.264669</td>\n",
              "      <td>0.461087</td>\n",
              "    </tr>\n",
              "    <tr>\n",
              "      <th>population</th>\n",
              "      <td>-0.155254</td>\n",
              "      <td>0.139616</td>\n",
              "      <td>0.185359</td>\n",
              "      <td>0.070150</td>\n",
              "      <td>-0.008293</td>\n",
              "      <td>0.277777</td>\n",
              "      <td>0.164873</td>\n",
              "      <td>-0.474326</td>\n",
              "      <td>-0.041683</td>\n",
              "      <td>0.293919</td>\n",
              "      <td>0.060160</td>\n",
              "      <td>0.349958</td>\n",
              "      <td>0.147865</td>\n",
              "      <td>0.150452</td>\n",
              "      <td>0.485436</td>\n",
              "      <td>0.450038</td>\n",
              "      <td>NaN</td>\n",
              "      <td>0.149818</td>\n",
              "      <td>0.015239</td>\n",
              "      <td>0.258874</td>\n",
              "      <td>0.264669</td>\n",
              "      <td>1.000000</td>\n",
              "      <td>0.504258</td>\n",
              "    </tr>\n",
              "    <tr>\n",
              "      <th>habitat</th>\n",
              "      <td>-0.191297</td>\n",
              "      <td>0.169343</td>\n",
              "      <td>-0.089972</td>\n",
              "      <td>0.003142</td>\n",
              "      <td>0.185130</td>\n",
              "      <td>0.449061</td>\n",
              "      <td>0.296916</td>\n",
              "      <td>-0.341360</td>\n",
              "      <td>-0.343122</td>\n",
              "      <td>0.557094</td>\n",
              "      <td>0.152693</td>\n",
              "      <td>0.652218</td>\n",
              "      <td>0.084259</td>\n",
              "      <td>0.101106</td>\n",
              "      <td>0.367879</td>\n",
              "      <td>0.346914</td>\n",
              "      <td>NaN</td>\n",
              "      <td>0.295193</td>\n",
              "      <td>-0.031902</td>\n",
              "      <td>0.156413</td>\n",
              "      <td>0.461087</td>\n",
              "      <td>0.504258</td>\n",
              "      <td>1.000000</td>\n",
              "    </tr>\n",
              "  </tbody>\n",
              "</table>\n",
              "</div>"
            ],
            "text/plain": [
              "                             class  cap-shape  ...  population   habitat\n",
              "class                     1.000000  -0.112110  ...   -0.155254 -0.191297\n",
              "cap-shape                -0.112110   1.000000  ...    0.139616  0.169343\n",
              "cap-surface               0.169663  -0.057205  ...    0.185359 -0.089972\n",
              "cap-color                -0.042028   0.001839  ...    0.070150  0.003142\n",
              "bruises                  -0.501530   0.120509  ...   -0.008293  0.185130\n",
              "odor                     -0.582015   0.175229  ...    0.277777  0.449061\n",
              "gill-attachment           0.129200   0.040082  ...    0.164873  0.296916\n",
              "gill-spacing              0.348387  -0.043906  ...   -0.474326 -0.341360\n",
              "gill-size                 0.540024  -0.151921  ...   -0.041683 -0.343122\n",
              "gill-color               -0.412869   0.218627  ...    0.293919  0.557094\n",
              "stalk-shape               0.102019   0.126006  ...    0.060160  0.152693\n",
              "stalk-root               -0.337542   0.210858  ...    0.349958  0.652218\n",
              "stalk-surface-above-ring -0.552044   0.079050  ...    0.147865  0.084259\n",
              "stalk-surface-below-ring -0.532452   0.074161  ...    0.150452  0.101106\n",
              "stalk-color-above-ring   -0.225294   0.073171  ...    0.485436  0.367879\n",
              "stalk-color-below-ring   -0.098476   0.056450  ...    0.450038  0.346914\n",
              "veil-type                      NaN        NaN  ...         NaN       NaN\n",
              "veil-color                0.120766   0.042988  ...    0.149818  0.295193\n",
              "ring-number               0.152261   0.058422  ...    0.015239 -0.031902\n",
              "ring-type                -0.556515   0.099599  ...    0.258874  0.156413\n",
              "spore-print-color        -0.560715   0.219476  ...    0.264669  0.461087\n",
              "population               -0.155254   0.139616  ...    1.000000  0.504258\n",
              "habitat                  -0.191297   0.169343  ...    0.504258  1.000000\n",
              "\n",
              "[23 rows x 23 columns]"
            ]
          },
          "metadata": {
            "tags": []
          },
          "execution_count": 10
        }
      ]
    },
    {
      "cell_type": "code",
      "metadata": {
        "colab": {
          "base_uri": "https://localhost:8080/"
        },
        "id": "V9xvDMmc9lRt",
        "outputId": "b3e3f2fe-00b6-49e1-86cf-2f63458d9f10"
      },
      "source": [
        "for i in df.columns:\n",
        "  my_crosstab = pd.crosstab(index=df[\"class\"],columns=df[i],margins=True)\n",
        "  print(my_crosstab)\n",
        "  print(\"___________________________________________________________\")"
      ],
      "execution_count": 11,
      "outputs": [
        {
          "output_type": "stream",
          "text": [
            "class     e     p   All\n",
            "class                  \n",
            "e      4208     0  4208\n",
            "p         0  3916  3916\n",
            "All    4208  3916  8124\n",
            "___________________________________________________________\n",
            "cap-shape    b  c     f    k   s     x   All\n",
            "class                                       \n",
            "e          404  0  1596  228  32  1948  4208\n",
            "p           48  4  1556  600   0  1708  3916\n",
            "All        452  4  3152  828  32  3656  8124\n",
            "___________________________________________________________\n",
            "cap-surface     f  g     s     y   All\n",
            "class                                 \n",
            "e            1560  0  1144  1504  4208\n",
            "p             760  4  1412  1740  3916\n",
            "All          2320  4  2556  3244  8124\n",
            "___________________________________________________________\n",
            "cap-color    b   c     e     g     n    p   r   u     w     y   All\n",
            "class                                                              \n",
            "e           48  32   624  1032  1264   56  16  16   720   400  4208\n",
            "p          120  12   876   808  1020   88   0   0   320   672  3916\n",
            "All        168  44  1500  1840  2284  144  16  16  1040  1072  8124\n",
            "___________________________________________________________\n",
            "bruises     f     t   All\n",
            "class                    \n",
            "e        1456  2752  4208\n",
            "p        3292   624  3916\n",
            "All      4748  3376  8124\n",
            "___________________________________________________________\n",
            "odor     a    c     f    l   m     n    p    s    y   All\n",
            "class                                                    \n",
            "e      400    0     0  400   0  3408    0    0    0  4208\n",
            "p        0  192  2160    0  36   120  256  576  576  3916\n",
            "All    400  192  2160  400  36  3528  256  576  576  8124\n",
            "___________________________________________________________\n",
            "gill-attachment    a     f   All\n",
            "class                           \n",
            "e                192  4016  4208\n",
            "p                 18  3898  3916\n",
            "All              210  7914  8124\n",
            "___________________________________________________________\n",
            "gill-spacing     c     w   All\n",
            "class                         \n",
            "e             3008  1200  4208\n",
            "p             3804   112  3916\n",
            "All           6812  1312  8124\n",
            "___________________________________________________________\n",
            "gill-size     b     n   All\n",
            "class                      \n",
            "e          3920   288  4208\n",
            "p          1692  2224  3916\n",
            "All        5612  2512  8124\n",
            "___________________________________________________________\n",
            "gill-color     b   e    g    h    k     n   o     p   r    u     w   y   All\n",
            "class                                                                       \n",
            "e              0  96  248  204  344   936  64   852   0  444   956  64  4208\n",
            "p           1728   0  504  528   64   112   0   640  24   48   246  22  3916\n",
            "All         1728  96  752  732  408  1048  64  1492  24  492  1202  86  8124\n",
            "___________________________________________________________\n",
            "stalk-shape     e     t   All\n",
            "class                        \n",
            "e            1616  2592  4208\n",
            "p            1900  2016  3916\n",
            "All          3516  4608  8124\n",
            "___________________________________________________________\n",
            "stalk-root     ?     b    c     e    r   All\n",
            "class                                       \n",
            "e            720  1920  512   864  192  4208\n",
            "p           1760  1856   44   256    0  3916\n",
            "All         2480  3776  556  1120  192  8124\n",
            "___________________________________________________________\n",
            "stalk-surface-above-ring    f     k     s   y   All\n",
            "class                                              \n",
            "e                         408   144  3640  16  4208\n",
            "p                         144  2228  1536   8  3916\n",
            "All                       552  2372  5176  24  8124\n",
            "___________________________________________________________\n",
            "stalk-surface-below-ring    f     k     s    y   All\n",
            "class                                               \n",
            "e                         456   144  3400  208  4208\n",
            "p                         144  2160  1536   76  3916\n",
            "All                       600  2304  4936  284  8124\n",
            "___________________________________________________________\n",
            "stalk-color-above-ring    b   c   e    g    n    o     p     w  y   All\n",
            "class                                                                  \n",
            "e                         0   0  96  576   16  192   576  2752  0  4208\n",
            "p                       432  36   0    0  432    0  1296  1712  8  3916\n",
            "All                     432  36  96  576  448  192  1872  4464  8  8124\n",
            "___________________________________________________________\n",
            "stalk-color-below-ring    b   c   e    g    n    o     p     w   y   All\n",
            "class                                                                   \n",
            "e                         0   0  96  576   64  192   576  2704   0  4208\n",
            "p                       432  36   0    0  448    0  1296  1680  24  3916\n",
            "All                     432  36  96  576  512  192  1872  4384  24  8124\n",
            "___________________________________________________________\n",
            "veil-type     p   All\n",
            "class                \n",
            "e          4208  4208\n",
            "p          3916  3916\n",
            "All        8124  8124\n",
            "___________________________________________________________\n",
            "veil-color   n   o     w  y   All\n",
            "class                            \n",
            "e           96  96  4016  0  4208\n",
            "p            0   0  3908  8  3916\n",
            "All         96  96  7924  8  8124\n",
            "___________________________________________________________\n",
            "ring-number   n     o    t   All\n",
            "class                           \n",
            "e             0  3680  528  4208\n",
            "p            36  3808   72  3916\n",
            "All          36  7488  600  8124\n",
            "___________________________________________________________\n",
            "ring-type     e   f     l   n     p   All\n",
            "class                                    \n",
            "e          1008  48     0   0  3152  4208\n",
            "p          1768   0  1296  36   816  3916\n",
            "All        2776  48  1296  36  3968  8124\n",
            "___________________________________________________________\n",
            "spore-print-color   b     h     k     n   o   r   u     w   y   All\n",
            "class                                                              \n",
            "e                  48    48  1648  1744  48   0  48   576  48  4208\n",
            "p                   0  1584   224   224   0  72   0  1812   0  3916\n",
            "All                48  1632  1872  1968  48  72  48  2388  48  8124\n",
            "___________________________________________________________\n",
            "population    a    c    n     s     v     y   All\n",
            "class                                            \n",
            "e           384  288  400   880  1192  1064  4208\n",
            "p             0   52    0   368  2848   648  3916\n",
            "All         384  340  400  1248  4040  1712  8124\n",
            "___________________________________________________________\n",
            "habitat     d     g    l    m     p    u    w   All\n",
            "class                                              \n",
            "e        1880  1408  240  256   136   96  192  4208\n",
            "p        1268   740  592   36  1008  272    0  3916\n",
            "All      3148  2148  832  292  1144  368  192  8124\n",
            "___________________________________________________________\n"
          ],
          "name": "stdout"
        }
      ]
    },
    {
      "cell_type": "markdown",
      "metadata": {
        "id": "hKz0g39X2Mkt"
      },
      "source": [
        "ATTRIBUTE \"STALK-ROOT\" HAVEING 2480 MISSING DATA IN THE FORM OF \" ? \" \n",
        "\n",
        "AND DOESNT HAVE MUCH CORRELATION WITH CLASS \n",
        "\n",
        "SO DROPING THAT ATTRIBUTE FROM DATASET"
      ]
    },
    {
      "cell_type": "code",
      "metadata": {
        "id": "qO1zJltLL_Dj"
      },
      "source": [
        "df = df.drop(['stalk-root'],axis=1)"
      ],
      "execution_count": 12,
      "outputs": []
    },
    {
      "cell_type": "code",
      "metadata": {
        "id": "wJDDS4jzShtr"
      },
      "source": [
        ""
      ],
      "execution_count": 12,
      "outputs": []
    },
    {
      "cell_type": "markdown",
      "metadata": {
        "id": "2DPszUySU_s1"
      },
      "source": [
        "## bivariant analysis"
      ]
    },
    {
      "cell_type": "code",
      "metadata": {
        "colab": {
          "base_uri": "https://localhost:8080/",
          "height": 296
        },
        "id": "WqT8zZi4Shqe",
        "outputId": "b1f7cddc-0455-4f42-b440-34086126e3e2"
      },
      "source": [
        "sns.countplot(x='cap-shape',data=df,hue='class')"
      ],
      "execution_count": 13,
      "outputs": [
        {
          "output_type": "execute_result",
          "data": {
            "text/plain": [
              "<matplotlib.axes._subplots.AxesSubplot at 0x7f49fbf73a50>"
            ]
          },
          "metadata": {
            "tags": []
          },
          "execution_count": 13
        },
        {
          "output_type": "display_data",
          "data": {
            "image/png": "[encoded data removed]",
            "text/plain": [
              "<Figure size 432x288 with 1 Axes>"
            ]
          },
          "metadata": {
            "tags": [],
            "needs_background": "light"
          }
        }
      ]
    },
    {
      "cell_type": "code",
      "metadata": {
        "colab": {
          "base_uri": "https://localhost:8080/",
          "height": 296
        },
        "id": "G94gGceVShnp",
        "outputId": "c12014c4-92c5-4ba0-deb8-0dff4573a957"
      },
      "source": [
        "sns.countplot(x='cap-surface',data=df,hue='class')"
      ],
      "execution_count": 14,
      "outputs": [
        {
          "output_type": "execute_result",
          "data": {
            "text/plain": [
              "<matplotlib.axes._subplots.AxesSubplot at 0x7f49fbef5ed0>"
            ]
          },
          "metadata": {
            "tags": []
          },
          "execution_count": 14
        },
        {
          "output_type": "display_data",
          "data": {
            "image/png": "[encoded data removed]",
            "text/plain": [
              "<Figure size 432x288 with 1 Axes>"
            ]
          },
          "metadata": {
            "tags": [],
            "needs_background": "light"
          }
        }
      ]
    },
    {
      "cell_type": "code",
      "metadata": {
        "colab": {
          "base_uri": "https://localhost:8080/",
          "height": 296
        },
        "id": "XowmvfSmShZ6",
        "outputId": "58b3fcf2-8040-48ba-a146-048721043805"
      },
      "source": [
        "sns.countplot(x='bruises',data=df,hue='class')"
      ],
      "execution_count": 15,
      "outputs": [
        {
          "output_type": "execute_result",
          "data": {
            "text/plain": [
              "<matplotlib.axes._subplots.AxesSubplot at 0x7f49fbeac590>"
            ]
          },
          "metadata": {
            "tags": []
          },
          "execution_count": 15
        },
        {
          "output_type": "display_data",
          "data": {
            "image/png": "[encoded data removed]",
            "text/plain": [
              "<Figure size 432x288 with 1 Axes>"
            ]
          },
          "metadata": {
            "tags": [],
            "needs_background": "light"
          }
        }
      ]
    },
    {
      "cell_type": "code",
      "metadata": {
        "colab": {
          "base_uri": "https://localhost:8080/",
          "height": 296
        },
        "id": "7hMyoh31Ssrm",
        "outputId": "923b0712-9a1f-4ec5-d746-e6f3709fb92e"
      },
      "source": [
        "sns.countplot(x='odor',data=df,hue='class')"
      ],
      "execution_count": 16,
      "outputs": [
        {
          "output_type": "execute_result",
          "data": {
            "text/plain": [
              "<matplotlib.axes._subplots.AxesSubplot at 0x7f49fbf00090>"
            ]
          },
          "metadata": {
            "tags": []
          },
          "execution_count": 16
        },
        {
          "output_type": "display_data",
          "data": {
            "image/png": "[encoded data removed]",
            "text/plain": [
              "<Figure size 432x288 with 1 Axes>"
            ]
          },
          "metadata": {
            "tags": [],
            "needs_background": "light"
          }
        }
      ]
    },
    {
      "cell_type": "code",
      "metadata": {
        "colab": {
          "base_uri": "https://localhost:8080/",
          "height": 296
        },
        "id": "tY9LNeWJStJj",
        "outputId": "ee8d9633-c1c9-4b7e-c0a4-4bf25bdbd3b2"
      },
      "source": [
        "sns.countplot(x='gill-attachment',data=df,hue='class')"
      ],
      "execution_count": 17,
      "outputs": [
        {
          "output_type": "execute_result",
          "data": {
            "text/plain": [
              "<matplotlib.axes._subplots.AxesSubplot at 0x7f49fbdc9410>"
            ]
          },
          "metadata": {
            "tags": []
          },
          "execution_count": 17
        },
        {
          "output_type": "display_data",
          "data": {
            "image/png": "[encoded data removed]",
            "text/plain": [
              "<Figure size 432x288 with 1 Axes>"
            ]
          },
          "metadata": {
            "tags": [],
            "needs_background": "light"
          }
        }
      ]
    },
    {
      "cell_type": "code",
      "metadata": {
        "colab": {
          "base_uri": "https://localhost:8080/",
          "height": 296
        },
        "id": "GtCaiJSiSt1I",
        "outputId": "d9f9088e-a893-4600-cfe4-74eb5d5968be"
      },
      "source": [
        "sns.countplot(x='gill-spacing',data=df,hue='class')"
      ],
      "execution_count": 18,
      "outputs": [
        {
          "output_type": "execute_result",
          "data": {
            "text/plain": [
              "<matplotlib.axes._subplots.AxesSubplot at 0x7f49fbd426d0>"
            ]
          },
          "metadata": {
            "tags": []
          },
          "execution_count": 18
        },
        {
          "output_type": "display_data",
          "data": {
            "image/png": "[encoded data removed]",
            "text/plain": [
              "<Figure size 432x288 with 1 Axes>"
            ]
          },
          "metadata": {
            "tags": [],
            "needs_background": "light"
          }
        }
      ]
    },
    {
      "cell_type": "code",
      "metadata": {
        "colab": {
          "base_uri": "https://localhost:8080/",
          "height": 296
        },
        "id": "6CO5VITxS8EA",
        "outputId": "3429447e-0290-409a-ab77-9c7e44bbce14"
      },
      "source": [
        "sns.countplot(x='gill-size',data=df,hue='class')"
      ],
      "execution_count": 19,
      "outputs": [
        {
          "output_type": "execute_result",
          "data": {
            "text/plain": [
              "<matplotlib.axes._subplots.AxesSubplot at 0x7f49fbcb2e10>"
            ]
          },
          "metadata": {
            "tags": []
          },
          "execution_count": 19
        },
        {
          "output_type": "display_data",
          "data": {
            "image/png": "[encoded data removed]",
            "text/plain": [
              "<Figure size 432x288 with 1 Axes>"
            ]
          },
          "metadata": {
            "tags": [],
            "needs_background": "light"
          }
        }
      ]
    },
    {
      "cell_type": "code",
      "metadata": {
        "colab": {
          "base_uri": "https://localhost:8080/",
          "height": 296
        },
        "id": "k1hzulqiS7-r",
        "outputId": "6a7770d6-45b3-45c3-a2fc-2d165dada768"
      },
      "source": [
        "sns.countplot(x='gill-color',data=df,hue='class')"
      ],
      "execution_count": 20,
      "outputs": [
        {
          "output_type": "execute_result",
          "data": {
            "text/plain": [
              "<matplotlib.axes._subplots.AxesSubplot at 0x7f49fbc3c350>"
            ]
          },
          "metadata": {
            "tags": []
          },
          "execution_count": 20
        },
        {
          "output_type": "display_data",
          "data": {
            "image/png": "[encoded data removed]",
            "text/plain": [
              "<Figure size 432x288 with 1 Axes>"
            ]
          },
          "metadata": {
            "tags": [],
            "needs_background": "light"
          }
        }
      ]
    },
    {
      "cell_type": "code",
      "metadata": {
        "colab": {
          "base_uri": "https://localhost:8080/",
          "height": 296
        },
        "id": "Lzjnvfh2S750",
        "outputId": "84390249-808f-45ae-bab9-f61bae6c0a2e"
      },
      "source": [
        "sns.countplot(x='stalk-shape',data=df,hue='class')"
      ],
      "execution_count": 21,
      "outputs": [
        {
          "output_type": "execute_result",
          "data": {
            "text/plain": [
              "<matplotlib.axes._subplots.AxesSubplot at 0x7f49fbb6e550>"
            ]
          },
          "metadata": {
            "tags": []
          },
          "execution_count": 21
        },
        {
          "output_type": "display_data",
          "data": {
            "image/png": "[encoded data removed]",
            "text/plain": [
              "<Figure size 432x288 with 1 Axes>"
            ]
          },
          "metadata": {
            "tags": [],
            "needs_background": "light"
          }
        }
      ]
    },
    {
      "cell_type": "code",
      "metadata": {
        "colab": {
          "base_uri": "https://localhost:8080/",
          "height": 296
        },
        "id": "vuNhrfO4S72t",
        "outputId": "a00dbfb4-c833-4fc6-fe69-78c23a8847ab"
      },
      "source": [
        "sns.countplot(x='stalk-surface-above-ring',data=df,hue='class')"
      ],
      "execution_count": 22,
      "outputs": [
        {
          "output_type": "execute_result",
          "data": {
            "text/plain": [
              "<matplotlib.axes._subplots.AxesSubplot at 0x7f49fbae5050>"
            ]
          },
          "metadata": {
            "tags": []
          },
          "execution_count": 22
        },
        {
          "output_type": "display_data",
          "data": {
            "image/png": "[encoded data removed]",
            "text/plain": [
              "<Figure size 432x288 with 1 Axes>"
            ]
          },
          "metadata": {
            "tags": [],
            "needs_background": "light"
          }
        }
      ]
    },
    {
      "cell_type": "code",
      "metadata": {
        "colab": {
          "base_uri": "https://localhost:8080/",
          "height": 296
        },
        "id": "YpnUecMiS7yn",
        "outputId": "ebc7ae4e-a74e-4e87-9f36-13ea8d110dd1"
      },
      "source": [
        "sns.countplot(x='stalk-surface-below-ring',data=df,hue='class')"
      ],
      "execution_count": 23,
      "outputs": [
        {
          "output_type": "execute_result",
          "data": {
            "text/plain": [
              "<matplotlib.axes._subplots.AxesSubplot at 0x7f4a064d6f90>"
            ]
          },
          "metadata": {
            "tags": []
          },
          "execution_count": 23
        },
        {
          "output_type": "display_data",
          "data": {
            "image/png": "[encoded data removed]",
            "text/plain": [
              "<Figure size 432x288 with 1 Axes>"
            ]
          },
          "metadata": {
            "tags": [],
            "needs_background": "light"
          }
        }
      ]
    },
    {
      "cell_type": "code",
      "metadata": {
        "colab": {
          "base_uri": "https://localhost:8080/",
          "height": 296
        },
        "id": "CzFPdsY0S7ti",
        "outputId": "4d4824d5-ccfe-4655-e37b-5f400e236980"
      },
      "source": [
        "sns.countplot(x='stalk-color-above-ring',data=df,hue='class')"
      ],
      "execution_count": 24,
      "outputs": [
        {
          "output_type": "execute_result",
          "data": {
            "text/plain": [
              "<matplotlib.axes._subplots.AxesSubplot at 0x7f49fb9f8c90>"
            ]
          },
          "metadata": {
            "tags": []
          },
          "execution_count": 24
        },
        {
          "output_type": "display_data",
          "data": {
            "image/png": "[encoded data removed]",
            "text/plain": [
              "<Figure size 432x288 with 1 Axes>"
            ]
          },
          "metadata": {
            "tags": [],
            "needs_background": "light"
          }
        }
      ]
    },
    {
      "cell_type": "code",
      "metadata": {
        "colab": {
          "base_uri": "https://localhost:8080/",
          "height": 296
        },
        "id": "MBClF-yvS7l9",
        "outputId": "07ca94aa-0277-4ae0-da96-ad0c2852b01f"
      },
      "source": [
        "sns.countplot(x='stalk-color-below-ring',data=df,hue='class')"
      ],
      "execution_count": 25,
      "outputs": [
        {
          "output_type": "execute_result",
          "data": {
            "text/plain": [
              "<matplotlib.axes._subplots.AxesSubplot at 0x7f49fb922610>"
            ]
          },
          "metadata": {
            "tags": []
          },
          "execution_count": 25
        },
        {
          "output_type": "display_data",
          "data": {
            "image/png": "[encoded data removed]",
            "text/plain": [
              "<Figure size 432x288 with 1 Axes>"
            ]
          },
          "metadata": {
            "tags": [],
            "needs_background": "light"
          }
        }
      ]
    },
    {
      "cell_type": "code",
      "metadata": {
        "colab": {
          "base_uri": "https://localhost:8080/",
          "height": 296
        },
        "id": "XcT4LfmkTVGq",
        "outputId": "49ef0c49-4963-4b39-8f3a-8effe837a231"
      },
      "source": [
        "sns.countplot(x='veil-type',data=df,hue='class')"
      ],
      "execution_count": 26,
      "outputs": [
        {
          "output_type": "execute_result",
          "data": {
            "text/plain": [
              "<matplotlib.axes._subplots.AxesSubplot at 0x7f49fb916c50>"
            ]
          },
          "metadata": {
            "tags": []
          },
          "execution_count": 26
        },
        {
          "output_type": "display_data",
          "data": {
            "image/png": "[encoded data removed]",
            "text/plain": [
              "<Figure size 432x288 with 1 Axes>"
            ]
          },
          "metadata": {
            "tags": [],
            "needs_background": "light"
          }
        }
      ]
    },
    {
      "cell_type": "code",
      "metadata": {
        "colab": {
          "base_uri": "https://localhost:8080/",
          "height": 296
        },
        "id": "FH4lHh3bTUt1",
        "outputId": "f9459f8c-9156-4439-a14a-3cc7c3e92614"
      },
      "source": [
        "sns.countplot(x='veil-color',data=df,hue='class')"
      ],
      "execution_count": 27,
      "outputs": [
        {
          "output_type": "execute_result",
          "data": {
            "text/plain": [
              "<matplotlib.axes._subplots.AxesSubplot at 0x7f49fc435790>"
            ]
          },
          "metadata": {
            "tags": []
          },
          "execution_count": 27
        },
        {
          "output_type": "display_data",
          "data": {
            "image/png": "[encoded data removed]",
            "text/plain": [
              "<Figure size 432x288 with 1 Axes>"
            ]
          },
          "metadata": {
            "tags": [],
            "needs_background": "light"
          }
        }
      ]
    },
    {
      "cell_type": "code",
      "metadata": {
        "colab": {
          "base_uri": "https://localhost:8080/",
          "height": 296
        },
        "id": "dtUI_jjETT04",
        "outputId": "49b95386-2dc3-42c2-b212-70f50be0d438"
      },
      "source": [
        "sns.countplot(x='ring-number',data=df,hue='class')"
      ],
      "execution_count": 28,
      "outputs": [
        {
          "output_type": "execute_result",
          "data": {
            "text/plain": [
              "<matplotlib.axes._subplots.AxesSubplot at 0x7f49fb9ea950>"
            ]
          },
          "metadata": {
            "tags": []
          },
          "execution_count": 28
        },
        {
          "output_type": "display_data",
          "data": {
            "image/png": "[encoded data removed]",
            "text/plain": [
              "<Figure size 432x288 with 1 Axes>"
            ]
          },
          "metadata": {
            "tags": [],
            "needs_background": "light"
          }
        }
      ]
    },
    {
      "cell_type": "code",
      "metadata": {
        "colab": {
          "base_uri": "https://localhost:8080/",
          "height": 296
        },
        "id": "OCav7B-lTTsF",
        "outputId": "ce25c622-1bb7-4974-904d-cf72a3144183"
      },
      "source": [
        "sns.countplot(x='ring-type',data=df,hue='class')"
      ],
      "execution_count": 29,
      "outputs": [
        {
          "output_type": "execute_result",
          "data": {
            "text/plain": [
              "<matplotlib.axes._subplots.AxesSubplot at 0x7f49fb7873d0>"
            ]
          },
          "metadata": {
            "tags": []
          },
          "execution_count": 29
        },
        {
          "output_type": "display_data",
          "data": {
            "image/png": "[encoded data removed]",
            "text/plain": [
              "<Figure size 432x288 with 1 Axes>"
            ]
          },
          "metadata": {
            "tags": [],
            "needs_background": "light"
          }
        }
      ]
    },
    {
      "cell_type": "code",
      "metadata": {
        "colab": {
          "base_uri": "https://localhost:8080/",
          "height": 296
        },
        "id": "WxOaQLg-TTiE",
        "outputId": "a8a17fb1-ed5d-4a86-b206-a2e33643ca79"
      },
      "source": [
        "sns.countplot(x='spore-print-color',data=df,hue='class')"
      ],
      "execution_count": 30,
      "outputs": [
        {
          "output_type": "execute_result",
          "data": {
            "text/plain": [
              "<matplotlib.axes._subplots.AxesSubplot at 0x7f49fb708c10>"
            ]
          },
          "metadata": {
            "tags": []
          },
          "execution_count": 30
        },
        {
          "output_type": "display_data",
          "data": {
            "image/png": "[encoded data removed]",
            "text/plain": [
              "<Figure size 432x288 with 1 Axes>"
            ]
          },
          "metadata": {
            "tags": [],
            "needs_background": "light"
          }
        }
      ]
    },
    {
      "cell_type": "code",
      "metadata": {
        "colab": {
          "base_uri": "https://localhost:8080/",
          "height": 296
        },
        "id": "OVjYvQkTTiOz",
        "outputId": "c396f5cd-e0ab-4c00-e81b-18c2ad9d3492"
      },
      "source": [
        "sns.countplot(x='population',data=df,hue='class')"
      ],
      "execution_count": 31,
      "outputs": [
        {
          "output_type": "execute_result",
          "data": {
            "text/plain": [
              "<matplotlib.axes._subplots.AxesSubplot at 0x7f49fb63e690>"
            ]
          },
          "metadata": {
            "tags": []
          },
          "execution_count": 31
        },
        {
          "output_type": "display_data",
          "data": {
            "image/png": "[encoded data removed]",
            "text/plain": [
              "<Figure size 432x288 with 1 Axes>"
            ]
          },
          "metadata": {
            "tags": [],
            "needs_background": "light"
          }
        }
      ]
    },
    {
      "cell_type": "code",
      "metadata": {
        "colab": {
          "base_uri": "https://localhost:8080/",
          "height": 296
        },
        "id": "t53bPKfdTiJb",
        "outputId": "5719f66b-9ce0-4d3e-8e4a-815e258a4bbf"
      },
      "source": [
        "sns.countplot(x='habitat',data=df,hue='class')"
      ],
      "execution_count": 32,
      "outputs": [
        {
          "output_type": "execute_result",
          "data": {
            "text/plain": [
              "<matplotlib.axes._subplots.AxesSubplot at 0x7f49fb664250>"
            ]
          },
          "metadata": {
            "tags": []
          },
          "execution_count": 32
        },
        {
          "output_type": "display_data",
          "data": {
            "image/png": "[encoded data removed]",
            "text/plain": [
              "<Figure size 432x288 with 1 Axes>"
            ]
          },
          "metadata": {
            "tags": [],
            "needs_background": "light"
          }
        }
      ]
    },
    {
      "cell_type": "markdown",
      "metadata": {
        "id": "y4PcSig6QrLL"
      },
      "source": [
        "FINDING THE CORRELATION BETWEEN THE ATTRIBUTE"
      ]
    },
    {
      "cell_type": "code",
      "metadata": {
        "colab": {
          "base_uri": "https://localhost:8080/",
          "height": 1000
        },
        "id": "31THXxha-aaD",
        "outputId": "90cc1511-9daa-4d11-b710-4b252f0206cb"
      },
      "source": [
        "df.apply(lambda x : pd.factorize(x)[0]).corr(method='pearson', min_periods=1)"
      ],
      "execution_count": 33,
      "outputs": [
        {
          "output_type": "execute_result",
          "data": {
            "text/html": [
              "<div>\n",
              "<style scoped>\n",
              "    .dataframe tbody tr th:only-of-type {\n",
              "        vertical-align: middle;\n",
              "    }\n",
              "\n",
              "    .dataframe tbody tr th {\n",
              "        vertical-align: top;\n",
              "    }\n",
              "\n",
              "    .dataframe thead th {\n",
              "        text-align: right;\n",
              "    }\n",
              "</style>\n",
              "<table border=\"1\" class=\"dataframe\">\n",
              "  <thead>\n",
              "    <tr style=\"text-align: right;\">\n",
              "      <th></th>\n",
              "      <th>class</th>\n",
              "      <th>cap-shape</th>\n",
              "      <th>cap-surface</th>\n",
              "      <th>cap-color</th>\n",
              "      <th>bruises</th>\n",
              "      <th>odor</th>\n",
              "      <th>gill-attachment</th>\n",
              "      <th>gill-spacing</th>\n",
              "      <th>gill-size</th>\n",
              "      <th>gill-color</th>\n",
              "      <th>stalk-shape</th>\n",
              "      <th>stalk-surface-above-ring</th>\n",
              "      <th>stalk-surface-below-ring</th>\n",
              "      <th>stalk-color-above-ring</th>\n",
              "      <th>stalk-color-below-ring</th>\n",
              "      <th>veil-type</th>\n",
              "      <th>veil-color</th>\n",
              "      <th>ring-number</th>\n",
              "      <th>ring-type</th>\n",
              "      <th>spore-print-color</th>\n",
              "      <th>population</th>\n",
              "      <th>habitat</th>\n",
              "    </tr>\n",
              "  </thead>\n",
              "  <tbody>\n",
              "    <tr>\n",
              "      <th>class</th>\n",
              "      <td>1.000000</td>\n",
              "      <td>-0.112110</td>\n",
              "      <td>0.169663</td>\n",
              "      <td>-0.042028</td>\n",
              "      <td>-0.501530</td>\n",
              "      <td>-0.582015</td>\n",
              "      <td>0.129200</td>\n",
              "      <td>0.348387</td>\n",
              "      <td>0.540024</td>\n",
              "      <td>-0.412869</td>\n",
              "      <td>0.102019</td>\n",
              "      <td>-0.552044</td>\n",
              "      <td>-0.532452</td>\n",
              "      <td>-0.225294</td>\n",
              "      <td>-0.098476</td>\n",
              "      <td>NaN</td>\n",
              "      <td>0.120766</td>\n",
              "      <td>0.152261</td>\n",
              "      <td>-0.556515</td>\n",
              "      <td>-0.560715</td>\n",
              "      <td>-0.155254</td>\n",
              "      <td>-0.191297</td>\n",
              "    </tr>\n",
              "    <tr>\n",
              "      <th>cap-shape</th>\n",
              "      <td>-0.112110</td>\n",
              "      <td>1.000000</td>\n",
              "      <td>-0.057205</td>\n",
              "      <td>0.001839</td>\n",
              "      <td>0.120509</td>\n",
              "      <td>0.175229</td>\n",
              "      <td>0.040082</td>\n",
              "      <td>-0.043906</td>\n",
              "      <td>-0.151921</td>\n",
              "      <td>0.218627</td>\n",
              "      <td>0.126006</td>\n",
              "      <td>0.079050</td>\n",
              "      <td>0.074161</td>\n",
              "      <td>0.073171</td>\n",
              "      <td>0.056450</td>\n",
              "      <td>NaN</td>\n",
              "      <td>0.042988</td>\n",
              "      <td>0.058422</td>\n",
              "      <td>0.099599</td>\n",
              "      <td>0.219476</td>\n",
              "      <td>0.139616</td>\n",
              "      <td>0.169343</td>\n",
              "    </tr>\n",
              "    <tr>\n",
              "      <th>cap-surface</th>\n",
              "      <td>0.169663</td>\n",
              "      <td>-0.057205</td>\n",
              "      <td>1.000000</td>\n",
              "      <td>0.016133</td>\n",
              "      <td>-0.047265</td>\n",
              "      <td>-0.106147</td>\n",
              "      <td>-0.186157</td>\n",
              "      <td>0.029686</td>\n",
              "      <td>0.267029</td>\n",
              "      <td>-0.266708</td>\n",
              "      <td>-0.050834</td>\n",
              "      <td>0.080111</td>\n",
              "      <td>0.090350</td>\n",
              "      <td>0.080218</td>\n",
              "      <td>0.092631</td>\n",
              "      <td>NaN</td>\n",
              "      <td>-0.171918</td>\n",
              "      <td>-0.074779</td>\n",
              "      <td>0.107866</td>\n",
              "      <td>-0.283378</td>\n",
              "      <td>0.185359</td>\n",
              "      <td>-0.089972</td>\n",
              "    </tr>\n",
              "    <tr>\n",
              "      <th>cap-color</th>\n",
              "      <td>-0.042028</td>\n",
              "      <td>0.001839</td>\n",
              "      <td>0.016133</td>\n",
              "      <td>1.000000</td>\n",
              "      <td>-0.065879</td>\n",
              "      <td>0.115960</td>\n",
              "      <td>-0.163457</td>\n",
              "      <td>-0.012795</td>\n",
              "      <td>0.015113</td>\n",
              "      <td>0.023458</td>\n",
              "      <td>0.045698</td>\n",
              "      <td>-0.020976</td>\n",
              "      <td>-0.042124</td>\n",
              "      <td>-0.063978</td>\n",
              "      <td>-0.065686</td>\n",
              "      <td>NaN</td>\n",
              "      <td>-0.172176</td>\n",
              "      <td>0.184474</td>\n",
              "      <td>0.040785</td>\n",
              "      <td>0.055050</td>\n",
              "      <td>0.070150</td>\n",
              "      <td>0.003142</td>\n",
              "    </tr>\n",
              "    <tr>\n",
              "      <th>bruises</th>\n",
              "      <td>-0.501530</td>\n",
              "      <td>0.120509</td>\n",
              "      <td>-0.047265</td>\n",
              "      <td>-0.065879</td>\n",
              "      <td>1.000000</td>\n",
              "      <td>0.588456</td>\n",
              "      <td>0.137359</td>\n",
              "      <td>0.299473</td>\n",
              "      <td>-0.369596</td>\n",
              "      <td>0.325408</td>\n",
              "      <td>-0.099364</td>\n",
              "      <td>0.573538</td>\n",
              "      <td>0.530214</td>\n",
              "      <td>0.267325</td>\n",
              "      <td>0.208451</td>\n",
              "      <td>NaN</td>\n",
              "      <td>0.125606</td>\n",
              "      <td>-0.014367</td>\n",
              "      <td>0.685119</td>\n",
              "      <td>0.543409</td>\n",
              "      <td>-0.008293</td>\n",
              "      <td>0.185130</td>\n",
              "    </tr>\n",
              "    <tr>\n",
              "      <th>odor</th>\n",
              "      <td>-0.582015</td>\n",
              "      <td>0.175229</td>\n",
              "      <td>-0.106147</td>\n",
              "      <td>0.115960</td>\n",
              "      <td>0.588456</td>\n",
              "      <td>1.000000</td>\n",
              "      <td>-0.016816</td>\n",
              "      <td>-0.155748</td>\n",
              "      <td>-0.444492</td>\n",
              "      <td>0.599497</td>\n",
              "      <td>0.324774</td>\n",
              "      <td>0.394828</td>\n",
              "      <td>0.353683</td>\n",
              "      <td>0.214888</td>\n",
              "      <td>0.101501</td>\n",
              "      <td>NaN</td>\n",
              "      <td>-0.056362</td>\n",
              "      <td>-0.009788</td>\n",
              "      <td>0.460625</td>\n",
              "      <td>0.563857</td>\n",
              "      <td>0.277777</td>\n",
              "      <td>0.449061</td>\n",
              "    </tr>\n",
              "    <tr>\n",
              "      <th>gill-attachment</th>\n",
              "      <td>0.129200</td>\n",
              "      <td>0.040082</td>\n",
              "      <td>-0.186157</td>\n",
              "      <td>-0.163457</td>\n",
              "      <td>0.137359</td>\n",
              "      <td>-0.016816</td>\n",
              "      <td>1.000000</td>\n",
              "      <td>-0.071489</td>\n",
              "      <td>0.108984</td>\n",
              "      <td>0.184927</td>\n",
              "      <td>-0.186485</td>\n",
              "      <td>-0.087714</td>\n",
              "      <td>-0.100591</td>\n",
              "      <td>0.514289</td>\n",
              "      <td>0.595280</td>\n",
              "      <td>NaN</td>\n",
              "      <td>0.842230</td>\n",
              "      <td>0.049642</td>\n",
              "      <td>-0.073149</td>\n",
              "      <td>0.296461</td>\n",
              "      <td>0.164873</td>\n",
              "      <td>0.296916</td>\n",
              "    </tr>\n",
              "    <tr>\n",
              "      <th>gill-spacing</th>\n",
              "      <td>0.348387</td>\n",
              "      <td>-0.043906</td>\n",
              "      <td>0.029686</td>\n",
              "      <td>-0.012795</td>\n",
              "      <td>0.299473</td>\n",
              "      <td>-0.155748</td>\n",
              "      <td>-0.071489</td>\n",
              "      <td>1.000000</td>\n",
              "      <td>0.108333</td>\n",
              "      <td>-0.274645</td>\n",
              "      <td>0.080895</td>\n",
              "      <td>-0.054077</td>\n",
              "      <td>-0.112643</td>\n",
              "      <td>-0.309026</td>\n",
              "      <td>-0.233907</td>\n",
              "      <td>NaN</td>\n",
              "      <td>-0.034235</td>\n",
              "      <td>0.206233</td>\n",
              "      <td>-0.038015</td>\n",
              "      <td>-0.173491</td>\n",
              "      <td>-0.474326</td>\n",
              "      <td>-0.341360</td>\n",
              "    </tr>\n",
              "    <tr>\n",
              "      <th>gill-size</th>\n",
              "      <td>0.540024</td>\n",
              "      <td>-0.151921</td>\n",
              "      <td>0.267029</td>\n",
              "      <td>0.015113</td>\n",
              "      <td>-0.369596</td>\n",
              "      <td>-0.444492</td>\n",
              "      <td>0.108984</td>\n",
              "      <td>0.108333</td>\n",
              "      <td>1.000000</td>\n",
              "      <td>-0.518717</td>\n",
              "      <td>-0.214576</td>\n",
              "      <td>-0.052806</td>\n",
              "      <td>-0.049072</td>\n",
              "      <td>0.186706</td>\n",
              "      <td>0.226610</td>\n",
              "      <td>NaN</td>\n",
              "      <td>0.074866</td>\n",
              "      <td>0.190112</td>\n",
              "      <td>-0.071459</td>\n",
              "      <td>-0.355811</td>\n",
              "      <td>-0.041683</td>\n",
              "      <td>-0.343122</td>\n",
              "    </tr>\n",
              "    <tr>\n",
              "      <th>gill-color</th>\n",
              "      <td>-0.412869</td>\n",
              "      <td>0.218627</td>\n",
              "      <td>-0.266708</td>\n",
              "      <td>0.023458</td>\n",
              "      <td>0.325408</td>\n",
              "      <td>0.599497</td>\n",
              "      <td>0.184927</td>\n",
              "      <td>-0.274645</td>\n",
              "      <td>-0.518717</td>\n",
              "      <td>1.000000</td>\n",
              "      <td>0.308259</td>\n",
              "      <td>0.154243</td>\n",
              "      <td>0.146393</td>\n",
              "      <td>0.188830</td>\n",
              "      <td>0.115547</td>\n",
              "      <td>NaN</td>\n",
              "      <td>0.169267</td>\n",
              "      <td>0.016427</td>\n",
              "      <td>0.181942</td>\n",
              "      <td>0.586547</td>\n",
              "      <td>0.293919</td>\n",
              "      <td>0.557094</td>\n",
              "    </tr>\n",
              "    <tr>\n",
              "      <th>stalk-shape</th>\n",
              "      <td>0.102019</td>\n",
              "      <td>0.126006</td>\n",
              "      <td>-0.050834</td>\n",
              "      <td>0.045698</td>\n",
              "      <td>-0.099364</td>\n",
              "      <td>0.324774</td>\n",
              "      <td>-0.186485</td>\n",
              "      <td>0.080895</td>\n",
              "      <td>-0.214576</td>\n",
              "      <td>0.308259</td>\n",
              "      <td>1.000000</td>\n",
              "      <td>-0.215639</td>\n",
              "      <td>-0.272673</td>\n",
              "      <td>-0.292659</td>\n",
              "      <td>-0.346565</td>\n",
              "      <td>NaN</td>\n",
              "      <td>-0.170529</td>\n",
              "      <td>-0.325305</td>\n",
              "      <td>-0.224838</td>\n",
              "      <td>-0.138854</td>\n",
              "      <td>0.060160</td>\n",
              "      <td>0.152693</td>\n",
              "    </tr>\n",
              "    <tr>\n",
              "      <th>stalk-surface-above-ring</th>\n",
              "      <td>-0.552044</td>\n",
              "      <td>0.079050</td>\n",
              "      <td>0.080111</td>\n",
              "      <td>-0.020976</td>\n",
              "      <td>0.573538</td>\n",
              "      <td>0.394828</td>\n",
              "      <td>-0.087714</td>\n",
              "      <td>-0.054077</td>\n",
              "      <td>-0.052806</td>\n",
              "      <td>0.154243</td>\n",
              "      <td>-0.215639</td>\n",
              "      <td>1.000000</td>\n",
              "      <td>0.625233</td>\n",
              "      <td>0.361493</td>\n",
              "      <td>0.279830</td>\n",
              "      <td>NaN</td>\n",
              "      <td>-0.070482</td>\n",
              "      <td>0.016738</td>\n",
              "      <td>0.681449</td>\n",
              "      <td>0.433668</td>\n",
              "      <td>0.147865</td>\n",
              "      <td>0.084259</td>\n",
              "    </tr>\n",
              "    <tr>\n",
              "      <th>stalk-surface-below-ring</th>\n",
              "      <td>-0.532452</td>\n",
              "      <td>0.074161</td>\n",
              "      <td>0.090350</td>\n",
              "      <td>-0.042124</td>\n",
              "      <td>0.530214</td>\n",
              "      <td>0.353683</td>\n",
              "      <td>-0.100591</td>\n",
              "      <td>-0.112643</td>\n",
              "      <td>-0.049072</td>\n",
              "      <td>0.146393</td>\n",
              "      <td>-0.272673</td>\n",
              "      <td>0.625233</td>\n",
              "      <td>1.000000</td>\n",
              "      <td>0.336337</td>\n",
              "      <td>0.241018</td>\n",
              "      <td>NaN</td>\n",
              "      <td>-0.093949</td>\n",
              "      <td>-0.019147</td>\n",
              "      <td>0.664514</td>\n",
              "      <td>0.411788</td>\n",
              "      <td>0.150452</td>\n",
              "      <td>0.101106</td>\n",
              "    </tr>\n",
              "    <tr>\n",
              "      <th>stalk-color-above-ring</th>\n",
              "      <td>-0.225294</td>\n",
              "      <td>0.073171</td>\n",
              "      <td>0.080218</td>\n",
              "      <td>-0.063978</td>\n",
              "      <td>0.267325</td>\n",
              "      <td>0.214888</td>\n",
              "      <td>0.514289</td>\n",
              "      <td>-0.309026</td>\n",
              "      <td>0.186706</td>\n",
              "      <td>0.188830</td>\n",
              "      <td>-0.292659</td>\n",
              "      <td>0.361493</td>\n",
              "      <td>0.336337</td>\n",
              "      <td>1.000000</td>\n",
              "      <td>0.711672</td>\n",
              "      <td>NaN</td>\n",
              "      <td>0.476776</td>\n",
              "      <td>0.070162</td>\n",
              "      <td>0.455590</td>\n",
              "      <td>0.388465</td>\n",
              "      <td>0.485436</td>\n",
              "      <td>0.367879</td>\n",
              "    </tr>\n",
              "    <tr>\n",
              "      <th>stalk-color-below-ring</th>\n",
              "      <td>-0.098476</td>\n",
              "      <td>0.056450</td>\n",
              "      <td>0.092631</td>\n",
              "      <td>-0.065686</td>\n",
              "      <td>0.208451</td>\n",
              "      <td>0.101501</td>\n",
              "      <td>0.595280</td>\n",
              "      <td>-0.233907</td>\n",
              "      <td>0.226610</td>\n",
              "      <td>0.115547</td>\n",
              "      <td>-0.346565</td>\n",
              "      <td>0.279830</td>\n",
              "      <td>0.241018</td>\n",
              "      <td>0.711672</td>\n",
              "      <td>1.000000</td>\n",
              "      <td>NaN</td>\n",
              "      <td>0.529650</td>\n",
              "      <td>0.104307</td>\n",
              "      <td>0.360962</td>\n",
              "      <td>0.344071</td>\n",
              "      <td>0.450038</td>\n",
              "      <td>0.346914</td>\n",
              "    </tr>\n",
              "    <tr>\n",
              "      <th>veil-type</th>\n",
              "      <td>NaN</td>\n",
              "      <td>NaN</td>\n",
              "      <td>NaN</td>\n",
              "      <td>NaN</td>\n",
              "      <td>NaN</td>\n",
              "      <td>NaN</td>\n",
              "      <td>NaN</td>\n",
              "      <td>NaN</td>\n",
              "      <td>NaN</td>\n",
              "      <td>NaN</td>\n",
              "      <td>NaN</td>\n",
              "      <td>NaN</td>\n",
              "      <td>NaN</td>\n",
              "      <td>NaN</td>\n",
              "      <td>NaN</td>\n",
              "      <td>NaN</td>\n",
              "      <td>NaN</td>\n",
              "      <td>NaN</td>\n",
              "      <td>NaN</td>\n",
              "      <td>NaN</td>\n",
              "      <td>NaN</td>\n",
              "      <td>NaN</td>\n",
              "    </tr>\n",
              "    <tr>\n",
              "      <th>veil-color</th>\n",
              "      <td>0.120766</td>\n",
              "      <td>0.042988</td>\n",
              "      <td>-0.171918</td>\n",
              "      <td>-0.172176</td>\n",
              "      <td>0.125606</td>\n",
              "      <td>-0.056362</td>\n",
              "      <td>0.842230</td>\n",
              "      <td>-0.034235</td>\n",
              "      <td>0.074866</td>\n",
              "      <td>0.169267</td>\n",
              "      <td>-0.170529</td>\n",
              "      <td>-0.070482</td>\n",
              "      <td>-0.093949</td>\n",
              "      <td>0.476776</td>\n",
              "      <td>0.529650</td>\n",
              "      <td>NaN</td>\n",
              "      <td>1.000000</td>\n",
              "      <td>-0.042328</td>\n",
              "      <td>-0.117232</td>\n",
              "      <td>0.272223</td>\n",
              "      <td>0.149818</td>\n",
              "      <td>0.295193</td>\n",
              "    </tr>\n",
              "    <tr>\n",
              "      <th>ring-number</th>\n",
              "      <td>0.152261</td>\n",
              "      <td>0.058422</td>\n",
              "      <td>-0.074779</td>\n",
              "      <td>0.184474</td>\n",
              "      <td>-0.014367</td>\n",
              "      <td>-0.009788</td>\n",
              "      <td>0.049642</td>\n",
              "      <td>0.206233</td>\n",
              "      <td>0.190112</td>\n",
              "      <td>0.016427</td>\n",
              "      <td>-0.325305</td>\n",
              "      <td>0.016738</td>\n",
              "      <td>-0.019147</td>\n",
              "      <td>0.070162</td>\n",
              "      <td>0.104307</td>\n",
              "      <td>NaN</td>\n",
              "      <td>-0.042328</td>\n",
              "      <td>1.000000</td>\n",
              "      <td>0.006528</td>\n",
              "      <td>0.310930</td>\n",
              "      <td>0.015239</td>\n",
              "      <td>-0.031902</td>\n",
              "    </tr>\n",
              "    <tr>\n",
              "      <th>ring-type</th>\n",
              "      <td>-0.556515</td>\n",
              "      <td>0.099599</td>\n",
              "      <td>0.107866</td>\n",
              "      <td>0.040785</td>\n",
              "      <td>0.685119</td>\n",
              "      <td>0.460625</td>\n",
              "      <td>-0.073149</td>\n",
              "      <td>-0.038015</td>\n",
              "      <td>-0.071459</td>\n",
              "      <td>0.181942</td>\n",
              "      <td>-0.224838</td>\n",
              "      <td>0.681449</td>\n",
              "      <td>0.664514</td>\n",
              "      <td>0.455590</td>\n",
              "      <td>0.360962</td>\n",
              "      <td>NaN</td>\n",
              "      <td>-0.117232</td>\n",
              "      <td>0.006528</td>\n",
              "      <td>1.000000</td>\n",
              "      <td>0.426678</td>\n",
              "      <td>0.258874</td>\n",
              "      <td>0.156413</td>\n",
              "    </tr>\n",
              "    <tr>\n",
              "      <th>spore-print-color</th>\n",
              "      <td>-0.560715</td>\n",
              "      <td>0.219476</td>\n",
              "      <td>-0.283378</td>\n",
              "      <td>0.055050</td>\n",
              "      <td>0.543409</td>\n",
              "      <td>0.563857</td>\n",
              "      <td>0.296461</td>\n",
              "      <td>-0.173491</td>\n",
              "      <td>-0.355811</td>\n",
              "      <td>0.586547</td>\n",
              "      <td>-0.138854</td>\n",
              "      <td>0.433668</td>\n",
              "      <td>0.411788</td>\n",
              "      <td>0.388465</td>\n",
              "      <td>0.344071</td>\n",
              "      <td>NaN</td>\n",
              "      <td>0.272223</td>\n",
              "      <td>0.310930</td>\n",
              "      <td>0.426678</td>\n",
              "      <td>1.000000</td>\n",
              "      <td>0.264669</td>\n",
              "      <td>0.461087</td>\n",
              "    </tr>\n",
              "    <tr>\n",
              "      <th>population</th>\n",
              "      <td>-0.155254</td>\n",
              "      <td>0.139616</td>\n",
              "      <td>0.185359</td>\n",
              "      <td>0.070150</td>\n",
              "      <td>-0.008293</td>\n",
              "      <td>0.277777</td>\n",
              "      <td>0.164873</td>\n",
              "      <td>-0.474326</td>\n",
              "      <td>-0.041683</td>\n",
              "      <td>0.293919</td>\n",
              "      <td>0.060160</td>\n",
              "      <td>0.147865</td>\n",
              "      <td>0.150452</td>\n",
              "      <td>0.485436</td>\n",
              "      <td>0.450038</td>\n",
              "      <td>NaN</td>\n",
              "      <td>0.149818</td>\n",
              "      <td>0.015239</td>\n",
              "      <td>0.258874</td>\n",
              "      <td>0.264669</td>\n",
              "      <td>1.000000</td>\n",
              "      <td>0.504258</td>\n",
              "    </tr>\n",
              "    <tr>\n",
              "      <th>habitat</th>\n",
              "      <td>-0.191297</td>\n",
              "      <td>0.169343</td>\n",
              "      <td>-0.089972</td>\n",
              "      <td>0.003142</td>\n",
              "      <td>0.185130</td>\n",
              "      <td>0.449061</td>\n",
              "      <td>0.296916</td>\n",
              "      <td>-0.341360</td>\n",
              "      <td>-0.343122</td>\n",
              "      <td>0.557094</td>\n",
              "      <td>0.152693</td>\n",
              "      <td>0.084259</td>\n",
              "      <td>0.101106</td>\n",
              "      <td>0.367879</td>\n",
              "      <td>0.346914</td>\n",
              "      <td>NaN</td>\n",
              "      <td>0.295193</td>\n",
              "      <td>-0.031902</td>\n",
              "      <td>0.156413</td>\n",
              "      <td>0.461087</td>\n",
              "      <td>0.504258</td>\n",
              "      <td>1.000000</td>\n",
              "    </tr>\n",
              "  </tbody>\n",
              "</table>\n",
              "</div>"
            ],
            "text/plain": [
              "                             class  cap-shape  ...  population   habitat\n",
              "class                     1.000000  -0.112110  ...   -0.155254 -0.191297\n",
              "cap-shape                -0.112110   1.000000  ...    0.139616  0.169343\n",
              "cap-surface               0.169663  -0.057205  ...    0.185359 -0.089972\n",
              "cap-color                -0.042028   0.001839  ...    0.070150  0.003142\n",
              "bruises                  -0.501530   0.120509  ...   -0.008293  0.185130\n",
              "odor                     -0.582015   0.175229  ...    0.277777  0.449061\n",
              "gill-attachment           0.129200   0.040082  ...    0.164873  0.296916\n",
              "gill-spacing              0.348387  -0.043906  ...   -0.474326 -0.341360\n",
              "gill-size                 0.540024  -0.151921  ...   -0.041683 -0.343122\n",
              "gill-color               -0.412869   0.218627  ...    0.293919  0.557094\n",
              "stalk-shape               0.102019   0.126006  ...    0.060160  0.152693\n",
              "stalk-surface-above-ring -0.552044   0.079050  ...    0.147865  0.084259\n",
              "stalk-surface-below-ring -0.532452   0.074161  ...    0.150452  0.101106\n",
              "stalk-color-above-ring   -0.225294   0.073171  ...    0.485436  0.367879\n",
              "stalk-color-below-ring   -0.098476   0.056450  ...    0.450038  0.346914\n",
              "veil-type                      NaN        NaN  ...         NaN       NaN\n",
              "veil-color                0.120766   0.042988  ...    0.149818  0.295193\n",
              "ring-number               0.152261   0.058422  ...    0.015239 -0.031902\n",
              "ring-type                -0.556515   0.099599  ...    0.258874  0.156413\n",
              "spore-print-color        -0.560715   0.219476  ...    0.264669  0.461087\n",
              "population               -0.155254   0.139616  ...    1.000000  0.504258\n",
              "habitat                  -0.191297   0.169343  ...    0.504258  1.000000\n",
              "\n",
              "[22 rows x 22 columns]"
            ]
          },
          "metadata": {
            "tags": []
          },
          "execution_count": 33
        }
      ]
    },
    {
      "cell_type": "code",
      "metadata": {
        "id": "lw8fG7SN8aub",
        "colab": {
          "base_uri": "https://localhost:8080/",
          "height": 398
        },
        "outputId": "a051e3c8-6087-4125-fc75-ba7befd952b2"
      },
      "source": [
        "df_corr=df.apply(lambda x : pd.factorize(x)[0]).corr(method='pearson', min_periods=1)\n",
        "sns.heatmap(df_corr)"
      ],
      "execution_count": 34,
      "outputs": [
        {
          "output_type": "execute_result",
          "data": {
            "text/plain": [
              "<matplotlib.axes._subplots.AxesSubplot at 0x7f49fb4f4e10>"
            ]
          },
          "metadata": {
            "tags": []
          },
          "execution_count": 34
        },
        {
          "output_type": "display_data",
          "data": {
            "image/png": "[encoded data removed]",
            "text/plain": [
              "<Figure size 432x288 with 2 Axes>"
            ]
          },
          "metadata": {
            "tags": [],
            "needs_background": "light"
          }
        }
      ]
    },
    {
      "cell_type": "code",
      "metadata": {
        "colab": {
          "base_uri": "https://localhost:8080/"
        },
        "id": "zF2OswKlxkBf",
        "outputId": "8f08a853-f2a6-4121-9631-ce316ed9e4d8"
      },
      "source": [
        "df[\"veil-type\"].unique()"
      ],
      "execution_count": 35,
      "outputs": [
        {
          "output_type": "execute_result",
          "data": {
            "text/plain": [
              "array(['p'], dtype=object)"
            ]
          },
          "metadata": {
            "tags": []
          },
          "execution_count": 35
        }
      ]
    },
    {
      "cell_type": "markdown",
      "metadata": {
        "id": "igs5MSUxxng3"
      },
      "source": [
        "SINCE ARRIBUTE \"VEIL-TYPE\" HAS NO CORELATION WITH DATA AND HAS ONLY ONE VALUE FOR ALL THE COLUMNS \n",
        "\n",
        "SO DROP \"VEIL-TYPE\""
      ]
    },
    {
      "cell_type": "code",
      "metadata": {
        "id": "UuJwVD0wxmYm"
      },
      "source": [
        "df = df.drop(['veil-type'],axis=1)"
      ],
      "execution_count": 36,
      "outputs": []
    },
    {
      "cell_type": "markdown",
      "metadata": {
        "id": "uDOm-kwCyJ81"
      },
      "source": [
        "### FINDING THE ATTRIBUTES THAT ARE HIGHLY CORRELATED WITH CLASS"
      ]
    },
    {
      "cell_type": "code",
      "metadata": {
        "colab": {
          "base_uri": "https://localhost:8080/"
        },
        "id": "CG7jfexEpKxL",
        "outputId": "5eac1591-f8ae-4b79-a076-e8f69bf5f8cb"
      },
      "source": [
        "#STRONGLY -VE CORRELATED WITH CLASS\n",
        "NEG_CORR= df_corr[\"class\"] < -0.5 \n",
        "NEG_CORR"
      ],
      "execution_count": 37,
      "outputs": [
        {
          "output_type": "execute_result",
          "data": {
            "text/plain": [
              "class                       False\n",
              "cap-shape                   False\n",
              "cap-surface                 False\n",
              "cap-color                   False\n",
              "bruises                      True\n",
              "odor                         True\n",
              "gill-attachment             False\n",
              "gill-spacing                False\n",
              "gill-size                   False\n",
              "gill-color                  False\n",
              "stalk-shape                 False\n",
              "stalk-surface-above-ring     True\n",
              "stalk-surface-below-ring     True\n",
              "stalk-color-above-ring      False\n",
              "stalk-color-below-ring      False\n",
              "veil-type                   False\n",
              "veil-color                  False\n",
              "ring-number                 False\n",
              "ring-type                    True\n",
              "spore-print-color            True\n",
              "population                  False\n",
              "habitat                     False\n",
              "Name: class, dtype: bool"
            ]
          },
          "metadata": {
            "tags": []
          },
          "execution_count": 37
        }
      ]
    },
    {
      "cell_type": "code",
      "metadata": {
        "colab": {
          "base_uri": "https://localhost:8080/"
        },
        "id": "2ULUIyXmqlhR",
        "outputId": "42ad578c-fc4a-49df-a91e-d693bf655c7a"
      },
      "source": [
        "#STRONGLY +VE CORRELATED WITH CLASS\n",
        "POS_CORR= df_corr[\"class\"] > 0.5\n",
        "POS_CORR"
      ],
      "execution_count": 38,
      "outputs": [
        {
          "output_type": "execute_result",
          "data": {
            "text/plain": [
              "class                        True\n",
              "cap-shape                   False\n",
              "cap-surface                 False\n",
              "cap-color                   False\n",
              "bruises                     False\n",
              "odor                        False\n",
              "gill-attachment             False\n",
              "gill-spacing                False\n",
              "gill-size                    True\n",
              "gill-color                  False\n",
              "stalk-shape                 False\n",
              "stalk-surface-above-ring    False\n",
              "stalk-surface-below-ring    False\n",
              "stalk-color-above-ring      False\n",
              "stalk-color-below-ring      False\n",
              "veil-type                   False\n",
              "veil-color                  False\n",
              "ring-number                 False\n",
              "ring-type                   False\n",
              "spore-print-color           False\n",
              "population                  False\n",
              "habitat                     False\n",
              "Name: class, dtype: bool"
            ]
          },
          "metadata": {
            "tags": []
          },
          "execution_count": 38
        }
      ]
    },
    {
      "cell_type": "markdown",
      "metadata": {
        "id": "7Pbz-aKHydTH"
      },
      "source": [
        "PLOTING THE ARRRIBUTES THAT ARE HIGHLY CORRELATED WITH CLASS"
      ]
    },
    {
      "cell_type": "code",
      "metadata": {
        "colab": {
          "base_uri": "https://localhost:8080/",
          "height": 296
        },
        "id": "JZQ31a6QQYe6",
        "outputId": "87f47810-bb11-4bbb-e8e2-b926fe7527f2"
      },
      "source": [
        "sns.countplot(x='gill-size',data=df,hue='class',order=df['gill-size'].value_counts().index)"
      ],
      "execution_count": 39,
      "outputs": [
        {
          "output_type": "execute_result",
          "data": {
            "text/plain": [
              "<matplotlib.axes._subplots.AxesSubplot at 0x7f49fb3e9c10>"
            ]
          },
          "metadata": {
            "tags": []
          },
          "execution_count": 39
        },
        {
          "output_type": "display_data",
          "data": {
            "image/png": "[encoded data removed]",
            "text/plain": [
              "<Figure size 432x288 with 1 Axes>"
            ]
          },
          "metadata": {
            "tags": [],
            "needs_background": "light"
          }
        }
      ]
    },
    {
      "cell_type": "code",
      "metadata": {
        "colab": {
          "base_uri": "https://localhost:8080/",
          "height": 296
        },
        "id": "ncSXu_iGsw6K",
        "outputId": "cb297568-a8b4-41fe-a19f-1304dffd10d2"
      },
      "source": [
        "sns.countplot(x='bruises',data=df,hue='class',order=df['bruises'].value_counts().index)"
      ],
      "execution_count": 40,
      "outputs": [
        {
          "output_type": "execute_result",
          "data": {
            "text/plain": [
              "<matplotlib.axes._subplots.AxesSubplot at 0x7f49fb35b190>"
            ]
          },
          "metadata": {
            "tags": []
          },
          "execution_count": 40
        },
        {
          "output_type": "display_data",
          "data": {
            "image/png": "[encoded data removed]",
            "text/plain": [
              "<Figure size 432x288 with 1 Axes>"
            ]
          },
          "metadata": {
            "tags": [],
            "needs_background": "light"
          }
        }
      ]
    },
    {
      "cell_type": "code",
      "metadata": {
        "colab": {
          "base_uri": "https://localhost:8080/",
          "height": 296
        },
        "id": "RazTjI-btBSf",
        "outputId": "bcf102b7-3763-4789-e9b1-539258cfac39"
      },
      "source": [
        "sns.countplot(x='odor',data=df,hue='class',order=df['odor'].value_counts().index)"
      ],
      "execution_count": 41,
      "outputs": [
        {
          "output_type": "execute_result",
          "data": {
            "text/plain": [
              "<matplotlib.axes._subplots.AxesSubplot at 0x7f49fb2cd250>"
            ]
          },
          "metadata": {
            "tags": []
          },
          "execution_count": 41
        },
        {
          "output_type": "display_data",
          "data": {
            "image/png": "[encoded data removed]",
            "text/plain": [
              "<Figure size 432x288 with 1 Axes>"
            ]
          },
          "metadata": {
            "tags": [],
            "needs_background": "light"
          }
        }
      ]
    },
    {
      "cell_type": "code",
      "metadata": {
        "colab": {
          "base_uri": "https://localhost:8080/",
          "height": 296
        },
        "id": "yQffGzmhtBOv",
        "outputId": "a71adc74-7d85-483e-beed-4561d46a51b1"
      },
      "source": [
        "sns.countplot(x='stalk-surface-above-ring',data=df,hue='class',order=df['stalk-surface-above-ring'].value_counts().index)"
      ],
      "execution_count": 42,
      "outputs": [
        {
          "output_type": "execute_result",
          "data": {
            "text/plain": [
              "<matplotlib.axes._subplots.AxesSubplot at 0x7f49fb278950>"
            ]
          },
          "metadata": {
            "tags": []
          },
          "execution_count": 42
        },
        {
          "output_type": "display_data",
          "data": {
            "image/png": "[encoded data removed]",
            "text/plain": [
              "<Figure size 432x288 with 1 Axes>"
            ]
          },
          "metadata": {
            "tags": [],
            "needs_background": "light"
          }
        }
      ]
    },
    {
      "cell_type": "code",
      "metadata": {
        "colab": {
          "base_uri": "https://localhost:8080/",
          "height": 296
        },
        "id": "k1kOjuk-tA9_",
        "outputId": "7220e035-20c6-4e69-f86a-613c03b41304"
      },
      "source": [
        "sns.countplot(x='stalk-surface-below-ring',data=df,hue='class',order=df['stalk-surface-below-ring'].value_counts().index)"
      ],
      "execution_count": 43,
      "outputs": [
        {
          "output_type": "execute_result",
          "data": {
            "text/plain": [
              "<matplotlib.axes._subplots.AxesSubplot at 0x7f49fb1f9990>"
            ]
          },
          "metadata": {
            "tags": []
          },
          "execution_count": 43
        },
        {
          "output_type": "display_data",
          "data": {
            "image/png": "[encoded data removed]",
            "text/plain": [
              "<Figure size 432x288 with 1 Axes>"
            ]
          },
          "metadata": {
            "tags": [],
            "needs_background": "light"
          }
        }
      ]
    },
    {
      "cell_type": "code",
      "metadata": {
        "colab": {
          "base_uri": "https://localhost:8080/",
          "height": 296
        },
        "id": "rHGjF-5WtA2W",
        "outputId": "5f0c2e5a-3305-4c18-8d3a-6cdadbf46e19"
      },
      "source": [
        "sns.countplot(x='ring-type',data=df,hue='class',order=df['ring-type'].value_counts().index)"
      ],
      "execution_count": 44,
      "outputs": [
        {
          "output_type": "execute_result",
          "data": {
            "text/plain": [
              "<matplotlib.axes._subplots.AxesSubplot at 0x7f49fb178590>"
            ]
          },
          "metadata": {
            "tags": []
          },
          "execution_count": 44
        },
        {
          "output_type": "display_data",
          "data": {
            "image/png": "[encoded data removed]",
            "text/plain": [
              "<Figure size 432x288 with 1 Axes>"
            ]
          },
          "metadata": {
            "tags": [],
            "needs_background": "light"
          }
        }
      ]
    },
    {
      "cell_type": "code",
      "metadata": {
        "colab": {
          "base_uri": "https://localhost:8080/",
          "height": 296
        },
        "id": "hpN6YJVHtAzJ",
        "outputId": "ada0f36d-4e27-47c3-e6d1-919f8220a6d9"
      },
      "source": [
        "sns.countplot(x='spore-print-color',data=df,hue='class',order=df['spore-print-color'].value_counts().index)"
      ],
      "execution_count": 45,
      "outputs": [
        {
          "output_type": "execute_result",
          "data": {
            "text/plain": [
              "<matplotlib.axes._subplots.AxesSubplot at 0x7f49fb6f99d0>"
            ]
          },
          "metadata": {
            "tags": []
          },
          "execution_count": 45
        },
        {
          "output_type": "display_data",
          "data": {
            "image/png": "[encoded data removed]",
            "text/plain": [
              "<Figure size 432x288 with 1 Axes>"
            ]
          },
          "metadata": {
            "tags": [],
            "needs_background": "light"
          }
        }
      ]
    },
    {
      "cell_type": "markdown",
      "metadata": {
        "id": "3FaAykN6zlj3"
      },
      "source": [
        "## Conclusions that can be drawn :\n",
        "\n",
        "A Mushroom with grill size Narrow is more likely to be poisonous\n",
        "\n",
        "A mushroom with bruises is more likely to be edible than a mushroom with no bruises\n",
        "\n",
        "A mushroom with no odour is likely to be edible Than mushrrom with fishy odour\n",
        "\n",
        "A mushroom with silky stalk-surface-below-ring and silky stalk-surface-above-ring is likely to be poisonous \n",
        "\n",
        "A mushroom with ring type pendant is more likly to be edible\n",
        "\n",
        "A mushroom with brown and black spore-print-color is likely to be edible and chocolate and white colour is tend to be poisonous \n"
      ]
    },
    {
      "cell_type": "markdown",
      "metadata": {
        "id": "vMIEkz9o3BKa"
      },
      "source": [
        "## ENCODING"
      ]
    },
    {
      "cell_type": "code",
      "metadata": {
        "id": "DTBrDh3ztz5-",
        "colab": {
          "base_uri": "https://localhost:8080/",
          "height": 304
        },
        "outputId": "6387fe20-f888-406a-e33d-b510e6ec4634"
      },
      "source": [
        "x= df.drop(columns='class')\n",
        "y= df['class']\n",
        "x= pd.get_dummies(x, prefix_sep=\"_\")\n",
        "x.head()"
      ],
      "execution_count": 46,
      "outputs": [
        {
          "output_type": "execute_result",
          "data": {
            "text/html": [
              "<div>\n",
              "<style scoped>\n",
              "    .dataframe tbody tr th:only-of-type {\n",
              "        vertical-align: middle;\n",
              "    }\n",
              "\n",
              "    .dataframe tbody tr th {\n",
              "        vertical-align: top;\n",
              "    }\n",
              "\n",
              "    .dataframe thead th {\n",
              "        text-align: right;\n",
              "    }\n",
              "</style>\n",
              "<table border=\"1\" class=\"dataframe\">\n",
              "  <thead>\n",
              "    <tr style=\"text-align: right;\">\n",
              "      <th></th>\n",
              "      <th>cap-shape_b</th>\n",
              "      <th>cap-shape_c</th>\n",
              "      <th>cap-shape_f</th>\n",
              "      <th>cap-shape_k</th>\n",
              "      <th>cap-shape_s</th>\n",
              "      <th>cap-shape_x</th>\n",
              "      <th>cap-surface_f</th>\n",
              "      <th>cap-surface_g</th>\n",
              "      <th>cap-surface_s</th>\n",
              "      <th>cap-surface_y</th>\n",
              "      <th>cap-color_b</th>\n",
              "      <th>cap-color_c</th>\n",
              "      <th>cap-color_e</th>\n",
              "      <th>cap-color_g</th>\n",
              "      <th>cap-color_n</th>\n",
              "      <th>cap-color_p</th>\n",
              "      <th>cap-color_r</th>\n",
              "      <th>cap-color_u</th>\n",
              "      <th>cap-color_w</th>\n",
              "      <th>cap-color_y</th>\n",
              "      <th>bruises_f</th>\n",
              "      <th>bruises_t</th>\n",
              "      <th>odor_a</th>\n",
              "      <th>odor_c</th>\n",
              "      <th>odor_f</th>\n",
              "      <th>odor_l</th>\n",
              "      <th>odor_m</th>\n",
              "      <th>odor_n</th>\n",
              "      <th>odor_p</th>\n",
              "      <th>odor_s</th>\n",
              "      <th>odor_y</th>\n",
              "      <th>gill-attachment_a</th>\n",
              "      <th>gill-attachment_f</th>\n",
              "      <th>gill-spacing_c</th>\n",
              "      <th>gill-spacing_w</th>\n",
              "      <th>gill-size_b</th>\n",
              "      <th>gill-size_n</th>\n",
              "      <th>gill-color_b</th>\n",
              "      <th>gill-color_e</th>\n",
              "      <th>gill-color_g</th>\n",
              "      <th>...</th>\n",
              "      <th>stalk-color-below-ring_g</th>\n",
              "      <th>stalk-color-below-ring_n</th>\n",
              "      <th>stalk-color-below-ring_o</th>\n",
              "      <th>stalk-color-below-ring_p</th>\n",
              "      <th>stalk-color-below-ring_w</th>\n",
              "      <th>stalk-color-below-ring_y</th>\n",
              "      <th>veil-color_n</th>\n",
              "      <th>veil-color_o</th>\n",
              "      <th>veil-color_w</th>\n",
              "      <th>veil-color_y</th>\n",
              "      <th>ring-number_n</th>\n",
              "      <th>ring-number_o</th>\n",
              "      <th>ring-number_t</th>\n",
              "      <th>ring-type_e</th>\n",
              "      <th>ring-type_f</th>\n",
              "      <th>ring-type_l</th>\n",
              "      <th>ring-type_n</th>\n",
              "      <th>ring-type_p</th>\n",
              "      <th>spore-print-color_b</th>\n",
              "      <th>spore-print-color_h</th>\n",
              "      <th>spore-print-color_k</th>\n",
              "      <th>spore-print-color_n</th>\n",
              "      <th>spore-print-color_o</th>\n",
              "      <th>spore-print-color_r</th>\n",
              "      <th>spore-print-color_u</th>\n",
              "      <th>spore-print-color_w</th>\n",
              "      <th>spore-print-color_y</th>\n",
              "      <th>population_a</th>\n",
              "      <th>population_c</th>\n",
              "      <th>population_n</th>\n",
              "      <th>population_s</th>\n",
              "      <th>population_v</th>\n",
              "      <th>population_y</th>\n",
              "      <th>habitat_d</th>\n",
              "      <th>habitat_g</th>\n",
              "      <th>habitat_l</th>\n",
              "      <th>habitat_m</th>\n",
              "      <th>habitat_p</th>\n",
              "      <th>habitat_u</th>\n",
              "      <th>habitat_w</th>\n",
              "    </tr>\n",
              "  </thead>\n",
              "  <tbody>\n",
              "    <tr>\n",
              "      <th>0</th>\n",
              "      <td>0</td>\n",
              "      <td>0</td>\n",
              "      <td>0</td>\n",
              "      <td>0</td>\n",
              "      <td>0</td>\n",
              "      <td>1</td>\n",
              "      <td>0</td>\n",
              "      <td>0</td>\n",
              "      <td>1</td>\n",
              "      <td>0</td>\n",
              "      <td>0</td>\n",
              "      <td>0</td>\n",
              "      <td>0</td>\n",
              "      <td>0</td>\n",
              "      <td>1</td>\n",
              "      <td>0</td>\n",
              "      <td>0</td>\n",
              "      <td>0</td>\n",
              "      <td>0</td>\n",
              "      <td>0</td>\n",
              "      <td>0</td>\n",
              "      <td>1</td>\n",
              "      <td>0</td>\n",
              "      <td>0</td>\n",
              "      <td>0</td>\n",
              "      <td>0</td>\n",
              "      <td>0</td>\n",
              "      <td>0</td>\n",
              "      <td>1</td>\n",
              "      <td>0</td>\n",
              "      <td>0</td>\n",
              "      <td>0</td>\n",
              "      <td>1</td>\n",
              "      <td>1</td>\n",
              "      <td>0</td>\n",
              "      <td>0</td>\n",
              "      <td>1</td>\n",
              "      <td>0</td>\n",
              "      <td>0</td>\n",
              "      <td>0</td>\n",
              "      <td>...</td>\n",
              "      <td>0</td>\n",
              "      <td>0</td>\n",
              "      <td>0</td>\n",
              "      <td>0</td>\n",
              "      <td>1</td>\n",
              "      <td>0</td>\n",
              "      <td>0</td>\n",
              "      <td>0</td>\n",
              "      <td>1</td>\n",
              "      <td>0</td>\n",
              "      <td>0</td>\n",
              "      <td>1</td>\n",
              "      <td>0</td>\n",
              "      <td>0</td>\n",
              "      <td>0</td>\n",
              "      <td>0</td>\n",
              "      <td>0</td>\n",
              "      <td>1</td>\n",
              "      <td>0</td>\n",
              "      <td>0</td>\n",
              "      <td>1</td>\n",
              "      <td>0</td>\n",
              "      <td>0</td>\n",
              "      <td>0</td>\n",
              "      <td>0</td>\n",
              "      <td>0</td>\n",
              "      <td>0</td>\n",
              "      <td>0</td>\n",
              "      <td>0</td>\n",
              "      <td>0</td>\n",
              "      <td>1</td>\n",
              "      <td>0</td>\n",
              "      <td>0</td>\n",
              "      <td>0</td>\n",
              "      <td>0</td>\n",
              "      <td>0</td>\n",
              "      <td>0</td>\n",
              "      <td>0</td>\n",
              "      <td>1</td>\n",
              "      <td>0</td>\n",
              "    </tr>\n",
              "    <tr>\n",
              "      <th>1</th>\n",
              "      <td>0</td>\n",
              "      <td>0</td>\n",
              "      <td>0</td>\n",
              "      <td>0</td>\n",
              "      <td>0</td>\n",
              "      <td>1</td>\n",
              "      <td>0</td>\n",
              "      <td>0</td>\n",
              "      <td>1</td>\n",
              "      <td>0</td>\n",
              "      <td>0</td>\n",
              "      <td>0</td>\n",
              "      <td>0</td>\n",
              "      <td>0</td>\n",
              "      <td>0</td>\n",
              "      <td>0</td>\n",
              "      <td>0</td>\n",
              "      <td>0</td>\n",
              "      <td>0</td>\n",
              "      <td>1</td>\n",
              "      <td>0</td>\n",
              "      <td>1</td>\n",
              "      <td>1</td>\n",
              "      <td>0</td>\n",
              "      <td>0</td>\n",
              "      <td>0</td>\n",
              "      <td>0</td>\n",
              "      <td>0</td>\n",
              "      <td>0</td>\n",
              "      <td>0</td>\n",
              "      <td>0</td>\n",
              "      <td>0</td>\n",
              "      <td>1</td>\n",
              "      <td>1</td>\n",
              "      <td>0</td>\n",
              "      <td>1</td>\n",
              "      <td>0</td>\n",
              "      <td>0</td>\n",
              "      <td>0</td>\n",
              "      <td>0</td>\n",
              "      <td>...</td>\n",
              "      <td>0</td>\n",
              "      <td>0</td>\n",
              "      <td>0</td>\n",
              "      <td>0</td>\n",
              "      <td>1</td>\n",
              "      <td>0</td>\n",
              "      <td>0</td>\n",
              "      <td>0</td>\n",
              "      <td>1</td>\n",
              "      <td>0</td>\n",
              "      <td>0</td>\n",
              "      <td>1</td>\n",
              "      <td>0</td>\n",
              "      <td>0</td>\n",
              "      <td>0</td>\n",
              "      <td>0</td>\n",
              "      <td>0</td>\n",
              "      <td>1</td>\n",
              "      <td>0</td>\n",
              "      <td>0</td>\n",
              "      <td>0</td>\n",
              "      <td>1</td>\n",
              "      <td>0</td>\n",
              "      <td>0</td>\n",
              "      <td>0</td>\n",
              "      <td>0</td>\n",
              "      <td>0</td>\n",
              "      <td>0</td>\n",
              "      <td>0</td>\n",
              "      <td>1</td>\n",
              "      <td>0</td>\n",
              "      <td>0</td>\n",
              "      <td>0</td>\n",
              "      <td>0</td>\n",
              "      <td>1</td>\n",
              "      <td>0</td>\n",
              "      <td>0</td>\n",
              "      <td>0</td>\n",
              "      <td>0</td>\n",
              "      <td>0</td>\n",
              "    </tr>\n",
              "    <tr>\n",
              "      <th>2</th>\n",
              "      <td>1</td>\n",
              "      <td>0</td>\n",
              "      <td>0</td>\n",
              "      <td>0</td>\n",
              "      <td>0</td>\n",
              "      <td>0</td>\n",
              "      <td>0</td>\n",
              "      <td>0</td>\n",
              "      <td>1</td>\n",
              "      <td>0</td>\n",
              "      <td>0</td>\n",
              "      <td>0</td>\n",
              "      <td>0</td>\n",
              "      <td>0</td>\n",
              "      <td>0</td>\n",
              "      <td>0</td>\n",
              "      <td>0</td>\n",
              "      <td>0</td>\n",
              "      <td>1</td>\n",
              "      <td>0</td>\n",
              "      <td>0</td>\n",
              "      <td>1</td>\n",
              "      <td>0</td>\n",
              "      <td>0</td>\n",
              "      <td>0</td>\n",
              "      <td>1</td>\n",
              "      <td>0</td>\n",
              "      <td>0</td>\n",
              "      <td>0</td>\n",
              "      <td>0</td>\n",
              "      <td>0</td>\n",
              "      <td>0</td>\n",
              "      <td>1</td>\n",
              "      <td>1</td>\n",
              "      <td>0</td>\n",
              "      <td>1</td>\n",
              "      <td>0</td>\n",
              "      <td>0</td>\n",
              "      <td>0</td>\n",
              "      <td>0</td>\n",
              "      <td>...</td>\n",
              "      <td>0</td>\n",
              "      <td>0</td>\n",
              "      <td>0</td>\n",
              "      <td>0</td>\n",
              "      <td>1</td>\n",
              "      <td>0</td>\n",
              "      <td>0</td>\n",
              "      <td>0</td>\n",
              "      <td>1</td>\n",
              "      <td>0</td>\n",
              "      <td>0</td>\n",
              "      <td>1</td>\n",
              "      <td>0</td>\n",
              "      <td>0</td>\n",
              "      <td>0</td>\n",
              "      <td>0</td>\n",
              "      <td>0</td>\n",
              "      <td>1</td>\n",
              "      <td>0</td>\n",
              "      <td>0</td>\n",
              "      <td>0</td>\n",
              "      <td>1</td>\n",
              "      <td>0</td>\n",
              "      <td>0</td>\n",
              "      <td>0</td>\n",
              "      <td>0</td>\n",
              "      <td>0</td>\n",
              "      <td>0</td>\n",
              "      <td>0</td>\n",
              "      <td>1</td>\n",
              "      <td>0</td>\n",
              "      <td>0</td>\n",
              "      <td>0</td>\n",
              "      <td>0</td>\n",
              "      <td>0</td>\n",
              "      <td>0</td>\n",
              "      <td>1</td>\n",
              "      <td>0</td>\n",
              "      <td>0</td>\n",
              "      <td>0</td>\n",
              "    </tr>\n",
              "    <tr>\n",
              "      <th>3</th>\n",
              "      <td>0</td>\n",
              "      <td>0</td>\n",
              "      <td>0</td>\n",
              "      <td>0</td>\n",
              "      <td>0</td>\n",
              "      <td>1</td>\n",
              "      <td>0</td>\n",
              "      <td>0</td>\n",
              "      <td>0</td>\n",
              "      <td>1</td>\n",
              "      <td>0</td>\n",
              "      <td>0</td>\n",
              "      <td>0</td>\n",
              "      <td>0</td>\n",
              "      <td>0</td>\n",
              "      <td>0</td>\n",
              "      <td>0</td>\n",
              "      <td>0</td>\n",
              "      <td>1</td>\n",
              "      <td>0</td>\n",
              "      <td>0</td>\n",
              "      <td>1</td>\n",
              "      <td>0</td>\n",
              "      <td>0</td>\n",
              "      <td>0</td>\n",
              "      <td>0</td>\n",
              "      <td>0</td>\n",
              "      <td>0</td>\n",
              "      <td>1</td>\n",
              "      <td>0</td>\n",
              "      <td>0</td>\n",
              "      <td>0</td>\n",
              "      <td>1</td>\n",
              "      <td>1</td>\n",
              "      <td>0</td>\n",
              "      <td>0</td>\n",
              "      <td>1</td>\n",
              "      <td>0</td>\n",
              "      <td>0</td>\n",
              "      <td>0</td>\n",
              "      <td>...</td>\n",
              "      <td>0</td>\n",
              "      <td>0</td>\n",
              "      <td>0</td>\n",
              "      <td>0</td>\n",
              "      <td>1</td>\n",
              "      <td>0</td>\n",
              "      <td>0</td>\n",
              "      <td>0</td>\n",
              "      <td>1</td>\n",
              "      <td>0</td>\n",
              "      <td>0</td>\n",
              "      <td>1</td>\n",
              "      <td>0</td>\n",
              "      <td>0</td>\n",
              "      <td>0</td>\n",
              "      <td>0</td>\n",
              "      <td>0</td>\n",
              "      <td>1</td>\n",
              "      <td>0</td>\n",
              "      <td>0</td>\n",
              "      <td>1</td>\n",
              "      <td>0</td>\n",
              "      <td>0</td>\n",
              "      <td>0</td>\n",
              "      <td>0</td>\n",
              "      <td>0</td>\n",
              "      <td>0</td>\n",
              "      <td>0</td>\n",
              "      <td>0</td>\n",
              "      <td>0</td>\n",
              "      <td>1</td>\n",
              "      <td>0</td>\n",
              "      <td>0</td>\n",
              "      <td>0</td>\n",
              "      <td>0</td>\n",
              "      <td>0</td>\n",
              "      <td>0</td>\n",
              "      <td>0</td>\n",
              "      <td>1</td>\n",
              "      <td>0</td>\n",
              "    </tr>\n",
              "    <tr>\n",
              "      <th>4</th>\n",
              "      <td>0</td>\n",
              "      <td>0</td>\n",
              "      <td>0</td>\n",
              "      <td>0</td>\n",
              "      <td>0</td>\n",
              "      <td>1</td>\n",
              "      <td>0</td>\n",
              "      <td>0</td>\n",
              "      <td>1</td>\n",
              "      <td>0</td>\n",
              "      <td>0</td>\n",
              "      <td>0</td>\n",
              "      <td>0</td>\n",
              "      <td>1</td>\n",
              "      <td>0</td>\n",
              "      <td>0</td>\n",
              "      <td>0</td>\n",
              "      <td>0</td>\n",
              "      <td>0</td>\n",
              "      <td>0</td>\n",
              "      <td>1</td>\n",
              "      <td>0</td>\n",
              "      <td>0</td>\n",
              "      <td>0</td>\n",
              "      <td>0</td>\n",
              "      <td>0</td>\n",
              "      <td>0</td>\n",
              "      <td>1</td>\n",
              "      <td>0</td>\n",
              "      <td>0</td>\n",
              "      <td>0</td>\n",
              "      <td>0</td>\n",
              "      <td>1</td>\n",
              "      <td>0</td>\n",
              "      <td>1</td>\n",
              "      <td>1</td>\n",
              "      <td>0</td>\n",
              "      <td>0</td>\n",
              "      <td>0</td>\n",
              "      <td>0</td>\n",
              "      <td>...</td>\n",
              "      <td>0</td>\n",
              "      <td>0</td>\n",
              "      <td>0</td>\n",
              "      <td>0</td>\n",
              "      <td>1</td>\n",
              "      <td>0</td>\n",
              "      <td>0</td>\n",
              "      <td>0</td>\n",
              "      <td>1</td>\n",
              "      <td>0</td>\n",
              "      <td>0</td>\n",
              "      <td>1</td>\n",
              "      <td>0</td>\n",
              "      <td>1</td>\n",
              "      <td>0</td>\n",
              "      <td>0</td>\n",
              "      <td>0</td>\n",
              "      <td>0</td>\n",
              "      <td>0</td>\n",
              "      <td>0</td>\n",
              "      <td>0</td>\n",
              "      <td>1</td>\n",
              "      <td>0</td>\n",
              "      <td>0</td>\n",
              "      <td>0</td>\n",
              "      <td>0</td>\n",
              "      <td>0</td>\n",
              "      <td>1</td>\n",
              "      <td>0</td>\n",
              "      <td>0</td>\n",
              "      <td>0</td>\n",
              "      <td>0</td>\n",
              "      <td>0</td>\n",
              "      <td>0</td>\n",
              "      <td>1</td>\n",
              "      <td>0</td>\n",
              "      <td>0</td>\n",
              "      <td>0</td>\n",
              "      <td>0</td>\n",
              "      <td>0</td>\n",
              "    </tr>\n",
              "  </tbody>\n",
              "</table>\n",
              "<p>5 rows × 111 columns</p>\n",
              "</div>"
            ],
            "text/plain": [
              "   cap-shape_b  cap-shape_c  cap-shape_f  ...  habitat_p  habitat_u  habitat_w\n",
              "0            0            0            0  ...          0          1          0\n",
              "1            0            0            0  ...          0          0          0\n",
              "2            1            0            0  ...          0          0          0\n",
              "3            0            0            0  ...          0          1          0\n",
              "4            0            0            0  ...          0          0          0\n",
              "\n",
              "[5 rows x 111 columns]"
            ]
          },
          "metadata": {
            "tags": []
          },
          "execution_count": 46
        }
      ]
    },
    {
      "cell_type": "code",
      "metadata": {
        "colab": {
          "base_uri": "https://localhost:8080/"
        },
        "id": "2AkWxfyJt6rp",
        "outputId": "3bb9d5bc-915c-4d66-c250-d11aca41348f"
      },
      "source": [
        "print(y)"
      ],
      "execution_count": 47,
      "outputs": [
        {
          "output_type": "stream",
          "text": [
            "0       p\n",
            "1       e\n",
            "2       e\n",
            "3       p\n",
            "4       e\n",
            "       ..\n",
            "8119    e\n",
            "8120    e\n",
            "8121    e\n",
            "8122    p\n",
            "8123    e\n",
            "Name: class, Length: 8124, dtype: object\n"
          ],
          "name": "stdout"
        }
      ]
    },
    {
      "cell_type": "markdown",
      "metadata": {
        "id": "U3M639JBmSbG"
      },
      "source": [
        "import pandas as pd\n",
        "import numpy as np\n",
        "from sklearn.model_selection import StratifiedKFold\n",
        "\n",
        "np.random.seed(42) <=== this is where I am defining the random seed\n",
        "\n",
        "eval_size = 0.10\n",
        "kf = StratifiedKFold(n_splits=round(1./eval_size))\n",
        "\n",
        "kf is defined as below\n",
        "\n",
        "StratifiedKFold(n_splits=10, random_state=None, shuffle=False) <== in here the random_state noticed as None. Was expecting it to be set to 42 as defined by the seed"
      ]
    },
    {
      "cell_type": "markdown",
      "metadata": {
        "id": "6sM129hb3IAO"
      },
      "source": [
        "## TEST TRAIN SPLIT"
      ]
    },
    {
      "cell_type": "markdown",
      "metadata": {
        "id": "W2CwX2B6mQxf"
      },
      "source": [
        ""
      ]
    },
    {
      "cell_type": "code",
      "metadata": {
        "id": "5M3__4YCIH2e"
      },
      "source": [
        "from sklearn.model_selection import train_test_split\n",
        "from sklearn.metrics import classification_report, confusion_matrix\n",
        "from sklearn.ensemble import RandomForestClassifier\n",
        "from sklearn.metrics import accuracy_score,confusion_matrix,classification_report"
      ],
      "execution_count": 48,
      "outputs": []
    },
    {
      "cell_type": "code",
      "metadata": {
        "id": "Mke3Am1eD4_6"
      },
      "source": [
        "x_train, x_test, y_train, y_test= train_test_split(x,y,test_size=0.3, random_state=101)"
      ],
      "execution_count": 49,
      "outputs": []
    },
    {
      "cell_type": "markdown",
      "metadata": {
        "id": "eC5pfi8n3MjP"
      },
      "source": [
        "## FINDING BEST ALGORITHM"
      ]
    },
    {
      "cell_type": "markdown",
      "metadata": {
        "id": "YVw009un6fON"
      },
      "source": [
        "**RandomForestClassifier**"
      ]
    },
    {
      "cell_type": "code",
      "metadata": {
        "colab": {
          "base_uri": "https://localhost:8080/"
        },
        "id": "CY5Q50njIfQz",
        "outputId": "97c2d4f3-80cb-4924-83b0-babcaf42d93e"
      },
      "source": [
        "clf= RandomForestClassifier(n_estimators=700).fit(x_train, y_train)\n",
        "predRFC= clf.predict(x_test)\n",
        "randomforest_accu=accuracy_score(y_test,predRFC)\n",
        "randomforest_accu\n",
        "print(confusion_matrix(y_test, predRFC))\n",
        "print(classification_report(y_test, predRFC))\n"
      ],
      "execution_count": 50,
      "outputs": [
        {
          "output_type": "stream",
          "text": [
            "[[1274    0]\n",
            " [   0 1164]]\n",
            "              precision    recall  f1-score   support\n",
            "\n",
            "           e       1.00      1.00      1.00      1274\n",
            "           p       1.00      1.00      1.00      1164\n",
            "\n",
            "    accuracy                           1.00      2438\n",
            "   macro avg       1.00      1.00      1.00      2438\n",
            "weighted avg       1.00      1.00      1.00      2438\n",
            "\n"
          ],
          "name": "stdout"
        }
      ]
    },
    {
      "cell_type": "code",
      "metadata": {
        "colab": {
          "base_uri": "https://localhost:8080/"
        },
        "id": "hi_ys4NC3W9O",
        "outputId": "9ecac2a3-e15e-479a-96b1-66933c55c539"
      },
      "source": [
        "from sklearn.model_selection import cross_val_score\n",
        "randomforest_cv= cross_val_score(clf,x,y,scoring='accuracy', cv = 10).mean()\n",
        "randomforest_cv"
      ],
      "execution_count": 51,
      "outputs": [
        {
          "output_type": "execute_result",
          "data": {
            "text/plain": [
              "0.9662949363483783"
            ]
          },
          "metadata": {
            "tags": []
          },
          "execution_count": 51
        }
      ]
    },
    {
      "cell_type": "markdown",
      "metadata": {
        "id": "n2rGPbv76kXA"
      },
      "source": [
        "**LogisticRegression**"
      ]
    },
    {
      "cell_type": "code",
      "metadata": {
        "colab": {
          "base_uri": "https://localhost:8080/",
          "height": 255
        },
        "id": "mRN_UE7KIns8",
        "outputId": "6c7e3afb-e58c-40f7-9930-efa85e6cc754"
      },
      "source": [
        "from sklearn.linear_model import LogisticRegression\n",
        "\n",
        "LReg = LogisticRegression(solver='lbfgs', max_iter=400,random_state=42)\n",
        "\n",
        "LReg.fit(x_train,y_train)\n",
        "\n",
        "predLReg = LReg.predict(x_test)\n",
        "\n",
        "reportLReg = classification_report(y_test, predLReg, output_dict = True)\n",
        "\n",
        "crLReg = pd.DataFrame(reportLReg).transpose()\n",
        "logisticregression_acc=accuracy_score(y_test,predLReg)\n",
        "print(logisticregression_acc)\n",
        "print(confusion_matrix(y_test, predLReg))\n",
        "crLReg"
      ],
      "execution_count": 52,
      "outputs": [
        {
          "output_type": "stream",
          "text": [
            "0.9995898277276456\n",
            "[[1274    0]\n",
            " [   1 1163]]\n"
          ],
          "name": "stdout"
        },
        {
          "output_type": "execute_result",
          "data": {
            "text/html": [
              "<div>\n",
              "<style scoped>\n",
              "    .dataframe tbody tr th:only-of-type {\n",
              "        vertical-align: middle;\n",
              "    }\n",
              "\n",
              "    .dataframe tbody tr th {\n",
              "        vertical-align: top;\n",
              "    }\n",
              "\n",
              "    .dataframe thead th {\n",
              "        text-align: right;\n",
              "    }\n",
              "</style>\n",
              "<table border=\"1\" class=\"dataframe\">\n",
              "  <thead>\n",
              "    <tr style=\"text-align: right;\">\n",
              "      <th></th>\n",
              "      <th>precision</th>\n",
              "      <th>recall</th>\n",
              "      <th>f1-score</th>\n",
              "      <th>support</th>\n",
              "    </tr>\n",
              "  </thead>\n",
              "  <tbody>\n",
              "    <tr>\n",
              "      <th>e</th>\n",
              "      <td>0.999216</td>\n",
              "      <td>1.000000</td>\n",
              "      <td>0.999608</td>\n",
              "      <td>1274.00000</td>\n",
              "    </tr>\n",
              "    <tr>\n",
              "      <th>p</th>\n",
              "      <td>1.000000</td>\n",
              "      <td>0.999141</td>\n",
              "      <td>0.999570</td>\n",
              "      <td>1164.00000</td>\n",
              "    </tr>\n",
              "    <tr>\n",
              "      <th>accuracy</th>\n",
              "      <td>0.999590</td>\n",
              "      <td>0.999590</td>\n",
              "      <td>0.999590</td>\n",
              "      <td>0.99959</td>\n",
              "    </tr>\n",
              "    <tr>\n",
              "      <th>macro avg</th>\n",
              "      <td>0.999608</td>\n",
              "      <td>0.999570</td>\n",
              "      <td>0.999589</td>\n",
              "      <td>2438.00000</td>\n",
              "    </tr>\n",
              "    <tr>\n",
              "      <th>weighted avg</th>\n",
              "      <td>0.999590</td>\n",
              "      <td>0.999590</td>\n",
              "      <td>0.999590</td>\n",
              "      <td>2438.00000</td>\n",
              "    </tr>\n",
              "  </tbody>\n",
              "</table>\n",
              "</div>"
            ],
            "text/plain": [
              "              precision    recall  f1-score     support\n",
              "e              0.999216  1.000000  0.999608  1274.00000\n",
              "p              1.000000  0.999141  0.999570  1164.00000\n",
              "accuracy       0.999590  0.999590  0.999590     0.99959\n",
              "macro avg      0.999608  0.999570  0.999589  2438.00000\n",
              "weighted avg   0.999590  0.999590  0.999590  2438.00000"
            ]
          },
          "metadata": {
            "tags": []
          },
          "execution_count": 52
        }
      ]
    },
    {
      "cell_type": "code",
      "metadata": {
        "id": "ElcwLr0lLlmH",
        "colab": {
          "base_uri": "https://localhost:8080/"
        },
        "outputId": "d8f48447-ec0c-4050-bcb3-31b7fece2a65"
      },
      "source": [
        "logisticregression_cv= cross_val_score(LReg,x,y,scoring='accuracy', cv = 10).mean()\n",
        "logisticregression_cv"
      ],
      "execution_count": 53,
      "outputs": [
        {
          "output_type": "execute_result",
          "data": {
            "text/plain": [
              "0.9774659322947908"
            ]
          },
          "metadata": {
            "tags": []
          },
          "execution_count": 53
        }
      ]
    },
    {
      "cell_type": "markdown",
      "metadata": {
        "id": "MZpTdUUE6pPX"
      },
      "source": [
        "**SVC**"
      ]
    },
    {
      "cell_type": "code",
      "metadata": {
        "colab": {
          "base_uri": "https://localhost:8080/"
        },
        "id": "DGc27zxjLHsi",
        "outputId": "eb62eb61-ebef-41f2-9b57-4ab886fb2177"
      },
      "source": [
        "from sklearn.svm import SVC\n",
        "from sklearn.model_selection import cross_val_score\n",
        "svc=SVC(kernel='rbf')\n",
        "svc.fit(x_train,y_train)\n",
        "svc.score(x_train,y_train)\n",
        "predsvc=svc.predict(x_test)\n",
        "svc_acc=accuracy_score(y_test,predsvc)\n",
        "print(svc_acc)\n",
        "print(confusion_matrix(y_test,predsvc))\n",
        "print(classification_report(y_test,predsvc))\n",
        "\n"
      ],
      "execution_count": 54,
      "outputs": [
        {
          "output_type": "stream",
          "text": [
            "1.0\n",
            "[[1274    0]\n",
            " [   0 1164]]\n",
            "              precision    recall  f1-score   support\n",
            "\n",
            "           e       1.00      1.00      1.00      1274\n",
            "           p       1.00      1.00      1.00      1164\n",
            "\n",
            "    accuracy                           1.00      2438\n",
            "   macro avg       1.00      1.00      1.00      2438\n",
            "weighted avg       1.00      1.00      1.00      2438\n",
            "\n"
          ],
          "name": "stdout"
        }
      ]
    },
    {
      "cell_type": "code",
      "metadata": {
        "colab": {
          "base_uri": "https://localhost:8080/"
        },
        "id": "mxV6vrU3NovW",
        "outputId": "09053c3a-0a87-4d52-ee50-2846e146242c"
      },
      "source": [
        "svc_cv=cross_val_score(svc,x,y,scoring='accuracy', cv = 10).mean()\n",
        "svc_cv"
      ],
      "execution_count": 55,
      "outputs": [
        {
          "output_type": "execute_result",
          "data": {
            "text/plain": [
              "0.9584121025939323"
            ]
          },
          "metadata": {
            "tags": []
          },
          "execution_count": 55
        }
      ]
    },
    {
      "cell_type": "markdown",
      "metadata": {
        "id": "hjMHYqMq6r8R"
      },
      "source": [
        "**GaussianNB**"
      ]
    },
    {
      "cell_type": "code",
      "metadata": {
        "id": "DZvif7NDL-uB",
        "colab": {
          "base_uri": "https://localhost:8080/",
          "height": 221
        },
        "outputId": "4a65e7b0-8d83-4535-bbae-c552b1d2e730"
      },
      "source": [
        "from sklearn.naive_bayes import GaussianNB\n",
        "GNB = GaussianNB()\n",
        "\n",
        "GNB.fit(x_train,y_train)\n",
        "\n",
        "predGNB = GNB.predict(x_test)\n",
        "\n",
        "reportGNB = classification_report(y_test, predGNB, output_dict = True)\n",
        "  \n",
        "crGNB = pd.DataFrame(reportGNB).transpose()\n",
        "gnb_acc=accuracy_score(y_test,predGNB)\n",
        "print(gnb_acc)\n",
        "crGNB\n"
      ],
      "execution_count": 71,
      "outputs": [
        {
          "output_type": "stream",
          "text": [
            "0.9848236259228876\n"
          ],
          "name": "stdout"
        },
        {
          "output_type": "execute_result",
          "data": {
            "text/html": [
              "<div>\n",
              "<style scoped>\n",
              "    .dataframe tbody tr th:only-of-type {\n",
              "        vertical-align: middle;\n",
              "    }\n",
              "\n",
              "    .dataframe tbody tr th {\n",
              "        vertical-align: top;\n",
              "    }\n",
              "\n",
              "    .dataframe thead th {\n",
              "        text-align: right;\n",
              "    }\n",
              "</style>\n",
              "<table border=\"1\" class=\"dataframe\">\n",
              "  <thead>\n",
              "    <tr style=\"text-align: right;\">\n",
              "      <th></th>\n",
              "      <th>precision</th>\n",
              "      <th>recall</th>\n",
              "      <th>f1-score</th>\n",
              "      <th>support</th>\n",
              "    </tr>\n",
              "  </thead>\n",
              "  <tbody>\n",
              "    <tr>\n",
              "      <th>e</th>\n",
              "      <td>0.999193</td>\n",
              "      <td>0.971743</td>\n",
              "      <td>0.985277</td>\n",
              "      <td>1274.000000</td>\n",
              "    </tr>\n",
              "    <tr>\n",
              "      <th>p</th>\n",
              "      <td>0.969975</td>\n",
              "      <td>0.999141</td>\n",
              "      <td>0.984342</td>\n",
              "      <td>1164.000000</td>\n",
              "    </tr>\n",
              "    <tr>\n",
              "      <th>accuracy</th>\n",
              "      <td>0.984824</td>\n",
              "      <td>0.984824</td>\n",
              "      <td>0.984824</td>\n",
              "      <td>0.984824</td>\n",
              "    </tr>\n",
              "    <tr>\n",
              "      <th>macro avg</th>\n",
              "      <td>0.984584</td>\n",
              "      <td>0.985442</td>\n",
              "      <td>0.984809</td>\n",
              "      <td>2438.000000</td>\n",
              "    </tr>\n",
              "    <tr>\n",
              "      <th>weighted avg</th>\n",
              "      <td>0.985243</td>\n",
              "      <td>0.984824</td>\n",
              "      <td>0.984830</td>\n",
              "      <td>2438.000000</td>\n",
              "    </tr>\n",
              "  </tbody>\n",
              "</table>\n",
              "</div>"
            ],
            "text/plain": [
              "              precision    recall  f1-score      support\n",
              "e              0.999193  0.971743  0.985277  1274.000000\n",
              "p              0.969975  0.999141  0.984342  1164.000000\n",
              "accuracy       0.984824  0.984824  0.984824     0.984824\n",
              "macro avg      0.984584  0.985442  0.984809  2438.000000\n",
              "weighted avg   0.985243  0.984824  0.984830  2438.000000"
            ]
          },
          "metadata": {
            "tags": []
          },
          "execution_count": 71
        }
      ]
    },
    {
      "cell_type": "code",
      "metadata": {
        "colab": {
          "base_uri": "https://localhost:8080/"
        },
        "id": "kPhO6IPP8aMn",
        "outputId": "d93cac2e-b686-4788-907f-38e2f0669dd0"
      },
      "source": [
        "gnb_cv=cross_val_score(GNB,x,y,scoring='accuracy', cv = 10).mean()\n",
        "gnb_cv"
      ],
      "execution_count": 57,
      "outputs": [
        {
          "output_type": "execute_result",
          "data": {
            "text/plain": [
              "0.9603701246372071"
            ]
          },
          "metadata": {
            "tags": []
          },
          "execution_count": 57
        }
      ]
    },
    {
      "cell_type": "markdown",
      "metadata": {
        "id": "61eAun2b6upn"
      },
      "source": [
        "**DecisionTreeClassifier**"
      ]
    },
    {
      "cell_type": "code",
      "metadata": {
        "id": "pvYYHQK5LoXz",
        "colab": {
          "base_uri": "https://localhost:8080/",
          "height": 221
        },
        "outputId": "5c397e6c-130c-4894-ed7d-e54d7579d084"
      },
      "source": [
        "from sklearn.tree import DecisionTreeClassifier\n",
        "DTC = DecisionTreeClassifier(random_state = 42)\n",
        "\n",
        "DTC.fit(x_train,y_train)\n",
        "\n",
        "predDTC = DTC.predict(x_test)\n",
        "\n",
        "reportDTC = classification_report(y_test,predDTC, output_dict = True)\n",
        "\n",
        "crDTC = pd.DataFrame(reportDTC).transpose()\n",
        "dtc_acc=accuracy_score(y_test,predDTC)\n",
        "print(dtc_acc)\n",
        "crDTC"
      ],
      "execution_count": 58,
      "outputs": [
        {
          "output_type": "stream",
          "text": [
            "1.0\n"
          ],
          "name": "stdout"
        },
        {
          "output_type": "execute_result",
          "data": {
            "text/html": [
              "<div>\n",
              "<style scoped>\n",
              "    .dataframe tbody tr th:only-of-type {\n",
              "        vertical-align: middle;\n",
              "    }\n",
              "\n",
              "    .dataframe tbody tr th {\n",
              "        vertical-align: top;\n",
              "    }\n",
              "\n",
              "    .dataframe thead th {\n",
              "        text-align: right;\n",
              "    }\n",
              "</style>\n",
              "<table border=\"1\" class=\"dataframe\">\n",
              "  <thead>\n",
              "    <tr style=\"text-align: right;\">\n",
              "      <th></th>\n",
              "      <th>precision</th>\n",
              "      <th>recall</th>\n",
              "      <th>f1-score</th>\n",
              "      <th>support</th>\n",
              "    </tr>\n",
              "  </thead>\n",
              "  <tbody>\n",
              "    <tr>\n",
              "      <th>e</th>\n",
              "      <td>1.0</td>\n",
              "      <td>1.0</td>\n",
              "      <td>1.0</td>\n",
              "      <td>1274.0</td>\n",
              "    </tr>\n",
              "    <tr>\n",
              "      <th>p</th>\n",
              "      <td>1.0</td>\n",
              "      <td>1.0</td>\n",
              "      <td>1.0</td>\n",
              "      <td>1164.0</td>\n",
              "    </tr>\n",
              "    <tr>\n",
              "      <th>accuracy</th>\n",
              "      <td>1.0</td>\n",
              "      <td>1.0</td>\n",
              "      <td>1.0</td>\n",
              "      <td>1.0</td>\n",
              "    </tr>\n",
              "    <tr>\n",
              "      <th>macro avg</th>\n",
              "      <td>1.0</td>\n",
              "      <td>1.0</td>\n",
              "      <td>1.0</td>\n",
              "      <td>2438.0</td>\n",
              "    </tr>\n",
              "    <tr>\n",
              "      <th>weighted avg</th>\n",
              "      <td>1.0</td>\n",
              "      <td>1.0</td>\n",
              "      <td>1.0</td>\n",
              "      <td>2438.0</td>\n",
              "    </tr>\n",
              "  </tbody>\n",
              "</table>\n",
              "</div>"
            ],
            "text/plain": [
              "              precision  recall  f1-score  support\n",
              "e                   1.0     1.0       1.0   1274.0\n",
              "p                   1.0     1.0       1.0   1164.0\n",
              "accuracy            1.0     1.0       1.0      1.0\n",
              "macro avg           1.0     1.0       1.0   2438.0\n",
              "weighted avg        1.0     1.0       1.0   2438.0"
            ]
          },
          "metadata": {
            "tags": []
          },
          "execution_count": 58
        }
      ]
    },
    {
      "cell_type": "code",
      "metadata": {
        "colab": {
          "base_uri": "https://localhost:8080/"
        },
        "id": "WjBkZ3a85v56",
        "outputId": "12906450-d22c-4951-cc67-d3a5b08ccea7"
      },
      "source": [
        "dtc_cv=cross_val_score(DTC,x,y,scoring='accuracy', cv = 10).mean()\n",
        "dtc_cv"
      ],
      "execution_count": 59,
      "outputs": [
        {
          "output_type": "execute_result",
          "data": {
            "text/plain": [
              "0.968265379698132"
            ]
          },
          "metadata": {
            "tags": []
          },
          "execution_count": 59
        }
      ]
    },
    {
      "cell_type": "markdown",
      "metadata": {
        "id": "dhXvF7-n6xZe"
      },
      "source": [
        "**KNeighborsClassifier**"
      ]
    },
    {
      "cell_type": "code",
      "metadata": {
        "id": "gXHhRxd8Me-I",
        "colab": {
          "base_uri": "https://localhost:8080/",
          "height": 221
        },
        "outputId": "7d792968-1454-4bc4-ff0f-c1e34fb43c48"
      },
      "source": [
        "from sklearn.neighbors import KNeighborsClassifier\n",
        "KNN = KNeighborsClassifier()\n",
        "\n",
        "KNN.fit(x_train,y_train)\n",
        "\n",
        "predKNN = KNN.predict(x_test)\n",
        "\n",
        "reportKNN = classification_report(y_test,predKNN, output_dict = True)\n",
        "\n",
        "crKNN = pd.DataFrame(reportKNN).transpose()\n",
        "knn_acc=accuracy_score(y_test,predKNN)\n",
        "print(knn_acc)\n",
        "crKNN"
      ],
      "execution_count": 60,
      "outputs": [
        {
          "output_type": "stream",
          "text": [
            "1.0\n"
          ],
          "name": "stdout"
        },
        {
          "output_type": "execute_result",
          "data": {
            "text/html": [
              "<div>\n",
              "<style scoped>\n",
              "    .dataframe tbody tr th:only-of-type {\n",
              "        vertical-align: middle;\n",
              "    }\n",
              "\n",
              "    .dataframe tbody tr th {\n",
              "        vertical-align: top;\n",
              "    }\n",
              "\n",
              "    .dataframe thead th {\n",
              "        text-align: right;\n",
              "    }\n",
              "</style>\n",
              "<table border=\"1\" class=\"dataframe\">\n",
              "  <thead>\n",
              "    <tr style=\"text-align: right;\">\n",
              "      <th></th>\n",
              "      <th>precision</th>\n",
              "      <th>recall</th>\n",
              "      <th>f1-score</th>\n",
              "      <th>support</th>\n",
              "    </tr>\n",
              "  </thead>\n",
              "  <tbody>\n",
              "    <tr>\n",
              "      <th>e</th>\n",
              "      <td>1.0</td>\n",
              "      <td>1.0</td>\n",
              "      <td>1.0</td>\n",
              "      <td>1274.0</td>\n",
              "    </tr>\n",
              "    <tr>\n",
              "      <th>p</th>\n",
              "      <td>1.0</td>\n",
              "      <td>1.0</td>\n",
              "      <td>1.0</td>\n",
              "      <td>1164.0</td>\n",
              "    </tr>\n",
              "    <tr>\n",
              "      <th>accuracy</th>\n",
              "      <td>1.0</td>\n",
              "      <td>1.0</td>\n",
              "      <td>1.0</td>\n",
              "      <td>1.0</td>\n",
              "    </tr>\n",
              "    <tr>\n",
              "      <th>macro avg</th>\n",
              "      <td>1.0</td>\n",
              "      <td>1.0</td>\n",
              "      <td>1.0</td>\n",
              "      <td>2438.0</td>\n",
              "    </tr>\n",
              "    <tr>\n",
              "      <th>weighted avg</th>\n",
              "      <td>1.0</td>\n",
              "      <td>1.0</td>\n",
              "      <td>1.0</td>\n",
              "      <td>2438.0</td>\n",
              "    </tr>\n",
              "  </tbody>\n",
              "</table>\n",
              "</div>"
            ],
            "text/plain": [
              "              precision  recall  f1-score  support\n",
              "e                   1.0     1.0       1.0   1274.0\n",
              "p                   1.0     1.0       1.0   1164.0\n",
              "accuracy            1.0     1.0       1.0      1.0\n",
              "macro avg           1.0     1.0       1.0   2438.0\n",
              "weighted avg        1.0     1.0       1.0   2438.0"
            ]
          },
          "metadata": {
            "tags": []
          },
          "execution_count": 60
        }
      ]
    },
    {
      "cell_type": "code",
      "metadata": {
        "colab": {
          "base_uri": "https://localhost:8080/"
        },
        "id": "SRay8_2756NH",
        "outputId": "089c833f-ebaf-4bd2-f297-9007e4255721"
      },
      "source": [
        "knn_cv=cross_val_score(KNN,x,y,scoring='accuracy', cv = 10).mean()\n",
        "knn_cv"
      ],
      "execution_count": 61,
      "outputs": [
        {
          "output_type": "execute_result",
          "data": {
            "text/plain": [
              "0.9560728070334891"
            ]
          },
          "metadata": {
            "tags": []
          },
          "execution_count": 61
        }
      ]
    },
    {
      "cell_type": "markdown",
      "metadata": {
        "id": "t9SjIizu62yo"
      },
      "source": [
        "**Finding the best model using accuracy score evaluation metrics**"
      ]
    },
    {
      "cell_type": "code",
      "metadata": {
        "colab": {
          "base_uri": "https://localhost:8080/"
        },
        "id": "WFhtjKh16GlF",
        "outputId": "daa5c0b3-5efb-4a36-ab28-6034268b52e1"
      },
      "source": [
        "print(\"model                    \",\"accuracy           \",\"cv          \",\"difference\")\n",
        "print(\"-------------------------------------------------------------------------------------\")\n",
        "print(\"random forest            \", round(randomforest_accu,2),\"            \",round(randomforest_cv,2 ),\"               \",round(randomforest_accu-randomforest_cv,2 ))\n",
        "print(\"logisticregression       \",round(logisticregression_acc,2),\"            \",round(logisticregression_cv,2),\"               \",round(randomforest_accu-randomforest_cv,2 ))\n",
        "print(\"SVC                      \",round(svc_acc,2),\"            \",round(svc_cv,2),\"               \",round(svc_acc-svc_cv,2 ))\n",
        "print(\"gaussian naive bayes     \",round(gnb_acc,2),\"           \",round(gnb_cv,2),\"               \",round(gnb_acc-gnb_cv,2 ))\n",
        "print(\"decission tree classifier\",round(dtc_acc,2),\"            \",round(dtc_cv,2),\"               \",round(dtc_acc-dtc_cv,2 ))\n",
        "print(\"KNN                      \",round(knn_acc,2),\"            \",round(knn_cv,2),\"               \",round(knn_acc-knn_cv,2 ))"
      ],
      "execution_count": 62,
      "outputs": [
        {
          "output_type": "stream",
          "text": [
            "model                     accuracy            cv           difference\n",
            "-------------------------------------------------------------------------------------\n",
            "random forest             1.0              0.97                 0.03\n",
            "logisticregression        1.0              0.98                 0.03\n",
            "SVC                       1.0              0.96                 0.04\n",
            "gaussian naive bayes      0.98             0.96                 0.02\n",
            "decission tree classifier 1.0              0.97                 0.03\n",
            "KNN                       1.0              0.96                 0.04\n"
          ],
          "name": "stdout"
        }
      ]
    },
    {
      "cell_type": "markdown",
      "metadata": {
        "id": "ySTNE4inTpYm"
      },
      "source": [
        "gaussian naive bayes is having the least difference so the best model is **gaussian naive bayes**"
      ]
    },
    {
      "cell_type": "markdown",
      "metadata": {
        "id": "FAKq_mBtVxha"
      },
      "source": [
        "## HYPERPARAMETER TUNING"
      ]
    },
    {
      "cell_type": "code",
      "metadata": {
        "colab": {
          "base_uri": "https://localhost:8080/"
        },
        "id": "NEGyx9TyPkOs",
        "outputId": "1c4f0648-9c95-4444-9311-e2af5b53a67c"
      },
      "source": [
        "from sklearn.model_selection import GridSearchCV\n",
        "nb_classifier = GaussianNB()\n",
        "\n",
        "params_NB = {'var_smoothing': np.logspace(0,-9, num=100)}\n",
        "gs_NB = GridSearchCV(estimator=nb_classifier, \n",
        "                 param_grid=params_NB, \n",
        "                 cv=5,   # use any cross validation technique \n",
        "                 verbose=1, \n",
        "                 scoring='accuracy') \n",
        "gs_NB.fit(x_train, y_train)\n",
        "\n"
      ],
      "execution_count": 63,
      "outputs": [
        {
          "output_type": "stream",
          "text": [
            "Fitting 5 folds for each of 100 candidates, totalling 500 fits\n"
          ],
          "name": "stdout"
        },
        {
          "output_type": "stream",
          "text": [
            "[Parallel(n_jobs=1)]: Using backend SequentialBackend with 1 concurrent workers.\n",
            "[Parallel(n_jobs=1)]: Done 500 out of 500 | elapsed:   11.8s finished\n"
          ],
          "name": "stderr"
        },
        {
          "output_type": "execute_result",
          "data": {
            "text/plain": [
              "GridSearchCV(cv=5, error_score=nan,\n",
              "             estimator=GaussianNB(priors=None, var_smoothing=1e-09),\n",
              "             iid='deprecated', n_jobs=None,\n",
              "             param_grid={'var_smoothing': array([1.00000000e+00, 8.11130831e-01, 6.57933225e-01, 5.33669923e-01,\n",
              "       4.32876128e-01, 3.51119173e-01, 2.84803587e-01, 2.31012970e-01,\n",
              "       1.87381742e-01, 1.51991108e-01, 1.23284674e-01, 1.00000000e-01,\n",
              "       8.11130831e-02, 6.5...\n",
              "       5.33669923e-08, 4.32876128e-08, 3.51119173e-08, 2.84803587e-08,\n",
              "       2.31012970e-08, 1.87381742e-08, 1.51991108e-08, 1.23284674e-08,\n",
              "       1.00000000e-08, 8.11130831e-09, 6.57933225e-09, 5.33669923e-09,\n",
              "       4.32876128e-09, 3.51119173e-09, 2.84803587e-09, 2.31012970e-09,\n",
              "       1.87381742e-09, 1.51991108e-09, 1.23284674e-09, 1.00000000e-09])},\n",
              "             pre_dispatch='2*n_jobs', refit=True, return_train_score=False,\n",
              "             scoring='accuracy', verbose=1)"
            ]
          },
          "metadata": {
            "tags": []
          },
          "execution_count": 63
        }
      ]
    },
    {
      "cell_type": "code",
      "metadata": {
        "colab": {
          "base_uri": "https://localhost:8080/"
        },
        "id": "5jDHEHM-QBws",
        "outputId": "8be02425-a1f2-428d-afbd-273bb0df5c31"
      },
      "source": [
        "gs_NB.best_params_"
      ],
      "execution_count": 64,
      "outputs": [
        {
          "output_type": "execute_result",
          "data": {
            "text/plain": [
              "{'var_smoothing': 0.004328761281083057}"
            ]
          },
          "metadata": {
            "tags": []
          },
          "execution_count": 64
        }
      ]
    },
    {
      "cell_type": "code",
      "metadata": {
        "colab": {
          "base_uri": "https://localhost:8080/",
          "height": 221
        },
        "id": "eBudN1OrQIpD",
        "outputId": "6035586a-0adb-4041-ab84-e218acbb3a97"
      },
      "source": [
        "from sklearn.naive_bayes import GaussianNB\n",
        "final_mod = GaussianNB(var_smoothing = 0.004328761281083057)\n",
        "\n",
        "final_mod.fit(x_train,y_train)\n",
        "\n",
        "predGNB = final_mod.predict(x_test)\n",
        "\n",
        "reportGNB = classification_report(y_test, predGNB, output_dict = True)\n",
        "  \n",
        "crGNB = pd.DataFrame(reportGNB).transpose()\n",
        "gnb_acu=accuracy_score(y_test,predGNB)\n",
        "print(gnb_acu)\n",
        "crGNB"
      ],
      "execution_count": 68,
      "outputs": [
        {
          "output_type": "stream",
          "text": [
            "0.9897456931911403\n"
          ],
          "name": "stdout"
        },
        {
          "output_type": "execute_result",
          "data": {
            "text/html": [
              "<div>\n",
              "<style scoped>\n",
              "    .dataframe tbody tr th:only-of-type {\n",
              "        vertical-align: middle;\n",
              "    }\n",
              "\n",
              "    .dataframe tbody tr th {\n",
              "        vertical-align: top;\n",
              "    }\n",
              "\n",
              "    .dataframe thead th {\n",
              "        text-align: right;\n",
              "    }\n",
              "</style>\n",
              "<table border=\"1\" class=\"dataframe\">\n",
              "  <thead>\n",
              "    <tr style=\"text-align: right;\">\n",
              "      <th></th>\n",
              "      <th>precision</th>\n",
              "      <th>recall</th>\n",
              "      <th>f1-score</th>\n",
              "      <th>support</th>\n",
              "    </tr>\n",
              "  </thead>\n",
              "  <tbody>\n",
              "    <tr>\n",
              "      <th>e</th>\n",
              "      <td>0.999201</td>\n",
              "      <td>0.981162</td>\n",
              "      <td>0.990099</td>\n",
              "      <td>1274.000000</td>\n",
              "    </tr>\n",
              "    <tr>\n",
              "      <th>p</th>\n",
              "      <td>0.979781</td>\n",
              "      <td>0.999141</td>\n",
              "      <td>0.989366</td>\n",
              "      <td>1164.000000</td>\n",
              "    </tr>\n",
              "    <tr>\n",
              "      <th>accuracy</th>\n",
              "      <td>0.989746</td>\n",
              "      <td>0.989746</td>\n",
              "      <td>0.989746</td>\n",
              "      <td>0.989746</td>\n",
              "    </tr>\n",
              "    <tr>\n",
              "      <th>macro avg</th>\n",
              "      <td>0.989491</td>\n",
              "      <td>0.990151</td>\n",
              "      <td>0.989733</td>\n",
              "      <td>2438.000000</td>\n",
              "    </tr>\n",
              "    <tr>\n",
              "      <th>weighted avg</th>\n",
              "      <td>0.989929</td>\n",
              "      <td>0.989746</td>\n",
              "      <td>0.989749</td>\n",
              "      <td>2438.000000</td>\n",
              "    </tr>\n",
              "  </tbody>\n",
              "</table>\n",
              "</div>"
            ],
            "text/plain": [
              "              precision    recall  f1-score      support\n",
              "e              0.999201  0.981162  0.990099  1274.000000\n",
              "p              0.979781  0.999141  0.989366  1164.000000\n",
              "accuracy       0.989746  0.989746  0.989746     0.989746\n",
              "macro avg      0.989491  0.990151  0.989733  2438.000000\n",
              "weighted avg   0.989929  0.989746  0.989749  2438.000000"
            ]
          },
          "metadata": {
            "tags": []
          },
          "execution_count": 68
        }
      ]
    },
    {
      "cell_type": "code",
      "metadata": {
        "colab": {
          "base_uri": "https://localhost:8080/"
        },
        "id": "4XTMJJHsPGQP",
        "outputId": "ed921958-2a82-431e-f272-4db4d4a7ed3f"
      },
      "source": [
        "print(gnb_acu*100)"
      ],
      "execution_count": 73,
      "outputs": [
        {
          "output_type": "stream",
          "text": [
            "98.97456931911402\n"
          ],
          "name": "stdout"
        }
      ]
    },
    {
      "cell_type": "code",
      "metadata": {
        "colab": {
          "base_uri": "https://localhost:8080/"
        },
        "id": "zg1AZzdEV6bo",
        "outputId": "45d529f9-4534-41e5-c1e2-50c6781ff4d0"
      },
      "source": [
        "print(\"accuracy before hyperparameter tuning \",gnb_acc*100,\"accuracy after hyperparameter tuning \",gnb_acu*100)"
      ],
      "execution_count": 74,
      "outputs": [
        {
          "output_type": "stream",
          "text": [
            "accuracy before hyperparameter tuning  98.48236259228877 accuracy after hyperparameter tuning  98.97456931911402\n"
          ],
          "name": "stdout"
        }
      ]
    },
    {
      "cell_type": "markdown",
      "metadata": {
        "id": "GwY5HnH_7k49"
      },
      "source": [
        "## Saving the model"
      ]
    },
    {
      "cell_type": "code",
      "metadata": {
        "colab": {
          "base_uri": "https://localhost:8080/"
        },
        "id": "hSoV605PRdZu",
        "outputId": "6cfbb09e-ab34-4273-f922-f5ff1c5b42ea"
      },
      "source": [
        "import joblib\n",
        "joblib.dump(final_mod,\"final model.pkl\")"
      ],
      "execution_count": 67,
      "outputs": [
        {
          "output_type": "execute_result",
          "data": {
            "text/plain": [
              "['final model.pkl']"
            ]
          },
          "metadata": {
            "tags": []
          },
          "execution_count": 67
        }
      ]
    }
  ]
}