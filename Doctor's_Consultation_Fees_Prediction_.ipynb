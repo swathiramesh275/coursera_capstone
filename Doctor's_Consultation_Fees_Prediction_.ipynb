{
  "nbformat": 4,
  "nbformat_minor": 0,
  "metadata": {
    "colab": {
      "name": "Doctor's Consultation Fees Prediction .ipynb",
      "provenance": [],
      "collapsed_sections": [],
      "toc_visible": true
    },
    "kernelspec": {
      "display_name": "Python 3",
      "name": "python3"
    },
    "language_info": {
      "name": "python"
    }
  },
  "cells": [
    {
      "cell_type": "markdown",
      "metadata": {
        "id": "ZDe469JhqQ9v"
      },
      "source": [
        "# **Doctor's Consultation Fees Prediction**"
      ]
    },
    {
      "cell_type": "markdown",
      "metadata": {
        "id": "vKjf6NgUfzbj"
      },
      "source": [
        "  We have all been in situation where we go to a doctor in emergency and find that the consultation fees are too high. As a data scientist we all should do better. What if you have data that records important details about a doctor and you get to build a model to predict the doctor’s consulting fee.? This is the use case that let's you do that."
      ]
    },
    {
      "cell_type": "markdown",
      "metadata": {
        "id": "gmrionDweQqz"
      },
      "source": [
        "## **1.Data understanding**"
      ]
    },
    {
      "cell_type": "code",
      "metadata": {
        "id": "Xk6n_MzLfBK6"
      },
      "source": [
        "import numpy as np\n",
        "import pandas as pd \n",
        "import matplotlib as mlp\n",
        "import seaborn as sns\n",
        "import matplotlib.pyplot as plt"
      ],
      "execution_count": 4,
      "outputs": []
    },
    {
      "cell_type": "code",
      "metadata": {
        "id": "0t_BanyTJIi3"
      },
      "source": [
        "import warnings\n",
        "warnings.filterwarnings('ignore')"
      ],
      "execution_count": 5,
      "outputs": []
    },
    {
      "cell_type": "code",
      "metadata": {
        "id": "eJPEB4oNmkHR"
      },
      "source": [
        "df=pd.read_excel(\"/content/Final_Train.xlsx\")"
      ],
      "execution_count": 6,
      "outputs": []
    },
    {
      "cell_type": "code",
      "metadata": {
        "colab": {
          "base_uri": "https://localhost:8080/",
          "height": 285
        },
        "id": "nNqykwT1mxMh",
        "outputId": "6cb31f4e-71df-4e90-fe46-51794f61c8c5"
      },
      "source": [
        "df.head()"
      ],
      "execution_count": 8,
      "outputs": [
        {
          "output_type": "execute_result",
          "data": {
            "text/html": [
              "<div>\n",
              "<style scoped>\n",
              "    .dataframe tbody tr th:only-of-type {\n",
              "        vertical-align: middle;\n",
              "    }\n",
              "\n",
              "    .dataframe tbody tr th {\n",
              "        vertical-align: top;\n",
              "    }\n",
              "\n",
              "    .dataframe thead th {\n",
              "        text-align: right;\n",
              "    }\n",
              "</style>\n",
              "<table border=\"1\" class=\"dataframe\">\n",
              "  <thead>\n",
              "    <tr style=\"text-align: right;\">\n",
              "      <th></th>\n",
              "      <th>Qualification</th>\n",
              "      <th>Experience</th>\n",
              "      <th>Rating</th>\n",
              "      <th>Place</th>\n",
              "      <th>Profile</th>\n",
              "      <th>Miscellaneous_Info</th>\n",
              "      <th>Fees</th>\n",
              "    </tr>\n",
              "  </thead>\n",
              "  <tbody>\n",
              "    <tr>\n",
              "      <th>0</th>\n",
              "      <td>BHMS, MD - Homeopathy</td>\n",
              "      <td>24 years experience</td>\n",
              "      <td>100%</td>\n",
              "      <td>Kakkanad, Ernakulam</td>\n",
              "      <td>Homeopath</td>\n",
              "      <td>100% 16 Feedback Kakkanad, Ernakulam</td>\n",
              "      <td>100</td>\n",
              "    </tr>\n",
              "    <tr>\n",
              "      <th>1</th>\n",
              "      <td>BAMS, MD - Ayurveda Medicine</td>\n",
              "      <td>12 years experience</td>\n",
              "      <td>98%</td>\n",
              "      <td>Whitefield, Bangalore</td>\n",
              "      <td>Ayurveda</td>\n",
              "      <td>98% 76 Feedback Whitefield, Bangalore</td>\n",
              "      <td>350</td>\n",
              "    </tr>\n",
              "    <tr>\n",
              "      <th>2</th>\n",
              "      <td>MBBS, MS - Otorhinolaryngology</td>\n",
              "      <td>9 years experience</td>\n",
              "      <td>NaN</td>\n",
              "      <td>Mathikere - BEL, Bangalore</td>\n",
              "      <td>ENT Specialist</td>\n",
              "      <td>NaN</td>\n",
              "      <td>300</td>\n",
              "    </tr>\n",
              "    <tr>\n",
              "      <th>3</th>\n",
              "      <td>BSc - Zoology, BAMS</td>\n",
              "      <td>12 years experience</td>\n",
              "      <td>NaN</td>\n",
              "      <td>Bannerghatta Road, Bangalore</td>\n",
              "      <td>Ayurveda</td>\n",
              "      <td>Bannerghatta Road, Bangalore ₹250 Available on...</td>\n",
              "      <td>250</td>\n",
              "    </tr>\n",
              "    <tr>\n",
              "      <th>4</th>\n",
              "      <td>BAMS</td>\n",
              "      <td>20 years experience</td>\n",
              "      <td>100%</td>\n",
              "      <td>Keelkattalai, Chennai</td>\n",
              "      <td>Ayurveda</td>\n",
              "      <td>100% 4 Feedback Keelkattalai, Chennai</td>\n",
              "      <td>250</td>\n",
              "    </tr>\n",
              "  </tbody>\n",
              "</table>\n",
              "</div>"
            ],
            "text/plain": [
              "                    Qualification  ... Fees\n",
              "0           BHMS, MD - Homeopathy  ...  100\n",
              "1    BAMS, MD - Ayurveda Medicine  ...  350\n",
              "2  MBBS, MS - Otorhinolaryngology  ...  300\n",
              "3             BSc - Zoology, BAMS  ...  250\n",
              "4                            BAMS  ...  250\n",
              "\n",
              "[5 rows x 7 columns]"
            ]
          },
          "metadata": {
            "tags": []
          },
          "execution_count": 8
        }
      ]
    },
    {
      "cell_type": "code",
      "metadata": {
        "colab": {
          "base_uri": "https://localhost:8080/"
        },
        "id": "1TsWUfrwnTFT",
        "outputId": "ac940ec0-9fbc-4ac5-fb30-a1a31fb2bb79"
      },
      "source": [
        "df.shape"
      ],
      "execution_count": 9,
      "outputs": [
        {
          "output_type": "execute_result",
          "data": {
            "text/plain": [
              "(5961, 7)"
            ]
          },
          "metadata": {
            "tags": []
          },
          "execution_count": 9
        }
      ]
    },
    {
      "cell_type": "code",
      "metadata": {
        "colab": {
          "base_uri": "https://localhost:8080/"
        },
        "id": "qvgMoMlTm0z-",
        "outputId": "c1b8a69a-a286-42c9-a865-c828e3fe6fcf"
      },
      "source": [
        "print(df.isnull().sum())"
      ],
      "execution_count": 10,
      "outputs": [
        {
          "output_type": "stream",
          "text": [
            "Qualification            0\n",
            "Experience               0\n",
            "Rating                3302\n",
            "Place                   25\n",
            "Profile                  0\n",
            "Miscellaneous_Info    2620\n",
            "Fees                     0\n",
            "dtype: int64\n"
          ],
          "name": "stdout"
        }
      ]
    },
    {
      "cell_type": "code",
      "metadata": {
        "colab": {
          "base_uri": "https://localhost:8080/"
        },
        "id": "U5tEzR5Sn_w9",
        "outputId": "169ffc6b-18ab-43bf-ea53-58a46e2d3a47"
      },
      "source": [
        "df['Fees'].describe()"
      ],
      "execution_count": 11,
      "outputs": [
        {
          "output_type": "execute_result",
          "data": {
            "text/plain": [
              "count    5961.000000\n",
              "mean      307.944640\n",
              "std       190.920373\n",
              "min         5.000000\n",
              "25%       150.000000\n",
              "50%       300.000000\n",
              "75%       500.000000\n",
              "max       950.000000\n",
              "Name: Fees, dtype: float64"
            ]
          },
          "metadata": {
            "tags": []
          },
          "execution_count": 11
        }
      ]
    },
    {
      "cell_type": "code",
      "metadata": {
        "colab": {
          "base_uri": "https://localhost:8080/"
        },
        "id": "t28fsLf4oDKd",
        "outputId": "769c7e21-5d29-49ab-8d50-0bbb54416019"
      },
      "source": [
        "df.info()"
      ],
      "execution_count": 12,
      "outputs": [
        {
          "output_type": "stream",
          "text": [
            "<class 'pandas.core.frame.DataFrame'>\n",
            "RangeIndex: 5961 entries, 0 to 5960\n",
            "Data columns (total 7 columns):\n",
            " #   Column              Non-Null Count  Dtype \n",
            "---  ------              --------------  ----- \n",
            " 0   Qualification       5961 non-null   object\n",
            " 1   Experience          5961 non-null   object\n",
            " 2   Rating              2659 non-null   object\n",
            " 3   Place               5936 non-null   object\n",
            " 4   Profile             5961 non-null   object\n",
            " 5   Miscellaneous_Info  3341 non-null   object\n",
            " 6   Fees                5961 non-null   int64 \n",
            "dtypes: int64(1), object(6)\n",
            "memory usage: 326.1+ KB\n"
          ],
          "name": "stdout"
        }
      ]
    },
    {
      "cell_type": "code",
      "metadata": {
        "colab": {
          "base_uri": "https://localhost:8080/",
          "height": 294
        },
        "id": "IEY1LJXHJvH5",
        "outputId": "6778cf16-6401-45b8-ab4d-75d63d79a039"
      },
      "source": [
        "df.describe()"
      ],
      "execution_count": 13,
      "outputs": [
        {
          "output_type": "execute_result",
          "data": {
            "text/html": [
              "<div>\n",
              "<style scoped>\n",
              "    .dataframe tbody tr th:only-of-type {\n",
              "        vertical-align: middle;\n",
              "    }\n",
              "\n",
              "    .dataframe tbody tr th {\n",
              "        vertical-align: top;\n",
              "    }\n",
              "\n",
              "    .dataframe thead th {\n",
              "        text-align: right;\n",
              "    }\n",
              "</style>\n",
              "<table border=\"1\" class=\"dataframe\">\n",
              "  <thead>\n",
              "    <tr style=\"text-align: right;\">\n",
              "      <th></th>\n",
              "      <th>Fees</th>\n",
              "    </tr>\n",
              "  </thead>\n",
              "  <tbody>\n",
              "    <tr>\n",
              "      <th>count</th>\n",
              "      <td>5961.000000</td>\n",
              "    </tr>\n",
              "    <tr>\n",
              "      <th>mean</th>\n",
              "      <td>307.944640</td>\n",
              "    </tr>\n",
              "    <tr>\n",
              "      <th>std</th>\n",
              "      <td>190.920373</td>\n",
              "    </tr>\n",
              "    <tr>\n",
              "      <th>min</th>\n",
              "      <td>5.000000</td>\n",
              "    </tr>\n",
              "    <tr>\n",
              "      <th>25%</th>\n",
              "      <td>150.000000</td>\n",
              "    </tr>\n",
              "    <tr>\n",
              "      <th>50%</th>\n",
              "      <td>300.000000</td>\n",
              "    </tr>\n",
              "    <tr>\n",
              "      <th>75%</th>\n",
              "      <td>500.000000</td>\n",
              "    </tr>\n",
              "    <tr>\n",
              "      <th>max</th>\n",
              "      <td>950.000000</td>\n",
              "    </tr>\n",
              "  </tbody>\n",
              "</table>\n",
              "</div>"
            ],
            "text/plain": [
              "              Fees\n",
              "count  5961.000000\n",
              "mean    307.944640\n",
              "std     190.920373\n",
              "min       5.000000\n",
              "25%     150.000000\n",
              "50%     300.000000\n",
              "75%     500.000000\n",
              "max     950.000000"
            ]
          },
          "metadata": {
            "tags": []
          },
          "execution_count": 13
        }
      ]
    },
    {
      "cell_type": "code",
      "metadata": {
        "colab": {
          "base_uri": "https://localhost:8080/"
        },
        "id": "68JCtWblJw2p",
        "outputId": "36fe25cc-70a2-440b-cb47-91d67682d6f0"
      },
      "source": [
        "df.columns"
      ],
      "execution_count": 14,
      "outputs": [
        {
          "output_type": "execute_result",
          "data": {
            "text/plain": [
              "Index(['Qualification', 'Experience', 'Rating', 'Place', 'Profile',\n",
              "       'Miscellaneous_Info', 'Fees'],\n",
              "      dtype='object')"
            ]
          },
          "metadata": {
            "tags": []
          },
          "execution_count": 14
        }
      ]
    },
    {
      "cell_type": "code",
      "metadata": {
        "colab": {
          "base_uri": "https://localhost:8080/"
        },
        "id": "sVyf5ftHFWX7",
        "outputId": "f0450284-ba59-4018-8215-d21fcd3e7fc8"
      },
      "source": [
        "df.dtypes"
      ],
      "execution_count": 15,
      "outputs": [
        {
          "output_type": "execute_result",
          "data": {
            "text/plain": [
              "Qualification         object\n",
              "Experience            object\n",
              "Rating                object\n",
              "Place                 object\n",
              "Profile               object\n",
              "Miscellaneous_Info    object\n",
              "Fees                   int64\n",
              "dtype: object"
            ]
          },
          "metadata": {
            "tags": []
          },
          "execution_count": 15
        }
      ]
    },
    {
      "cell_type": "markdown",
      "metadata": {
        "id": "SaJxxrrAfq-g"
      },
      "source": [
        "## **2.Data Cleaning**"
      ]
    },
    {
      "cell_type": "code",
      "metadata": {
        "colab": {
          "base_uri": "https://localhost:8080/"
        },
        "id": "g0V5HFN0fqm7",
        "outputId": "16d34c17-e63e-4779-dea9-ea19b017d9b1"
      },
      "source": [
        "print(df.isnull().sum())"
      ],
      "execution_count": 16,
      "outputs": [
        {
          "output_type": "stream",
          "text": [
            "Qualification            0\n",
            "Experience               0\n",
            "Rating                3302\n",
            "Place                   25\n",
            "Profile                  0\n",
            "Miscellaneous_Info    2620\n",
            "Fees                     0\n",
            "dtype: int64\n"
          ],
          "name": "stdout"
        }
      ]
    },
    {
      "cell_type": "markdown",
      "metadata": {
        "id": "2rCgcZQRf8QS"
      },
      "source": [
        "droping the Miscellaneous_Info column"
      ]
    },
    {
      "cell_type": "code",
      "metadata": {
        "colab": {
          "base_uri": "https://localhost:8080/",
          "height": 414
        },
        "id": "a-6kX4DqI1xo",
        "outputId": "944d746f-3459-4082-dbf3-6e44fd270d61"
      },
      "source": [
        "df.drop(['Miscellaneous_Info'],axis=1,inplace=True)   \n",
        "df"
      ],
      "execution_count": 17,
      "outputs": [
        {
          "output_type": "execute_result",
          "data": {
            "text/html": [
              "<div>\n",
              "<style scoped>\n",
              "    .dataframe tbody tr th:only-of-type {\n",
              "        vertical-align: middle;\n",
              "    }\n",
              "\n",
              "    .dataframe tbody tr th {\n",
              "        vertical-align: top;\n",
              "    }\n",
              "\n",
              "    .dataframe thead th {\n",
              "        text-align: right;\n",
              "    }\n",
              "</style>\n",
              "<table border=\"1\" class=\"dataframe\">\n",
              "  <thead>\n",
              "    <tr style=\"text-align: right;\">\n",
              "      <th></th>\n",
              "      <th>Qualification</th>\n",
              "      <th>Experience</th>\n",
              "      <th>Rating</th>\n",
              "      <th>Place</th>\n",
              "      <th>Profile</th>\n",
              "      <th>Fees</th>\n",
              "    </tr>\n",
              "  </thead>\n",
              "  <tbody>\n",
              "    <tr>\n",
              "      <th>0</th>\n",
              "      <td>BHMS, MD - Homeopathy</td>\n",
              "      <td>24 years experience</td>\n",
              "      <td>100%</td>\n",
              "      <td>Kakkanad, Ernakulam</td>\n",
              "      <td>Homeopath</td>\n",
              "      <td>100</td>\n",
              "    </tr>\n",
              "    <tr>\n",
              "      <th>1</th>\n",
              "      <td>BAMS, MD - Ayurveda Medicine</td>\n",
              "      <td>12 years experience</td>\n",
              "      <td>98%</td>\n",
              "      <td>Whitefield, Bangalore</td>\n",
              "      <td>Ayurveda</td>\n",
              "      <td>350</td>\n",
              "    </tr>\n",
              "    <tr>\n",
              "      <th>2</th>\n",
              "      <td>MBBS, MS - Otorhinolaryngology</td>\n",
              "      <td>9 years experience</td>\n",
              "      <td>NaN</td>\n",
              "      <td>Mathikere - BEL, Bangalore</td>\n",
              "      <td>ENT Specialist</td>\n",
              "      <td>300</td>\n",
              "    </tr>\n",
              "    <tr>\n",
              "      <th>3</th>\n",
              "      <td>BSc - Zoology, BAMS</td>\n",
              "      <td>12 years experience</td>\n",
              "      <td>NaN</td>\n",
              "      <td>Bannerghatta Road, Bangalore</td>\n",
              "      <td>Ayurveda</td>\n",
              "      <td>250</td>\n",
              "    </tr>\n",
              "    <tr>\n",
              "      <th>4</th>\n",
              "      <td>BAMS</td>\n",
              "      <td>20 years experience</td>\n",
              "      <td>100%</td>\n",
              "      <td>Keelkattalai, Chennai</td>\n",
              "      <td>Ayurveda</td>\n",
              "      <td>250</td>\n",
              "    </tr>\n",
              "    <tr>\n",
              "      <th>...</th>\n",
              "      <td>...</td>\n",
              "      <td>...</td>\n",
              "      <td>...</td>\n",
              "      <td>...</td>\n",
              "      <td>...</td>\n",
              "      <td>...</td>\n",
              "    </tr>\n",
              "    <tr>\n",
              "      <th>5956</th>\n",
              "      <td>MBBS, MS - ENT</td>\n",
              "      <td>19 years experience</td>\n",
              "      <td>98%</td>\n",
              "      <td>Basavanagudi, Bangalore</td>\n",
              "      <td>ENT Specialist</td>\n",
              "      <td>300</td>\n",
              "    </tr>\n",
              "    <tr>\n",
              "      <th>5957</th>\n",
              "      <td>MBBS</td>\n",
              "      <td>33 years experience</td>\n",
              "      <td>NaN</td>\n",
              "      <td>Nungambakkam, Chennai</td>\n",
              "      <td>General Medicine</td>\n",
              "      <td>100</td>\n",
              "    </tr>\n",
              "    <tr>\n",
              "      <th>5958</th>\n",
              "      <td>MBBS</td>\n",
              "      <td>41 years experience</td>\n",
              "      <td>97%</td>\n",
              "      <td>Greater Kailash Part 2, Delhi</td>\n",
              "      <td>General Medicine</td>\n",
              "      <td>600</td>\n",
              "    </tr>\n",
              "    <tr>\n",
              "      <th>5959</th>\n",
              "      <td>MBBS, MD - General Medicine</td>\n",
              "      <td>15 years experience</td>\n",
              "      <td>90%</td>\n",
              "      <td>Vileparle West, Mumbai</td>\n",
              "      <td>General Medicine</td>\n",
              "      <td>100</td>\n",
              "    </tr>\n",
              "    <tr>\n",
              "      <th>5960</th>\n",
              "      <td>BDS, MDS - Orthodontics</td>\n",
              "      <td>17 years experience</td>\n",
              "      <td>100%</td>\n",
              "      <td>Pitampura, Delhi</td>\n",
              "      <td>Dentist</td>\n",
              "      <td>200</td>\n",
              "    </tr>\n",
              "  </tbody>\n",
              "</table>\n",
              "<p>5961 rows × 6 columns</p>\n",
              "</div>"
            ],
            "text/plain": [
              "                       Qualification  ... Fees\n",
              "0              BHMS, MD - Homeopathy  ...  100\n",
              "1       BAMS, MD - Ayurveda Medicine  ...  350\n",
              "2     MBBS, MS - Otorhinolaryngology  ...  300\n",
              "3                BSc - Zoology, BAMS  ...  250\n",
              "4                               BAMS  ...  250\n",
              "...                              ...  ...  ...\n",
              "5956                  MBBS, MS - ENT  ...  300\n",
              "5957                            MBBS  ...  100\n",
              "5958                            MBBS  ...  600\n",
              "5959     MBBS, MD - General Medicine  ...  100\n",
              "5960         BDS, MDS - Orthodontics  ...  200\n",
              "\n",
              "[5961 rows x 6 columns]"
            ]
          },
          "metadata": {
            "tags": []
          },
          "execution_count": 17
        }
      ]
    },
    {
      "cell_type": "markdown",
      "metadata": {
        "id": "o79vDV8fgDTU"
      },
      "source": [
        "Replacing missing values with mode value."
      ]
    },
    {
      "cell_type": "code",
      "metadata": {
        "colab": {
          "base_uri": "https://localhost:8080/",
          "height": 414
        },
        "id": "YAZZqe1BI5CW",
        "outputId": "a221d81e-603e-489e-9b9b-72c402aaa46a"
      },
      "source": [
        "#Filling Null Values\n",
        "df['Rating'].fillna(value=df['Rating'].mode()[0],inplace=True)\n",
        "df['Place'].fillna(value=df['Place'].mode()[0],inplace=True)\n",
        "df"
      ],
      "execution_count": 18,
      "outputs": [
        {
          "output_type": "execute_result",
          "data": {
            "text/html": [
              "<div>\n",
              "<style scoped>\n",
              "    .dataframe tbody tr th:only-of-type {\n",
              "        vertical-align: middle;\n",
              "    }\n",
              "\n",
              "    .dataframe tbody tr th {\n",
              "        vertical-align: top;\n",
              "    }\n",
              "\n",
              "    .dataframe thead th {\n",
              "        text-align: right;\n",
              "    }\n",
              "</style>\n",
              "<table border=\"1\" class=\"dataframe\">\n",
              "  <thead>\n",
              "    <tr style=\"text-align: right;\">\n",
              "      <th></th>\n",
              "      <th>Qualification</th>\n",
              "      <th>Experience</th>\n",
              "      <th>Rating</th>\n",
              "      <th>Place</th>\n",
              "      <th>Profile</th>\n",
              "      <th>Fees</th>\n",
              "    </tr>\n",
              "  </thead>\n",
              "  <tbody>\n",
              "    <tr>\n",
              "      <th>0</th>\n",
              "      <td>BHMS, MD - Homeopathy</td>\n",
              "      <td>24 years experience</td>\n",
              "      <td>100%</td>\n",
              "      <td>Kakkanad, Ernakulam</td>\n",
              "      <td>Homeopath</td>\n",
              "      <td>100</td>\n",
              "    </tr>\n",
              "    <tr>\n",
              "      <th>1</th>\n",
              "      <td>BAMS, MD - Ayurveda Medicine</td>\n",
              "      <td>12 years experience</td>\n",
              "      <td>98%</td>\n",
              "      <td>Whitefield, Bangalore</td>\n",
              "      <td>Ayurveda</td>\n",
              "      <td>350</td>\n",
              "    </tr>\n",
              "    <tr>\n",
              "      <th>2</th>\n",
              "      <td>MBBS, MS - Otorhinolaryngology</td>\n",
              "      <td>9 years experience</td>\n",
              "      <td>100%</td>\n",
              "      <td>Mathikere - BEL, Bangalore</td>\n",
              "      <td>ENT Specialist</td>\n",
              "      <td>300</td>\n",
              "    </tr>\n",
              "    <tr>\n",
              "      <th>3</th>\n",
              "      <td>BSc - Zoology, BAMS</td>\n",
              "      <td>12 years experience</td>\n",
              "      <td>100%</td>\n",
              "      <td>Bannerghatta Road, Bangalore</td>\n",
              "      <td>Ayurveda</td>\n",
              "      <td>250</td>\n",
              "    </tr>\n",
              "    <tr>\n",
              "      <th>4</th>\n",
              "      <td>BAMS</td>\n",
              "      <td>20 years experience</td>\n",
              "      <td>100%</td>\n",
              "      <td>Keelkattalai, Chennai</td>\n",
              "      <td>Ayurveda</td>\n",
              "      <td>250</td>\n",
              "    </tr>\n",
              "    <tr>\n",
              "      <th>...</th>\n",
              "      <td>...</td>\n",
              "      <td>...</td>\n",
              "      <td>...</td>\n",
              "      <td>...</td>\n",
              "      <td>...</td>\n",
              "      <td>...</td>\n",
              "    </tr>\n",
              "    <tr>\n",
              "      <th>5956</th>\n",
              "      <td>MBBS, MS - ENT</td>\n",
              "      <td>19 years experience</td>\n",
              "      <td>98%</td>\n",
              "      <td>Basavanagudi, Bangalore</td>\n",
              "      <td>ENT Specialist</td>\n",
              "      <td>300</td>\n",
              "    </tr>\n",
              "    <tr>\n",
              "      <th>5957</th>\n",
              "      <td>MBBS</td>\n",
              "      <td>33 years experience</td>\n",
              "      <td>100%</td>\n",
              "      <td>Nungambakkam, Chennai</td>\n",
              "      <td>General Medicine</td>\n",
              "      <td>100</td>\n",
              "    </tr>\n",
              "    <tr>\n",
              "      <th>5958</th>\n",
              "      <td>MBBS</td>\n",
              "      <td>41 years experience</td>\n",
              "      <td>97%</td>\n",
              "      <td>Greater Kailash Part 2, Delhi</td>\n",
              "      <td>General Medicine</td>\n",
              "      <td>600</td>\n",
              "    </tr>\n",
              "    <tr>\n",
              "      <th>5959</th>\n",
              "      <td>MBBS, MD - General Medicine</td>\n",
              "      <td>15 years experience</td>\n",
              "      <td>90%</td>\n",
              "      <td>Vileparle West, Mumbai</td>\n",
              "      <td>General Medicine</td>\n",
              "      <td>100</td>\n",
              "    </tr>\n",
              "    <tr>\n",
              "      <th>5960</th>\n",
              "      <td>BDS, MDS - Orthodontics</td>\n",
              "      <td>17 years experience</td>\n",
              "      <td>100%</td>\n",
              "      <td>Pitampura, Delhi</td>\n",
              "      <td>Dentist</td>\n",
              "      <td>200</td>\n",
              "    </tr>\n",
              "  </tbody>\n",
              "</table>\n",
              "<p>5961 rows × 6 columns</p>\n",
              "</div>"
            ],
            "text/plain": [
              "                       Qualification  ... Fees\n",
              "0              BHMS, MD - Homeopathy  ...  100\n",
              "1       BAMS, MD - Ayurveda Medicine  ...  350\n",
              "2     MBBS, MS - Otorhinolaryngology  ...  300\n",
              "3                BSc - Zoology, BAMS  ...  250\n",
              "4                               BAMS  ...  250\n",
              "...                              ...  ...  ...\n",
              "5956                  MBBS, MS - ENT  ...  300\n",
              "5957                            MBBS  ...  100\n",
              "5958                            MBBS  ...  600\n",
              "5959     MBBS, MD - General Medicine  ...  100\n",
              "5960         BDS, MDS - Orthodontics  ...  200\n",
              "\n",
              "[5961 rows x 6 columns]"
            ]
          },
          "metadata": {
            "tags": []
          },
          "execution_count": 18
        }
      ]
    },
    {
      "cell_type": "markdown",
      "metadata": {
        "id": "56EeSZoxgLv5"
      },
      "source": [
        "Converting Experience into Numeric"
      ]
    },
    {
      "cell_type": "code",
      "metadata": {
        "id": "p_F6sWWAFXuq"
      },
      "source": [
        "for i in range(len(df)):\n",
        "  df['Experience'][i]=df['Experience'][i][:-17]\n",
        "df['Experience']=df['Experience'].astype(int)"
      ],
      "execution_count": 19,
      "outputs": []
    },
    {
      "cell_type": "markdown",
      "metadata": {
        "id": "7DFv6Om-gOaz"
      },
      "source": [
        "Converting Rating into Numeric"
      ]
    },
    {
      "cell_type": "code",
      "metadata": {
        "id": "l3M5v_c_Iqmu"
      },
      "source": [
        "for i in range(len(df)):\n",
        "  df['Rating'][i]=df['Rating'][i][:-1]\n",
        "df['Rating']=df['Rating'].astype(int)"
      ],
      "execution_count": 20,
      "outputs": []
    },
    {
      "cell_type": "markdown",
      "metadata": {
        "id": "Fbbc6ut-gQtd"
      },
      "source": [
        "Converting Rating into the range of 0-10 instead of 0-100."
      ]
    },
    {
      "cell_type": "code",
      "metadata": {
        "id": "IneUzKrXIv7W"
      },
      "source": [
        "df['Rating']=df['Rating']*0.1"
      ],
      "execution_count": 21,
      "outputs": []
    },
    {
      "cell_type": "code",
      "metadata": {
        "colab": {
          "base_uri": "https://localhost:8080/",
          "height": 414
        },
        "id": "ERwb2UQ1JVem",
        "outputId": "d9812a36-68c2-43f2-f965-cab589587bfb"
      },
      "source": [
        "df"
      ],
      "execution_count": 22,
      "outputs": [
        {
          "output_type": "execute_result",
          "data": {
            "text/html": [
              "<div>\n",
              "<style scoped>\n",
              "    .dataframe tbody tr th:only-of-type {\n",
              "        vertical-align: middle;\n",
              "    }\n",
              "\n",
              "    .dataframe tbody tr th {\n",
              "        vertical-align: top;\n",
              "    }\n",
              "\n",
              "    .dataframe thead th {\n",
              "        text-align: right;\n",
              "    }\n",
              "</style>\n",
              "<table border=\"1\" class=\"dataframe\">\n",
              "  <thead>\n",
              "    <tr style=\"text-align: right;\">\n",
              "      <th></th>\n",
              "      <th>Qualification</th>\n",
              "      <th>Experience</th>\n",
              "      <th>Rating</th>\n",
              "      <th>Place</th>\n",
              "      <th>Profile</th>\n",
              "      <th>Fees</th>\n",
              "    </tr>\n",
              "  </thead>\n",
              "  <tbody>\n",
              "    <tr>\n",
              "      <th>0</th>\n",
              "      <td>BHMS, MD - Homeopathy</td>\n",
              "      <td>24</td>\n",
              "      <td>10.0</td>\n",
              "      <td>Kakkanad, Ernakulam</td>\n",
              "      <td>Homeopath</td>\n",
              "      <td>100</td>\n",
              "    </tr>\n",
              "    <tr>\n",
              "      <th>1</th>\n",
              "      <td>BAMS, MD - Ayurveda Medicine</td>\n",
              "      <td>12</td>\n",
              "      <td>9.8</td>\n",
              "      <td>Whitefield, Bangalore</td>\n",
              "      <td>Ayurveda</td>\n",
              "      <td>350</td>\n",
              "    </tr>\n",
              "    <tr>\n",
              "      <th>2</th>\n",
              "      <td>MBBS, MS - Otorhinolaryngology</td>\n",
              "      <td>9</td>\n",
              "      <td>10.0</td>\n",
              "      <td>Mathikere - BEL, Bangalore</td>\n",
              "      <td>ENT Specialist</td>\n",
              "      <td>300</td>\n",
              "    </tr>\n",
              "    <tr>\n",
              "      <th>3</th>\n",
              "      <td>BSc - Zoology, BAMS</td>\n",
              "      <td>12</td>\n",
              "      <td>10.0</td>\n",
              "      <td>Bannerghatta Road, Bangalore</td>\n",
              "      <td>Ayurveda</td>\n",
              "      <td>250</td>\n",
              "    </tr>\n",
              "    <tr>\n",
              "      <th>4</th>\n",
              "      <td>BAMS</td>\n",
              "      <td>20</td>\n",
              "      <td>10.0</td>\n",
              "      <td>Keelkattalai, Chennai</td>\n",
              "      <td>Ayurveda</td>\n",
              "      <td>250</td>\n",
              "    </tr>\n",
              "    <tr>\n",
              "      <th>...</th>\n",
              "      <td>...</td>\n",
              "      <td>...</td>\n",
              "      <td>...</td>\n",
              "      <td>...</td>\n",
              "      <td>...</td>\n",
              "      <td>...</td>\n",
              "    </tr>\n",
              "    <tr>\n",
              "      <th>5956</th>\n",
              "      <td>MBBS, MS - ENT</td>\n",
              "      <td>19</td>\n",
              "      <td>9.8</td>\n",
              "      <td>Basavanagudi, Bangalore</td>\n",
              "      <td>ENT Specialist</td>\n",
              "      <td>300</td>\n",
              "    </tr>\n",
              "    <tr>\n",
              "      <th>5957</th>\n",
              "      <td>MBBS</td>\n",
              "      <td>33</td>\n",
              "      <td>10.0</td>\n",
              "      <td>Nungambakkam, Chennai</td>\n",
              "      <td>General Medicine</td>\n",
              "      <td>100</td>\n",
              "    </tr>\n",
              "    <tr>\n",
              "      <th>5958</th>\n",
              "      <td>MBBS</td>\n",
              "      <td>41</td>\n",
              "      <td>9.7</td>\n",
              "      <td>Greater Kailash Part 2, Delhi</td>\n",
              "      <td>General Medicine</td>\n",
              "      <td>600</td>\n",
              "    </tr>\n",
              "    <tr>\n",
              "      <th>5959</th>\n",
              "      <td>MBBS, MD - General Medicine</td>\n",
              "      <td>15</td>\n",
              "      <td>9.0</td>\n",
              "      <td>Vileparle West, Mumbai</td>\n",
              "      <td>General Medicine</td>\n",
              "      <td>100</td>\n",
              "    </tr>\n",
              "    <tr>\n",
              "      <th>5960</th>\n",
              "      <td>BDS, MDS - Orthodontics</td>\n",
              "      <td>17</td>\n",
              "      <td>10.0</td>\n",
              "      <td>Pitampura, Delhi</td>\n",
              "      <td>Dentist</td>\n",
              "      <td>200</td>\n",
              "    </tr>\n",
              "  </tbody>\n",
              "</table>\n",
              "<p>5961 rows × 6 columns</p>\n",
              "</div>"
            ],
            "text/plain": [
              "                       Qualification  Experience  ...           Profile Fees\n",
              "0              BHMS, MD - Homeopathy          24  ...         Homeopath  100\n",
              "1       BAMS, MD - Ayurveda Medicine          12  ...          Ayurveda  350\n",
              "2     MBBS, MS - Otorhinolaryngology           9  ...    ENT Specialist  300\n",
              "3                BSc - Zoology, BAMS          12  ...          Ayurveda  250\n",
              "4                               BAMS          20  ...          Ayurveda  250\n",
              "...                              ...         ...  ...               ...  ...\n",
              "5956                  MBBS, MS - ENT          19  ...    ENT Specialist  300\n",
              "5957                            MBBS          33  ...  General Medicine  100\n",
              "5958                            MBBS          41  ...  General Medicine  600\n",
              "5959     MBBS, MD - General Medicine          15  ...  General Medicine  100\n",
              "5960         BDS, MDS - Orthodontics          17  ...           Dentist  200\n",
              "\n",
              "[5961 rows x 6 columns]"
            ]
          },
          "metadata": {
            "tags": []
          },
          "execution_count": 22
        }
      ]
    },
    {
      "cell_type": "code",
      "metadata": {
        "colab": {
          "base_uri": "https://localhost:8080/"
        },
        "id": "192-AV6Dz3_q",
        "outputId": "537b2f4e-3971-496d-daae-de5a8cca2031"
      },
      "source": [
        "df['Place'].value_counts()"
      ],
      "execution_count": 23,
      "outputs": [
        {
          "output_type": "execute_result",
          "data": {
            "text/plain": [
              "HSR Layout, Bangalore               100\n",
              "Andheri West, Mumbai                 70\n",
              "Dwarka, Delhi                        67\n",
              "Banjara Hills, Hyderabad             64\n",
              "Mulund West, Mumbai                  54\n",
              "                                   ... \n",
              "Paruthippara, Thiruvananthapuram      1\n",
              "Delhi Cantt, Delhi                    1\n",
              "Manacaud, Thiruvananthapuram          1\n",
              "Ramachandrapuram, Hyderabad           1\n",
              "Pappanaickenpudur, Coimbatore         1\n",
              "Name: Place, Length: 877, dtype: int64"
            ]
          },
          "metadata": {
            "tags": []
          },
          "execution_count": 23
        }
      ]
    },
    {
      "cell_type": "code",
      "metadata": {
        "colab": {
          "base_uri": "https://localhost:8080/"
        },
        "id": "tT2Fopfx2eFB",
        "outputId": "eac720ce-9a41-4d36-c7a4-45917cbe5540"
      },
      "source": [
        "df['Place'].value_counts()"
      ],
      "execution_count": 24,
      "outputs": [
        {
          "output_type": "execute_result",
          "data": {
            "text/plain": [
              "HSR Layout, Bangalore               100\n",
              "Andheri West, Mumbai                 70\n",
              "Dwarka, Delhi                        67\n",
              "Banjara Hills, Hyderabad             64\n",
              "Mulund West, Mumbai                  54\n",
              "                                   ... \n",
              "Paruthippara, Thiruvananthapuram      1\n",
              "Delhi Cantt, Delhi                    1\n",
              "Manacaud, Thiruvananthapuram          1\n",
              "Ramachandrapuram, Hyderabad           1\n",
              "Pappanaickenpudur, Coimbatore         1\n",
              "Name: Place, Length: 877, dtype: int64"
            ]
          },
          "metadata": {
            "tags": []
          },
          "execution_count": 24
        }
      ]
    },
    {
      "cell_type": "markdown",
      "metadata": {
        "id": "WEi-OnuugdMf"
      },
      "source": [
        "since we need only city not area.Removing area from Place. "
      ]
    },
    {
      "cell_type": "code",
      "metadata": {
        "colab": {
          "base_uri": "https://localhost:8080/",
          "height": 414
        },
        "id": "CNxHahnxJdh9",
        "outputId": "470f4271-e1d6-485c-a76b-6e5afc518ff1"
      },
      "source": [
        "for i in range(len(df)):\n",
        "  df['Place'][i]=df['Place'][i].split(\",\")[-1]\n",
        "df"
      ],
      "execution_count": 25,
      "outputs": [
        {
          "output_type": "execute_result",
          "data": {
            "text/html": [
              "<div>\n",
              "<style scoped>\n",
              "    .dataframe tbody tr th:only-of-type {\n",
              "        vertical-align: middle;\n",
              "    }\n",
              "\n",
              "    .dataframe tbody tr th {\n",
              "        vertical-align: top;\n",
              "    }\n",
              "\n",
              "    .dataframe thead th {\n",
              "        text-align: right;\n",
              "    }\n",
              "</style>\n",
              "<table border=\"1\" class=\"dataframe\">\n",
              "  <thead>\n",
              "    <tr style=\"text-align: right;\">\n",
              "      <th></th>\n",
              "      <th>Qualification</th>\n",
              "      <th>Experience</th>\n",
              "      <th>Rating</th>\n",
              "      <th>Place</th>\n",
              "      <th>Profile</th>\n",
              "      <th>Fees</th>\n",
              "    </tr>\n",
              "  </thead>\n",
              "  <tbody>\n",
              "    <tr>\n",
              "      <th>0</th>\n",
              "      <td>BHMS, MD - Homeopathy</td>\n",
              "      <td>24</td>\n",
              "      <td>10.0</td>\n",
              "      <td>Ernakulam</td>\n",
              "      <td>Homeopath</td>\n",
              "      <td>100</td>\n",
              "    </tr>\n",
              "    <tr>\n",
              "      <th>1</th>\n",
              "      <td>BAMS, MD - Ayurveda Medicine</td>\n",
              "      <td>12</td>\n",
              "      <td>9.8</td>\n",
              "      <td>Bangalore</td>\n",
              "      <td>Ayurveda</td>\n",
              "      <td>350</td>\n",
              "    </tr>\n",
              "    <tr>\n",
              "      <th>2</th>\n",
              "      <td>MBBS, MS - Otorhinolaryngology</td>\n",
              "      <td>9</td>\n",
              "      <td>10.0</td>\n",
              "      <td>Bangalore</td>\n",
              "      <td>ENT Specialist</td>\n",
              "      <td>300</td>\n",
              "    </tr>\n",
              "    <tr>\n",
              "      <th>3</th>\n",
              "      <td>BSc - Zoology, BAMS</td>\n",
              "      <td>12</td>\n",
              "      <td>10.0</td>\n",
              "      <td>Bangalore</td>\n",
              "      <td>Ayurveda</td>\n",
              "      <td>250</td>\n",
              "    </tr>\n",
              "    <tr>\n",
              "      <th>4</th>\n",
              "      <td>BAMS</td>\n",
              "      <td>20</td>\n",
              "      <td>10.0</td>\n",
              "      <td>Chennai</td>\n",
              "      <td>Ayurveda</td>\n",
              "      <td>250</td>\n",
              "    </tr>\n",
              "    <tr>\n",
              "      <th>...</th>\n",
              "      <td>...</td>\n",
              "      <td>...</td>\n",
              "      <td>...</td>\n",
              "      <td>...</td>\n",
              "      <td>...</td>\n",
              "      <td>...</td>\n",
              "    </tr>\n",
              "    <tr>\n",
              "      <th>5956</th>\n",
              "      <td>MBBS, MS - ENT</td>\n",
              "      <td>19</td>\n",
              "      <td>9.8</td>\n",
              "      <td>Bangalore</td>\n",
              "      <td>ENT Specialist</td>\n",
              "      <td>300</td>\n",
              "    </tr>\n",
              "    <tr>\n",
              "      <th>5957</th>\n",
              "      <td>MBBS</td>\n",
              "      <td>33</td>\n",
              "      <td>10.0</td>\n",
              "      <td>Chennai</td>\n",
              "      <td>General Medicine</td>\n",
              "      <td>100</td>\n",
              "    </tr>\n",
              "    <tr>\n",
              "      <th>5958</th>\n",
              "      <td>MBBS</td>\n",
              "      <td>41</td>\n",
              "      <td>9.7</td>\n",
              "      <td>Delhi</td>\n",
              "      <td>General Medicine</td>\n",
              "      <td>600</td>\n",
              "    </tr>\n",
              "    <tr>\n",
              "      <th>5959</th>\n",
              "      <td>MBBS, MD - General Medicine</td>\n",
              "      <td>15</td>\n",
              "      <td>9.0</td>\n",
              "      <td>Mumbai</td>\n",
              "      <td>General Medicine</td>\n",
              "      <td>100</td>\n",
              "    </tr>\n",
              "    <tr>\n",
              "      <th>5960</th>\n",
              "      <td>BDS, MDS - Orthodontics</td>\n",
              "      <td>17</td>\n",
              "      <td>10.0</td>\n",
              "      <td>Delhi</td>\n",
              "      <td>Dentist</td>\n",
              "      <td>200</td>\n",
              "    </tr>\n",
              "  </tbody>\n",
              "</table>\n",
              "<p>5961 rows × 6 columns</p>\n",
              "</div>"
            ],
            "text/plain": [
              "                       Qualification  Experience  ...           Profile Fees\n",
              "0              BHMS, MD - Homeopathy          24  ...         Homeopath  100\n",
              "1       BAMS, MD - Ayurveda Medicine          12  ...          Ayurveda  350\n",
              "2     MBBS, MS - Otorhinolaryngology           9  ...    ENT Specialist  300\n",
              "3                BSc - Zoology, BAMS          12  ...          Ayurveda  250\n",
              "4                               BAMS          20  ...          Ayurveda  250\n",
              "...                              ...         ...  ...               ...  ...\n",
              "5956                  MBBS, MS - ENT          19  ...    ENT Specialist  300\n",
              "5957                            MBBS          33  ...  General Medicine  100\n",
              "5958                            MBBS          41  ...  General Medicine  600\n",
              "5959     MBBS, MD - General Medicine          15  ...  General Medicine  100\n",
              "5960         BDS, MDS - Orthodontics          17  ...           Dentist  200\n",
              "\n",
              "[5961 rows x 6 columns]"
            ]
          },
          "metadata": {
            "tags": []
          },
          "execution_count": 25
        }
      ]
    },
    {
      "cell_type": "markdown",
      "metadata": {
        "id": "DUrifxtdx2fr"
      },
      "source": [
        "## **3. EDA**"
      ]
    },
    {
      "cell_type": "code",
      "metadata": {
        "colab": {
          "base_uri": "https://localhost:8080/",
          "height": 405
        },
        "id": "kCIp13s7xvbm",
        "outputId": "c4e52126-a2de-429e-f08f-86ab2b96b12b"
      },
      "source": [
        "plt.figure(figsize=[10,6])\n",
        "sns.barplot(x='Profile',y='Fees',data=df)"
      ],
      "execution_count": 26,
      "outputs": [
        {
          "output_type": "execute_result",
          "data": {
            "text/plain": [
              "<matplotlib.axes._subplots.AxesSubplot at 0x7fb9a0123fd0>"
            ]
          },
          "metadata": {
            "tags": []
          },
          "execution_count": 26
        },
        {
          "output_type": "display_data",
          "data": {
            "image/png": "[encoded data removed]",
            "text/plain": [
              "<Figure size 720x432 with 1 Axes>"
            ]
          },
          "metadata": {
            "tags": [],
            "needs_background": "light"
          }
        }
      ]
    },
    {
      "cell_type": "markdown",
      "metadata": {
        "id": "jilFcL5Xytmo"
      },
      "source": [
        "**Inference:** From the above graph we can see that the \n",
        "\n",
        "ENT specialist and Dermatologist charge higher than others.\n",
        "\n",
        "Dentist and Ayurveda charge lesser."
      ]
    },
    {
      "cell_type": "code",
      "metadata": {
        "colab": {
          "base_uri": "https://localhost:8080/",
          "height": 623
        },
        "id": "dYMOjJOnirFx",
        "outputId": "e0871cdd-2221-4683-94f9-00ab463de137"
      },
      "source": [
        "plt.figure(figsize=(18,10))\n",
        "sns.countplot(x='Experience',data=df)"
      ],
      "execution_count": 30,
      "outputs": [
        {
          "output_type": "execute_result",
          "data": {
            "text/plain": [
              "<matplotlib.axes._subplots.AxesSubplot at 0x7fb99f5fa650>"
            ]
          },
          "metadata": {
            "tags": []
          },
          "execution_count": 30
        },
        {
          "output_type": "display_data",
          "data": {
            "image/png": "[encoded data removed]",
            "text/plain": [
              "<Figure size 1296x720 with 1 Axes>"
            ]
          },
          "metadata": {
            "tags": [],
            "needs_background": "light"
          }
        }
      ]
    },
    {
      "cell_type": "markdown",
      "metadata": {
        "id": "qpvOY3_QjOIu"
      },
      "source": [
        "**Inference:** Maximum Doctors have experience 5-25 years of experience"
      ]
    },
    {
      "cell_type": "code",
      "metadata": {
        "colab": {
          "base_uri": "https://localhost:8080/",
          "height": 405
        },
        "id": "u4uKwBieyPOx",
        "outputId": "ab5990c7-21e4-491b-8149-c0cbdeeaa894"
      },
      "source": [
        "plt.figure(figsize=[15,6])\n",
        "sns.barplot(x='Place',y='Fees',data=df)"
      ],
      "execution_count": 137,
      "outputs": [
        {
          "output_type": "execute_result",
          "data": {
            "text/plain": [
              "<matplotlib.axes._subplots.AxesSubplot at 0x7f065d570650>"
            ]
          },
          "metadata": {
            "tags": []
          },
          "execution_count": 137
        },
        {
          "output_type": "display_data",
          "data": {
            "image/png": "[encoded data removed]",
            "text/plain": [
              "<Figure size 1080x432 with 1 Axes>"
            ]
          },
          "metadata": {
            "tags": [],
            "needs_background": "light"
          }
        }
      ]
    },
    {
      "cell_type": "markdown",
      "metadata": {
        "id": "OybiIndPzO7e"
      },
      "source": [
        "**Inference:** From the above graph\n",
        "\n",
        "Doctors from Delhi and banglore charge higher\n",
        "\n",
        "Doctors from coimbatore ,Thiruvanadhapuram and ernakulam charge less"
      ]
    },
    {
      "cell_type": "code",
      "metadata": {
        "colab": {
          "base_uri": "https://localhost:8080/",
          "height": 296
        },
        "id": "mABMPMv72uFQ",
        "outputId": "3c35ca83-afdd-4e51-c1d9-290ee821dc35"
      },
      "source": [
        "sns.lineplot(x='Experience',y='Fees',data=df)"
      ],
      "execution_count": 138,
      "outputs": [
        {
          "output_type": "execute_result",
          "data": {
            "text/plain": [
              "<matplotlib.axes._subplots.AxesSubplot at 0x7f065d498390>"
            ]
          },
          "metadata": {
            "tags": []
          },
          "execution_count": 138
        },
        {
          "output_type": "display_data",
          "data": {
            "image/png": "[encoded data removed]",
            "text/plain": [
              "<Figure size 432x288 with 1 Axes>"
            ]
          },
          "metadata": {
            "tags": [],
            "needs_background": "light"
          }
        }
      ]
    },
    {
      "cell_type": "markdown",
      "metadata": {
        "id": "8fMuOtbS51E4"
      },
      "source": [
        "**Inference:**\n",
        "\n",
        "Doctors with the Experience 10 to 50 charge higher and gradually decrease with experiance 50-60."
      ]
    },
    {
      "cell_type": "code",
      "metadata": {
        "colab": {
          "base_uri": "https://localhost:8080/",
          "height": 296
        },
        "id": "8HB-Qk-55Ws3",
        "outputId": "20778966-8b0d-49a7-bb05-ddfa4ed81dc4"
      },
      "source": [
        "sns.lineplot(x='Rating',y='Fees',data=df)"
      ],
      "execution_count": 139,
      "outputs": [
        {
          "output_type": "execute_result",
          "data": {
            "text/plain": [
              "<matplotlib.axes._subplots.AxesSubplot at 0x7f065d473610>"
            ]
          },
          "metadata": {
            "tags": []
          },
          "execution_count": 139
        },
        {
          "output_type": "display_data",
          "data": {
            "image/png": "[encoded data removed]",
            "text/plain": [
              "<Figure size 432x288 with 1 Axes>"
            ]
          },
          "metadata": {
            "tags": [],
            "needs_background": "light"
          }
        }
      ]
    },
    {
      "cell_type": "markdown",
      "metadata": {
        "id": "rn1RCjAR6QLD"
      },
      "source": [
        "**Inference:** There is no linear co-relation between rating and Fees."
      ]
    },
    {
      "cell_type": "code",
      "metadata": {
        "colab": {
          "base_uri": "https://localhost:8080/",
          "height": 722
        },
        "id": "R-VzugRYjead",
        "outputId": "e34f30c8-9d26-4c5a-aa48-5c5030907c32"
      },
      "source": [
        "plt.figure(figsize=(18,10))\n",
        "plt.xticks(rotation=90)\n",
        "sns.countplot(x='Rating',data=df)"
      ],
      "execution_count": 33,
      "outputs": [
        {
          "output_type": "execute_result",
          "data": {
            "text/plain": [
              "<matplotlib.axes._subplots.AxesSubplot at 0x7fb99e2e4090>"
            ]
          },
          "metadata": {
            "tags": []
          },
          "execution_count": 33
        },
        {
          "output_type": "display_data",
          "data": {
            "image/png": "[encoded data removed]",
            "text/plain": [
              "<Figure size 1296x720 with 1 Axes>"
            ]
          },
          "metadata": {
            "tags": [],
            "needs_background": "light"
          }
        }
      ]
    },
    {
      "cell_type": "markdown",
      "metadata": {
        "id": "6NhlUW6jjulh"
      },
      "source": [
        "**Inference:** Most of the Ratings given to the doctor is 100%."
      ]
    },
    {
      "cell_type": "code",
      "metadata": {
        "colab": {
          "base_uri": "https://localhost:8080/",
          "height": 632
        },
        "id": "8zUNo7L8j3ui",
        "outputId": "8b974cfb-b5ff-420d-949d-3b8461994c80"
      },
      "source": [
        "plt.figure(figsize=(15,10))\n",
        "plt.xticks(rotation=90)\n",
        "sns.countplot(x='for i in df[cont_cols]:                                 #univariate analysis\n",
        "    plt.figure(figsize = (15, 8))\n",
        "    sns.distplot(df[i], bins = 10)\n",
        "    plt.title(i)\n",
        "    plt.show()',data=df)"
      ],
      "execution_count": 34,
      "outputs": [
        {
          "output_type": "execute_result",
          "data": {
            "text/plain": [
              "<matplotlib.axes._subplots.AxesSubplot at 0x7fb99f5fa950>"
            ]
          },
          "metadata": {
            "tags": []
          },
          "execution_count": 34
        },
        {
          "output_type": "display_data",
          "data": {
            "image/png": "[encoded data removed]",
            "text/plain": [
              "<Figure size 1080x720 with 1 Axes>"
            ]
          },
          "metadata": {
            "tags": [],
            "needs_background": "light"
          }
        }
      ]
    },
    {
      "cell_type": "markdown",
      "metadata": {
        "id": "lv0KFYjfkAKX"
      },
      "source": [
        "Inference: Most Doctors' Consulation Fees is 100 rupees."
      ]
    },
    {
      "cell_type": "code",
      "metadata": {
        "colab": {
          "base_uri": "https://localhost:8080/",
          "height": 405
        },
        "id": "QdKfQ6d5kjwS",
        "outputId": "0a03c3a6-b199-4a50-f149-e0564554a957"
      },
      "source": [
        "plt.figure(figsize = (10, 6))\n",
        "sns.distplot(df['Fees'], bins = 10)"
      ],
      "execution_count": 41,
      "outputs": [
        {
          "output_type": "execute_result",
          "data": {
            "text/plain": [
              "<matplotlib.axes._subplots.AxesSubplot at 0x7fb99bfeded0>"
            ]
          },
          "metadata": {
            "tags": []
          },
          "execution_count": 41
        },
        {
          "output_type": "display_data",
          "data": {
            "image/png": "[encoded data removed]",
            "text/plain": [
              "<Figure size 720x432 with 1 Axes>"
            ]
          },
          "metadata": {
            "tags": [],
            "needs_background": "light"
          }
        }
      ]
    },
    {
      "cell_type": "code",
      "metadata": {
        "colab": {
          "base_uri": "https://localhost:8080/",
          "height": 405
        },
        "id": "JQguZ5mmlDga",
        "outputId": "f6f5b1e0-4aee-47f8-b0db-6065abe724f2"
      },
      "source": [
        "plt.figure(figsize = (10, 6))\n",
        "sns.distplot(df['Rating'], bins = 10)"
      ],
      "execution_count": 43,
      "outputs": [
        {
          "output_type": "execute_result",
          "data": {
            "text/plain": [
              "<matplotlib.axes._subplots.AxesSubplot at 0x7fb99bf49dd0>"
            ]
          },
          "metadata": {
            "tags": []
          },
          "execution_count": 43
        },
        {
          "output_type": "display_data",
          "data": {
            "image/png": "[encoded data removed]",
            "text/plain": [
              "<Figure size 720x432 with 1 Axes>"
            ]
          },
          "metadata": {
            "tags": [],
            "needs_background": "light"
          }
        }
      ]
    },
    {
      "cell_type": "code",
      "metadata": {
        "colab": {
          "base_uri": "https://localhost:8080/",
          "height": 405
        },
        "id": "ESNVTsTmlDd_",
        "outputId": "481a58b2-9d1e-4801-a44d-a6712ff0797d"
      },
      "source": [
        "plt.figure(figsize = (10, 6))\n",
        "sns.distplot(df['Experience'], bins = 10)"
      ],
      "execution_count": 44,
      "outputs": [
        {
          "output_type": "execute_result",
          "data": {
            "text/plain": [
              "<matplotlib.axes._subplots.AxesSubplot at 0x7fb99becc8d0>"
            ]
          },
          "metadata": {
            "tags": []
          },
          "execution_count": 44
        },
        {
          "output_type": "display_data",
          "data": {
            "image/png": "[encoded data removed]",
            "text/plain": [
              "<Figure size 720x432 with 1 Axes>"
            ]
          },
          "metadata": {
            "tags": [],
            "needs_background": "light"
          }
        }
      ]
    },
    {
      "cell_type": "code",
      "metadata": {
        "colab": {
          "base_uri": "https://localhost:8080/",
          "height": 141
        },
        "id": "slAM0bVT8LV5",
        "outputId": "503e2038-2a4f-498f-c165-9334f6ea4328"
      },
      "source": [
        "df.corr()"
      ],
      "execution_count": 142,
      "outputs": [
        {
          "output_type": "execute_result",
          "data": {
            "text/html": [
              "<div>\n",
              "<style scoped>\n",
              "    .dataframe tbody tr th:only-of-type {\n",
              "        vertical-align: middle;\n",
              "    }\n",
              "\n",
              "    .dataframe tbody tr th {\n",
              "        vertical-align: top;\n",
              "    }\n",
              "\n",
              "    .dataframe thead th {\n",
              "        text-align: right;\n",
              "    }\n",
              "</style>\n",
              "<table border=\"1\" class=\"dataframe\">\n",
              "  <thead>\n",
              "    <tr style=\"text-align: right;\">\n",
              "      <th></th>\n",
              "      <th>Experience</th>\n",
              "      <th>Rating</th>\n",
              "      <th>Fees</th>\n",
              "    </tr>\n",
              "  </thead>\n",
              "  <tbody>\n",
              "    <tr>\n",
              "      <th>Experience</th>\n",
              "      <td>1.000000</td>\n",
              "      <td>-0.149594</td>\n",
              "      <td>0.002117</td>\n",
              "    </tr>\n",
              "    <tr>\n",
              "      <th>Rating</th>\n",
              "      <td>-0.149594</td>\n",
              "      <td>1.000000</td>\n",
              "      <td>-0.154713</td>\n",
              "    </tr>\n",
              "    <tr>\n",
              "      <th>Fees</th>\n",
              "      <td>0.002117</td>\n",
              "      <td>-0.154713</td>\n",
              "      <td>1.000000</td>\n",
              "    </tr>\n",
              "  </tbody>\n",
              "</table>\n",
              "</div>"
            ],
            "text/plain": [
              "            Experience    Rating      Fees\n",
              "Experience    1.000000 -0.149594  0.002117\n",
              "Rating       -0.149594  1.000000 -0.154713\n",
              "Fees          0.002117 -0.154713  1.000000"
            ]
          },
          "metadata": {
            "tags": []
          },
          "execution_count": 142
        }
      ]
    },
    {
      "cell_type": "code",
      "metadata": {
        "colab": {
          "base_uri": "https://localhost:8080/",
          "height": 232
        },
        "id": "0JI8Rr-oAOGs",
        "outputId": "3ecd86fa-29d6-402d-8410-74c1f4d3f9d9"
      },
      "source": [
        "df_corr=df.apply(lambda x : pd.factorize(x)[0]).corr(method='pearson', min_periods=1)\n",
        "df_corr"
      ],
      "execution_count": 143,
      "outputs": [
        {
          "output_type": "execute_result",
          "data": {
            "text/html": [
              "<div>\n",
              "<style scoped>\n",
              "    .dataframe tbody tr th:only-of-type {\n",
              "        vertical-align: middle;\n",
              "    }\n",
              "\n",
              "    .dataframe tbody tr th {\n",
              "        vertical-align: top;\n",
              "    }\n",
              "\n",
              "    .dataframe thead th {\n",
              "        text-align: right;\n",
              "    }\n",
              "</style>\n",
              "<table border=\"1\" class=\"dataframe\">\n",
              "  <thead>\n",
              "    <tr style=\"text-align: right;\">\n",
              "      <th></th>\n",
              "      <th>Qualification</th>\n",
              "      <th>Experience</th>\n",
              "      <th>Rating</th>\n",
              "      <th>Place</th>\n",
              "      <th>Profile</th>\n",
              "      <th>Fees</th>\n",
              "    </tr>\n",
              "  </thead>\n",
              "  <tbody>\n",
              "    <tr>\n",
              "      <th>Qualification</th>\n",
              "      <td>1.000000</td>\n",
              "      <td>-0.039932</td>\n",
              "      <td>0.061467</td>\n",
              "      <td>0.002698</td>\n",
              "      <td>0.102841</td>\n",
              "      <td>0.009067</td>\n",
              "    </tr>\n",
              "    <tr>\n",
              "      <th>Experience</th>\n",
              "      <td>-0.039932</td>\n",
              "      <td>1.000000</td>\n",
              "      <td>0.004673</td>\n",
              "      <td>-0.007552</td>\n",
              "      <td>0.026782</td>\n",
              "      <td>-0.012972</td>\n",
              "    </tr>\n",
              "    <tr>\n",
              "      <th>Rating</th>\n",
              "      <td>0.061467</td>\n",
              "      <td>0.004673</td>\n",
              "      <td>1.000000</td>\n",
              "      <td>-0.072532</td>\n",
              "      <td>0.152744</td>\n",
              "      <td>0.063062</td>\n",
              "    </tr>\n",
              "    <tr>\n",
              "      <th>Place</th>\n",
              "      <td>0.002698</td>\n",
              "      <td>-0.007552</td>\n",
              "      <td>-0.072532</td>\n",
              "      <td>1.000000</td>\n",
              "      <td>-0.030113</td>\n",
              "      <td>0.006898</td>\n",
              "    </tr>\n",
              "    <tr>\n",
              "      <th>Profile</th>\n",
              "      <td>0.102841</td>\n",
              "      <td>0.026782</td>\n",
              "      <td>0.152744</td>\n",
              "      <td>-0.030113</td>\n",
              "      <td>1.000000</td>\n",
              "      <td>0.008492</td>\n",
              "    </tr>\n",
              "    <tr>\n",
              "      <th>Fees</th>\n",
              "      <td>0.009067</td>\n",
              "      <td>-0.012972</td>\n",
              "      <td>0.063062</td>\n",
              "      <td>0.006898</td>\n",
              "      <td>0.008492</td>\n",
              "      <td>1.000000</td>\n",
              "    </tr>\n",
              "  </tbody>\n",
              "</table>\n",
              "</div>"
            ],
            "text/plain": [
              "               Qualification  Experience  ...   Profile      Fees\n",
              "Qualification       1.000000   -0.039932  ...  0.102841  0.009067\n",
              "Experience         -0.039932    1.000000  ...  0.026782 -0.012972\n",
              "Rating              0.061467    0.004673  ...  0.152744  0.063062\n",
              "Place               0.002698   -0.007552  ... -0.030113  0.006898\n",
              "Profile             0.102841    0.026782  ...  1.000000  0.008492\n",
              "Fees                0.009067   -0.012972  ...  0.008492  1.000000\n",
              "\n",
              "[6 rows x 6 columns]"
            ]
          },
          "metadata": {
            "tags": []
          },
          "execution_count": 143
        }
      ]
    },
    {
      "cell_type": "code",
      "metadata": {
        "colab": {
          "base_uri": "https://localhost:8080/",
          "height": 341
        },
        "id": "8vTOYSE5BV9M",
        "outputId": "cef04bd2-ac7c-461a-d48e-ab37f81bd3f5"
      },
      "source": [
        "sns.heatmap(df_corr)"
      ],
      "execution_count": 144,
      "outputs": [
        {
          "output_type": "execute_result",
          "data": {
            "text/plain": [
              "<matplotlib.axes._subplots.AxesSubplot at 0x7f065d3bcf90>"
            ]
          },
          "metadata": {
            "tags": []
          },
          "execution_count": 144
        },
        {
          "output_type": "display_data",
          "data": {
            "image/png": "[encoded data removed]",
            "text/plain": [
              "<Figure size 432x288 with 2 Axes>"
            ]
          },
          "metadata": {
            "tags": [],
            "needs_background": "light"
          }
        }
      ]
    },
    {
      "cell_type": "markdown",
      "metadata": {
        "id": "XrfGkelblnxP"
      },
      "source": [
        "## **4.Data PreProcessing**"
      ]
    },
    {
      "cell_type": "code",
      "metadata": {
        "colab": {
          "base_uri": "https://localhost:8080/"
        },
        "id": "SBm5gAtVl2k1",
        "outputId": "7f060692-17bd-4200-c0b8-2d321aaf0271"
      },
      "source": [
        "print(df.isnull().sum())"
      ],
      "execution_count": 45,
      "outputs": [
        {
          "output_type": "stream",
          "text": [
            "Qualification    0\n",
            "Experience       0\n",
            "Rating           0\n",
            "Place            0\n",
            "Profile          0\n",
            "Fees             0\n",
            "dtype: int64\n"
          ],
          "name": "stdout"
        }
      ]
    },
    {
      "cell_type": "code",
      "metadata": {
        "colab": {
          "base_uri": "https://localhost:8080/"
        },
        "id": "yl-IYRrWMAwa",
        "outputId": "8f7c3727-cbfc-4787-aabe-8f014e18d431"
      },
      "source": [
        "df['Qualification'].value_counts()"
      ],
      "execution_count": 46,
      "outputs": [
        {
          "output_type": "execute_result",
          "data": {
            "text/plain": [
              "BDS                                                                     488\n",
              "BHMS                                                                    477\n",
              "BAMS                                                                    471\n",
              "MBBS                                                                    334\n",
              "MBBS, MS - ENT                                                          220\n",
              "                                                                       ... \n",
              "MBBS, MD - General Medicine, PGDHHM                                       1\n",
              "BDS, Certificate in Dental Implantology, Certificate in Orthodontics      1\n",
              "MBBS, MD - General Medicine, Diploma in Health Administration, LLB        1\n",
              "MBBS, Diploma in Diabetes                                                 1\n",
              "BDS, MDS, Fellowship In Cosmetic Dermatology                              1\n",
              "Name: Qualification, Length: 1420, dtype: int64"
            ]
          },
          "metadata": {
            "tags": []
          },
          "execution_count": 46
        }
      ]
    },
    {
      "cell_type": "markdown",
      "metadata": {
        "id": "Ix3Ms9Czr1LM"
      },
      "source": [
        "Cleaning \"Qualification\" column and encoding"
      ]
    },
    {
      "cell_type": "code",
      "metadata": {
        "id": "EhHQjGaPMlY6"
      },
      "source": [
        "df[\"Qualification\"]=df[\"Qualification\"].str.split(\",\")\n",
        "Qualification ={}\n",
        "for x in df[\"Qualification\"].values:\n",
        "    for each in x:\n",
        "        each = each.strip()\n",
        "        if each in Qualification:\n",
        "            Qualification[each]+=1\n",
        "        else:\n",
        "            Qualification[each]=1"
      ],
      "execution_count": 47,
      "outputs": []
    },
    {
      "cell_type": "code",
      "metadata": {
        "id": "Ges4V89UMlVu"
      },
      "source": [
        "most_qua = sorted(Qualification.items(),key=lambda x:x[1],reverse=True)[:10]\n",
        "final_qua =[]\n",
        "for tup in most_qua:\n",
        "    final_qua.append(tup[0])"
      ],
      "execution_count": 48,
      "outputs": []
    },
    {
      "cell_type": "code",
      "metadata": {
        "id": "e7XoCJeBMlSp"
      },
      "source": [
        "for title in final_qua:\n",
        "    df[title]=0\n",
        "    \n",
        "for x,y in zip(df[\"Qualification\"].values,np.array([idx for idx in range(len(df))])):\n",
        "    for q in x:\n",
        "        q = q.strip()\n",
        "        if q in final_qua:\n",
        "            df[q][y] = 1\n",
        "            \n",
        "df.drop(\"Qualification\",axis=1,inplace=True)"
      ],
      "execution_count": 49,
      "outputs": []
    },
    {
      "cell_type": "code",
      "metadata": {
        "colab": {
          "base_uri": "https://localhost:8080/",
          "height": 252
        },
        "id": "X-EGVeYRMrSx",
        "outputId": "52e3a1fa-23a7-40fe-b67e-7d5519262c77"
      },
      "source": [
        "df.head()"
      ],
      "execution_count": 50,
      "outputs": [
        {
          "output_type": "execute_result",
          "data": {
            "text/html": [
              "<div>\n",
              "<style scoped>\n",
              "    .dataframe tbody tr th:only-of-type {\n",
              "        vertical-align: middle;\n",
              "    }\n",
              "\n",
              "    .dataframe tbody tr th {\n",
              "        vertical-align: top;\n",
              "    }\n",
              "\n",
              "    .dataframe thead th {\n",
              "        text-align: right;\n",
              "    }\n",
              "</style>\n",
              "<table border=\"1\" class=\"dataframe\">\n",
              "  <thead>\n",
              "    <tr style=\"text-align: right;\">\n",
              "      <th></th>\n",
              "      <th>Experience</th>\n",
              "      <th>Rating</th>\n",
              "      <th>Place</th>\n",
              "      <th>Profile</th>\n",
              "      <th>Fees</th>\n",
              "      <th>MBBS</th>\n",
              "      <th>BDS</th>\n",
              "      <th>BAMS</th>\n",
              "      <th>BHMS</th>\n",
              "      <th>MD - Dermatology</th>\n",
              "      <th>MS - ENT</th>\n",
              "      <th>Venereology &amp; Leprosy</th>\n",
              "      <th>MD - General Medicine</th>\n",
              "      <th>Diploma in Otorhinolaryngology (DLO)</th>\n",
              "      <th>MD - Homeopathy</th>\n",
              "    </tr>\n",
              "  </thead>\n",
              "  <tbody>\n",
              "    <tr>\n",
              "      <th>0</th>\n",
              "      <td>24</td>\n",
              "      <td>10.0</td>\n",
              "      <td>Ernakulam</td>\n",
              "      <td>Homeopath</td>\n",
              "      <td>100</td>\n",
              "      <td>0</td>\n",
              "      <td>0</td>\n",
              "      <td>0</td>\n",
              "      <td>1</td>\n",
              "      <td>0</td>\n",
              "      <td>0</td>\n",
              "      <td>0</td>\n",
              "      <td>0</td>\n",
              "      <td>0</td>\n",
              "      <td>1</td>\n",
              "    </tr>\n",
              "    <tr>\n",
              "      <th>1</th>\n",
              "      <td>12</td>\n",
              "      <td>9.8</td>\n",
              "      <td>Bangalore</td>\n",
              "      <td>Ayurveda</td>\n",
              "      <td>350</td>\n",
              "      <td>0</td>\n",
              "      <td>0</td>\n",
              "      <td>1</td>\n",
              "      <td>0</td>\n",
              "      <td>0</td>\n",
              "      <td>0</td>\n",
              "      <td>0</td>\n",
              "      <td>0</td>\n",
              "      <td>0</td>\n",
              "      <td>0</td>\n",
              "    </tr>\n",
              "    <tr>\n",
              "      <th>2</th>\n",
              "      <td>9</td>\n",
              "      <td>10.0</td>\n",
              "      <td>Bangalore</td>\n",
              "      <td>ENT Specialist</td>\n",
              "      <td>300</td>\n",
              "      <td>1</td>\n",
              "      <td>0</td>\n",
              "      <td>0</td>\n",
              "      <td>0</td>\n",
              "      <td>0</td>\n",
              "      <td>0</td>\n",
              "      <td>0</td>\n",
              "      <td>0</td>\n",
              "      <td>0</td>\n",
              "      <td>0</td>\n",
              "    </tr>\n",
              "    <tr>\n",
              "      <th>3</th>\n",
              "      <td>12</td>\n",
              "      <td>10.0</td>\n",
              "      <td>Bangalore</td>\n",
              "      <td>Ayurveda</td>\n",
              "      <td>250</td>\n",
              "      <td>0</td>\n",
              "      <td>0</td>\n",
              "      <td>1</td>\n",
              "      <td>0</td>\n",
              "      <td>0</td>\n",
              "      <td>0</td>\n",
              "      <td>0</td>\n",
              "      <td>0</td>\n",
              "      <td>0</td>\n",
              "      <td>0</td>\n",
              "    </tr>\n",
              "    <tr>\n",
              "      <th>4</th>\n",
              "      <td>20</td>\n",
              "      <td>10.0</td>\n",
              "      <td>Chennai</td>\n",
              "      <td>Ayurveda</td>\n",
              "      <td>250</td>\n",
              "      <td>0</td>\n",
              "      <td>0</td>\n",
              "      <td>1</td>\n",
              "      <td>0</td>\n",
              "      <td>0</td>\n",
              "      <td>0</td>\n",
              "      <td>0</td>\n",
              "      <td>0</td>\n",
              "      <td>0</td>\n",
              "      <td>0</td>\n",
              "    </tr>\n",
              "  </tbody>\n",
              "</table>\n",
              "</div>"
            ],
            "text/plain": [
              "   Experience  Rating  ... Diploma in Otorhinolaryngology (DLO) MD - Homeopathy\n",
              "0          24    10.0  ...                                    0               1\n",
              "1          12     9.8  ...                                    0               0\n",
              "2           9    10.0  ...                                    0               0\n",
              "3          12    10.0  ...                                    0               0\n",
              "4          20    10.0  ...                                    0               0\n",
              "\n",
              "[5 rows x 15 columns]"
            ]
          },
          "metadata": {
            "tags": []
          },
          "execution_count": 50
        }
      ]
    },
    {
      "cell_type": "markdown",
      "metadata": {
        "id": "ptMVciEPmNpB"
      },
      "source": [
        "## **5.Test Train split**"
      ]
    },
    {
      "cell_type": "code",
      "metadata": {
        "colab": {
          "base_uri": "https://localhost:8080/",
          "height": 252
        },
        "id": "4HVeV4-8BZdU",
        "outputId": "e4fec904-d28b-4bd3-89cc-22e1a24fb801"
      },
      "source": [
        "x= df.drop(columns='Fees')\n",
        "y= df['Fees']\n",
        "x.head()"
      ],
      "execution_count": 51,
      "outputs": [
        {
          "output_type": "execute_result",
          "data": {
            "text/html": [
              "<div>\n",
              "<style scoped>\n",
              "    .dataframe tbody tr th:only-of-type {\n",
              "        vertical-align: middle;\n",
              "    }\n",
              "\n",
              "    .dataframe tbody tr th {\n",
              "        vertical-align: top;\n",
              "    }\n",
              "\n",
              "    .dataframe thead th {\n",
              "        text-align: right;\n",
              "    }\n",
              "</style>\n",
              "<table border=\"1\" class=\"dataframe\">\n",
              "  <thead>\n",
              "    <tr style=\"text-align: right;\">\n",
              "      <th></th>\n",
              "      <th>Experience</th>\n",
              "      <th>Rating</th>\n",
              "      <th>Place</th>\n",
              "      <th>Profile</th>\n",
              "      <th>MBBS</th>\n",
              "      <th>BDS</th>\n",
              "      <th>BAMS</th>\n",
              "      <th>BHMS</th>\n",
              "      <th>MD - Dermatology</th>\n",
              "      <th>MS - ENT</th>\n",
              "      <th>Venereology &amp; Leprosy</th>\n",
              "      <th>MD - General Medicine</th>\n",
              "      <th>Diploma in Otorhinolaryngology (DLO)</th>\n",
              "      <th>MD - Homeopathy</th>\n",
              "    </tr>\n",
              "  </thead>\n",
              "  <tbody>\n",
              "    <tr>\n",
              "      <th>0</th>\n",
              "      <td>24</td>\n",
              "      <td>10.0</td>\n",
              "      <td>Ernakulam</td>\n",
              "      <td>Homeopath</td>\n",
              "      <td>0</td>\n",
              "      <td>0</td>\n",
              "      <td>0</td>\n",
              "      <td>1</td>\n",
              "      <td>0</td>\n",
              "      <td>0</td>\n",
              "      <td>0</td>\n",
              "      <td>0</td>\n",
              "      <td>0</td>\n",
              "      <td>1</td>\n",
              "    </tr>\n",
              "    <tr>\n",
              "      <th>1</th>\n",
              "      <td>12</td>\n",
              "      <td>9.8</td>\n",
              "      <td>Bangalore</td>\n",
              "      <td>Ayurveda</td>\n",
              "      <td>0</td>\n",
              "      <td>0</td>\n",
              "      <td>1</td>\n",
              "      <td>0</td>\n",
              "      <td>0</td>\n",
              "      <td>0</td>\n",
              "      <td>0</td>\n",
              "      <td>0</td>\n",
              "      <td>0</td>\n",
              "      <td>0</td>\n",
              "    </tr>\n",
              "    <tr>\n",
              "      <th>2</th>\n",
              "      <td>9</td>\n",
              "      <td>10.0</td>\n",
              "      <td>Bangalore</td>\n",
              "      <td>ENT Specialist</td>\n",
              "      <td>1</td>\n",
              "      <td>0</td>\n",
              "      <td>0</td>\n",
              "      <td>0</td>\n",
              "      <td>0</td>\n",
              "      <td>0</td>\n",
              "      <td>0</td>\n",
              "      <td>0</td>\n",
              "      <td>0</td>\n",
              "      <td>0</td>\n",
              "    </tr>\n",
              "    <tr>\n",
              "      <th>3</th>\n",
              "      <td>12</td>\n",
              "      <td>10.0</td>\n",
              "      <td>Bangalore</td>\n",
              "      <td>Ayurveda</td>\n",
              "      <td>0</td>\n",
              "      <td>0</td>\n",
              "      <td>1</td>\n",
              "      <td>0</td>\n",
              "      <td>0</td>\n",
              "      <td>0</td>\n",
              "      <td>0</td>\n",
              "      <td>0</td>\n",
              "      <td>0</td>\n",
              "      <td>0</td>\n",
              "    </tr>\n",
              "    <tr>\n",
              "      <th>4</th>\n",
              "      <td>20</td>\n",
              "      <td>10.0</td>\n",
              "      <td>Chennai</td>\n",
              "      <td>Ayurveda</td>\n",
              "      <td>0</td>\n",
              "      <td>0</td>\n",
              "      <td>1</td>\n",
              "      <td>0</td>\n",
              "      <td>0</td>\n",
              "      <td>0</td>\n",
              "      <td>0</td>\n",
              "      <td>0</td>\n",
              "      <td>0</td>\n",
              "      <td>0</td>\n",
              "    </tr>\n",
              "  </tbody>\n",
              "</table>\n",
              "</div>"
            ],
            "text/plain": [
              "   Experience  Rating  ... Diploma in Otorhinolaryngology (DLO) MD - Homeopathy\n",
              "0          24    10.0  ...                                    0               1\n",
              "1          12     9.8  ...                                    0               0\n",
              "2           9    10.0  ...                                    0               0\n",
              "3          12    10.0  ...                                    0               0\n",
              "4          20    10.0  ...                                    0               0\n",
              "\n",
              "[5 rows x 14 columns]"
            ]
          },
          "metadata": {
            "tags": []
          },
          "execution_count": 51
        }
      ]
    },
    {
      "cell_type": "markdown",
      "metadata": {
        "id": "2Vr-s5YBmTJZ"
      },
      "source": [
        "### **Encoding**"
      ]
    },
    {
      "cell_type": "code",
      "metadata": {
        "id": "GP-0aMeDH7Mp"
      },
      "source": [
        "from sklearn.preprocessing import LabelEncoder\n",
        "LE=LabelEncoder()\n",
        "x['Place']=LE.fit_transform(df['Place'])"
      ],
      "execution_count": 52,
      "outputs": []
    },
    {
      "cell_type": "code",
      "metadata": {
        "id": "U9kO8bIvTSVQ"
      },
      "source": [
        "x['Profile']=LE.fit_transform(df['Profile'])"
      ],
      "execution_count": 53,
      "outputs": []
    },
    {
      "cell_type": "code",
      "metadata": {
        "colab": {
          "base_uri": "https://localhost:8080/",
          "height": 235
        },
        "id": "ALsp6m6pIQGp",
        "outputId": "d23bb8c2-0fe5-4d90-dd81-a73ca802ab8f"
      },
      "source": [
        "x.head()"
      ],
      "execution_count": 54,
      "outputs": [
        {
          "output_type": "execute_result",
          "data": {
            "text/html": [
              "<div>\n",
              "<style scoped>\n",
              "    .dataframe tbody tr th:only-of-type {\n",
              "        vertical-align: middle;\n",
              "    }\n",
              "\n",
              "    .dataframe tbody tr th {\n",
              "        vertical-align: top;\n",
              "    }\n",
              "\n",
              "    .dataframe thead th {\n",
              "        text-align: right;\n",
              "    }\n",
              "</style>\n",
              "<table border=\"1\" class=\"dataframe\">\n",
              "  <thead>\n",
              "    <tr style=\"text-align: right;\">\n",
              "      <th></th>\n",
              "      <th>Experience</th>\n",
              "      <th>Rating</th>\n",
              "      <th>Place</th>\n",
              "      <th>Profile</th>\n",
              "      <th>MBBS</th>\n",
              "      <th>BDS</th>\n",
              "      <th>BAMS</th>\n",
              "      <th>BHMS</th>\n",
              "      <th>MD - Dermatology</th>\n",
              "      <th>MS - ENT</th>\n",
              "      <th>Venereology &amp; Leprosy</th>\n",
              "      <th>MD - General Medicine</th>\n",
              "      <th>Diploma in Otorhinolaryngology (DLO)</th>\n",
              "      <th>MD - Homeopathy</th>\n",
              "    </tr>\n",
              "  </thead>\n",
              "  <tbody>\n",
              "    <tr>\n",
              "      <th>0</th>\n",
              "      <td>24</td>\n",
              "      <td>10.0</td>\n",
              "      <td>4</td>\n",
              "      <td>5</td>\n",
              "      <td>0</td>\n",
              "      <td>0</td>\n",
              "      <td>0</td>\n",
              "      <td>1</td>\n",
              "      <td>0</td>\n",
              "      <td>0</td>\n",
              "      <td>0</td>\n",
              "      <td>0</td>\n",
              "      <td>0</td>\n",
              "      <td>1</td>\n",
              "    </tr>\n",
              "    <tr>\n",
              "      <th>1</th>\n",
              "      <td>12</td>\n",
              "      <td>9.8</td>\n",
              "      <td>0</td>\n",
              "      <td>0</td>\n",
              "      <td>0</td>\n",
              "      <td>0</td>\n",
              "      <td>1</td>\n",
              "      <td>0</td>\n",
              "      <td>0</td>\n",
              "      <td>0</td>\n",
              "      <td>0</td>\n",
              "      <td>0</td>\n",
              "      <td>0</td>\n",
              "      <td>0</td>\n",
              "    </tr>\n",
              "    <tr>\n",
              "      <th>2</th>\n",
              "      <td>9</td>\n",
              "      <td>10.0</td>\n",
              "      <td>0</td>\n",
              "      <td>3</td>\n",
              "      <td>1</td>\n",
              "      <td>0</td>\n",
              "      <td>0</td>\n",
              "      <td>0</td>\n",
              "      <td>0</td>\n",
              "      <td>0</td>\n",
              "      <td>0</td>\n",
              "      <td>0</td>\n",
              "      <td>0</td>\n",
              "      <td>0</td>\n",
              "    </tr>\n",
              "    <tr>\n",
              "      <th>3</th>\n",
              "      <td>12</td>\n",
              "      <td>10.0</td>\n",
              "      <td>0</td>\n",
              "      <td>0</td>\n",
              "      <td>0</td>\n",
              "      <td>0</td>\n",
              "      <td>1</td>\n",
              "      <td>0</td>\n",
              "      <td>0</td>\n",
              "      <td>0</td>\n",
              "      <td>0</td>\n",
              "      <td>0</td>\n",
              "      <td>0</td>\n",
              "      <td>0</td>\n",
              "    </tr>\n",
              "    <tr>\n",
              "      <th>4</th>\n",
              "      <td>20</td>\n",
              "      <td>10.0</td>\n",
              "      <td>1</td>\n",
              "      <td>0</td>\n",
              "      <td>0</td>\n",
              "      <td>0</td>\n",
              "      <td>1</td>\n",
              "      <td>0</td>\n",
              "      <td>0</td>\n",
              "      <td>0</td>\n",
              "      <td>0</td>\n",
              "      <td>0</td>\n",
              "      <td>0</td>\n",
              "      <td>0</td>\n",
              "    </tr>\n",
              "  </tbody>\n",
              "</table>\n",
              "</div>"
            ],
            "text/plain": [
              "   Experience  Rating  ...  Diploma in Otorhinolaryngology (DLO)  MD - Homeopathy\n",
              "0          24    10.0  ...                                     0                1\n",
              "1          12     9.8  ...                                     0                0\n",
              "2           9    10.0  ...                                     0                0\n",
              "3          12    10.0  ...                                     0                0\n",
              "4          20    10.0  ...                                     0                0\n",
              "\n",
              "[5 rows x 14 columns]"
            ]
          },
          "metadata": {
            "tags": []
          },
          "execution_count": 54
        }
      ]
    },
    {
      "cell_type": "code",
      "metadata": {
        "colab": {
          "base_uri": "https://localhost:8080/"
        },
        "id": "dUCWQn6LISE-",
        "outputId": "26ee027c-4e1e-4bc6-ade2-cd1cfdc0ea0c"
      },
      "source": [
        "x['Place'].value_counts()"
      ],
      "execution_count": 55,
      "outputs": [
        {
          "output_type": "execute_result",
          "data": {
            "text/plain": [
              "0    1283\n",
              "6    1219\n",
              "3    1185\n",
              "5     951\n",
              "1     855\n",
              "2     228\n",
              "4     153\n",
              "7      86\n",
              "8       1\n",
              "Name: Place, dtype: int64"
            ]
          },
          "metadata": {
            "tags": []
          },
          "execution_count": 55
        }
      ]
    },
    {
      "cell_type": "code",
      "metadata": {
        "colab": {
          "base_uri": "https://localhost:8080/"
        },
        "id": "mbDjtl6nIWUX",
        "outputId": "35e41ac1-7509-4242-80c0-d9c30a079526"
      },
      "source": [
        "x['Profile'].value_counts()"
      ],
      "execution_count": 56,
      "outputs": [
        {
          "output_type": "execute_result",
          "data": {
            "text/plain": [
              "1    1397\n",
              "4    1173\n",
              "2    1034\n",
              "5     843\n",
              "0     786\n",
              "3     728\n",
              "Name: Profile, dtype: int64"
            ]
          },
          "metadata": {
            "tags": []
          },
          "execution_count": 56
        }
      ]
    },
    {
      "cell_type": "code",
      "metadata": {
        "id": "BQIkJ3nUUSaj"
      },
      "source": [
        "from sklearn.model_selection import train_test_split\n",
        "x_train, x_test, y_train, y_test = train_test_split(x,y,test_size=0.30,random_state=47)"
      ],
      "execution_count": 57,
      "outputs": []
    },
    {
      "cell_type": "markdown",
      "metadata": {
        "id": "vNvFQML_mcrJ"
      },
      "source": [
        "### **Scaling**"
      ]
    },
    {
      "cell_type": "code",
      "metadata": {
        "id": "xQWaPgtGUOzW"
      },
      "source": [
        "# data normalization with sklearn\n",
        "from sklearn.preprocessing import MinMaxScaler\n",
        "\n",
        "# fit scaler on training data\n",
        "norm = MinMaxScaler().fit(x_train)\n",
        "\n",
        "# transform training data\n",
        "x_train_norm = norm.transform(x_train)\n",
        "\n",
        "# transform testing dataabs\n",
        "x_test_norm = norm.transform(x_test)"
      ],
      "execution_count": 58,
      "outputs": []
    },
    {
      "cell_type": "code",
      "metadata": {
        "id": "TRospDcjUVOm"
      },
      "source": [
        "x_test=pd.DataFrame(x_test_norm)\n",
        "x_train=pd.DataFrame(x_train_norm)"
      ],
      "execution_count": 59,
      "outputs": []
    },
    {
      "cell_type": "code",
      "metadata": {
        "colab": {
          "base_uri": "https://localhost:8080/",
          "height": 202
        },
        "id": "_cp04nUNUYtf",
        "outputId": "30309624-1f71-4342-f423-eb92d7269522"
      },
      "source": [
        "x_train.head()"
      ],
      "execution_count": 60,
      "outputs": [
        {
          "output_type": "execute_result",
          "data": {
            "text/html": [
              "<div>\n",
              "<style scoped>\n",
              "    .dataframe tbody tr th:only-of-type {\n",
              "        vertical-align: middle;\n",
              "    }\n",
              "\n",
              "    .dataframe tbody tr th {\n",
              "        vertical-align: top;\n",
              "    }\n",
              "\n",
              "    .dataframe thead th {\n",
              "        text-align: right;\n",
              "    }\n",
              "</style>\n",
              "<table border=\"1\" class=\"dataframe\">\n",
              "  <thead>\n",
              "    <tr style=\"text-align: right;\">\n",
              "      <th></th>\n",
              "      <th>0</th>\n",
              "      <th>1</th>\n",
              "      <th>2</th>\n",
              "      <th>3</th>\n",
              "      <th>4</th>\n",
              "      <th>5</th>\n",
              "      <th>6</th>\n",
              "      <th>7</th>\n",
              "      <th>8</th>\n",
              "      <th>9</th>\n",
              "      <th>10</th>\n",
              "      <th>11</th>\n",
              "      <th>12</th>\n",
              "      <th>13</th>\n",
              "    </tr>\n",
              "  </thead>\n",
              "  <tbody>\n",
              "    <tr>\n",
              "      <th>0</th>\n",
              "      <td>0.257576</td>\n",
              "      <td>0.955224</td>\n",
              "      <td>0.000</td>\n",
              "      <td>0.8</td>\n",
              "      <td>1.0</td>\n",
              "      <td>0.0</td>\n",
              "      <td>0.0</td>\n",
              "      <td>0.0</td>\n",
              "      <td>0.0</td>\n",
              "      <td>0.0</td>\n",
              "      <td>0.0</td>\n",
              "      <td>0.0</td>\n",
              "      <td>0.0</td>\n",
              "      <td>0.0</td>\n",
              "    </tr>\n",
              "    <tr>\n",
              "      <th>1</th>\n",
              "      <td>0.530303</td>\n",
              "      <td>1.000000</td>\n",
              "      <td>0.750</td>\n",
              "      <td>1.0</td>\n",
              "      <td>0.0</td>\n",
              "      <td>0.0</td>\n",
              "      <td>0.0</td>\n",
              "      <td>0.0</td>\n",
              "      <td>0.0</td>\n",
              "      <td>0.0</td>\n",
              "      <td>0.0</td>\n",
              "      <td>0.0</td>\n",
              "      <td>0.0</td>\n",
              "      <td>0.0</td>\n",
              "    </tr>\n",
              "    <tr>\n",
              "      <th>2</th>\n",
              "      <td>0.439394</td>\n",
              "      <td>1.000000</td>\n",
              "      <td>0.375</td>\n",
              "      <td>0.6</td>\n",
              "      <td>1.0</td>\n",
              "      <td>0.0</td>\n",
              "      <td>0.0</td>\n",
              "      <td>0.0</td>\n",
              "      <td>0.0</td>\n",
              "      <td>1.0</td>\n",
              "      <td>0.0</td>\n",
              "      <td>0.0</td>\n",
              "      <td>0.0</td>\n",
              "      <td>0.0</td>\n",
              "    </tr>\n",
              "    <tr>\n",
              "      <th>3</th>\n",
              "      <td>0.666667</td>\n",
              "      <td>1.000000</td>\n",
              "      <td>0.375</td>\n",
              "      <td>0.6</td>\n",
              "      <td>1.0</td>\n",
              "      <td>0.0</td>\n",
              "      <td>0.0</td>\n",
              "      <td>0.0</td>\n",
              "      <td>0.0</td>\n",
              "      <td>1.0</td>\n",
              "      <td>0.0</td>\n",
              "      <td>0.0</td>\n",
              "      <td>0.0</td>\n",
              "      <td>0.0</td>\n",
              "    </tr>\n",
              "    <tr>\n",
              "      <th>4</th>\n",
              "      <td>0.151515</td>\n",
              "      <td>0.910448</td>\n",
              "      <td>0.750</td>\n",
              "      <td>0.4</td>\n",
              "      <td>0.0</td>\n",
              "      <td>0.0</td>\n",
              "      <td>0.0</td>\n",
              "      <td>0.0</td>\n",
              "      <td>1.0</td>\n",
              "      <td>0.0</td>\n",
              "      <td>0.0</td>\n",
              "      <td>0.0</td>\n",
              "      <td>0.0</td>\n",
              "      <td>0.0</td>\n",
              "    </tr>\n",
              "  </tbody>\n",
              "</table>\n",
              "</div>"
            ],
            "text/plain": [
              "         0         1      2    3    4    5   ...   8    9    10   11   12   13\n",
              "0  0.257576  0.955224  0.000  0.8  1.0  0.0  ...  0.0  0.0  0.0  0.0  0.0  0.0\n",
              "1  0.530303  1.000000  0.750  1.0  0.0  0.0  ...  0.0  0.0  0.0  0.0  0.0  0.0\n",
              "2  0.439394  1.000000  0.375  0.6  1.0  0.0  ...  0.0  1.0  0.0  0.0  0.0  0.0\n",
              "3  0.666667  1.000000  0.375  0.6  1.0  0.0  ...  0.0  1.0  0.0  0.0  0.0  0.0\n",
              "4  0.151515  0.910448  0.750  0.4  0.0  0.0  ...  1.0  0.0  0.0  0.0  0.0  0.0\n",
              "\n",
              "[5 rows x 14 columns]"
            ]
          },
          "metadata": {
            "tags": []
          },
          "execution_count": 60
        }
      ]
    },
    {
      "cell_type": "markdown",
      "metadata": {
        "id": "68SAFVuKmjlC"
      },
      "source": [
        "### **Finding bestRandom_state**"
      ]
    },
    {
      "cell_type": "code",
      "metadata": {
        "colab": {
          "base_uri": "https://localhost:8080/"
        },
        "id": "sVWGqIoSWrbF",
        "outputId": "aaff59d0-e97c-4900-bf1d-866b99eebefa"
      },
      "source": [
        "from sklearn.model_selection import train_test_split,cross_val_score\n",
        "from sklearn.linear_model import LinearRegression\n",
        "from sklearn.metrics import r2_score\n",
        "best_r_state=0\n",
        "accu=0\n",
        "\n",
        "for i in range(30,200):\n",
        "    x_train,x_test,y_train,y_test=train_test_split(x,y,test_size=0.30,random_state=i)\n",
        "    mod=LinearRegression()\n",
        "    mod.fit(x_train,y_train)\n",
        "    pred_y=mod.predict(x_test)\n",
        "    tempaccu=r2_score(y_test,pred_y)\n",
        "    if tempaccu>accu:\n",
        "        accu=tempaccu\n",
        "        best_r_state=i\n",
        "\n",
        "print(f\"Best random_state {best_r_state}\")"
      ],
      "execution_count": 61,
      "outputs": [
        {
          "output_type": "stream",
          "text": [
            "Best random_state 89\n"
          ],
          "name": "stdout"
        }
      ]
    },
    {
      "cell_type": "code",
      "metadata": {
        "id": "DuAPlWpLWtwh"
      },
      "source": [
        "x_train, x_test, y_train, y_test = train_test_split(x,y,test_size=0.30,random_state=89)"
      ],
      "execution_count": 62,
      "outputs": []
    },
    {
      "cell_type": "code",
      "metadata": {
        "id": "bAR0AYP7V7tc"
      },
      "source": [
        "from sklearn.metrics import mean_squared_error,mean_absolute_error\n",
        "from sklearn.metrics import r2_score\n",
        "from sklearn import metrics"
      ],
      "execution_count": 63,
      "outputs": []
    },
    {
      "cell_type": "markdown",
      "metadata": {
        "id": "2mjWk8xXmx4-"
      },
      "source": [
        "## **6.Model Construction**"
      ]
    },
    {
      "cell_type": "markdown",
      "metadata": {
        "id": "cOWyQd9KZnTd"
      },
      "source": [
        "### **LinearRegression**"
      ]
    },
    {
      "cell_type": "code",
      "metadata": {
        "colab": {
          "base_uri": "https://localhost:8080/"
        },
        "id": "npKfMqHLYWg_",
        "outputId": "9181f1dd-9554-44c2-bd1b-b931286fec3d"
      },
      "source": [
        "LR=LinearRegression()\n",
        "LR.fit(x_train,y_train)\n",
        "print(LR.score(x_train,y_train))\n",
        "LR_predict=LR.predict(x_test)"
      ],
      "execution_count": 64,
      "outputs": [
        {
          "output_type": "stream",
          "text": [
            "0.10551328267993754\n"
          ],
          "name": "stdout"
        }
      ]
    },
    {
      "cell_type": "code",
      "metadata": {
        "colab": {
          "base_uri": "https://localhost:8080/"
        },
        "id": "gfLb7SIWYWdl",
        "outputId": "2344d6e5-0e11-44f2-93a1-f3cf9420e2db"
      },
      "source": [
        "print('Root Mean Squared Error: ',np.sqrt(metrics.mean_squared_error(y_test,LR_predict)))\n",
        "print('Explained Variance Score: ',metrics.explained_variance_score(y_test,LR_predict))\n",
        "print('r2_score:',r2_score(y_test,LR_predict))"
      ],
      "execution_count": 65,
      "outputs": [
        {
          "output_type": "stream",
          "text": [
            "Root Mean Squared Error:  174.22410247707865\n",
            "Explained Variance Score:  0.1418222594054005\n",
            "r2_score: 0.14174314620412065\n"
          ],
          "name": "stdout"
        }
      ]
    },
    {
      "cell_type": "markdown",
      "metadata": {
        "id": "1ZFBP0TXZpaG"
      },
      "source": [
        "### **RandomForestRegressor**"
      ]
    },
    {
      "cell_type": "code",
      "metadata": {
        "colab": {
          "base_uri": "https://localhost:8080/"
        },
        "id": "ye6qIHw7WdKA",
        "outputId": "e234f382-261b-47da-e028-30eaddd0e6cd"
      },
      "source": [
        "from sklearn.ensemble import RandomForestRegressor\n",
        "rf=RandomForestRegressor()\n",
        "rf.fit(x_train,y_train)\n",
        "predictions1=rf.predict(x_test)\n",
        "print(rf.score(x_train,y_train))"
      ],
      "execution_count": 66,
      "outputs": [
        {
          "output_type": "stream",
          "text": [
            "0.6767266935726568\n"
          ],
          "name": "stdout"
        }
      ]
    },
    {
      "cell_type": "code",
      "metadata": {
        "colab": {
          "base_uri": "https://localhost:8080/"
        },
        "id": "r-ILUiDhX5IG",
        "outputId": "1740ecc5-e0c3-4d4c-c3ec-9a7a0fee2955"
      },
      "source": [
        "print('Root Mean Squared Error: ',np.sqrt(metrics.mean_squared_error(y_test,predictions1)))\n",
        "print('Explained Variance Score: ',metrics.explained_variance_score(y_test,predictions1))\n",
        "print('r2_score:',r2_score(y_test,predictions1))"
      ],
      "execution_count": 67,
      "outputs": [
        {
          "output_type": "stream",
          "text": [
            "Root Mean Squared Error:  188.06493669127303\n",
            "Explained Variance Score:  0.00010617765106679666\n",
            "r2_score: -3.7930478582470784e-05\n"
          ],
          "name": "stdout"
        }
      ]
    },
    {
      "cell_type": "markdown",
      "metadata": {
        "id": "Izv3Vu_WbWmi"
      },
      "source": [
        "### **SVR**"
      ]
    },
    {
      "cell_type": "code",
      "metadata": {
        "colab": {
          "base_uri": "https://localhost:8080/"
        },
        "id": "DXHW125NYUaA",
        "outputId": "daf0942a-d4db-46f8-d5f8-b0d39c587e9f"
      },
      "source": [
        "from sklearn.svm import SVR\n",
        "\n",
        "svr=SVR()\n",
        "svr.fit(x_train,y_train)\n",
        "print(svr.score(x_train,y_train))\n",
        "svr_predict=svr.predict(x_test)"
      ],
      "execution_count": 68,
      "outputs": [
        {
          "output_type": "stream",
          "text": [
            "0.002256847658002714\n"
          ],
          "name": "stdout"
        }
      ]
    },
    {
      "cell_type": "code",
      "metadata": {
        "colab": {
          "base_uri": "https://localhost:8080/"
        },
        "id": "pwTNTYzfYb7t",
        "outputId": "b7e84f76-e64f-438a-a468-843b8700a547"
      },
      "source": [
        "print('Root Mean Squared Error: ',np.sqrt(metrics.mean_squared_error(y_test,svr_predict)))\n",
        "print('Explained Variance Score: ',metrics.explained_variance_score(y_test,svr_predict))\n",
        "print('r2_score:',r2_score(y_test,svr_predict))"
      ],
      "execution_count": 69,
      "outputs": [
        {
          "output_type": "stream",
          "text": [
            "Root Mean Squared Error:  189.1556606242295\n",
            "Explained Variance Score:  0.016822248530214856\n",
            "r2_score: -0.011671448033091059\n"
          ],
          "name": "stdout"
        }
      ]
    },
    {
      "cell_type": "markdown",
      "metadata": {
        "id": "kugT8U2FbYTi"
      },
      "source": [
        "### **DecisionTreeRegressor**"
      ]
    },
    {
      "cell_type": "code",
      "metadata": {
        "colab": {
          "base_uri": "https://localhost:8080/"
        },
        "id": "7zEEH3bPYe4T",
        "outputId": "84bc670d-72ed-43ca-82de-bd9f07dd7df7"
      },
      "source": [
        "from sklearn.tree import DecisionTreeRegressor\n",
        "\n",
        "DTR=DecisionTreeRegressor()\n",
        "DTR.fit(x_train,y_train)\n",
        "print(DTR.score(x_train,y_train))\n",
        "DTR_PRED=DTR.predict(x_test)"
      ],
      "execution_count": 71,
      "outputs": [
        {
          "output_type": "stream",
          "text": [
            "0.7513293481569323\n"
          ],
          "name": "stdout"
        }
      ]
    },
    {
      "cell_type": "code",
      "metadata": {
        "colab": {
          "base_uri": "https://localhost:8080/"
        },
        "id": "IqjeRdCOYhBb",
        "outputId": "b82d13fb-ab01-4818-d06b-51b2a013522b"
      },
      "source": [
        "print('Root Mean Squared Error: ',np.sqrt(metrics.mean_squared_error(y_test,DTR_PRED)))\n",
        "print('Explained Variance Score: ',metrics.explained_variance_score(y_test,DTR_PRED))\n",
        "print('r2_score:',r2_score(y_test,DTR_PRED))"
      ],
      "execution_count": 72,
      "outputs": [
        {
          "output_type": "stream",
          "text": [
            "Root Mean Squared Error:  226.94352973355177\n",
            "Explained Variance Score:  -0.4555675186645074\n",
            "r2_score: -0.4562516118686808\n"
          ],
          "name": "stdout"
        }
      ]
    },
    {
      "cell_type": "markdown",
      "metadata": {
        "id": "iwjBnEwObeGU"
      },
      "source": [
        "### **GradientBoostingRegressor**"
      ]
    },
    {
      "cell_type": "code",
      "metadata": {
        "colab": {
          "base_uri": "https://localhost:8080/"
        },
        "id": "x9g89MtWYjer",
        "outputId": "53a90145-6fc4-4a5c-fec7-0049966b8562"
      },
      "source": [
        "from sklearn.ensemble import GradientBoostingRegressor\n",
        "\n",
        "GBR=GradientBoostingRegressor()\n",
        "GBR.fit(x_train,y_train)\n",
        "print(GBR.score(x_train,y_train))\n",
        "GBR_PRED=GBR.predict(x_test)"
      ],
      "execution_count": 73,
      "outputs": [
        {
          "output_type": "stream",
          "text": [
            "0.23269308109644693\n"
          ],
          "name": "stdout"
        }
      ]
    },
    {
      "cell_type": "code",
      "metadata": {
        "colab": {
          "base_uri": "https://localhost:8080/"
        },
        "id": "7Qt0x0vOYlf0",
        "outputId": "6302ace5-14b6-494c-fa8a-f7ca6a313bad"
      },
      "source": [
        "print('Root Mean Squared Error: ',np.sqrt(metrics.mean_squared_error(y_test,GBR_PRED)))\n",
        "print('Explained Variance Score: ',metrics.explained_variance_score(y_test,GBR_PRED))\n",
        "print('r2_score:',r2_score(y_test,GBR_PRED))"
      ],
      "execution_count": 74,
      "outputs": [
        {
          "output_type": "stream",
          "text": [
            "Root Mean Squared Error:  167.9804234697481\n",
            "Explained Variance Score:  0.20219716511857633\n",
            "r2_score: 0.20215569029779346\n"
          ],
          "name": "stdout"
        }
      ]
    },
    {
      "cell_type": "markdown",
      "metadata": {
        "id": "xtEjQxZ5bg6z"
      },
      "source": [
        "### **Ridge**"
      ]
    },
    {
      "cell_type": "code",
      "metadata": {
        "colab": {
          "base_uri": "https://localhost:8080/"
        },
        "id": "Ns9MAgqeYntQ",
        "outputId": "cca38931-41b7-4269-f30b-68edf65a0f92"
      },
      "source": [
        "from sklearn.linear_model import Ridge\n",
        "\n",
        "R=Ridge()\n",
        "R.fit(x_train,y_train)\n",
        "print(R.score(x_train,y_train))\n",
        "R_predict=R.predict(x_test)"
      ],
      "execution_count": 75,
      "outputs": [
        {
          "output_type": "stream",
          "text": [
            "0.10551134862312572\n"
          ],
          "name": "stdout"
        }
      ]
    },
    {
      "cell_type": "code",
      "metadata": {
        "colab": {
          "base_uri": "https://localhost:8080/"
        },
        "id": "My79eJHyYqMR",
        "outputId": "4bd64b32-5363-4932-b4bb-3f9a366654bc"
      },
      "source": [
        "print('Root Mean Squared Error: ',np.sqrt(metrics.mean_squared_error(y_test,R_predict)))\n",
        "print('Explained Variance Score: ',metrics.explained_variance_score(y_test,R_predict))\n",
        "print('r2_score:',r2_score(y_test,R_predict))"
      ],
      "execution_count": 76,
      "outputs": [
        {
          "output_type": "stream",
          "text": [
            "Root Mean Squared Error:  174.22415363546054\n",
            "Explained Variance Score:  0.1418214664235532\n",
            "r2_score: 0.14174264217468124\n"
          ],
          "name": "stdout"
        }
      ]
    },
    {
      "cell_type": "markdown",
      "metadata": {
        "id": "ptI621k2njcK"
      },
      "source": [
        "### ** Best model is Decision tree with 75% accuracy and Random forest with 67% accuracy.**"
      ]
    },
    {
      "cell_type": "markdown",
      "metadata": {
        "id": "aQQTs_ZFbi7L"
      },
      "source": [
        "## **7. HYPER PARAMETER TUNING**"
      ]
    },
    {
      "cell_type": "markdown",
      "metadata": {
        "id": "2npGOBI5n-HJ"
      },
      "source": [
        "**Performing Hyper parameter tuning for 2 best models.**"
      ]
    },
    {
      "cell_type": "markdown",
      "metadata": {
        "id": "sZdbZawgoWDV"
      },
      "source": [
        "### **Random Forest Regressor**"
      ]
    },
    {
      "cell_type": "code",
      "metadata": {
        "colab": {
          "base_uri": "https://localhost:8080/"
        },
        "id": "hXp0BtBQ9yxa",
        "outputId": "1f76b259-46ad-45d2-ecdd-3584308c14e9"
      },
      "source": [
        "from sklearn.model_selection import GridSearchCV\n",
        "rfr=RandomForestRegressor()\n",
        "parameters={'n_estimators':[100,200,300,400,500],'max_features':['auto', 'sqrt', 'log2']}\n",
        "reg=GridSearchCV(rfr,parameters)\n",
        "reg.fit(x,y)"
      ],
      "execution_count": 201,
      "outputs": [
        {
          "output_type": "execute_result",
          "data": {
            "text/plain": [
              "GridSearchCV(cv=None, error_score=nan,\n",
              "             estimator=RandomForestRegressor(bootstrap=True, ccp_alpha=0.0,\n",
              "                                             criterion='mse', max_depth=None,\n",
              "                                             max_features='auto',\n",
              "                                             max_leaf_nodes=None,\n",
              "                                             max_samples=None,\n",
              "                                             min_impurity_decrease=0.0,\n",
              "                                             min_impurity_split=None,\n",
              "                                             min_samples_leaf=1,\n",
              "                                             min_samples_split=2,\n",
              "                                             min_weight_fraction_leaf=0.0,\n",
              "                                             n_estimators=100, n_jobs=None,\n",
              "                                             oob_score=False, random_state=None,\n",
              "                                             verbose=0, warm_start=False),\n",
              "             iid='deprecated', n_jobs=None,\n",
              "             param_grid={'max_features': ['auto', 'sqrt', 'log2'],\n",
              "                         'n_estimators': [100, 200, 300, 400, 500]},\n",
              "             pre_dispatch='2*n_jobs', refit=True, return_train_score=False,\n",
              "             scoring=None, verbose=0)"
            ]
          },
          "metadata": {
            "tags": []
          },
          "execution_count": 201
        }
      ]
    },
    {
      "cell_type": "code",
      "metadata": {
        "colab": {
          "base_uri": "https://localhost:8080/"
        },
        "id": "PRm1l1MC92H9",
        "outputId": "4a9fa12f-fe62-4417-90d8-54e9d64e94f3"
      },
      "source": [
        "print(reg.best_params_)"
      ],
      "execution_count": 202,
      "outputs": [
        {
          "output_type": "stream",
          "text": [
            "{'max_features': 'auto', 'n_estimators': 500}\n"
          ],
          "name": "stdout"
        }
      ]
    },
    {
      "cell_type": "code",
      "metadata": {
        "colab": {
          "base_uri": "https://localhost:8080/"
        },
        "id": "FIGL-zdU96zx",
        "outputId": "f854df81-57bb-4a48-8b69-b11226839321"
      },
      "source": [
        "rfr=RandomForestRegressor(n_estimators=500,max_features='auto') #parameters given from GridSearchCV method.\n",
        "rfr.fit(x_train,y_train)\n",
        "rfr.score(x_train,y_train)\n",
        "rfr_y=rfr.predict(x_test)\n",
        "print(\"Score of Model is\",rfr.score(x_train,y_train))\n",
        "print(\"Mean Absolute Error\", mean_absolute_error(y_test,rfr_y))\n",
        "print(\"Root Mean Squared Error\", (mean_squared_error(y_test,rfr_y))**0.5 )"
      ],
      "execution_count": 231,
      "outputs": [
        {
          "output_type": "stream",
          "text": [
            "Score of Model is 0.6880253327563266\n",
            "Mean Absolute Error 144.29880983610775\n",
            "Root Mean Squared Error 189.78214182457396\n"
          ],
          "name": "stdout"
        }
      ]
    },
    {
      "cell_type": "markdown",
      "metadata": {
        "id": "OEApCBkCofjY"
      },
      "source": [
        "score of RandomForestRegressor increased from 67% to 68% after hyper parameter tuning."
      ]
    },
    {
      "cell_type": "markdown",
      "metadata": {
        "id": "5qRkbCcYFL7k"
      },
      "source": [
        "### **DecisionTreeRegressor**"
      ]
    },
    {
      "cell_type": "code",
      "metadata": {
        "id": "Z51Kl7UkbTGV"
      },
      "source": [
        "from sklearn.model_selection import GridSearchCV\n",
        "parameter = {'max_features':['auto', 'sqrt', 'log2'],\n",
        "             'criterion':['mse','friedman_mse','mae', 'poisson'],\n",
        "             'splitter':['best', 'random']}\n",
        "GCV = GridSearchCV(DecisionTreeRegressor(),parameter,cv=5)"
      ],
      "execution_count": 100,
      "outputs": []
    },
    {
      "cell_type": "code",
      "metadata": {
        "colab": {
          "base_uri": "https://localhost:8080/"
        },
        "id": "-whn44f9jwv4",
        "outputId": "bd938faa-deae-429f-d5fd-56e88729baec"
      },
      "source": [
        "GCV.fit(x_train,y_train)"
      ],
      "execution_count": 101,
      "outputs": [
        {
          "output_type": "execute_result",
          "data": {
            "text/plain": [
              "GridSearchCV(cv=5, error_score=nan,\n",
              "             estimator=DecisionTreeRegressor(ccp_alpha=0.0, criterion='mse',\n",
              "                                             max_depth=None, max_features=None,\n",
              "                                             max_leaf_nodes=None,\n",
              "                                             min_impurity_decrease=0.0,\n",
              "                                             min_impurity_split=None,\n",
              "                                             min_samples_leaf=1,\n",
              "                                             min_samples_split=2,\n",
              "                                             min_weight_fraction_leaf=0.0,\n",
              "                                             presort='deprecated',\n",
              "                                             random_state=None,\n",
              "                                             splitter='best'),\n",
              "             iid='deprecated', n_jobs=None,\n",
              "             param_grid={'criterion': ['mse', 'friedman_mse', 'mae', 'poisson'],\n",
              "                         'max_features': ['auto', 'sqrt', 'log2'],\n",
              "                         'splitter': ['best', 'random']},\n",
              "             pre_dispatch='2*n_jobs', refit=True, return_train_score=False,\n",
              "             scoring=None, verbose=0)"
            ]
          },
          "metadata": {
            "tags": []
          },
          "execution_count": 101
        }
      ]
    },
    {
      "cell_type": "code",
      "metadata": {
        "colab": {
          "base_uri": "https://localhost:8080/"
        },
        "id": "jhksKLOXjzQe",
        "outputId": "198644c3-01dc-4fa1-d6c5-0c73c758dc4c"
      },
      "source": [
        "GCV.best_params_"
      ],
      "execution_count": 102,
      "outputs": [
        {
          "output_type": "execute_result",
          "data": {
            "text/plain": [
              "{'criterion': 'mae', 'max_features': 'sqrt', 'splitter': 'random'}"
            ]
          },
          "metadata": {
            "tags": []
          },
          "execution_count": 102
        }
      ]
    },
    {
      "cell_type": "code",
      "metadata": {
        "id": "KiwK7TMA-4tq"
      },
      "source": [
        "from sklearn.tree import DecisionTreeRegressor\n",
        "\n",
        "DTR=DecisionTreeRegressor(criterion='friedman_mse',splitter= 'random',max_features='sqrt')\n",
        "DTR.fit(x_train,y_train)\n",
        "DTR_final=DTR.predict(x_test)"
      ],
      "execution_count": 103,
      "outputs": []
    },
    {
      "cell_type": "code",
      "metadata": {
        "colab": {
          "base_uri": "https://localhost:8080/"
        },
        "id": "ofsMbKX-j6rV",
        "outputId": "fd428fd6-7404-4cd5-9479-6f09748c8f3b"
      },
      "source": [
        "print(\"Score of Model is\",DTR.score(x_train,y_train))\n",
        "print(\"Mean Absolute Error\", mean_absolute_error(y_test,DTR_final))\n",
        "print(\"Root Mean Squared Error\", (mean_squared_error(y_test,DTR_final))**0.5 )"
      ],
      "execution_count": 104,
      "outputs": [
        {
          "output_type": "stream",
          "text": [
            "Score of Model is 0.7520307700779512\n",
            "Mean Absolute Error 163.13207234042895\n",
            "Root Mean Squared Error 223.26806781197408\n"
          ],
          "name": "stdout"
        }
      ]
    },
    {
      "cell_type": "markdown",
      "metadata": {
        "id": "7B0U3oq1ozRS"
      },
      "source": [
        "After hyperparameter tuning of Decision Tree Regressor score increased from 75.1% to 75.9%"
      ]
    },
    {
      "cell_type": "markdown",
      "metadata": {
        "id": "D3MTdJYaMnrI"
      },
      "source": [
        "After Hyper parameter tuning \n",
        "\n",
        "RandomForestRegressor gives 68.8% score and \n",
        "\n",
        "DecisionTreeRegressor gives 75.9% score.\n",
        "\n",
        "**so Decision Tree Regressor is the best model for this problem.**\n"
      ]
    },
    {
      "cell_type": "markdown",
      "metadata": {
        "id": "ATJN8kiSpQbI"
      },
      "source": [
        "## **8.Test dataset**"
      ]
    },
    {
      "cell_type": "code",
      "metadata": {
        "id": "TDfLkcqzpamn"
      },
      "source": [
        "df_test=pd.read_excel(\"/content/Final_Test.xlsx\")"
      ],
      "execution_count": 77,
      "outputs": []
    },
    {
      "cell_type": "markdown",
      "metadata": {
        "id": "99iS65KCqKqm"
      },
      "source": [
        "### **Processing Test Dataset**"
      ]
    },
    {
      "cell_type": "code",
      "metadata": {
        "colab": {
          "base_uri": "https://localhost:8080/"
        },
        "id": "j2cxPeniNKli",
        "outputId": "4efc6825-2259-40de-cf90-0b07f0b27365"
      },
      "source": [
        "#Checking Null Values\n",
        "df_test.isnull().sum()"
      ],
      "execution_count": 78,
      "outputs": [
        {
          "output_type": "execute_result",
          "data": {
            "text/plain": [
              "Qualification            0\n",
              "Experience               0\n",
              "Rating                1090\n",
              "Place                    6\n",
              "Profile                  0\n",
              "Miscellaneous_Info     834\n",
              "dtype: int64"
            ]
          },
          "metadata": {
            "tags": []
          },
          "execution_count": 78
        }
      ]
    },
    {
      "cell_type": "code",
      "metadata": {
        "colab": {
          "base_uri": "https://localhost:8080/"
        },
        "id": "6YnW4uupNaqW",
        "outputId": "17fc6c97-7089-47d6-d308-e38dbca202e0"
      },
      "source": [
        "df_test.shape"
      ],
      "execution_count": 79,
      "outputs": [
        {
          "output_type": "execute_result",
          "data": {
            "text/plain": [
              "(1987, 6)"
            ]
          },
          "metadata": {
            "tags": []
          },
          "execution_count": 79
        }
      ]
    },
    {
      "cell_type": "code",
      "metadata": {
        "colab": {
          "base_uri": "https://localhost:8080/",
          "height": 414
        },
        "id": "7Ty_LkwWNbDM",
        "outputId": "36674223-6e5d-4507-9c7f-07f9bfd579f5"
      },
      "source": [
        "df_test.drop(['Miscellaneous_Info'],axis=1,inplace=True)   \n",
        "df_test"
      ],
      "execution_count": 80,
      "outputs": [
        {
          "output_type": "execute_result",
          "data": {
            "text/html": [
              "<div>\n",
              "<style scoped>\n",
              "    .dataframe tbody tr th:only-of-type {\n",
              "        vertical-align: middle;\n",
              "    }\n",
              "\n",
              "    .dataframe tbody tr th {\n",
              "        vertical-align: top;\n",
              "    }\n",
              "\n",
              "    .dataframe thead th {\n",
              "        text-align: right;\n",
              "    }\n",
              "</style>\n",
              "<table border=\"1\" class=\"dataframe\">\n",
              "  <thead>\n",
              "    <tr style=\"text-align: right;\">\n",
              "      <th></th>\n",
              "      <th>Qualification</th>\n",
              "      <th>Experience</th>\n",
              "      <th>Rating</th>\n",
              "      <th>Place</th>\n",
              "      <th>Profile</th>\n",
              "    </tr>\n",
              "  </thead>\n",
              "  <tbody>\n",
              "    <tr>\n",
              "      <th>0</th>\n",
              "      <td>MBBS</td>\n",
              "      <td>35 years experience</td>\n",
              "      <td>NaN</td>\n",
              "      <td>Ghatkopar East, Mumbai</td>\n",
              "      <td>General Medicine</td>\n",
              "    </tr>\n",
              "    <tr>\n",
              "      <th>1</th>\n",
              "      <td>MBBS, Diploma in Otorhinolaryngology (DLO)</td>\n",
              "      <td>31 years experience</td>\n",
              "      <td>NaN</td>\n",
              "      <td>West Marredpally, Hyderabad</td>\n",
              "      <td>ENT Specialist</td>\n",
              "    </tr>\n",
              "    <tr>\n",
              "      <th>2</th>\n",
              "      <td>MBBS, DDVL</td>\n",
              "      <td>40 years experience</td>\n",
              "      <td>70%</td>\n",
              "      <td>KK Nagar, Chennai</td>\n",
              "      <td>Dermatologists</td>\n",
              "    </tr>\n",
              "    <tr>\n",
              "      <th>3</th>\n",
              "      <td>BAMS</td>\n",
              "      <td>0 years experience</td>\n",
              "      <td>NaN</td>\n",
              "      <td>New Ashok Nagar, Delhi</td>\n",
              "      <td>Ayurveda</td>\n",
              "    </tr>\n",
              "    <tr>\n",
              "      <th>4</th>\n",
              "      <td>BDS, MDS - Conservative Dentistry &amp; Endodontics</td>\n",
              "      <td>16 years experience</td>\n",
              "      <td>100%</td>\n",
              "      <td>Kanakpura Road, Bangalore</td>\n",
              "      <td>Dentist</td>\n",
              "    </tr>\n",
              "    <tr>\n",
              "      <th>...</th>\n",
              "      <td>...</td>\n",
              "      <td>...</td>\n",
              "      <td>...</td>\n",
              "      <td>...</td>\n",
              "      <td>...</td>\n",
              "    </tr>\n",
              "    <tr>\n",
              "      <th>1982</th>\n",
              "      <td>BAMS, Doctor of Medicine</td>\n",
              "      <td>10 years experience</td>\n",
              "      <td>NaN</td>\n",
              "      <td>Basavanagudi, Bangalore</td>\n",
              "      <td>Ayurveda</td>\n",
              "    </tr>\n",
              "    <tr>\n",
              "      <th>1983</th>\n",
              "      <td>MD - Dermatology , Venereology &amp; Leprosy, MBBS</td>\n",
              "      <td>4 years experience</td>\n",
              "      <td>NaN</td>\n",
              "      <td>Choolai, Chennai</td>\n",
              "      <td>Dermatologists</td>\n",
              "    </tr>\n",
              "    <tr>\n",
              "      <th>1984</th>\n",
              "      <td>MBBS, MD / MS - Obstetrics &amp; Gynaecology</td>\n",
              "      <td>9 years experience</td>\n",
              "      <td>NaN</td>\n",
              "      <td>Porur, Chennai</td>\n",
              "      <td>General Medicine</td>\n",
              "    </tr>\n",
              "    <tr>\n",
              "      <th>1985</th>\n",
              "      <td>BDS</td>\n",
              "      <td>12 years experience</td>\n",
              "      <td>98%</td>\n",
              "      <td>Arekere, Bangalore</td>\n",
              "      <td>Dentist</td>\n",
              "    </tr>\n",
              "    <tr>\n",
              "      <th>1986</th>\n",
              "      <td>MBBS, MD - Dermatology , Venereology &amp; Leprosy</td>\n",
              "      <td>8 years experience</td>\n",
              "      <td>NaN</td>\n",
              "      <td>Pallikaranai, Chennai</td>\n",
              "      <td>Dermatologists</td>\n",
              "    </tr>\n",
              "  </tbody>\n",
              "</table>\n",
              "<p>1987 rows × 5 columns</p>\n",
              "</div>"
            ],
            "text/plain": [
              "                                        Qualification  ...           Profile\n",
              "0                                                MBBS  ...  General Medicine\n",
              "1          MBBS, Diploma in Otorhinolaryngology (DLO)  ...    ENT Specialist\n",
              "2                                          MBBS, DDVL  ...    Dermatologists\n",
              "3                                                BAMS  ...          Ayurveda\n",
              "4     BDS, MDS - Conservative Dentistry & Endodontics  ...           Dentist\n",
              "...                                               ...  ...               ...\n",
              "1982                         BAMS, Doctor of Medicine  ...          Ayurveda\n",
              "1983   MD - Dermatology , Venereology & Leprosy, MBBS  ...    Dermatologists\n",
              "1984         MBBS, MD / MS - Obstetrics & Gynaecology  ...  General Medicine\n",
              "1985                                              BDS  ...           Dentist\n",
              "1986   MBBS, MD - Dermatology , Venereology & Leprosy  ...    Dermatologists\n",
              "\n",
              "[1987 rows x 5 columns]"
            ]
          },
          "metadata": {
            "tags": []
          },
          "execution_count": 80
        }
      ]
    },
    {
      "cell_type": "code",
      "metadata": {
        "colab": {
          "base_uri": "https://localhost:8080/",
          "height": 414
        },
        "id": "OmieNH50Ndke",
        "outputId": "be22744b-a34d-424a-cb3c-d1202b1b4732"
      },
      "source": [
        "df_test['Rating'].fillna(value=df_test['Rating'].mode()[0],inplace=True)\n",
        "df_test['Place'].fillna(value=df_test['Place'].mode()[0],inplace=True)\n",
        "df_test"
      ],
      "execution_count": 81,
      "outputs": [
        {
          "output_type": "execute_result",
          "data": {
            "text/html": [
              "<div>\n",
              "<style scoped>\n",
              "    .dataframe tbody tr th:only-of-type {\n",
              "        vertical-align: middle;\n",
              "    }\n",
              "\n",
              "    .dataframe tbody tr th {\n",
              "        vertical-align: top;\n",
              "    }\n",
              "\n",
              "    .dataframe thead th {\n",
              "        text-align: right;\n",
              "    }\n",
              "</style>\n",
              "<table border=\"1\" class=\"dataframe\">\n",
              "  <thead>\n",
              "    <tr style=\"text-align: right;\">\n",
              "      <th></th>\n",
              "      <th>Qualification</th>\n",
              "      <th>Experience</th>\n",
              "      <th>Rating</th>\n",
              "      <th>Place</th>\n",
              "      <th>Profile</th>\n",
              "    </tr>\n",
              "  </thead>\n",
              "  <tbody>\n",
              "    <tr>\n",
              "      <th>0</th>\n",
              "      <td>MBBS</td>\n",
              "      <td>35 years experience</td>\n",
              "      <td>100%</td>\n",
              "      <td>Ghatkopar East, Mumbai</td>\n",
              "      <td>General Medicine</td>\n",
              "    </tr>\n",
              "    <tr>\n",
              "      <th>1</th>\n",
              "      <td>MBBS, Diploma in Otorhinolaryngology (DLO)</td>\n",
              "      <td>31 years experience</td>\n",
              "      <td>100%</td>\n",
              "      <td>West Marredpally, Hyderabad</td>\n",
              "      <td>ENT Specialist</td>\n",
              "    </tr>\n",
              "    <tr>\n",
              "      <th>2</th>\n",
              "      <td>MBBS, DDVL</td>\n",
              "      <td>40 years experience</td>\n",
              "      <td>70%</td>\n",
              "      <td>KK Nagar, Chennai</td>\n",
              "      <td>Dermatologists</td>\n",
              "    </tr>\n",
              "    <tr>\n",
              "      <th>3</th>\n",
              "      <td>BAMS</td>\n",
              "      <td>0 years experience</td>\n",
              "      <td>100%</td>\n",
              "      <td>New Ashok Nagar, Delhi</td>\n",
              "      <td>Ayurveda</td>\n",
              "    </tr>\n",
              "    <tr>\n",
              "      <th>4</th>\n",
              "      <td>BDS, MDS - Conservative Dentistry &amp; Endodontics</td>\n",
              "      <td>16 years experience</td>\n",
              "      <td>100%</td>\n",
              "      <td>Kanakpura Road, Bangalore</td>\n",
              "      <td>Dentist</td>\n",
              "    </tr>\n",
              "    <tr>\n",
              "      <th>...</th>\n",
              "      <td>...</td>\n",
              "      <td>...</td>\n",
              "      <td>...</td>\n",
              "      <td>...</td>\n",
              "      <td>...</td>\n",
              "    </tr>\n",
              "    <tr>\n",
              "      <th>1982</th>\n",
              "      <td>BAMS, Doctor of Medicine</td>\n",
              "      <td>10 years experience</td>\n",
              "      <td>100%</td>\n",
              "      <td>Basavanagudi, Bangalore</td>\n",
              "      <td>Ayurveda</td>\n",
              "    </tr>\n",
              "    <tr>\n",
              "      <th>1983</th>\n",
              "      <td>MD - Dermatology , Venereology &amp; Leprosy, MBBS</td>\n",
              "      <td>4 years experience</td>\n",
              "      <td>100%</td>\n",
              "      <td>Choolai, Chennai</td>\n",
              "      <td>Dermatologists</td>\n",
              "    </tr>\n",
              "    <tr>\n",
              "      <th>1984</th>\n",
              "      <td>MBBS, MD / MS - Obstetrics &amp; Gynaecology</td>\n",
              "      <td>9 years experience</td>\n",
              "      <td>100%</td>\n",
              "      <td>Porur, Chennai</td>\n",
              "      <td>General Medicine</td>\n",
              "    </tr>\n",
              "    <tr>\n",
              "      <th>1985</th>\n",
              "      <td>BDS</td>\n",
              "      <td>12 years experience</td>\n",
              "      <td>98%</td>\n",
              "      <td>Arekere, Bangalore</td>\n",
              "      <td>Dentist</td>\n",
              "    </tr>\n",
              "    <tr>\n",
              "      <th>1986</th>\n",
              "      <td>MBBS, MD - Dermatology , Venereology &amp; Leprosy</td>\n",
              "      <td>8 years experience</td>\n",
              "      <td>100%</td>\n",
              "      <td>Pallikaranai, Chennai</td>\n",
              "      <td>Dermatologists</td>\n",
              "    </tr>\n",
              "  </tbody>\n",
              "</table>\n",
              "<p>1987 rows × 5 columns</p>\n",
              "</div>"
            ],
            "text/plain": [
              "                                        Qualification  ...           Profile\n",
              "0                                                MBBS  ...  General Medicine\n",
              "1          MBBS, Diploma in Otorhinolaryngology (DLO)  ...    ENT Specialist\n",
              "2                                          MBBS, DDVL  ...    Dermatologists\n",
              "3                                                BAMS  ...          Ayurveda\n",
              "4     BDS, MDS - Conservative Dentistry & Endodontics  ...           Dentist\n",
              "...                                               ...  ...               ...\n",
              "1982                         BAMS, Doctor of Medicine  ...          Ayurveda\n",
              "1983   MD - Dermatology , Venereology & Leprosy, MBBS  ...    Dermatologists\n",
              "1984         MBBS, MD / MS - Obstetrics & Gynaecology  ...  General Medicine\n",
              "1985                                              BDS  ...           Dentist\n",
              "1986   MBBS, MD - Dermatology , Venereology & Leprosy  ...    Dermatologists\n",
              "\n",
              "[1987 rows x 5 columns]"
            ]
          },
          "metadata": {
            "tags": []
          },
          "execution_count": 81
        }
      ]
    },
    {
      "cell_type": "code",
      "metadata": {
        "colab": {
          "base_uri": "https://localhost:8080/"
        },
        "id": "fTCyw8R0NgRO",
        "outputId": "845b97e1-7594-4843-effd-28d01a9955e3"
      },
      "source": [
        "df_test.isnull().sum()"
      ],
      "execution_count": 82,
      "outputs": [
        {
          "output_type": "execute_result",
          "data": {
            "text/plain": [
              "Qualification    0\n",
              "Experience       0\n",
              "Rating           0\n",
              "Place            0\n",
              "Profile          0\n",
              "dtype: int64"
            ]
          },
          "metadata": {
            "tags": []
          },
          "execution_count": 82
        }
      ]
    },
    {
      "cell_type": "code",
      "metadata": {
        "id": "TTEpVbWtNibe"
      },
      "source": [
        "for i in range(len(df_test)):\n",
        "    df_test['Experience'][i]=df_test['Experience'][i][:-17]\n",
        "    \n",
        "df_test['Experience']=df_test['Experience'].astype(int)"
      ],
      "execution_count": 83,
      "outputs": []
    },
    {
      "cell_type": "code",
      "metadata": {
        "id": "uZnb_tASNlWj"
      },
      "source": [
        "for i in range(len(df_test)):\n",
        "    df_test['Rating'][i]=df_test['Rating'][i][:-1]\n",
        "    \n",
        "df_test['Rating']=df_test['Rating'].astype(int)"
      ],
      "execution_count": 84,
      "outputs": []
    },
    {
      "cell_type": "code",
      "metadata": {
        "colab": {
          "base_uri": "https://localhost:8080/",
          "height": 414
        },
        "id": "URF_6oLcNoa8",
        "outputId": "26095bf8-c9bb-40b9-e6b8-e6a4028c6cf0"
      },
      "source": [
        "df_test['Rating']=df_test['Rating']*0.1\n",
        "df_test"
      ],
      "execution_count": 85,
      "outputs": [
        {
          "output_type": "execute_result",
          "data": {
            "text/html": [
              "<div>\n",
              "<style scoped>\n",
              "    .dataframe tbody tr th:only-of-type {\n",
              "        vertical-align: middle;\n",
              "    }\n",
              "\n",
              "    .dataframe tbody tr th {\n",
              "        vertical-align: top;\n",
              "    }\n",
              "\n",
              "    .dataframe thead th {\n",
              "        text-align: right;\n",
              "    }\n",
              "</style>\n",
              "<table border=\"1\" class=\"dataframe\">\n",
              "  <thead>\n",
              "    <tr style=\"text-align: right;\">\n",
              "      <th></th>\n",
              "      <th>Qualification</th>\n",
              "      <th>Experience</th>\n",
              "      <th>Rating</th>\n",
              "      <th>Place</th>\n",
              "      <th>Profile</th>\n",
              "    </tr>\n",
              "  </thead>\n",
              "  <tbody>\n",
              "    <tr>\n",
              "      <th>0</th>\n",
              "      <td>MBBS</td>\n",
              "      <td>35</td>\n",
              "      <td>10.0</td>\n",
              "      <td>Ghatkopar East, Mumbai</td>\n",
              "      <td>General Medicine</td>\n",
              "    </tr>\n",
              "    <tr>\n",
              "      <th>1</th>\n",
              "      <td>MBBS, Diploma in Otorhinolaryngology (DLO)</td>\n",
              "      <td>31</td>\n",
              "      <td>10.0</td>\n",
              "      <td>West Marredpally, Hyderabad</td>\n",
              "      <td>ENT Specialist</td>\n",
              "    </tr>\n",
              "    <tr>\n",
              "      <th>2</th>\n",
              "      <td>MBBS, DDVL</td>\n",
              "      <td>40</td>\n",
              "      <td>7.0</td>\n",
              "      <td>KK Nagar, Chennai</td>\n",
              "      <td>Dermatologists</td>\n",
              "    </tr>\n",
              "    <tr>\n",
              "      <th>3</th>\n",
              "      <td>BAMS</td>\n",
              "      <td>0</td>\n",
              "      <td>10.0</td>\n",
              "      <td>New Ashok Nagar, Delhi</td>\n",
              "      <td>Ayurveda</td>\n",
              "    </tr>\n",
              "    <tr>\n",
              "      <th>4</th>\n",
              "      <td>BDS, MDS - Conservative Dentistry &amp; Endodontics</td>\n",
              "      <td>16</td>\n",
              "      <td>10.0</td>\n",
              "      <td>Kanakpura Road, Bangalore</td>\n",
              "      <td>Dentist</td>\n",
              "    </tr>\n",
              "    <tr>\n",
              "      <th>...</th>\n",
              "      <td>...</td>\n",
              "      <td>...</td>\n",
              "      <td>...</td>\n",
              "      <td>...</td>\n",
              "      <td>...</td>\n",
              "    </tr>\n",
              "    <tr>\n",
              "      <th>1982</th>\n",
              "      <td>BAMS, Doctor of Medicine</td>\n",
              "      <td>10</td>\n",
              "      <td>10.0</td>\n",
              "      <td>Basavanagudi, Bangalore</td>\n",
              "      <td>Ayurveda</td>\n",
              "    </tr>\n",
              "    <tr>\n",
              "      <th>1983</th>\n",
              "      <td>MD - Dermatology , Venereology &amp; Leprosy, MBBS</td>\n",
              "      <td>4</td>\n",
              "      <td>10.0</td>\n",
              "      <td>Choolai, Chennai</td>\n",
              "      <td>Dermatologists</td>\n",
              "    </tr>\n",
              "    <tr>\n",
              "      <th>1984</th>\n",
              "      <td>MBBS, MD / MS - Obstetrics &amp; Gynaecology</td>\n",
              "      <td>9</td>\n",
              "      <td>10.0</td>\n",
              "      <td>Porur, Chennai</td>\n",
              "      <td>General Medicine</td>\n",
              "    </tr>\n",
              "    <tr>\n",
              "      <th>1985</th>\n",
              "      <td>BDS</td>\n",
              "      <td>12</td>\n",
              "      <td>9.8</td>\n",
              "      <td>Arekere, Bangalore</td>\n",
              "      <td>Dentist</td>\n",
              "    </tr>\n",
              "    <tr>\n",
              "      <th>1986</th>\n",
              "      <td>MBBS, MD - Dermatology , Venereology &amp; Leprosy</td>\n",
              "      <td>8</td>\n",
              "      <td>10.0</td>\n",
              "      <td>Pallikaranai, Chennai</td>\n",
              "      <td>Dermatologists</td>\n",
              "    </tr>\n",
              "  </tbody>\n",
              "</table>\n",
              "<p>1987 rows × 5 columns</p>\n",
              "</div>"
            ],
            "text/plain": [
              "                                        Qualification  ...           Profile\n",
              "0                                                MBBS  ...  General Medicine\n",
              "1          MBBS, Diploma in Otorhinolaryngology (DLO)  ...    ENT Specialist\n",
              "2                                          MBBS, DDVL  ...    Dermatologists\n",
              "3                                                BAMS  ...          Ayurveda\n",
              "4     BDS, MDS - Conservative Dentistry & Endodontics  ...           Dentist\n",
              "...                                               ...  ...               ...\n",
              "1982                         BAMS, Doctor of Medicine  ...          Ayurveda\n",
              "1983   MD - Dermatology , Venereology & Leprosy, MBBS  ...    Dermatologists\n",
              "1984         MBBS, MD / MS - Obstetrics & Gynaecology  ...  General Medicine\n",
              "1985                                              BDS  ...           Dentist\n",
              "1986   MBBS, MD - Dermatology , Venereology & Leprosy  ...    Dermatologists\n",
              "\n",
              "[1987 rows x 5 columns]"
            ]
          },
          "metadata": {
            "tags": []
          },
          "execution_count": 85
        }
      ]
    },
    {
      "cell_type": "code",
      "metadata": {
        "colab": {
          "base_uri": "https://localhost:8080/"
        },
        "id": "9idG2k3ZNpyT",
        "outputId": "405f1ffc-1d0d-4d26-b771-dc841352b672"
      },
      "source": [
        "df_test['Experience']=np.int64(df_test['Experience'])\n",
        "df_test.dtypes"
      ],
      "execution_count": 86,
      "outputs": [
        {
          "output_type": "execute_result",
          "data": {
            "text/plain": [
              "Qualification     object\n",
              "Experience         int64\n",
              "Rating           float64\n",
              "Place             object\n",
              "Profile           object\n",
              "dtype: object"
            ]
          },
          "metadata": {
            "tags": []
          },
          "execution_count": 86
        }
      ]
    },
    {
      "cell_type": "code",
      "metadata": {
        "colab": {
          "base_uri": "https://localhost:8080/",
          "height": 414
        },
        "id": "_tIAODRzNsqq",
        "outputId": "8e040d37-1457-474a-fff8-f1c64a045477"
      },
      "source": [
        "for i in range(len(df_test)):\n",
        "    df_test['Place'][i]=df_test['Place'][i].split(\",\")[-1]\n",
        "    \n",
        "df_test"
      ],
      "execution_count": 87,
      "outputs": [
        {
          "output_type": "execute_result",
          "data": {
            "text/html": [
              "<div>\n",
              "<style scoped>\n",
              "    .dataframe tbody tr th:only-of-type {\n",
              "        vertical-align: middle;\n",
              "    }\n",
              "\n",
              "    .dataframe tbody tr th {\n",
              "        vertical-align: top;\n",
              "    }\n",
              "\n",
              "    .dataframe thead th {\n",
              "        text-align: right;\n",
              "    }\n",
              "</style>\n",
              "<table border=\"1\" class=\"dataframe\">\n",
              "  <thead>\n",
              "    <tr style=\"text-align: right;\">\n",
              "      <th></th>\n",
              "      <th>Qualification</th>\n",
              "      <th>Experience</th>\n",
              "      <th>Rating</th>\n",
              "      <th>Place</th>\n",
              "      <th>Profile</th>\n",
              "    </tr>\n",
              "  </thead>\n",
              "  <tbody>\n",
              "    <tr>\n",
              "      <th>0</th>\n",
              "      <td>MBBS</td>\n",
              "      <td>35</td>\n",
              "      <td>10.0</td>\n",
              "      <td>Mumbai</td>\n",
              "      <td>General Medicine</td>\n",
              "    </tr>\n",
              "    <tr>\n",
              "      <th>1</th>\n",
              "      <td>MBBS, Diploma in Otorhinolaryngology (DLO)</td>\n",
              "      <td>31</td>\n",
              "      <td>10.0</td>\n",
              "      <td>Hyderabad</td>\n",
              "      <td>ENT Specialist</td>\n",
              "    </tr>\n",
              "    <tr>\n",
              "      <th>2</th>\n",
              "      <td>MBBS, DDVL</td>\n",
              "      <td>40</td>\n",
              "      <td>7.0</td>\n",
              "      <td>Chennai</td>\n",
              "      <td>Dermatologists</td>\n",
              "    </tr>\n",
              "    <tr>\n",
              "      <th>3</th>\n",
              "      <td>BAMS</td>\n",
              "      <td>0</td>\n",
              "      <td>10.0</td>\n",
              "      <td>Delhi</td>\n",
              "      <td>Ayurveda</td>\n",
              "    </tr>\n",
              "    <tr>\n",
              "      <th>4</th>\n",
              "      <td>BDS, MDS - Conservative Dentistry &amp; Endodontics</td>\n",
              "      <td>16</td>\n",
              "      <td>10.0</td>\n",
              "      <td>Bangalore</td>\n",
              "      <td>Dentist</td>\n",
              "    </tr>\n",
              "    <tr>\n",
              "      <th>...</th>\n",
              "      <td>...</td>\n",
              "      <td>...</td>\n",
              "      <td>...</td>\n",
              "      <td>...</td>\n",
              "      <td>...</td>\n",
              "    </tr>\n",
              "    <tr>\n",
              "      <th>1982</th>\n",
              "      <td>BAMS, Doctor of Medicine</td>\n",
              "      <td>10</td>\n",
              "      <td>10.0</td>\n",
              "      <td>Bangalore</td>\n",
              "      <td>Ayurveda</td>\n",
              "    </tr>\n",
              "    <tr>\n",
              "      <th>1983</th>\n",
              "      <td>MD - Dermatology , Venereology &amp; Leprosy, MBBS</td>\n",
              "      <td>4</td>\n",
              "      <td>10.0</td>\n",
              "      <td>Chennai</td>\n",
              "      <td>Dermatologists</td>\n",
              "    </tr>\n",
              "    <tr>\n",
              "      <th>1984</th>\n",
              "      <td>MBBS, MD / MS - Obstetrics &amp; Gynaecology</td>\n",
              "      <td>9</td>\n",
              "      <td>10.0</td>\n",
              "      <td>Chennai</td>\n",
              "      <td>General Medicine</td>\n",
              "    </tr>\n",
              "    <tr>\n",
              "      <th>1985</th>\n",
              "      <td>BDS</td>\n",
              "      <td>12</td>\n",
              "      <td>9.8</td>\n",
              "      <td>Bangalore</td>\n",
              "      <td>Dentist</td>\n",
              "    </tr>\n",
              "    <tr>\n",
              "      <th>1986</th>\n",
              "      <td>MBBS, MD - Dermatology , Venereology &amp; Leprosy</td>\n",
              "      <td>8</td>\n",
              "      <td>10.0</td>\n",
              "      <td>Chennai</td>\n",
              "      <td>Dermatologists</td>\n",
              "    </tr>\n",
              "  </tbody>\n",
              "</table>\n",
              "<p>1987 rows × 5 columns</p>\n",
              "</div>"
            ],
            "text/plain": [
              "                                        Qualification  ...           Profile\n",
              "0                                                MBBS  ...  General Medicine\n",
              "1          MBBS, Diploma in Otorhinolaryngology (DLO)  ...    ENT Specialist\n",
              "2                                          MBBS, DDVL  ...    Dermatologists\n",
              "3                                                BAMS  ...          Ayurveda\n",
              "4     BDS, MDS - Conservative Dentistry & Endodontics  ...           Dentist\n",
              "...                                               ...  ...               ...\n",
              "1982                         BAMS, Doctor of Medicine  ...          Ayurveda\n",
              "1983   MD - Dermatology , Venereology & Leprosy, MBBS  ...    Dermatologists\n",
              "1984         MBBS, MD / MS - Obstetrics & Gynaecology  ...  General Medicine\n",
              "1985                                              BDS  ...           Dentist\n",
              "1986   MBBS, MD - Dermatology , Venereology & Leprosy  ...    Dermatologists\n",
              "\n",
              "[1987 rows x 5 columns]"
            ]
          },
          "metadata": {
            "tags": []
          },
          "execution_count": 87
        }
      ]
    },
    {
      "cell_type": "code",
      "metadata": {
        "id": "ePvirontNuwD"
      },
      "source": [
        "#Encoding Place and Profile Column into Numeric Values\n",
        "import sklearn\n",
        "from sklearn.preprocessing import LabelEncoder\n",
        "le=LabelEncoder()\n",
        "list1=['Place','Profile']\n",
        "for val in list1:\n",
        "    df_test[val]=le.fit_transform(df_test[val].astype(str))"
      ],
      "execution_count": 88,
      "outputs": []
    },
    {
      "cell_type": "code",
      "metadata": {
        "colab": {
          "base_uri": "https://localhost:8080/",
          "height": 414
        },
        "id": "PoUY9ZNhNx9P",
        "outputId": "f7586777-c725-42b5-d4ae-649414d081c0"
      },
      "source": [
        "df_test"
      ],
      "execution_count": 89,
      "outputs": [
        {
          "output_type": "execute_result",
          "data": {
            "text/html": [
              "<div>\n",
              "<style scoped>\n",
              "    .dataframe tbody tr th:only-of-type {\n",
              "        vertical-align: middle;\n",
              "    }\n",
              "\n",
              "    .dataframe tbody tr th {\n",
              "        vertical-align: top;\n",
              "    }\n",
              "\n",
              "    .dataframe thead th {\n",
              "        text-align: right;\n",
              "    }\n",
              "</style>\n",
              "<table border=\"1\" class=\"dataframe\">\n",
              "  <thead>\n",
              "    <tr style=\"text-align: right;\">\n",
              "      <th></th>\n",
              "      <th>Qualification</th>\n",
              "      <th>Experience</th>\n",
              "      <th>Rating</th>\n",
              "      <th>Place</th>\n",
              "      <th>Profile</th>\n",
              "    </tr>\n",
              "  </thead>\n",
              "  <tbody>\n",
              "    <tr>\n",
              "      <th>0</th>\n",
              "      <td>MBBS</td>\n",
              "      <td>35</td>\n",
              "      <td>10.0</td>\n",
              "      <td>6</td>\n",
              "      <td>4</td>\n",
              "    </tr>\n",
              "    <tr>\n",
              "      <th>1</th>\n",
              "      <td>MBBS, Diploma in Otorhinolaryngology (DLO)</td>\n",
              "      <td>31</td>\n",
              "      <td>10.0</td>\n",
              "      <td>5</td>\n",
              "      <td>3</td>\n",
              "    </tr>\n",
              "    <tr>\n",
              "      <th>2</th>\n",
              "      <td>MBBS, DDVL</td>\n",
              "      <td>40</td>\n",
              "      <td>7.0</td>\n",
              "      <td>1</td>\n",
              "      <td>2</td>\n",
              "    </tr>\n",
              "    <tr>\n",
              "      <th>3</th>\n",
              "      <td>BAMS</td>\n",
              "      <td>0</td>\n",
              "      <td>10.0</td>\n",
              "      <td>3</td>\n",
              "      <td>0</td>\n",
              "    </tr>\n",
              "    <tr>\n",
              "      <th>4</th>\n",
              "      <td>BDS, MDS - Conservative Dentistry &amp; Endodontics</td>\n",
              "      <td>16</td>\n",
              "      <td>10.0</td>\n",
              "      <td>0</td>\n",
              "      <td>1</td>\n",
              "    </tr>\n",
              "    <tr>\n",
              "      <th>...</th>\n",
              "      <td>...</td>\n",
              "      <td>...</td>\n",
              "      <td>...</td>\n",
              "      <td>...</td>\n",
              "      <td>...</td>\n",
              "    </tr>\n",
              "    <tr>\n",
              "      <th>1982</th>\n",
              "      <td>BAMS, Doctor of Medicine</td>\n",
              "      <td>10</td>\n",
              "      <td>10.0</td>\n",
              "      <td>0</td>\n",
              "      <td>0</td>\n",
              "    </tr>\n",
              "    <tr>\n",
              "      <th>1983</th>\n",
              "      <td>MD - Dermatology , Venereology &amp; Leprosy, MBBS</td>\n",
              "      <td>4</td>\n",
              "      <td>10.0</td>\n",
              "      <td>1</td>\n",
              "      <td>2</td>\n",
              "    </tr>\n",
              "    <tr>\n",
              "      <th>1984</th>\n",
              "      <td>MBBS, MD / MS - Obstetrics &amp; Gynaecology</td>\n",
              "      <td>9</td>\n",
              "      <td>10.0</td>\n",
              "      <td>1</td>\n",
              "      <td>4</td>\n",
              "    </tr>\n",
              "    <tr>\n",
              "      <th>1985</th>\n",
              "      <td>BDS</td>\n",
              "      <td>12</td>\n",
              "      <td>9.8</td>\n",
              "      <td>0</td>\n",
              "      <td>1</td>\n",
              "    </tr>\n",
              "    <tr>\n",
              "      <th>1986</th>\n",
              "      <td>MBBS, MD - Dermatology , Venereology &amp; Leprosy</td>\n",
              "      <td>8</td>\n",
              "      <td>10.0</td>\n",
              "      <td>1</td>\n",
              "      <td>2</td>\n",
              "    </tr>\n",
              "  </tbody>\n",
              "</table>\n",
              "<p>1987 rows × 5 columns</p>\n",
              "</div>"
            ],
            "text/plain": [
              "                                        Qualification  ...  Profile\n",
              "0                                                MBBS  ...        4\n",
              "1          MBBS, Diploma in Otorhinolaryngology (DLO)  ...        3\n",
              "2                                          MBBS, DDVL  ...        2\n",
              "3                                                BAMS  ...        0\n",
              "4     BDS, MDS - Conservative Dentistry & Endodontics  ...        1\n",
              "...                                               ...  ...      ...\n",
              "1982                         BAMS, Doctor of Medicine  ...        0\n",
              "1983   MD - Dermatology , Venereology & Leprosy, MBBS  ...        2\n",
              "1984         MBBS, MD / MS - Obstetrics & Gynaecology  ...        4\n",
              "1985                                              BDS  ...        1\n",
              "1986   MBBS, MD - Dermatology , Venereology & Leprosy  ...        2\n",
              "\n",
              "[1987 rows x 5 columns]"
            ]
          },
          "metadata": {
            "tags": []
          },
          "execution_count": 89
        }
      ]
    },
    {
      "cell_type": "code",
      "metadata": {
        "colab": {
          "base_uri": "https://localhost:8080/"
        },
        "id": "xCSjKpIXN99y",
        "outputId": "1cbff492-e6cf-4000-a507-fbc6796655f5"
      },
      "source": [
        "df_test['Qualification']=df_test['Qualification'].str.split(\",\")\n",
        "df_test['Qualification'].values"
      ],
      "execution_count": 90,
      "outputs": [
        {
          "output_type": "execute_result",
          "data": {
            "text/plain": [
              "array([list(['MBBS']),\n",
              "       list(['MBBS', ' Diploma in Otorhinolaryngology (DLO)']),\n",
              "       list(['MBBS', ' DDVL']), ...,\n",
              "       list(['MBBS', ' MD / MS - Obstetrics & Gynaecology']),\n",
              "       list(['BDS']),\n",
              "       list(['MBBS', ' MD - Dermatology ', ' Venereology & Leprosy'])],\n",
              "      dtype=object)"
            ]
          },
          "metadata": {
            "tags": []
          },
          "execution_count": 90
        }
      ]
    },
    {
      "cell_type": "code",
      "metadata": {
        "colab": {
          "base_uri": "https://localhost:8080/"
        },
        "id": "Ki1E_p7VOKc9",
        "outputId": "49b039ab-cc9f-467f-f179-667d2f916168"
      },
      "source": [
        "Qual_test={}\n",
        "\n",
        "for y in df_test['Qualification'].values:\n",
        "    for each_t in y:\n",
        "        each_t=each_t.strip()\n",
        "        if each_t in Qual_test:\n",
        "            Qual_test[each_t]+=1\n",
        "        else:\n",
        "            Qual_test[each_t]=1\n",
        "            \n",
        "print(Qual_test)"
      ],
      "execution_count": 91,
      "outputs": [
        {
          "output_type": "stream",
          "text": [
            "{'MBBS': 980, 'Diploma in Otorhinolaryngology (DLO)': 85, 'DDVL': 67, 'BAMS': 243, 'BDS': 428, 'MDS - Conservative Dentistry & Endodontics': 34, 'MDS': 21, 'MDS - Pedodontics': 10, 'MD - Ayurveda Medicine': 41, 'Yoga Teachers Training Course': 2, 'M. D. IN KAYACHIKISTA': 2, 'BHMS': 249, 'FCD - Diabetology': 2, 'DDV': 38, 'MD - Dermatology': 196, 'MS - ENT': 128, 'DNB - ENT': 39, 'MNAMS (Membership of the National Academy)': 3, 'Diploma in Naturopathy & Yogic Science (DNYS)': 1, 'Diploma in Diet and Nutrition': 4, 'Diploma in Cosmetology': 5, 'PG Diploma In Clinical Cosmetology (PGDCC)': 4, 'MDS - Periodontics': 13, 'MDS- Oral Pathology': 1, 'MD - General Medicine': 99, 'DNB - Otorhinolaryngology': 15, 'PhD - Endodontics': 1, 'BSc': 3, 'LCEH': 6, 'DGO': 4, 'MD - Obstetrics & Gynaecology': 5, 'MD - Homeopathy': 62, 'DM - Oncology': 1, 'DNB - Dermatology': 5, 'Venereology & Leprosy': 91, 'DVD': 11, 'MS - Otorhinolaryngology': 42, 'Fellowship in Aesthetic Medicine': 5, 'Fellowship in Oral implantlogy': 8, 'MS - Ophthalmology': 3, 'PGCR': 2, 'MS - Counselling and Psychotherapy': 4, 'Certificate Course in Advanced Homoeopathy (C.C.A.H)': 4, 'FRCS - Otolaryngology': 2, 'Diploma in Acupuncture': 3, 'MD - Medicine': 34, 'DM - Cardiology': 10, 'Post-Graduate Certificate in Oral Implantology (PGCOI)': 2, 'MDS - Periodontology and Oral Implantology': 18, 'DM - Nephrology': 3, 'MD - Internal Medicine': 24, 'FRGUHS': 7, 'FRCS - General Surgery': 7, 'MDS - Oral & Maxillofacial Surgery': 32, 'Fellowship in Cleft Lip & Palate': 1, 'Fellowship in TMJ Surgery': 1, 'Post Graduate Diploma in Diabetology (PGDD)(Madras Medical College)': 3, 'Certificate in Dental Implants': 6, 'MDS - Oral Medicine and Radiology': 5, 'Certification in Aesthetic Dentistry': 4, 'Certification in Full Mouth Rehabilitation': 3, 'MDS - Orthodontics and Dentofacial Orthopaedics': 14, 'DNB - General Medicine': 27, 'Fellowship in Diabetology': 12, 'DAA - Diploma in Allergy Asthma and Immunology': 2, 'Certificate in Pulmonology': 1, 'MD - Tuberculosis & Respiratory Diseases/Medicine': 2, 'Fellowship In Cosmetic Dermatology': 2, 'B.Sc': 6, 'FCCP - Pulmonary Medicine': 4, 'MS - General Surgery': 15, 'MRCOG(UK)': 3, 'Diploma of the Faculty of Family Planning (DFFP)': 3, 'DRCOG': 2, 'Member of the Royal College of General Practitioners UK (MRCGP)': 1, 'Fellowship in Diabetes (UK)': 2, 'MDS - Paedodontics And Preventive Dentistry': 17, 'MS - Psychology': 6, 'Fellow of Academy of General Education (FAGE)': 14, 'MD - Skin & VD': 10, 'DNB': 19, 'MDS - Orthodontics': 22, 'Diploma in Dermatology': 19, 'MD - Pulmonary Medicine': 1, 'MD - Tuberculosis & Respiratory Diseases / Pulmonary Medicine': 2, 'MDS - Prosthodontist And Crown Bridge': 21, 'Diploma in Orthopaedics': 2, 'MDS - Prosthodontics': 17, 'Diploma in Aesthetic Medicine': 4, 'Diploma in Tuberculosis and Chest Diseases (DTCD)': 4, 'DNB -Chest': 1, 'Post Graduate Diploma in Diabetes': 3, 'Diploma in Laser Dentistry': 3, 'Diploma in Anesthesiology': 3, 'Certificate in Acupuncture': 1, \"Yoga Instructor's Course\": 3, 'Diploma in Nutrition and Health Education': 2, 'DNB - Family Medicine': 8, 'MRCS (UK)': 4, 'PGDPC (Post Graduation Diploma In Psychological Counselling)': 4, 'PGD Yoga': 1, 'MBA - Healthcare Services': 1, 'MD - Physician': 6, 'Membership of the Faculty of Dental Surgeons(MFDS)': 1, 'PGDHHM': 1, 'PGDMLS': 1, 'DNB - Dermatology & Venereology': 26, 'MNAMS - General Surgery': 1, 'PhD - Orthodontics & Dentofacial Orthopaedics': 14, 'MD - Pediatrics': 2, 'Post Graduate Diploma in Diabetology (PGDD)': 25, 'Certificate of Oral Implantology': 8, 'Doctor of Dental Surgery (DDS)': 1, 'Fellowship In Dermatosurgery': 4, 'MBA - Hospital Management': 6, 'Fellowship in Cosmetology': 2, 'FRCS': 1, 'Dip Otolaryngology and Head and neck Surgery': 1, 'MF- Homeopathy': 1, 'MSc - Psychotherapy And Counselling': 1, 'CCEBDM': 3, 'Diploma in Laparoscopy': 2, 'FRCS - General Surgery (Upper GI)': 1, 'Doctor of Homeopathic Medicine (HMD)': 2, 'DHMS (Diploma in Homeopathic Medicine and Surgery)': 15, 'Diploma in Clinical Cosmetology': 1, 'Diploma in Trichology - Cosmetology': 3, 'Post Graduate Diploma in Clinical Research (PGDCR)': 4, 'Certificate in Child Health (CCH)': 7, 'Advanced Certificate Course in Dental Implants': 2, 'MNAMS- Family Medicine': 1, 'FACP (USA)': 1, 'MD - Anatomy': 1, 'FICD': 2, 'FRCP': 3, 'MRCPS': 2, 'Diploma in Medical Law and Ethics (PGDMLE)': 2, 'MD - (Dermatology & STD)': 1, 'Diploma in Emergency Medicine': 4, 'MBA': 2, 'Fellowship in Advanced Endoscopic Sinus Surgery': 1, 'Fellowship Program in Oral Implantology and LASER Dentistry': 1, 'Fellowship in Head & Neck Surgery': 2, 'MDS - Prosthodontist & Oral Implantologist': 3, 'Diplomate from the American Board of Internal Medicine': 1, 'PhD- Ayurveda': 2, 'PGD ND': 2, 'Fellowship Program in Aesthetic Dentistry and Occlusion': 1, 'Diploma in Public Health': 1, 'MD - Community Medicine': 3, 'Fellowship in Lifestyle Medicine': 1, 'MS - Ayurveda': 5, 'Ph. D - ENT': 1, 'BSAM': 3, 'DLO': 5, 'Get inspired by remarkable stories of people like you': 6, 'Diploma in Diabetology': 3, 'Post graduate diploma in Hospital Management': 1, 'FDSRCS - Fellowship in Dental Surgery': 2, 'PG - Homeo': 3, 'Integrated therapy in Cancer': 1, 'Basic Course in Palliative Care': 1, 'Fellowship Course in Homoeopathic Dermatology': 2, 'Masters in Counselling and Psychotherapy': 2, 'FCPS - General Surgery': 2, 'CSD': 1, 'MD (HOM) - Paeditrics': 1, 'M.S. (Ayurved) Stri Roga & Prasuti Tantra': 2, 'Fellowship in laryngology': 1, 'Certificate Course in Orthodontics': 1, 'DO': 1, 'MDS- Periodontist & Implantalogist': 1, 'MCh - Surgical Gastroenterology/G.I. Surgery': 2, 'MS - Ayurvedic General Surgery': 1, 'DNB - Internal Medicine': 5, 'FICA': 1, 'Current Concepts in American Dentistry Advances in Implantology and Oral Rehabilitation': 1, 'Comprehensive Course in Modern Endodontics': 1, 'FACC': 2, 'FWFO': 1, 'FPFA': 3, 'DM - Gastroenterology': 2, 'Diploma in Family Medicine (DFM)': 4, 'Diploma in Medical Cosmetology': 3, 'Fellowship in Dermatological Laser Surgery': 3, 'MD - Family Medicine': 3, 'MSc': 4, 'Diploma in Child Health (DCH)': 11, 'DNB - Paediatrics': 2, 'MD- Ayurveda Rasashastra': 2, 'PG Dip (Medical Education)': 1, 'MBA (Health Care)': 2, 'MD - Alternate Medicine': 5, 'Diploma in Preventive & Promotive Healthcare': 1, 'Implant Training Course- Nobel Biocare': 1, 'Certificate Course in Evidence Based Diabetes Management (CCEBDM)': 3, 'DNHE': 5, 'Diploma in Clinical Nutrition': 1, 'FCPS - Oto-Rhino-Laryngology': 1, 'Certification for Professional Chemical Peel Workshop': 1, 'MD - Pharmacology': 2, 'Fellowship of College of General Practice (FCGP)': 2, 'Fellow of the American Academy of Dermatology (FAAD)': 6, 'MBA (HCS)': 1, 'Postgraduate Diploma Clinical Cardiology (PGDCC)': 3, 'MASTERS IN MEDICAL SCIENCE AND TECHNOLOGY': 1, 'MDS-Oral Pathology and Oral Microbiology': 1, 'Diploma in Health Administration': 4, 'Fellowship and Diplomate in Implantology from ICOI (USA)': 2, 'DICOI': 1, 'PGDHA': 2, 'MRCP - General Medicine': 1, 'F.C.P.S (Dermatology)': 2, 'Training in Surgical Oncology': 1, 'Post Graduate Course in Diabetology': 2, 'DipFM': 1, 'Diploma in Geriatric Medicine': 1, 'Certificate Course in Kshar Sutra Surgery': 1, 'DORL (ENT)': 1, 'Diploma in Cardiology': 2, 'MD - Oncology': 2, 'MA - Clinical Psychology': 1, 'PG in Diabetology': 3, 'FCCP': 2, 'Diploma of The Australian Institute of Dermatology': 1, 'PG Diploma in Endocrinology': 2, 'FESC': 1, 'BSc - Dietitics / Nutrition': 2, 'CCEDM': 1, 'FIAMS': 2, 'Certificate in Food and Nutrition': 3, 'Diploma in Dietatics & Clinical Nutrition': 1, 'Fellowship in Diabetology(Johns Hopkins University School of Medicine': 2, 'USA)': 3, 'Diploma in Hospital Administration': 3, 'Fellowship in Cosmetology and Dermatosurgery': 1, 'MS - Paediatrics Surgery': 1, 'DVL - Dermatology & Venereology': 1, 'DMS': 1, 'MS - Counselling & Psychotherapy': 1, 'Advanced Certificate Course In Diabetes': 1, 'Post Graduate Diploma in Diabetology (PGDD)(University of Leicester': 2, 'UK)': 2, 'Master of Clinical Embryology': 1, 'Diploma of Clinical Hypnotherapy': 1, 'B.Sc - Zoology (Hons.)': 1, 'Post Graduate Diploma in Emergency Medical Services': 2, 'FCPS - Dermatology': 3, 'DNB - Nephrology': 2, 'MNAMS - DERMATOLOGY': 2, 'Post Graduate Diploma in Emergency Services (PGDEMS)': 3, 'CGO': 2, 'Fellowship in Emergency Medicine': 1, 'Professional Implantology Training Course (PITC)': 1, 'Advanced Surgical Training In Implants': 1, 'MCh - Neuro Surgery': 1, 'FCPS - Mid. & Gynae': 1, 'DHM': 2, 'MDS - Operative Dentistry': 2, 'Post Graduate Diploma In Aesthetic & Restorative Dentistry': 1, 'MCh - Oncology': 1, 'DM - Neurology': 1, 'Fellowship in Rhinology and Endoscopic Skull Base Surgery': 1, 'MD - Skin': 7, 'VD & Leprosy': 7, 'Post Graduate Certificate in Endodontics (PGCE)': 2, 'D.D': 1, 'PhD - Dermatology & Venereology': 1, 'MD - Microbiology': 1, 'PG in Clinical Nutrition and Dietetics': 1, 'MD-DVL': 1, 'DNB - Obstetrics & Gynecology': 1, 'Diploma in Practical Dermatology': 2, 'MRCGP': 4, 'Certificate of Completion of Specialist Training- Transplant Surgery (CCST-TS)': 1, 'Fellowship In Interventional Cardiology': 1, 'MS - MS.Medicine': 1, 'FAMS - Fellowship of the Academy Medicine': 2, 'MS - Orthopaedics': 2, 'MDS - Endodontics': 5, 'Post Graduate Diploma in Maternity and Child Health (PGDMCH)': 2, 'Master of Public Health (MPH)': 2, 'Fellowship in Nephrology': 1, 'Certificate Course in Implantology': 1, 'Certificate in Aesthetic Medicine': 2, 'Certified in Inhalational Sedation': 1, 'PG Diploma in Preventive and Promotive Health Care (PGD PPHC)': 1, 'MSc. - Food Service Management & Dietetics': 1, 'Certificate in Yoga & Meditation': 1, 'MD - Physiology': 1, 'AFIH': 3, 'Diploma in Diabetes Management Certificate Program': 1, 'Certificate in Cosmetic Dentistry': 2, 'Post Graduate Diploma in Psychological Counseling': 1, 'MDS - Public Health Dentistry': 1, 'Certificate in Cosmetology': 1, 'DOMS': 1, 'BSc - Zoology': 1, 'Diploma in ENT': 5, 'Diploma in Clinical Dermatology (UK)': 2, 'Diploma in Ayurvedic Medicine (DAM)': 1, 'M.Med in Family Medicine': 1, 'post graduate diploma in health Sciences in diabetology': 1, 'Post Graduate Diploma in Dermotology (PGDD)': 1, 'Certified in Ayurveda Approach to Diabetes mellitus': 1, 'Certified in Ayurveda Beauty care': 1, 'PG Diploma in Panchakarma': 2, 'Master of Hospital Administration': 1, 'DNB - Respiratory Diseases': 1, 'P.G Diploma in Diabetes Management': 1, 'Fellowship in Clinical Cardiology': 1, 'Diploma in International Academy of Aesthestic Medicine': 1, 'BPTh/BPT': 1, 'Masters Of Physiotheraphy': 1, 'Diploma in Hospital Management': 1, 'Certificate in Orthodontics': 1, 'European Diploma in Intensive Care Medicine (EDIC)': 1, 'MD - TB & Chest': 1, 'MDS - Oral Medicine': 1, 'Fellowship In Critical Care': 1, 'Fellowship in Rheumatology': 2, 'PG Diploma in Conservative': 1, 'Endodontics and Aesthetic Dentistry': 1, 'Fellowship In Clinical Cosmetology': 1, 'Diploma in Cosmetic Dentistry': 1, 'Advanced Retreatment Course in RCT': 1, 'Advanced Endotontic Course On Root Canal': 1, 'Certified Course in Oral Surgery': 1, 'MIDA': 1, 'Certification in Prosthodontics & Periodontology': 1, 'Certified Advanced Course in Wisdom Tooth Extraction': 1, 'Fellowship in Aesthetic Dentistry (FAD)': 1, 'Specialized Training in Otology': 2, 'Fellowship in Head & Neck Oncology Surgery': 3, 'Advanced Endoscopy Training': 1, 'Cochlear Implant Surgery': 1, 'Advance Course on Diagnosis of Allergy and Immunotherapy': 1, 'MD - Dental Laser': 1, 'Fellowship in Medical Cosmetology': 1, 'MD - Aerospace Medicine': 1, 'DIH': 1, 'Post Graduate Diploma In Yoga': 3, 'MSc - Clinical Dermatology': 2, 'Post Graduate Diploma in Medical Law and Ethics': 1, 'Msc Clinical Research & Regulatory Affairs': 1, 'PGCAD': 1, 'MD - Cardiology': 1, 'Diploma in Obesity & Pain management': 1, 'Certification in Clear Aligners': 1, 'CCT - Endocrinology and Diabetes Mellitus': 1, 'Certificate Course in Gestational Diabetes Mellitus': 1, 'M.H.Sc-Diabetology': 1, 'DNB - Pediatrics': 2, 'M.D. (Ayu.)': 1, 'Panchkarma': 1, 'Consultant Rheumatologist (Ayu.)': 1, 'DYSc.': 1, 'Diploma In Skin Aesthetics': 1, 'MRCP (UK)': 2, 'Fellowship In Phonosurgery': 1, 'PhD - Medicine': 1, 'Certification In Yoga': 1, 'DM - Medical Oncology': 1, 'Certificate Course In Cosmetic Dermatology & Lasers': 1, 'MD - Practice Of Medicine': 1, 'DPM (Psychiatry)': 2, 'MD - Yoga and Rehab': 1, 'MAMS': 1, 'PG Diploma In Emergency Trauma Care': 1, 'ACLS': 1, 'Fellowship in Pediatric Dermatology': 1, 'Fellowship IN FUE Hair Transplant Technique': 1, 'PG Diploma in Human Rights': 1, 'MD - Panchakarma': 1, 'Certification Course In Diabetes': 1, 'Certification in Laser Dentistry': 1, 'DNB - Ophthalmology': 1, 'Fellowship in Sexual Medicine': 1, 'MDS - Community Dentistry': 1, 'MD-Ayurvedic Vachaspati': 1, 'Fellowship in Neuro-Otology and Skull Base Surgery (USA)': 1, 'Invisalign Training Course': 1, 'MCh - Urology': 1, 'DNB - Urology/Genito - Urinary Surgery': 1, 'DVL': 2, 'Fellowship in Medical Cosmetology (FMC)': 1, 'Master of Arts - Yoga': 1, 'Fellowship in Skull Base Surgery': 1, 'Diploma in Opthalmology': 1, 'M.Phil - Psychology': 1, 'MSc - Applied Psychology': 1, 'MS - Otrohinolaryngology': 1, 'FICOI': 1, 'DEHM': 1, 'BEMS': 1, 'MSc - Yoga': 2, 'DPH & H': 1, 'Fellowship in Paediatric gastroenterology & Hepatology': 1, 'Fellowship In Transplant Hepatology': 1, 'F.A.M': 1, 'PG in Diabetology(Johns Hopkins University School of Medicine': 1, 'DNB - Neurology': 2, 'MD - Homeopathy Psychiatry': 1, 'PhD - Homoeopathy': 1, 'MD - Diabetology': 1, 'M.D. (Psychiatry)': 1, 'Diploma in Diabetes': 1, 'DHMS': 1, 'MCh - Plastic Surgery': 1, 'Graduate Diploma in Family Medicine': 1, 'Singapore': 1, 'DM - Pulmonary Medicine': 1, 'DM - Critical Care Medicine': 1, 'Diploma in Dermatology (Alt)': 1, 'Certificate in Dental Implantology': 1, 'MDS - Oral Pathology & Bacteriology': 1, 'MOrth': 1, 'Post Graduate Diploma in Family Medicine (PGDFM)': 1, 'FDIAB': 1, 'MD - Rheumatology': 1, 'PGDHSc': 1, 'D-Pharm': 1, 'Fellowship in Diabetes Management': 1, 'MD - Acupuncture': 1, 'FRCP - Internal Medicine': 1, 'FAIS': 1, 'FIAGES': 1, 'Doctor of Medicine': 1, 'MD / MS - Obstetrics & Gynaecology': 1}\n"
          ],
          "name": "stdout"
        }
      ]
    },
    {
      "cell_type": "code",
      "metadata": {
        "colab": {
          "base_uri": "https://localhost:8080/"
        },
        "id": "UC_r_KuLOY9e",
        "outputId": "c3d14239-22bf-4341-a5a0-79f54b0c81ec"
      },
      "source": [
        "most_qual_test=sorted(Qual_test.items(),key=lambda x:x[1],reverse=True)[:10]\n",
        "most_qual_test"
      ],
      "execution_count": 92,
      "outputs": [
        {
          "output_type": "execute_result",
          "data": {
            "text/plain": [
              "[('MBBS', 980),\n",
              " ('BDS', 428),\n",
              " ('BHMS', 249),\n",
              " ('BAMS', 243),\n",
              " ('MD - Dermatology', 196),\n",
              " ('MS - ENT', 128),\n",
              " ('MD - General Medicine', 99),\n",
              " ('Venereology & Leprosy', 91),\n",
              " ('Diploma in Otorhinolaryngology (DLO)', 85),\n",
              " ('DDVL', 67)]"
            ]
          },
          "metadata": {
            "tags": []
          },
          "execution_count": 92
        }
      ]
    },
    {
      "cell_type": "code",
      "metadata": {
        "colab": {
          "base_uri": "https://localhost:8080/"
        },
        "id": "CAx-T3W5Obot",
        "outputId": "6be37b17-2f97-46e6-f198-a74520cb40fe"
      },
      "source": [
        "final_qual_test=[]\n",
        "for qt in most_qual_test:\n",
        "    final_qual_test.append(qt[0])\n",
        "\n",
        "print(final_qual_test)"
      ],
      "execution_count": 93,
      "outputs": [
        {
          "output_type": "stream",
          "text": [
            "['MBBS', 'BDS', 'BHMS', 'BAMS', 'MD - Dermatology', 'MS - ENT', 'MD - General Medicine', 'Venereology & Leprosy', 'Diploma in Otorhinolaryngology (DLO)', 'DDVL']\n"
          ],
          "name": "stdout"
        }
      ]
    },
    {
      "cell_type": "code",
      "metadata": {
        "id": "uKaGD20uOd2W"
      },
      "source": [
        "for qft in final_qual_test:\n",
        "    df_test[qft]=0\n",
        "    \n",
        "for x,y in zip(df_test['Qualification'].values,np.array([i for i in range(len(df_test))])):\n",
        "    for c in x:\n",
        "        c=c.strip()\n",
        "        if c in final_qual_test:\n",
        "            df_test[c][y]=1"
      ],
      "execution_count": 94,
      "outputs": []
    },
    {
      "cell_type": "code",
      "metadata": {
        "colab": {
          "base_uri": "https://localhost:8080/",
          "height": 684
        },
        "id": "-3CFtYK1Ofpn",
        "outputId": "08e2b9e9-ccfc-487d-ea2c-df5c53a2ed7f"
      },
      "source": [
        "df_test"
      ],
      "execution_count": 95,
      "outputs": [
        {
          "output_type": "execute_result",
          "data": {
            "text/html": [
              "<div>\n",
              "<style scoped>\n",
              "    .dataframe tbody tr th:only-of-type {\n",
              "        vertical-align: middle;\n",
              "    }\n",
              "\n",
              "    .dataframe tbody tr th {\n",
              "        vertical-align: top;\n",
              "    }\n",
              "\n",
              "    .dataframe thead th {\n",
              "        text-align: right;\n",
              "    }\n",
              "</style>\n",
              "<table border=\"1\" class=\"dataframe\">\n",
              "  <thead>\n",
              "    <tr style=\"text-align: right;\">\n",
              "      <th></th>\n",
              "      <th>Qualification</th>\n",
              "      <th>Experience</th>\n",
              "      <th>Rating</th>\n",
              "      <th>Place</th>\n",
              "      <th>Profile</th>\n",
              "      <th>MBBS</th>\n",
              "      <th>BDS</th>\n",
              "      <th>BHMS</th>\n",
              "      <th>BAMS</th>\n",
              "      <th>MD - Dermatology</th>\n",
              "      <th>MS - ENT</th>\n",
              "      <th>MD - General Medicine</th>\n",
              "      <th>Venereology &amp; Leprosy</th>\n",
              "      <th>Diploma in Otorhinolaryngology (DLO)</th>\n",
              "      <th>DDVL</th>\n",
              "    </tr>\n",
              "  </thead>\n",
              "  <tbody>\n",
              "    <tr>\n",
              "      <th>0</th>\n",
              "      <td>[MBBS]</td>\n",
              "      <td>35</td>\n",
              "      <td>10.0</td>\n",
              "      <td>6</td>\n",
              "      <td>4</td>\n",
              "      <td>1</td>\n",
              "      <td>0</td>\n",
              "      <td>0</td>\n",
              "      <td>0</td>\n",
              "      <td>0</td>\n",
              "      <td>0</td>\n",
              "      <td>0</td>\n",
              "      <td>0</td>\n",
              "      <td>0</td>\n",
              "      <td>0</td>\n",
              "    </tr>\n",
              "    <tr>\n",
              "      <th>1</th>\n",
              "      <td>[MBBS,  Diploma in Otorhinolaryngology (DLO)]</td>\n",
              "      <td>31</td>\n",
              "      <td>10.0</td>\n",
              "      <td>5</td>\n",
              "      <td>3</td>\n",
              "      <td>1</td>\n",
              "      <td>0</td>\n",
              "      <td>0</td>\n",
              "      <td>0</td>\n",
              "      <td>0</td>\n",
              "      <td>0</td>\n",
              "      <td>0</td>\n",
              "      <td>0</td>\n",
              "      <td>1</td>\n",
              "      <td>0</td>\n",
              "    </tr>\n",
              "    <tr>\n",
              "      <th>2</th>\n",
              "      <td>[MBBS,  DDVL]</td>\n",
              "      <td>40</td>\n",
              "      <td>7.0</td>\n",
              "      <td>1</td>\n",
              "      <td>2</td>\n",
              "      <td>1</td>\n",
              "      <td>0</td>\n",
              "      <td>0</td>\n",
              "      <td>0</td>\n",
              "      <td>0</td>\n",
              "      <td>0</td>\n",
              "      <td>0</td>\n",
              "      <td>0</td>\n",
              "      <td>0</td>\n",
              "      <td>1</td>\n",
              "    </tr>\n",
              "    <tr>\n",
              "      <th>3</th>\n",
              "      <td>[BAMS]</td>\n",
              "      <td>0</td>\n",
              "      <td>10.0</td>\n",
              "      <td>3</td>\n",
              "      <td>0</td>\n",
              "      <td>0</td>\n",
              "      <td>0</td>\n",
              "      <td>0</td>\n",
              "      <td>1</td>\n",
              "      <td>0</td>\n",
              "      <td>0</td>\n",
              "      <td>0</td>\n",
              "      <td>0</td>\n",
              "      <td>0</td>\n",
              "      <td>0</td>\n",
              "    </tr>\n",
              "    <tr>\n",
              "      <th>4</th>\n",
              "      <td>[BDS,  MDS - Conservative Dentistry &amp; Endodont...</td>\n",
              "      <td>16</td>\n",
              "      <td>10.0</td>\n",
              "      <td>0</td>\n",
              "      <td>1</td>\n",
              "      <td>0</td>\n",
              "      <td>1</td>\n",
              "      <td>0</td>\n",
              "      <td>0</td>\n",
              "      <td>0</td>\n",
              "      <td>0</td>\n",
              "      <td>0</td>\n",
              "      <td>0</td>\n",
              "      <td>0</td>\n",
              "      <td>0</td>\n",
              "    </tr>\n",
              "    <tr>\n",
              "      <th>...</th>\n",
              "      <td>...</td>\n",
              "      <td>...</td>\n",
              "      <td>...</td>\n",
              "      <td>...</td>\n",
              "      <td>...</td>\n",
              "      <td>...</td>\n",
              "      <td>...</td>\n",
              "      <td>...</td>\n",
              "      <td>...</td>\n",
              "      <td>...</td>\n",
              "      <td>...</td>\n",
              "      <td>...</td>\n",
              "      <td>...</td>\n",
              "      <td>...</td>\n",
              "      <td>...</td>\n",
              "    </tr>\n",
              "    <tr>\n",
              "      <th>1982</th>\n",
              "      <td>[BAMS,  Doctor of Medicine]</td>\n",
              "      <td>10</td>\n",
              "      <td>10.0</td>\n",
              "      <td>0</td>\n",
              "      <td>0</td>\n",
              "      <td>0</td>\n",
              "      <td>0</td>\n",
              "      <td>0</td>\n",
              "      <td>1</td>\n",
              "      <td>0</td>\n",
              "      <td>0</td>\n",
              "      <td>0</td>\n",
              "      <td>0</td>\n",
              "      <td>0</td>\n",
              "      <td>0</td>\n",
              "    </tr>\n",
              "    <tr>\n",
              "      <th>1983</th>\n",
              "      <td>[MD - Dermatology ,  Venereology &amp; Leprosy,  M...</td>\n",
              "      <td>4</td>\n",
              "      <td>10.0</td>\n",
              "      <td>1</td>\n",
              "      <td>2</td>\n",
              "      <td>1</td>\n",
              "      <td>0</td>\n",
              "      <td>0</td>\n",
              "      <td>0</td>\n",
              "      <td>1</td>\n",
              "      <td>0</td>\n",
              "      <td>0</td>\n",
              "      <td>1</td>\n",
              "      <td>0</td>\n",
              "      <td>0</td>\n",
              "    </tr>\n",
              "    <tr>\n",
              "      <th>1984</th>\n",
              "      <td>[MBBS,  MD / MS - Obstetrics &amp; Gynaecology]</td>\n",
              "      <td>9</td>\n",
              "      <td>10.0</td>\n",
              "      <td>1</td>\n",
              "      <td>4</td>\n",
              "      <td>1</td>\n",
              "      <td>0</td>\n",
              "      <td>0</td>\n",
              "      <td>0</td>\n",
              "      <td>0</td>\n",
              "      <td>0</td>\n",
              "      <td>0</td>\n",
              "      <td>0</td>\n",
              "      <td>0</td>\n",
              "      <td>0</td>\n",
              "    </tr>\n",
              "    <tr>\n",
              "      <th>1985</th>\n",
              "      <td>[BDS]</td>\n",
              "      <td>12</td>\n",
              "      <td>9.8</td>\n",
              "      <td>0</td>\n",
              "      <td>1</td>\n",
              "      <td>0</td>\n",
              "      <td>1</td>\n",
              "      <td>0</td>\n",
              "      <td>0</td>\n",
              "      <td>0</td>\n",
              "      <td>0</td>\n",
              "      <td>0</td>\n",
              "      <td>0</td>\n",
              "      <td>0</td>\n",
              "      <td>0</td>\n",
              "    </tr>\n",
              "    <tr>\n",
              "      <th>1986</th>\n",
              "      <td>[MBBS,  MD - Dermatology ,  Venereology &amp; Lepr...</td>\n",
              "      <td>8</td>\n",
              "      <td>10.0</td>\n",
              "      <td>1</td>\n",
              "      <td>2</td>\n",
              "      <td>1</td>\n",
              "      <td>0</td>\n",
              "      <td>0</td>\n",
              "      <td>0</td>\n",
              "      <td>1</td>\n",
              "      <td>0</td>\n",
              "      <td>0</td>\n",
              "      <td>1</td>\n",
              "      <td>0</td>\n",
              "      <td>0</td>\n",
              "    </tr>\n",
              "  </tbody>\n",
              "</table>\n",
              "<p>1987 rows × 15 columns</p>\n",
              "</div>"
            ],
            "text/plain": [
              "                                          Qualification  ...  DDVL\n",
              "0                                                [MBBS]  ...     0\n",
              "1         [MBBS,  Diploma in Otorhinolaryngology (DLO)]  ...     0\n",
              "2                                         [MBBS,  DDVL]  ...     1\n",
              "3                                                [BAMS]  ...     0\n",
              "4     [BDS,  MDS - Conservative Dentistry & Endodont...  ...     0\n",
              "...                                                 ...  ...   ...\n",
              "1982                        [BAMS,  Doctor of Medicine]  ...     0\n",
              "1983  [MD - Dermatology ,  Venereology & Leprosy,  M...  ...     0\n",
              "1984        [MBBS,  MD / MS - Obstetrics & Gynaecology]  ...     0\n",
              "1985                                              [BDS]  ...     0\n",
              "1986  [MBBS,  MD - Dermatology ,  Venereology & Lepr...  ...     0\n",
              "\n",
              "[1987 rows x 15 columns]"
            ]
          },
          "metadata": {
            "tags": []
          },
          "execution_count": 95
        }
      ]
    },
    {
      "cell_type": "code",
      "metadata": {
        "colab": {
          "base_uri": "https://localhost:8080/",
          "height": 447
        },
        "id": "JoOPqFC4Ohzs",
        "outputId": "253780fe-9dd6-4881-82cc-27ec29f1d925"
      },
      "source": [
        "df_test.drop(['Qualification'],axis=1,inplace=True)\n",
        "df_test"
      ],
      "execution_count": 96,
      "outputs": [
        {
          "output_type": "execute_result",
          "data": {
            "text/html": [
              "<div>\n",
              "<style scoped>\n",
              "    .dataframe tbody tr th:only-of-type {\n",
              "        vertical-align: middle;\n",
              "    }\n",
              "\n",
              "    .dataframe tbody tr th {\n",
              "        vertical-align: top;\n",
              "    }\n",
              "\n",
              "    .dataframe thead th {\n",
              "        text-align: right;\n",
              "    }\n",
              "</style>\n",
              "<table border=\"1\" class=\"dataframe\">\n",
              "  <thead>\n",
              "    <tr style=\"text-align: right;\">\n",
              "      <th></th>\n",
              "      <th>Experience</th>\n",
              "      <th>Rating</th>\n",
              "      <th>Place</th>\n",
              "      <th>Profile</th>\n",
              "      <th>MBBS</th>\n",
              "      <th>BDS</th>\n",
              "      <th>BHMS</th>\n",
              "      <th>BAMS</th>\n",
              "      <th>MD - Dermatology</th>\n",
              "      <th>MS - ENT</th>\n",
              "      <th>MD - General Medicine</th>\n",
              "      <th>Venereology &amp; Leprosy</th>\n",
              "      <th>Diploma in Otorhinolaryngology (DLO)</th>\n",
              "      <th>DDVL</th>\n",
              "    </tr>\n",
              "  </thead>\n",
              "  <tbody>\n",
              "    <tr>\n",
              "      <th>0</th>\n",
              "      <td>35</td>\n",
              "      <td>10.0</td>\n",
              "      <td>6</td>\n",
              "      <td>4</td>\n",
              "      <td>1</td>\n",
              "      <td>0</td>\n",
              "      <td>0</td>\n",
              "      <td>0</td>\n",
              "      <td>0</td>\n",
              "      <td>0</td>\n",
              "      <td>0</td>\n",
              "      <td>0</td>\n",
              "      <td>0</td>\n",
              "      <td>0</td>\n",
              "    </tr>\n",
              "    <tr>\n",
              "      <th>1</th>\n",
              "      <td>31</td>\n",
              "      <td>10.0</td>\n",
              "      <td>5</td>\n",
              "      <td>3</td>\n",
              "      <td>1</td>\n",
              "      <td>0</td>\n",
              "      <td>0</td>\n",
              "      <td>0</td>\n",
              "      <td>0</td>\n",
              "      <td>0</td>\n",
              "      <td>0</td>\n",
              "      <td>0</td>\n",
              "      <td>1</td>\n",
              "      <td>0</td>\n",
              "    </tr>\n",
              "    <tr>\n",
              "      <th>2</th>\n",
              "      <td>40</td>\n",
              "      <td>7.0</td>\n",
              "      <td>1</td>\n",
              "      <td>2</td>\n",
              "      <td>1</td>\n",
              "      <td>0</td>\n",
              "      <td>0</td>\n",
              "      <td>0</td>\n",
              "      <td>0</td>\n",
              "      <td>0</td>\n",
              "      <td>0</td>\n",
              "      <td>0</td>\n",
              "      <td>0</td>\n",
              "      <td>1</td>\n",
              "    </tr>\n",
              "    <tr>\n",
              "      <th>3</th>\n",
              "      <td>0</td>\n",
              "      <td>10.0</td>\n",
              "      <td>3</td>\n",
              "      <td>0</td>\n",
              "      <td>0</td>\n",
              "      <td>0</td>\n",
              "      <td>0</td>\n",
              "      <td>1</td>\n",
              "      <td>0</td>\n",
              "      <td>0</td>\n",
              "      <td>0</td>\n",
              "      <td>0</td>\n",
              "      <td>0</td>\n",
              "      <td>0</td>\n",
              "    </tr>\n",
              "    <tr>\n",
              "      <th>4</th>\n",
              "      <td>16</td>\n",
              "      <td>10.0</td>\n",
              "      <td>0</td>\n",
              "      <td>1</td>\n",
              "      <td>0</td>\n",
              "      <td>1</td>\n",
              "      <td>0</td>\n",
              "      <td>0</td>\n",
              "      <td>0</td>\n",
              "      <td>0</td>\n",
              "      <td>0</td>\n",
              "      <td>0</td>\n",
              "      <td>0</td>\n",
              "      <td>0</td>\n",
              "    </tr>\n",
              "    <tr>\n",
              "      <th>...</th>\n",
              "      <td>...</td>\n",
              "      <td>...</td>\n",
              "      <td>...</td>\n",
              "      <td>...</td>\n",
              "      <td>...</td>\n",
              "      <td>...</td>\n",
              "      <td>...</td>\n",
              "      <td>...</td>\n",
              "      <td>...</td>\n",
              "      <td>...</td>\n",
              "      <td>...</td>\n",
              "      <td>...</td>\n",
              "      <td>...</td>\n",
              "      <td>...</td>\n",
              "    </tr>\n",
              "    <tr>\n",
              "      <th>1982</th>\n",
              "      <td>10</td>\n",
              "      <td>10.0</td>\n",
              "      <td>0</td>\n",
              "      <td>0</td>\n",
              "      <td>0</td>\n",
              "      <td>0</td>\n",
              "      <td>0</td>\n",
              "      <td>1</td>\n",
              "      <td>0</td>\n",
              "      <td>0</td>\n",
              "      <td>0</td>\n",
              "      <td>0</td>\n",
              "      <td>0</td>\n",
              "      <td>0</td>\n",
              "    </tr>\n",
              "    <tr>\n",
              "      <th>1983</th>\n",
              "      <td>4</td>\n",
              "      <td>10.0</td>\n",
              "      <td>1</td>\n",
              "      <td>2</td>\n",
              "      <td>1</td>\n",
              "      <td>0</td>\n",
              "      <td>0</td>\n",
              "      <td>0</td>\n",
              "      <td>1</td>\n",
              "      <td>0</td>\n",
              "      <td>0</td>\n",
              "      <td>1</td>\n",
              "      <td>0</td>\n",
              "      <td>0</td>\n",
              "    </tr>\n",
              "    <tr>\n",
              "      <th>1984</th>\n",
              "      <td>9</td>\n",
              "      <td>10.0</td>\n",
              "      <td>1</td>\n",
              "      <td>4</td>\n",
              "      <td>1</td>\n",
              "      <td>0</td>\n",
              "      <td>0</td>\n",
              "      <td>0</td>\n",
              "      <td>0</td>\n",
              "      <td>0</td>\n",
              "      <td>0</td>\n",
              "      <td>0</td>\n",
              "      <td>0</td>\n",
              "      <td>0</td>\n",
              "    </tr>\n",
              "    <tr>\n",
              "      <th>1985</th>\n",
              "      <td>12</td>\n",
              "      <td>9.8</td>\n",
              "      <td>0</td>\n",
              "      <td>1</td>\n",
              "      <td>0</td>\n",
              "      <td>1</td>\n",
              "      <td>0</td>\n",
              "      <td>0</td>\n",
              "      <td>0</td>\n",
              "      <td>0</td>\n",
              "      <td>0</td>\n",
              "      <td>0</td>\n",
              "      <td>0</td>\n",
              "      <td>0</td>\n",
              "    </tr>\n",
              "    <tr>\n",
              "      <th>1986</th>\n",
              "      <td>8</td>\n",
              "      <td>10.0</td>\n",
              "      <td>1</td>\n",
              "      <td>2</td>\n",
              "      <td>1</td>\n",
              "      <td>0</td>\n",
              "      <td>0</td>\n",
              "      <td>0</td>\n",
              "      <td>1</td>\n",
              "      <td>0</td>\n",
              "      <td>0</td>\n",
              "      <td>1</td>\n",
              "      <td>0</td>\n",
              "      <td>0</td>\n",
              "    </tr>\n",
              "  </tbody>\n",
              "</table>\n",
              "<p>1987 rows × 14 columns</p>\n",
              "</div>"
            ],
            "text/plain": [
              "      Experience  Rating  ...  Diploma in Otorhinolaryngology (DLO)  DDVL\n",
              "0             35    10.0  ...                                     0     0\n",
              "1             31    10.0  ...                                     1     0\n",
              "2             40     7.0  ...                                     0     1\n",
              "3              0    10.0  ...                                     0     0\n",
              "4             16    10.0  ...                                     0     0\n",
              "...          ...     ...  ...                                   ...   ...\n",
              "1982          10    10.0  ...                                     0     0\n",
              "1983           4    10.0  ...                                     0     0\n",
              "1984           9    10.0  ...                                     0     0\n",
              "1985          12     9.8  ...                                     0     0\n",
              "1986           8    10.0  ...                                     0     0\n",
              "\n",
              "[1987 rows x 14 columns]"
            ]
          },
          "metadata": {
            "tags": []
          },
          "execution_count": 96
        }
      ]
    },
    {
      "cell_type": "code",
      "metadata": {
        "colab": {
          "base_uri": "https://localhost:8080/"
        },
        "id": "l_nf0zWhOj0i",
        "outputId": "437ebbcd-6d41-4708-d537-fa72c28756cf"
      },
      "source": [
        "DTR_pred=DTR.predict(df_test)\n",
        "DTR_pred"
      ],
      "execution_count": 105,
      "outputs": [
        {
          "output_type": "execute_result",
          "data": {
            "text/plain": [
              "array([200.        , 350.        , 100.        , ..., 166.66666667,\n",
              "       300.        , 400.        ])"
            ]
          },
          "metadata": {
            "tags": []
          },
          "execution_count": 105
        }
      ]
    },
    {
      "cell_type": "code",
      "metadata": {
        "colab": {
          "base_uri": "https://localhost:8080/",
          "height": 414
        },
        "id": "5S7_9uWzOqmZ",
        "outputId": "60813f11-fd84-40a9-875d-2f0d849bc87d"
      },
      "source": [
        "DTR_pred=pd.DataFrame(DTR_pred, columns=['Fees'])\n",
        "DTR_pred"
      ],
      "execution_count": 106,
      "outputs": [
        {
          "output_type": "execute_result",
          "data": {
            "text/html": [
              "<div>\n",
              "<style scoped>\n",
              "    .dataframe tbody tr th:only-of-type {\n",
              "        vertical-align: middle;\n",
              "    }\n",
              "\n",
              "    .dataframe tbody tr th {\n",
              "        vertical-align: top;\n",
              "    }\n",
              "\n",
              "    .dataframe thead th {\n",
              "        text-align: right;\n",
              "    }\n",
              "</style>\n",
              "<table border=\"1\" class=\"dataframe\">\n",
              "  <thead>\n",
              "    <tr style=\"text-align: right;\">\n",
              "      <th></th>\n",
              "      <th>Fees</th>\n",
              "    </tr>\n",
              "  </thead>\n",
              "  <tbody>\n",
              "    <tr>\n",
              "      <th>0</th>\n",
              "      <td>200.000000</td>\n",
              "    </tr>\n",
              "    <tr>\n",
              "      <th>1</th>\n",
              "      <td>350.000000</td>\n",
              "    </tr>\n",
              "    <tr>\n",
              "      <th>2</th>\n",
              "      <td>100.000000</td>\n",
              "    </tr>\n",
              "    <tr>\n",
              "      <th>3</th>\n",
              "      <td>150.000000</td>\n",
              "    </tr>\n",
              "    <tr>\n",
              "      <th>4</th>\n",
              "      <td>300.000000</td>\n",
              "    </tr>\n",
              "    <tr>\n",
              "      <th>...</th>\n",
              "      <td>...</td>\n",
              "    </tr>\n",
              "    <tr>\n",
              "      <th>1982</th>\n",
              "      <td>300.000000</td>\n",
              "    </tr>\n",
              "    <tr>\n",
              "      <th>1983</th>\n",
              "      <td>300.000000</td>\n",
              "    </tr>\n",
              "    <tr>\n",
              "      <th>1984</th>\n",
              "      <td>166.666667</td>\n",
              "    </tr>\n",
              "    <tr>\n",
              "      <th>1985</th>\n",
              "      <td>300.000000</td>\n",
              "    </tr>\n",
              "    <tr>\n",
              "      <th>1986</th>\n",
              "      <td>400.000000</td>\n",
              "    </tr>\n",
              "  </tbody>\n",
              "</table>\n",
              "<p>1987 rows × 1 columns</p>\n",
              "</div>"
            ],
            "text/plain": [
              "            Fees\n",
              "0     200.000000\n",
              "1     350.000000\n",
              "2     100.000000\n",
              "3     150.000000\n",
              "4     300.000000\n",
              "...          ...\n",
              "1982  300.000000\n",
              "1983  300.000000\n",
              "1984  166.666667\n",
              "1985  300.000000\n",
              "1986  400.000000\n",
              "\n",
              "[1987 rows x 1 columns]"
            ]
          },
          "metadata": {
            "tags": []
          },
          "execution_count": 106
        }
      ]
    },
    {
      "cell_type": "code",
      "metadata": {
        "id": "1xY_MUStOzLc"
      },
      "source": [
        "DTR_pred.to_csv('DTR_pred.csv')"
      ],
      "execution_count": 111,
      "outputs": []
    },
    {
      "cell_type": "code",
      "metadata": {
        "colab": {
          "base_uri": "https://localhost:8080/"
        },
        "id": "C5rkxNAUO21h",
        "outputId": "2199fd07-1aa4-4524-8c8f-a2617ec42f47"
      },
      "source": [
        "import pickle\n",
        "\n",
        "filename='Doctor_Consulation_Fee.pkl'\n",
        "pickle.dump(DTR,open(filename,'wb'))\n",
        "\n",
        "loaded_model=pickle.load(open(filename,'rb'))\n",
        "\n",
        "loaded_model.predict(df_test)"
      ],
      "execution_count": 113,
      "outputs": [
        {
          "output_type": "execute_result",
          "data": {
            "text/plain": [
              "array([200.        , 350.        , 100.        , ..., 166.66666667,\n",
              "       300.        , 400.        ])"
            ]
          },
          "metadata": {
            "tags": []
          },
          "execution_count": 113
        }
      ]
    }
  ]
}