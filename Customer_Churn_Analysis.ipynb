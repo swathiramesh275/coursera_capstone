{
  "nbformat": 4,
  "nbformat_minor": 0,
  "metadata": {
    "colab": {
      "name": "Customer Churn Analysis.ipynb",
      "provenance": [],
      "collapsed_sections": []
    },
    "kernelspec": {
      "display_name": "Python 3",
      "name": "python3"
    },
    "language_info": {
      "name": "python"
    }
  },
  "cells": [
    {
      "cell_type": "markdown",
      "metadata": {
        "id": "o3VbAOAHGVAS"
      },
      "source": [
        "# **Customer Churn Analysis**"
      ]
    },
    {
      "cell_type": "markdown",
      "metadata": {
        "id": "wH946HwpWd5t"
      },
      "source": [
        "## **1.Dataset loading**"
      ]
    },
    {
      "cell_type": "code",
      "metadata": {
        "id": "Ystsfk7yGUt5"
      },
      "source": [
        "import pandas as pd\n",
        "import numpy as np\n",
        "import matplotlib as mlp\n",
        "import matplotlib.pyplot as plt\n",
        "import seaborn as sns\n",
        "import warnings\n",
        "warnings.filterwarnings(\"ignore\")"
      ],
      "execution_count": 4,
      "outputs": []
    },
    {
      "cell_type": "code",
      "metadata": {
        "id": "QxnpAB-hGTaL"
      },
      "source": [
        "df=pd.read_csv(\"https://raw.githubusercontent.com/dsrscientist/DSData/master/Telecom_customer_churn.csv\")"
      ],
      "execution_count": 5,
      "outputs": []
    },
    {
      "cell_type": "code",
      "metadata": {
        "colab": {
          "base_uri": "https://localhost:8080/",
          "height": 309
        },
        "id": "TxFuME5PIQCi",
        "outputId": "bf02deb5-c379-4923-e40b-6aee7bce0350"
      },
      "source": [
        "df.head()"
      ],
      "execution_count": 3,
      "outputs": [
        {
          "output_type": "execute_result",
          "data": {
            "text/html": [
              "<div>\n",
              "<style scoped>\n",
              "    .dataframe tbody tr th:only-of-type {\n",
              "        vertical-align: middle;\n",
              "    }\n",
              "\n",
              "    .dataframe tbody tr th {\n",
              "        vertical-align: top;\n",
              "    }\n",
              "\n",
              "    .dataframe thead th {\n",
              "        text-align: right;\n",
              "    }\n",
              "</style>\n",
              "<table border=\"1\" class=\"dataframe\">\n",
              "  <thead>\n",
              "    <tr style=\"text-align: right;\">\n",
              "      <th></th>\n",
              "      <th>customerID</th>\n",
              "      <th>gender</th>\n",
              "      <th>SeniorCitizen</th>\n",
              "      <th>Partner</th>\n",
              "      <th>Dependents</th>\n",
              "      <th>tenure</th>\n",
              "      <th>PhoneService</th>\n",
              "      <th>MultipleLines</th>\n",
              "      <th>InternetService</th>\n",
              "      <th>OnlineSecurity</th>\n",
              "      <th>OnlineBackup</th>\n",
              "      <th>DeviceProtection</th>\n",
              "      <th>TechSupport</th>\n",
              "      <th>StreamingTV</th>\n",
              "      <th>StreamingMovies</th>\n",
              "      <th>Contract</th>\n",
              "      <th>PaperlessBilling</th>\n",
              "      <th>PaymentMethod</th>\n",
              "      <th>MonthlyCharges</th>\n",
              "      <th>TotalCharges</th>\n",
              "      <th>Churn</th>\n",
              "    </tr>\n",
              "  </thead>\n",
              "  <tbody>\n",
              "    <tr>\n",
              "      <th>0</th>\n",
              "      <td>7590-VHVEG</td>\n",
              "      <td>Female</td>\n",
              "      <td>0</td>\n",
              "      <td>Yes</td>\n",
              "      <td>No</td>\n",
              "      <td>1</td>\n",
              "      <td>No</td>\n",
              "      <td>No phone service</td>\n",
              "      <td>DSL</td>\n",
              "      <td>No</td>\n",
              "      <td>Yes</td>\n",
              "      <td>No</td>\n",
              "      <td>No</td>\n",
              "      <td>No</td>\n",
              "      <td>No</td>\n",
              "      <td>Month-to-month</td>\n",
              "      <td>Yes</td>\n",
              "      <td>Electronic check</td>\n",
              "      <td>29.85</td>\n",
              "      <td>29.85</td>\n",
              "      <td>No</td>\n",
              "    </tr>\n",
              "    <tr>\n",
              "      <th>1</th>\n",
              "      <td>5575-GNVDE</td>\n",
              "      <td>Male</td>\n",
              "      <td>0</td>\n",
              "      <td>No</td>\n",
              "      <td>No</td>\n",
              "      <td>34</td>\n",
              "      <td>Yes</td>\n",
              "      <td>No</td>\n",
              "      <td>DSL</td>\n",
              "      <td>Yes</td>\n",
              "      <td>No</td>\n",
              "      <td>Yes</td>\n",
              "      <td>No</td>\n",
              "      <td>No</td>\n",
              "      <td>No</td>\n",
              "      <td>One year</td>\n",
              "      <td>No</td>\n",
              "      <td>Mailed check</td>\n",
              "      <td>56.95</td>\n",
              "      <td>1889.5</td>\n",
              "      <td>No</td>\n",
              "    </tr>\n",
              "    <tr>\n",
              "      <th>2</th>\n",
              "      <td>3668-QPYBK</td>\n",
              "      <td>Male</td>\n",
              "      <td>0</td>\n",
              "      <td>No</td>\n",
              "      <td>No</td>\n",
              "      <td>2</td>\n",
              "      <td>Yes</td>\n",
              "      <td>No</td>\n",
              "      <td>DSL</td>\n",
              "      <td>Yes</td>\n",
              "      <td>Yes</td>\n",
              "      <td>No</td>\n",
              "      <td>No</td>\n",
              "      <td>No</td>\n",
              "      <td>No</td>\n",
              "      <td>Month-to-month</td>\n",
              "      <td>Yes</td>\n",
              "      <td>Mailed check</td>\n",
              "      <td>53.85</td>\n",
              "      <td>108.15</td>\n",
              "      <td>Yes</td>\n",
              "    </tr>\n",
              "    <tr>\n",
              "      <th>3</th>\n",
              "      <td>7795-CFOCW</td>\n",
              "      <td>Male</td>\n",
              "      <td>0</td>\n",
              "      <td>No</td>\n",
              "      <td>No</td>\n",
              "      <td>45</td>\n",
              "      <td>No</td>\n",
              "      <td>No phone service</td>\n",
              "      <td>DSL</td>\n",
              "      <td>Yes</td>\n",
              "      <td>No</td>\n",
              "      <td>Yes</td>\n",
              "      <td>Yes</td>\n",
              "      <td>No</td>\n",
              "      <td>No</td>\n",
              "      <td>One year</td>\n",
              "      <td>No</td>\n",
              "      <td>Bank transfer (automatic)</td>\n",
              "      <td>42.30</td>\n",
              "      <td>1840.75</td>\n",
              "      <td>No</td>\n",
              "    </tr>\n",
              "    <tr>\n",
              "      <th>4</th>\n",
              "      <td>9237-HQITU</td>\n",
              "      <td>Female</td>\n",
              "      <td>0</td>\n",
              "      <td>No</td>\n",
              "      <td>No</td>\n",
              "      <td>2</td>\n",
              "      <td>Yes</td>\n",
              "      <td>No</td>\n",
              "      <td>Fiber optic</td>\n",
              "      <td>No</td>\n",
              "      <td>No</td>\n",
              "      <td>No</td>\n",
              "      <td>No</td>\n",
              "      <td>No</td>\n",
              "      <td>No</td>\n",
              "      <td>Month-to-month</td>\n",
              "      <td>Yes</td>\n",
              "      <td>Electronic check</td>\n",
              "      <td>70.70</td>\n",
              "      <td>151.65</td>\n",
              "      <td>Yes</td>\n",
              "    </tr>\n",
              "  </tbody>\n",
              "</table>\n",
              "</div>"
            ],
            "text/plain": [
              "   customerID  gender  SeniorCitizen  ... MonthlyCharges TotalCharges  Churn\n",
              "0  7590-VHVEG  Female              0  ...          29.85        29.85     No\n",
              "1  5575-GNVDE    Male              0  ...          56.95       1889.5     No\n",
              "2  3668-QPYBK    Male              0  ...          53.85       108.15    Yes\n",
              "3  7795-CFOCW    Male              0  ...          42.30      1840.75     No\n",
              "4  9237-HQITU  Female              0  ...          70.70       151.65    Yes\n",
              "\n",
              "[5 rows x 21 columns]"
            ]
          },
          "metadata": {
            "tags": []
          },
          "execution_count": 3
        }
      ]
    },
    {
      "cell_type": "code",
      "metadata": {
        "colab": {
          "base_uri": "https://localhost:8080/",
          "height": 297
        },
        "id": "uF6bCkf1IRNV",
        "outputId": "745a3323-2788-419c-95d4-a8d3035c1c75"
      },
      "source": [
        "df.describe()"
      ],
      "execution_count": 4,
      "outputs": [
        {
          "output_type": "execute_result",
          "data": {
            "text/html": [
              "<div>\n",
              "<style scoped>\n",
              "    .dataframe tbody tr th:only-of-type {\n",
              "        vertical-align: middle;\n",
              "    }\n",
              "\n",
              "    .dataframe tbody tr th {\n",
              "        vertical-align: top;\n",
              "    }\n",
              "\n",
              "    .dataframe thead th {\n",
              "        text-align: right;\n",
              "    }\n",
              "</style>\n",
              "<table border=\"1\" class=\"dataframe\">\n",
              "  <thead>\n",
              "    <tr style=\"text-align: right;\">\n",
              "      <th></th>\n",
              "      <th>SeniorCitizen</th>\n",
              "      <th>tenure</th>\n",
              "      <th>MonthlyCharges</th>\n",
              "    </tr>\n",
              "  </thead>\n",
              "  <tbody>\n",
              "    <tr>\n",
              "      <th>count</th>\n",
              "      <td>7043.000000</td>\n",
              "      <td>7043.000000</td>\n",
              "      <td>7043.000000</td>\n",
              "    </tr>\n",
              "    <tr>\n",
              "      <th>mean</th>\n",
              "      <td>0.162147</td>\n",
              "      <td>32.371149</td>\n",
              "      <td>64.761692</td>\n",
              "    </tr>\n",
              "    <tr>\n",
              "      <th>std</th>\n",
              "      <td>0.368612</td>\n",
              "      <td>24.559481</td>\n",
              "      <td>30.090047</td>\n",
              "    </tr>\n",
              "    <tr>\n",
              "      <th>min</th>\n",
              "      <td>0.000000</td>\n",
              "      <td>0.000000</td>\n",
              "      <td>18.250000</td>\n",
              "    </tr>\n",
              "    <tr>\n",
              "      <th>25%</th>\n",
              "      <td>0.000000</td>\n",
              "      <td>9.000000</td>\n",
              "      <td>35.500000</td>\n",
              "    </tr>\n",
              "    <tr>\n",
              "      <th>50%</th>\n",
              "      <td>0.000000</td>\n",
              "      <td>29.000000</td>\n",
              "      <td>70.350000</td>\n",
              "    </tr>\n",
              "    <tr>\n",
              "      <th>75%</th>\n",
              "      <td>0.000000</td>\n",
              "      <td>55.000000</td>\n",
              "      <td>89.850000</td>\n",
              "    </tr>\n",
              "    <tr>\n",
              "      <th>max</th>\n",
              "      <td>1.000000</td>\n",
              "      <td>72.000000</td>\n",
              "      <td>118.750000</td>\n",
              "    </tr>\n",
              "  </tbody>\n",
              "</table>\n",
              "</div>"
            ],
            "text/plain": [
              "       SeniorCitizen       tenure  MonthlyCharges\n",
              "count    7043.000000  7043.000000     7043.000000\n",
              "mean        0.162147    32.371149       64.761692\n",
              "std         0.368612    24.559481       30.090047\n",
              "min         0.000000     0.000000       18.250000\n",
              "25%         0.000000     9.000000       35.500000\n",
              "50%         0.000000    29.000000       70.350000\n",
              "75%         0.000000    55.000000       89.850000\n",
              "max         1.000000    72.000000      118.750000"
            ]
          },
          "metadata": {
            "tags": []
          },
          "execution_count": 4
        }
      ]
    },
    {
      "cell_type": "code",
      "metadata": {
        "colab": {
          "base_uri": "https://localhost:8080/"
        },
        "id": "IM6fUWLxxC_D",
        "outputId": "504488f5-8da0-4505-d0bc-46553b73af6d"
      },
      "source": [
        "df.info()"
      ],
      "execution_count": 5,
      "outputs": [
        {
          "output_type": "stream",
          "text": [
            "<class 'pandas.core.frame.DataFrame'>\n",
            "RangeIndex: 7043 entries, 0 to 7042\n",
            "Data columns (total 21 columns):\n",
            " #   Column            Non-Null Count  Dtype  \n",
            "---  ------            --------------  -----  \n",
            " 0   customerID        7043 non-null   object \n",
            " 1   gender            7043 non-null   object \n",
            " 2   SeniorCitizen     7043 non-null   int64  \n",
            " 3   Partner           7043 non-null   object \n",
            " 4   Dependents        7043 non-null   object \n",
            " 5   tenure            7043 non-null   int64  \n",
            " 6   PhoneService      7043 non-null   object \n",
            " 7   MultipleLines     7043 non-null   object \n",
            " 8   InternetService   7043 non-null   object \n",
            " 9   OnlineSecurity    7043 non-null   object \n",
            " 10  OnlineBackup      7043 non-null   object \n",
            " 11  DeviceProtection  7043 non-null   object \n",
            " 12  TechSupport       7043 non-null   object \n",
            " 13  StreamingTV       7043 non-null   object \n",
            " 14  StreamingMovies   7043 non-null   object \n",
            " 15  Contract          7043 non-null   object \n",
            " 16  PaperlessBilling  7043 non-null   object \n",
            " 17  PaymentMethod     7043 non-null   object \n",
            " 18  MonthlyCharges    7043 non-null   float64\n",
            " 19  TotalCharges      7043 non-null   object \n",
            " 20  Churn             7043 non-null   object \n",
            "dtypes: float64(1), int64(2), object(18)\n",
            "memory usage: 1.1+ MB\n"
          ],
          "name": "stdout"
        }
      ]
    },
    {
      "cell_type": "markdown",
      "metadata": {
        "id": "ygvf65CsWjci"
      },
      "source": [
        "## **2.Checking basic details**"
      ]
    },
    {
      "cell_type": "code",
      "metadata": {
        "colab": {
          "base_uri": "https://localhost:8080/"
        },
        "id": "DkGcFaTCqOC4",
        "outputId": "e35d0f34-8310-41f3-e193-ab29bec3b04e"
      },
      "source": [
        "df.shape"
      ],
      "execution_count": 6,
      "outputs": [
        {
          "output_type": "execute_result",
          "data": {
            "text/plain": [
              "(7043, 21)"
            ]
          },
          "metadata": {
            "tags": []
          },
          "execution_count": 6
        }
      ]
    },
    {
      "cell_type": "code",
      "metadata": {
        "id": "5PTfnemoGWu2"
      },
      "source": [
        "df = df.drop('customerID', axis = 1)"
      ],
      "execution_count": 6,
      "outputs": []
    },
    {
      "cell_type": "code",
      "metadata": {
        "id": "G2qLI1PIqPVQ"
      },
      "source": [
        "df['TotalCharges']=pd.to_numeric(df['TotalCharges'], errors='coerce')"
      ],
      "execution_count": 7,
      "outputs": []
    },
    {
      "cell_type": "code",
      "metadata": {
        "colab": {
          "base_uri": "https://localhost:8080/"
        },
        "id": "ZsU5zLO6DRDJ",
        "outputId": "4ad386b2-80a4-45d3-d963-1fa1e7b70707"
      },
      "source": [
        "df.columns"
      ],
      "execution_count": null,
      "outputs": [
        {
          "output_type": "execute_result",
          "data": {
            "text/plain": [
              "Index(['customerID', 'gender', 'SeniorCitizen', 'Partner', 'Dependents',\n",
              "       'tenure', 'PhoneService', 'MultipleLines', 'InternetService',\n",
              "       'OnlineSecurity', 'OnlineBackup', 'DeviceProtection', 'TechSupport',\n",
              "       'StreamingTV', 'StreamingMovies', 'Contract', 'PaperlessBilling',\n",
              "       'PaymentMethod', 'MonthlyCharges', 'TotalCharges', 'Churn'],\n",
              "      dtype='object')"
            ]
          },
          "metadata": {
            "tags": []
          },
          "execution_count": 12
        }
      ]
    },
    {
      "cell_type": "markdown",
      "metadata": {
        "id": "kaB98EmaWpRO"
      },
      "source": [
        "## **3.EDA**"
      ]
    },
    {
      "cell_type": "code",
      "metadata": {
        "colab": {
          "base_uri": "https://localhost:8080/"
        },
        "id": "3QtOwglQN8ag",
        "outputId": "c0d63102-feab-4403-a044-ac82306009a5"
      },
      "source": [
        "for i in df.columns:\n",
        "  print(df[i].value_counts())\n",
        "  print(\"-------------------------------\")"
      ],
      "execution_count": null,
      "outputs": [
        {
          "output_type": "stream",
          "text": [
            "Male      3555\n",
            "Female    3488\n",
            "Name: gender, dtype: int64\n",
            "-------------------------------\n",
            "0    5901\n",
            "1    1142\n",
            "Name: SeniorCitizen, dtype: int64\n",
            "-------------------------------\n",
            "No     3641\n",
            "Yes    3402\n",
            "Name: Partner, dtype: int64\n",
            "-------------------------------\n",
            "No     4933\n",
            "Yes    2110\n",
            "Name: Dependents, dtype: int64\n",
            "-------------------------------\n",
            "1     613\n",
            "72    362\n",
            "2     238\n",
            "3     200\n",
            "4     176\n",
            "     ... \n",
            "28     57\n",
            "39     56\n",
            "44     51\n",
            "36     50\n",
            "0      11\n",
            "Name: tenure, Length: 73, dtype: int64\n",
            "-------------------------------\n",
            "Yes    6361\n",
            "No      682\n",
            "Name: PhoneService, dtype: int64\n",
            "-------------------------------\n",
            "No                  3390\n",
            "Yes                 2971\n",
            "No phone service     682\n",
            "Name: MultipleLines, dtype: int64\n",
            "-------------------------------\n",
            "Fiber optic    3096\n",
            "DSL            2421\n",
            "No             1526\n",
            "Name: InternetService, dtype: int64\n",
            "-------------------------------\n",
            "No                     3498\n",
            "Yes                    2019\n",
            "No internet service    1526\n",
            "Name: OnlineSecurity, dtype: int64\n",
            "-------------------------------\n",
            "No                     3088\n",
            "Yes                    2429\n",
            "No internet service    1526\n",
            "Name: OnlineBackup, dtype: int64\n",
            "-------------------------------\n",
            "No                     3095\n",
            "Yes                    2422\n",
            "No internet service    1526\n",
            "Name: DeviceProtection, dtype: int64\n",
            "-------------------------------\n",
            "No                     3473\n",
            "Yes                    2044\n",
            "No internet service    1526\n",
            "Name: TechSupport, dtype: int64\n",
            "-------------------------------\n",
            "No                     2810\n",
            "Yes                    2707\n",
            "No internet service    1526\n",
            "Name: StreamingTV, dtype: int64\n",
            "-------------------------------\n",
            "No                     2785\n",
            "Yes                    2732\n",
            "No internet service    1526\n",
            "Name: StreamingMovies, dtype: int64\n",
            "-------------------------------\n",
            "Month-to-month    3875\n",
            "Two year          1695\n",
            "One year          1473\n",
            "Name: Contract, dtype: int64\n",
            "-------------------------------\n",
            "Yes    4171\n",
            "No     2872\n",
            "Name: PaperlessBilling, dtype: int64\n",
            "-------------------------------\n",
            "Electronic check             2365\n",
            "Mailed check                 1612\n",
            "Bank transfer (automatic)    1544\n",
            "Credit card (automatic)      1522\n",
            "Name: PaymentMethod, dtype: int64\n",
            "-------------------------------\n",
            "20.05     61\n",
            "19.85     45\n",
            "19.95     44\n",
            "19.90     44\n",
            "20.00     43\n",
            "          ..\n",
            "114.75     1\n",
            "103.60     1\n",
            "113.40     1\n",
            "57.65      1\n",
            "113.30     1\n",
            "Name: MonthlyCharges, Length: 1585, dtype: int64\n",
            "-------------------------------\n",
            "20.20      11\n",
            "19.75       9\n",
            "19.65       8\n",
            "20.05       8\n",
            "19.90       8\n",
            "           ..\n",
            "1066.15     1\n",
            "249.95      1\n",
            "8333.95     1\n",
            "7171.70     1\n",
            "1024.00     1\n",
            "Name: TotalCharges, Length: 6530, dtype: int64\n",
            "-------------------------------\n",
            "0    5174\n",
            "1    1869\n",
            "Name: Churn, dtype: int64\n",
            "-------------------------------\n"
          ],
          "name": "stdout"
        }
      ]
    },
    {
      "cell_type": "code",
      "metadata": {
        "colab": {
          "base_uri": "https://localhost:8080/"
        },
        "id": "iWB9BGwMNzoW",
        "outputId": "c8ce01be-4fb2-4905-a836-6344bb3ae831"
      },
      "source": [
        "for i in df.columns:\n",
        "  my_crosstab = pd.crosstab(index=df[\"Churn\"],columns=df[i],margins=True)\n",
        "  print(my_crosstab)\n",
        "  print(\"___________________________________________________________\")"
      ],
      "execution_count": null,
      "outputs": [
        {
          "output_type": "stream",
          "text": [
            "gender  Female  Male   All\n",
            "Churn                     \n",
            "0         2549  2625  5174\n",
            "1          939   930  1869\n",
            "All       3488  3555  7043\n",
            "___________________________________________________________\n",
            "SeniorCitizen     0     1   All\n",
            "Churn                          \n",
            "0              4508   666  5174\n",
            "1              1393   476  1869\n",
            "All            5901  1142  7043\n",
            "___________________________________________________________\n",
            "Partner    No   Yes   All\n",
            "Churn                    \n",
            "0        2441  2733  5174\n",
            "1        1200   669  1869\n",
            "All      3641  3402  7043\n",
            "___________________________________________________________\n",
            "Dependents    No   Yes   All\n",
            "Churn                       \n",
            "0           3390  1784  5174\n",
            "1           1543   326  1869\n",
            "All         4933  2110  7043\n",
            "___________________________________________________________\n",
            "tenure   0    1    2    3    4    5    6  ...  67   68  69   70   71   72   All\n",
            "Churn                                     ...                                  \n",
            "0       11  233  115  106   93   69   70  ...  88   91  87  108  164  356  5174\n",
            "1        0  380  123   94   83   64   40  ...  10    9   8   11    6    6  1869\n",
            "All     11  613  238  200  176  133  110  ...  98  100  95  119  170  362  7043\n",
            "\n",
            "[3 rows x 74 columns]\n",
            "___________________________________________________________\n",
            "PhoneService   No   Yes   All\n",
            "Churn                        \n",
            "0             512  4662  5174\n",
            "1             170  1699  1869\n",
            "All           682  6361  7043\n",
            "___________________________________________________________\n",
            "MultipleLines    No  No phone service   Yes   All\n",
            "Churn                                            \n",
            "0              2541               512  2121  5174\n",
            "1               849               170   850  1869\n",
            "All            3390               682  2971  7043\n",
            "___________________________________________________________\n",
            "InternetService   DSL  Fiber optic    No   All\n",
            "Churn                                         \n",
            "0                1962         1799  1413  5174\n",
            "1                 459         1297   113  1869\n",
            "All              2421         3096  1526  7043\n",
            "___________________________________________________________\n",
            "OnlineSecurity    No  No internet service   Yes   All\n",
            "Churn                                                \n",
            "0               2037                 1413  1724  5174\n",
            "1               1461                  113   295  1869\n",
            "All             3498                 1526  2019  7043\n",
            "___________________________________________________________\n",
            "OnlineBackup    No  No internet service   Yes   All\n",
            "Churn                                              \n",
            "0             1855                 1413  1906  5174\n",
            "1             1233                  113   523  1869\n",
            "All           3088                 1526  2429  7043\n",
            "___________________________________________________________\n",
            "DeviceProtection    No  No internet service   Yes   All\n",
            "Churn                                                  \n",
            "0                 1884                 1413  1877  5174\n",
            "1                 1211                  113   545  1869\n",
            "All               3095                 1526  2422  7043\n",
            "___________________________________________________________\n",
            "TechSupport    No  No internet service   Yes   All\n",
            "Churn                                             \n",
            "0            2027                 1413  1734  5174\n",
            "1            1446                  113   310  1869\n",
            "All          3473                 1526  2044  7043\n",
            "___________________________________________________________\n",
            "StreamingTV    No  No internet service   Yes   All\n",
            "Churn                                             \n",
            "0            1868                 1413  1893  5174\n",
            "1             942                  113   814  1869\n",
            "All          2810                 1526  2707  7043\n",
            "___________________________________________________________\n",
            "StreamingMovies    No  No internet service   Yes   All\n",
            "Churn                                                 \n",
            "0                1847                 1413  1914  5174\n",
            "1                 938                  113   818  1869\n",
            "All              2785                 1526  2732  7043\n",
            "___________________________________________________________\n",
            "Contract  Month-to-month  One year  Two year   All\n",
            "Churn                                             \n",
            "0                   2220      1307      1647  5174\n",
            "1                   1655       166        48  1869\n",
            "All                 3875      1473      1695  7043\n",
            "___________________________________________________________\n",
            "PaperlessBilling    No   Yes   All\n",
            "Churn                             \n",
            "0                 2403  2771  5174\n",
            "1                  469  1400  1869\n",
            "All               2872  4171  7043\n",
            "___________________________________________________________\n",
            "PaymentMethod  Bank transfer (automatic)  ...   All\n",
            "Churn                                     ...      \n",
            "0                                   1286  ...  5174\n",
            "1                                    258  ...  1869\n",
            "All                                 1544  ...  7043\n",
            "\n",
            "[3 rows x 5 columns]\n",
            "___________________________________________________________\n",
            "MonthlyCharges  18.25  18.4  18.55  18.7  ...  118.6  118.65  118.75   All\n",
            "Churn                                     ...                             \n",
            "0                   1     1      1     2  ...      2       1       1  5174\n",
            "1                   0     0      0     0  ...      0       0       0  1869\n",
            "All                 1     1      1     2  ...      2       1       1  7043\n",
            "\n",
            "[3 rows x 1586 columns]\n",
            "___________________________________________________________\n",
            "TotalCharges  18.8  18.85  18.9  19.0  ...  8670.1  8672.45  8684.8   All\n",
            "Churn                                  ...                               \n",
            "0                1      1     1     1  ...       1        1       0  5163\n",
            "1                0      1     0     0  ...       0        0       1  1869\n",
            "All              1      2     1     1  ...       1        1       1  7032\n",
            "\n",
            "[3 rows x 6531 columns]\n",
            "___________________________________________________________\n",
            "Churn     0     1   All\n",
            "Churn                  \n",
            "0      5174     0  5174\n",
            "1         0  1869  1869\n",
            "All    5174  1869  7043\n",
            "___________________________________________________________\n"
          ],
          "name": "stdout"
        }
      ]
    },
    {
      "cell_type": "code",
      "metadata": {
        "id": "i-f0gWcDDGj4"
      },
      "source": [
        "df_cont=df[['tenure','MonthlyCharges', 'TotalCharges']]\n",
        "df_cata=df[['gender', 'SeniorCitizen', 'Partner', 'Dependents',\n",
        "        'PhoneService', 'MultipleLines', 'InternetService',\n",
        "       'OnlineSecurity', 'OnlineBackup', 'DeviceProtection', 'TechSupport',\n",
        "       'StreamingTV', 'StreamingMovies', 'Contract', 'PaperlessBilling', 'Churn']]"
      ],
      "execution_count": 18,
      "outputs": []
    },
    {
      "cell_type": "code",
      "metadata": {
        "colab": {
          "base_uri": "https://localhost:8080/",
          "height": 1000
        },
        "id": "oIHG4r8vDkW7",
        "outputId": "5d9474f7-562d-4f2e-9008-7ee6a7431633"
      },
      "source": [
        "for i in df_cata.columns:\n",
        "  plt.figure(figsize=[10,6])\n",
        "  sns.countplot(x=df_cata[i],data=df_cata,hue='Churn')\n"
      ],
      "execution_count": null,
      "outputs": [
        {
          "output_type": "display_data",
          "data": {
            "image/png": "[encoded data removed]",
            "text/plain": [
              "<Figure size 720x432 with 1 Axes>"
            ]
          },
          "metadata": {
            "tags": [],
            "needs_background": "light"
          }
        },
        {
          "output_type": "display_data",
          "data": {
            "image/png": "[encoded data removed]",
            "text/plain": [
              "<Figure size 720x432 with 1 Axes>"
            ]
          },
          "metadata": {
            "tags": [],
            "needs_background": "light"
          }
        },
        {
          "output_type": "display_data",
          "data": {
            "image/png": "[encoded data removed]",
            "text/plain": [
              "<Figure size 720x432 with 1 Axes>"
            ]
          },
          "metadata": {
            "tags": [],
            "needs_background": "light"
          }
        },
        {
          "output_type": "display_data",
          "data": {
            "image/png": "[encoded data removed]",
            "text/plain": [
              "<Figure size 720x432 with 1 Axes>"
            ]
          },
          "metadata": {
            "tags": [],
            "needs_background": "light"
          }
        },
        {
          "output_type": "display_data",
          "data": {
            "image/png": "[encoded data removed]",
            "text/plain": [
              "<Figure size 720x432 with 1 Axes>"
            ]
          },
          "metadata": {
            "tags": [],
            "needs_background": "light"
          }
        },
        {
          "output_type": "display_data",
          "data": {
            "image/png": "[encoded data removed]",
            "text/plain": [
              "<Figure size 720x432 with 1 Axes>"
            ]
          },
          "metadata": {
            "tags": [],
            "needs_background": "light"
          }
        },
        {
          "output_type": "display_data",
          "data": {
            "image/png": "[encoded data removed]",
            "text/plain": [
              "<Figure size 720x432 with 1 Axes>"
            ]
          },
          "metadata": {
            "tags": [],
            "needs_background": "light"
          }
        },
        {
          "output_type": "display_data",
          "data": {
            "image/png": "[encoded data removed]",
            "text/plain": [
              "<Figure size 720x432 with 1 Axes>"
            ]
          },
          "metadata": {
            "tags": [],
            "needs_background": "light"
          }
        },
        {
          "output_type": "display_data",
          "data": {
            "image/png": "[encoded data removed]",
            "text/plain": [
              "<Figure size 720x432 with 1 Axes>"
            ]
          },
          "metadata": {
            "tags": [],
            "needs_background": "light"
          }
        },
        {
          "output_type": "display_data",
          "data": {
            "image/png": "[encoded data removed]",
            "text/plain": [
              "<Figure size 720x432 with 1 Axes>"
            ]
          },
          "metadata": {
            "tags": [],
            "needs_background": "light"
          }
        },
        {
          "output_type": "display_data",
          "data": {
            "image/png": "[encoded data removed]",
            "text/plain": [
              "<Figure size 720x432 with 1 Axes>"
            ]
          },
          "metadata": {
            "tags": [],
            "needs_background": "light"
          }
        },
        {
          "output_type": "display_data",
          "data": {
            "image/png": "[encoded data removed]",
            "text/plain": [
              "<Figure size 720x432 with 1 Axes>"
            ]
          },
          "metadata": {
            "tags": [],
            "needs_background": "light"
          }
        },
        {
          "output_type": "display_data",
          "data": {
            "image/png": "[encoded data removed]",
            "text/plain": [
              "<Figure size 720x432 with 1 Axes>"
            ]
          },
          "metadata": {
            "tags": [],
            "needs_background": "light"
          }
        },
        {
          "output_type": "display_data",
          "data": {
            "image/png": "[encoded data removed]",
            "text/plain": [
              "<Figure size 720x432 with 1 Axes>"
            ]
          },
          "metadata": {
            "tags": [],
            "needs_background": "light"
          }
        },
        {
          "output_type": "display_data",
          "data": {
            "image/png": "[encoded data removed]",
            "text/plain": [
              "<Figure size 720x432 with 1 Axes>"
            ]
          },
          "metadata": {
            "tags": [],
            "needs_background": "light"
          }
        },
        {
          "output_type": "display_data",
          "data": {
            "image/png": "[encoded data removed]",
            "text/plain": [
              "<Figure size 720x432 with 1 Axes>"
            ]
          },
          "metadata": {
            "tags": [],
            "needs_background": "light"
          }
        },
        {
          "output_type": "display_data",
          "data": {
            "image/png": "[encoded data removed]",
            "text/plain": [
              "<Figure size 720x432 with 1 Axes>"
            ]
          },
          "metadata": {
            "tags": [],
            "needs_background": "light"
          }
        }
      ]
    },
    {
      "cell_type": "code",
      "metadata": {
        "colab": {
          "base_uri": "https://localhost:8080/",
          "height": 405
        },
        "id": "_PgkLsojJlRM",
        "outputId": "53653bc5-6f21-4f1a-f0d6-a13df55b0816"
      },
      "source": [
        "plt.figure(figsize = (10, 6))\n",
        "sns.distplot(df['TotalCharges'], bins = 15)"
      ],
      "execution_count": null,
      "outputs": [
        {
          "output_type": "execute_result",
          "data": {
            "text/plain": [
              "<matplotlib.axes._subplots.AxesSubplot at 0x7f4da91ccd50>"
            ]
          },
          "metadata": {
            "tags": []
          },
          "execution_count": 34
        },
        {
          "output_type": "display_data",
          "data": {
            "image/png": "[encoded data removed]",
            "text/plain": [
              "<Figure size 720x432 with 1 Axes>"
            ]
          },
          "metadata": {
            "tags": [],
            "needs_background": "light"
          }
        }
      ]
    },
    {
      "cell_type": "code",
      "metadata": {
        "id": "BINp6erlIIBC"
      },
      "source": [
        "df_corr=df.apply(lambda x : pd.factorize(x)[0]).corr(method='pearson', min_periods=1)"
      ],
      "execution_count": 12,
      "outputs": []
    },
    {
      "cell_type": "code",
      "metadata": {
        "colab": {
          "base_uri": "https://localhost:8080/",
          "height": 526
        },
        "id": "br17zx3IXRi0",
        "outputId": "5e9afdd0-0746-4de3-bd37-0660e90ac95c"
      },
      "source": [
        "plt.figure(figsize=[15,7])\n",
        "sns.heatmap(df_corr)\n"
      ],
      "execution_count": 13,
      "outputs": [
        {
          "output_type": "execute_result",
          "data": {
            "text/plain": [
              "<matplotlib.axes._subplots.AxesSubplot at 0x7f4bb0832650>"
            ]
          },
          "metadata": {
            "tags": []
          },
          "execution_count": 13
        },
        {
          "output_type": "display_data",
          "data": {
            "image/png": "[encoded data removed]",
            "text/plain": [
              "<Figure size 1080x504 with 2 Axes>"
            ]
          },
          "metadata": {
            "tags": [],
            "needs_background": "light"
          }
        }
      ]
    },
    {
      "cell_type": "markdown",
      "metadata": {
        "id": "zOZF_g5NXe-_"
      },
      "source": [
        "## **4. Data pre-processing**"
      ]
    },
    {
      "cell_type": "markdown",
      "metadata": {
        "id": "tEhee626XgXS"
      },
      "source": [
        "**skewness removal**"
      ]
    },
    {
      "cell_type": "code",
      "metadata": {
        "colab": {
          "base_uri": "https://localhost:8080/"
        },
        "id": "62otV_0uD54b",
        "outputId": "68277c9b-dc5a-4091-d2c5-cfb28e8c5fe6"
      },
      "source": [
        "df_cont.skew()"
      ],
      "execution_count": null,
      "outputs": [
        {
          "output_type": "execute_result",
          "data": {
            "text/plain": [
              "tenure            0.239540\n",
              "MonthlyCharges   -0.220524\n",
              "TotalCharges      0.961642\n",
              "dtype: float64"
            ]
          },
          "metadata": {
            "tags": []
          },
          "execution_count": 32
        }
      ]
    },
    {
      "cell_type": "markdown",
      "metadata": {
        "id": "_fVDLSWVXmeT"
      },
      "source": [
        "There is not much skewness present in the data."
      ]
    },
    {
      "cell_type": "markdown",
      "metadata": {
        "id": "_D6Bp7LIXrfS"
      },
      "source": [
        "**Null Value removal**"
      ]
    },
    {
      "cell_type": "code",
      "metadata": {
        "colab": {
          "base_uri": "https://localhost:8080/"
        },
        "id": "tEt5wBZJOcso",
        "outputId": "b6449434-5a93-4f9a-a169-fd97f7854f1d"
      },
      "source": [
        "df.isnull().sum()"
      ],
      "execution_count": null,
      "outputs": [
        {
          "output_type": "execute_result",
          "data": {
            "text/plain": [
              "gender               0\n",
              "SeniorCitizen        0\n",
              "Partner              0\n",
              "Dependents           0\n",
              "tenure               0\n",
              "PhoneService         0\n",
              "MultipleLines        0\n",
              "InternetService      0\n",
              "OnlineSecurity       0\n",
              "OnlineBackup         0\n",
              "DeviceProtection     0\n",
              "TechSupport          0\n",
              "StreamingTV          0\n",
              "StreamingMovies      0\n",
              "Contract             0\n",
              "PaperlessBilling     0\n",
              "PaymentMethod        0\n",
              "MonthlyCharges       0\n",
              "TotalCharges        11\n",
              "Churn                0\n",
              "dtype: int64"
            ]
          },
          "metadata": {
            "tags": []
          },
          "execution_count": 75
        }
      ]
    },
    {
      "cell_type": "code",
      "metadata": {
        "id": "QZe9iqAVOqfY"
      },
      "source": [
        "df['TotalCharges'].fillna(df['TotalCharges'].mode()[0], inplace=True)"
      ],
      "execution_count": 8,
      "outputs": []
    },
    {
      "cell_type": "markdown",
      "metadata": {
        "id": "elnBzEpgXw1i"
      },
      "source": [
        "**Encoding**"
      ]
    },
    {
      "cell_type": "code",
      "metadata": {
        "id": "lPCPZ8qNZucb"
      },
      "source": [
        "from sklearn.preprocessing import LabelEncoder\n",
        "LE=LabelEncoder()"
      ],
      "execution_count": 9,
      "outputs": []
    },
    {
      "cell_type": "code",
      "metadata": {
        "id": "bv-Z3sndMhOY"
      },
      "source": [
        "df['Churn']=LE.fit_transform(df['Churn'])"
      ],
      "execution_count": 10,
      "outputs": []
    },
    {
      "cell_type": "code",
      "metadata": {
        "colab": {
          "base_uri": "https://localhost:8080/",
          "height": 292
        },
        "id": "2iHywXMgMi6p",
        "outputId": "1beee0ee-662e-4310-df8d-bd568e6cd982"
      },
      "source": [
        "df.head()"
      ],
      "execution_count": 27,
      "outputs": [
        {
          "output_type": "execute_result",
          "data": {
            "text/html": [
              "<div>\n",
              "<style scoped>\n",
              "    .dataframe tbody tr th:only-of-type {\n",
              "        vertical-align: middle;\n",
              "    }\n",
              "\n",
              "    .dataframe tbody tr th {\n",
              "        vertical-align: top;\n",
              "    }\n",
              "\n",
              "    .dataframe thead th {\n",
              "        text-align: right;\n",
              "    }\n",
              "</style>\n",
              "<table border=\"1\" class=\"dataframe\">\n",
              "  <thead>\n",
              "    <tr style=\"text-align: right;\">\n",
              "      <th></th>\n",
              "      <th>gender</th>\n",
              "      <th>SeniorCitizen</th>\n",
              "      <th>Partner</th>\n",
              "      <th>Dependents</th>\n",
              "      <th>tenure</th>\n",
              "      <th>PhoneService</th>\n",
              "      <th>MultipleLines</th>\n",
              "      <th>InternetService</th>\n",
              "      <th>OnlineSecurity</th>\n",
              "      <th>OnlineBackup</th>\n",
              "      <th>DeviceProtection</th>\n",
              "      <th>TechSupport</th>\n",
              "      <th>StreamingTV</th>\n",
              "      <th>StreamingMovies</th>\n",
              "      <th>Contract</th>\n",
              "      <th>PaperlessBilling</th>\n",
              "      <th>PaymentMethod</th>\n",
              "      <th>MonthlyCharges</th>\n",
              "      <th>TotalCharges</th>\n",
              "      <th>Churn</th>\n",
              "    </tr>\n",
              "  </thead>\n",
              "  <tbody>\n",
              "    <tr>\n",
              "      <th>0</th>\n",
              "      <td>Female</td>\n",
              "      <td>0</td>\n",
              "      <td>Yes</td>\n",
              "      <td>No</td>\n",
              "      <td>1</td>\n",
              "      <td>No</td>\n",
              "      <td>No phone service</td>\n",
              "      <td>DSL</td>\n",
              "      <td>No</td>\n",
              "      <td>Yes</td>\n",
              "      <td>No</td>\n",
              "      <td>No</td>\n",
              "      <td>No</td>\n",
              "      <td>No</td>\n",
              "      <td>Month-to-month</td>\n",
              "      <td>Yes</td>\n",
              "      <td>Electronic check</td>\n",
              "      <td>29.85</td>\n",
              "      <td>29.85</td>\n",
              "      <td>0</td>\n",
              "    </tr>\n",
              "    <tr>\n",
              "      <th>1</th>\n",
              "      <td>Male</td>\n",
              "      <td>0</td>\n",
              "      <td>No</td>\n",
              "      <td>No</td>\n",
              "      <td>34</td>\n",
              "      <td>Yes</td>\n",
              "      <td>No</td>\n",
              "      <td>DSL</td>\n",
              "      <td>Yes</td>\n",
              "      <td>No</td>\n",
              "      <td>Yes</td>\n",
              "      <td>No</td>\n",
              "      <td>No</td>\n",
              "      <td>No</td>\n",
              "      <td>One year</td>\n",
              "      <td>No</td>\n",
              "      <td>Mailed check</td>\n",
              "      <td>56.95</td>\n",
              "      <td>1889.50</td>\n",
              "      <td>0</td>\n",
              "    </tr>\n",
              "    <tr>\n",
              "      <th>2</th>\n",
              "      <td>Male</td>\n",
              "      <td>0</td>\n",
              "      <td>No</td>\n",
              "      <td>No</td>\n",
              "      <td>2</td>\n",
              "      <td>Yes</td>\n",
              "      <td>No</td>\n",
              "      <td>DSL</td>\n",
              "      <td>Yes</td>\n",
              "      <td>Yes</td>\n",
              "      <td>No</td>\n",
              "      <td>No</td>\n",
              "      <td>No</td>\n",
              "      <td>No</td>\n",
              "      <td>Month-to-month</td>\n",
              "      <td>Yes</td>\n",
              "      <td>Mailed check</td>\n",
              "      <td>53.85</td>\n",
              "      <td>108.15</td>\n",
              "      <td>1</td>\n",
              "    </tr>\n",
              "    <tr>\n",
              "      <th>3</th>\n",
              "      <td>Male</td>\n",
              "      <td>0</td>\n",
              "      <td>No</td>\n",
              "      <td>No</td>\n",
              "      <td>45</td>\n",
              "      <td>No</td>\n",
              "      <td>No phone service</td>\n",
              "      <td>DSL</td>\n",
              "      <td>Yes</td>\n",
              "      <td>No</td>\n",
              "      <td>Yes</td>\n",
              "      <td>Yes</td>\n",
              "      <td>No</td>\n",
              "      <td>No</td>\n",
              "      <td>One year</td>\n",
              "      <td>No</td>\n",
              "      <td>Bank transfer (automatic)</td>\n",
              "      <td>42.30</td>\n",
              "      <td>1840.75</td>\n",
              "      <td>0</td>\n",
              "    </tr>\n",
              "    <tr>\n",
              "      <th>4</th>\n",
              "      <td>Female</td>\n",
              "      <td>0</td>\n",
              "      <td>No</td>\n",
              "      <td>No</td>\n",
              "      <td>2</td>\n",
              "      <td>Yes</td>\n",
              "      <td>No</td>\n",
              "      <td>Fiber optic</td>\n",
              "      <td>No</td>\n",
              "      <td>No</td>\n",
              "      <td>No</td>\n",
              "      <td>No</td>\n",
              "      <td>No</td>\n",
              "      <td>No</td>\n",
              "      <td>Month-to-month</td>\n",
              "      <td>Yes</td>\n",
              "      <td>Electronic check</td>\n",
              "      <td>70.70</td>\n",
              "      <td>151.65</td>\n",
              "      <td>1</td>\n",
              "    </tr>\n",
              "  </tbody>\n",
              "</table>\n",
              "</div>"
            ],
            "text/plain": [
              "   gender  SeniorCitizen Partner  ... MonthlyCharges  TotalCharges Churn\n",
              "0  Female              0     Yes  ...          29.85         29.85     0\n",
              "1    Male              0      No  ...          56.95       1889.50     0\n",
              "2    Male              0      No  ...          53.85        108.15     1\n",
              "3    Male              0      No  ...          42.30       1840.75     0\n",
              "4  Female              0      No  ...          70.70        151.65     1\n",
              "\n",
              "[5 rows x 20 columns]"
            ]
          },
          "metadata": {
            "tags": []
          },
          "execution_count": 27
        }
      ]
    },
    {
      "cell_type": "code",
      "metadata": {
        "colab": {
          "base_uri": "https://localhost:8080/",
          "height": 258
        },
        "id": "6hbqf2IeLalR",
        "outputId": "393e21c6-f940-4b50-db81-c9651ca31eb8"
      },
      "source": [
        "x= df.drop(columns='Churn')\n",
        "y= df['Churn']\n",
        "x= pd.get_dummies(x, prefix_sep=\"_\")\n",
        "x.head()"
      ],
      "execution_count": 11,
      "outputs": [
        {
          "output_type": "execute_result",
          "data": {
            "text/html": [
              "<div>\n",
              "<style scoped>\n",
              "    .dataframe tbody tr th:only-of-type {\n",
              "        vertical-align: middle;\n",
              "    }\n",
              "\n",
              "    .dataframe tbody tr th {\n",
              "        vertical-align: top;\n",
              "    }\n",
              "\n",
              "    .dataframe thead th {\n",
              "        text-align: right;\n",
              "    }\n",
              "</style>\n",
              "<table border=\"1\" class=\"dataframe\">\n",
              "  <thead>\n",
              "    <tr style=\"text-align: right;\">\n",
              "      <th></th>\n",
              "      <th>SeniorCitizen</th>\n",
              "      <th>tenure</th>\n",
              "      <th>MonthlyCharges</th>\n",
              "      <th>TotalCharges</th>\n",
              "      <th>gender_Female</th>\n",
              "      <th>gender_Male</th>\n",
              "      <th>Partner_No</th>\n",
              "      <th>Partner_Yes</th>\n",
              "      <th>Dependents_No</th>\n",
              "      <th>Dependents_Yes</th>\n",
              "      <th>PhoneService_No</th>\n",
              "      <th>PhoneService_Yes</th>\n",
              "      <th>MultipleLines_No</th>\n",
              "      <th>MultipleLines_No phone service</th>\n",
              "      <th>MultipleLines_Yes</th>\n",
              "      <th>InternetService_DSL</th>\n",
              "      <th>InternetService_Fiber optic</th>\n",
              "      <th>InternetService_No</th>\n",
              "      <th>OnlineSecurity_No</th>\n",
              "      <th>OnlineSecurity_No internet service</th>\n",
              "      <th>OnlineSecurity_Yes</th>\n",
              "      <th>OnlineBackup_No</th>\n",
              "      <th>OnlineBackup_No internet service</th>\n",
              "      <th>OnlineBackup_Yes</th>\n",
              "      <th>DeviceProtection_No</th>\n",
              "      <th>DeviceProtection_No internet service</th>\n",
              "      <th>DeviceProtection_Yes</th>\n",
              "      <th>TechSupport_No</th>\n",
              "      <th>TechSupport_No internet service</th>\n",
              "      <th>TechSupport_Yes</th>\n",
              "      <th>StreamingTV_No</th>\n",
              "      <th>StreamingTV_No internet service</th>\n",
              "      <th>StreamingTV_Yes</th>\n",
              "      <th>StreamingMovies_No</th>\n",
              "      <th>StreamingMovies_No internet service</th>\n",
              "      <th>StreamingMovies_Yes</th>\n",
              "      <th>Contract_Month-to-month</th>\n",
              "      <th>Contract_One year</th>\n",
              "      <th>Contract_Two year</th>\n",
              "      <th>PaperlessBilling_No</th>\n",
              "      <th>PaperlessBilling_Yes</th>\n",
              "      <th>PaymentMethod_Bank transfer (automatic)</th>\n",
              "      <th>PaymentMethod_Credit card (automatic)</th>\n",
              "      <th>PaymentMethod_Electronic check</th>\n",
              "      <th>PaymentMethod_Mailed check</th>\n",
              "    </tr>\n",
              "  </thead>\n",
              "  <tbody>\n",
              "    <tr>\n",
              "      <th>0</th>\n",
              "      <td>0</td>\n",
              "      <td>1</td>\n",
              "      <td>29.85</td>\n",
              "      <td>29.85</td>\n",
              "      <td>1</td>\n",
              "      <td>0</td>\n",
              "      <td>0</td>\n",
              "      <td>1</td>\n",
              "      <td>1</td>\n",
              "      <td>0</td>\n",
              "      <td>1</td>\n",
              "      <td>0</td>\n",
              "      <td>0</td>\n",
              "      <td>1</td>\n",
              "      <td>0</td>\n",
              "      <td>1</td>\n",
              "      <td>0</td>\n",
              "      <td>0</td>\n",
              "      <td>1</td>\n",
              "      <td>0</td>\n",
              "      <td>0</td>\n",
              "      <td>0</td>\n",
              "      <td>0</td>\n",
              "      <td>1</td>\n",
              "      <td>1</td>\n",
              "      <td>0</td>\n",
              "      <td>0</td>\n",
              "      <td>1</td>\n",
              "      <td>0</td>\n",
              "      <td>0</td>\n",
              "      <td>1</td>\n",
              "      <td>0</td>\n",
              "      <td>0</td>\n",
              "      <td>1</td>\n",
              "      <td>0</td>\n",
              "      <td>0</td>\n",
              "      <td>1</td>\n",
              "      <td>0</td>\n",
              "      <td>0</td>\n",
              "      <td>0</td>\n",
              "      <td>1</td>\n",
              "      <td>0</td>\n",
              "      <td>0</td>\n",
              "      <td>1</td>\n",
              "      <td>0</td>\n",
              "    </tr>\n",
              "    <tr>\n",
              "      <th>1</th>\n",
              "      <td>0</td>\n",
              "      <td>34</td>\n",
              "      <td>56.95</td>\n",
              "      <td>1889.50</td>\n",
              "      <td>0</td>\n",
              "      <td>1</td>\n",
              "      <td>1</td>\n",
              "      <td>0</td>\n",
              "      <td>1</td>\n",
              "      <td>0</td>\n",
              "      <td>0</td>\n",
              "      <td>1</td>\n",
              "      <td>1</td>\n",
              "      <td>0</td>\n",
              "      <td>0</td>\n",
              "      <td>1</td>\n",
              "      <td>0</td>\n",
              "      <td>0</td>\n",
              "      <td>0</td>\n",
              "      <td>0</td>\n",
              "      <td>1</td>\n",
              "      <td>1</td>\n",
              "      <td>0</td>\n",
              "      <td>0</td>\n",
              "      <td>0</td>\n",
              "      <td>0</td>\n",
              "      <td>1</td>\n",
              "      <td>1</td>\n",
              "      <td>0</td>\n",
              "      <td>0</td>\n",
              "      <td>1</td>\n",
              "      <td>0</td>\n",
              "      <td>0</td>\n",
              "      <td>1</td>\n",
              "      <td>0</td>\n",
              "      <td>0</td>\n",
              "      <td>0</td>\n",
              "      <td>1</td>\n",
              "      <td>0</td>\n",
              "      <td>1</td>\n",
              "      <td>0</td>\n",
              "      <td>0</td>\n",
              "      <td>0</td>\n",
              "      <td>0</td>\n",
              "      <td>1</td>\n",
              "    </tr>\n",
              "    <tr>\n",
              "      <th>2</th>\n",
              "      <td>0</td>\n",
              "      <td>2</td>\n",
              "      <td>53.85</td>\n",
              "      <td>108.15</td>\n",
              "      <td>0</td>\n",
              "      <td>1</td>\n",
              "      <td>1</td>\n",
              "      <td>0</td>\n",
              "      <td>1</td>\n",
              "      <td>0</td>\n",
              "      <td>0</td>\n",
              "      <td>1</td>\n",
              "      <td>1</td>\n",
              "      <td>0</td>\n",
              "      <td>0</td>\n",
              "      <td>1</td>\n",
              "      <td>0</td>\n",
              "      <td>0</td>\n",
              "      <td>0</td>\n",
              "      <td>0</td>\n",
              "      <td>1</td>\n",
              "      <td>0</td>\n",
              "      <td>0</td>\n",
              "      <td>1</td>\n",
              "      <td>1</td>\n",
              "      <td>0</td>\n",
              "      <td>0</td>\n",
              "      <td>1</td>\n",
              "      <td>0</td>\n",
              "      <td>0</td>\n",
              "      <td>1</td>\n",
              "      <td>0</td>\n",
              "      <td>0</td>\n",
              "      <td>1</td>\n",
              "      <td>0</td>\n",
              "      <td>0</td>\n",
              "      <td>1</td>\n",
              "      <td>0</td>\n",
              "      <td>0</td>\n",
              "      <td>0</td>\n",
              "      <td>1</td>\n",
              "      <td>0</td>\n",
              "      <td>0</td>\n",
              "      <td>0</td>\n",
              "      <td>1</td>\n",
              "    </tr>\n",
              "    <tr>\n",
              "      <th>3</th>\n",
              "      <td>0</td>\n",
              "      <td>45</td>\n",
              "      <td>42.30</td>\n",
              "      <td>1840.75</td>\n",
              "      <td>0</td>\n",
              "      <td>1</td>\n",
              "      <td>1</td>\n",
              "      <td>0</td>\n",
              "      <td>1</td>\n",
              "      <td>0</td>\n",
              "      <td>1</td>\n",
              "      <td>0</td>\n",
              "      <td>0</td>\n",
              "      <td>1</td>\n",
              "      <td>0</td>\n",
              "      <td>1</td>\n",
              "      <td>0</td>\n",
              "      <td>0</td>\n",
              "      <td>0</td>\n",
              "      <td>0</td>\n",
              "      <td>1</td>\n",
              "      <td>1</td>\n",
              "      <td>0</td>\n",
              "      <td>0</td>\n",
              "      <td>0</td>\n",
              "      <td>0</td>\n",
              "      <td>1</td>\n",
              "      <td>0</td>\n",
              "      <td>0</td>\n",
              "      <td>1</td>\n",
              "      <td>1</td>\n",
              "      <td>0</td>\n",
              "      <td>0</td>\n",
              "      <td>1</td>\n",
              "      <td>0</td>\n",
              "      <td>0</td>\n",
              "      <td>0</td>\n",
              "      <td>1</td>\n",
              "      <td>0</td>\n",
              "      <td>1</td>\n",
              "      <td>0</td>\n",
              "      <td>1</td>\n",
              "      <td>0</td>\n",
              "      <td>0</td>\n",
              "      <td>0</td>\n",
              "    </tr>\n",
              "    <tr>\n",
              "      <th>4</th>\n",
              "      <td>0</td>\n",
              "      <td>2</td>\n",
              "      <td>70.70</td>\n",
              "      <td>151.65</td>\n",
              "      <td>1</td>\n",
              "      <td>0</td>\n",
              "      <td>1</td>\n",
              "      <td>0</td>\n",
              "      <td>1</td>\n",
              "      <td>0</td>\n",
              "      <td>0</td>\n",
              "      <td>1</td>\n",
              "      <td>1</td>\n",
              "      <td>0</td>\n",
              "      <td>0</td>\n",
              "      <td>0</td>\n",
              "      <td>1</td>\n",
              "      <td>0</td>\n",
              "      <td>1</td>\n",
              "      <td>0</td>\n",
              "      <td>0</td>\n",
              "      <td>1</td>\n",
              "      <td>0</td>\n",
              "      <td>0</td>\n",
              "      <td>1</td>\n",
              "      <td>0</td>\n",
              "      <td>0</td>\n",
              "      <td>1</td>\n",
              "      <td>0</td>\n",
              "      <td>0</td>\n",
              "      <td>1</td>\n",
              "      <td>0</td>\n",
              "      <td>0</td>\n",
              "      <td>1</td>\n",
              "      <td>0</td>\n",
              "      <td>0</td>\n",
              "      <td>1</td>\n",
              "      <td>0</td>\n",
              "      <td>0</td>\n",
              "      <td>0</td>\n",
              "      <td>1</td>\n",
              "      <td>0</td>\n",
              "      <td>0</td>\n",
              "      <td>1</td>\n",
              "      <td>0</td>\n",
              "    </tr>\n",
              "  </tbody>\n",
              "</table>\n",
              "</div>"
            ],
            "text/plain": [
              "   SeniorCitizen  ...  PaymentMethod_Mailed check\n",
              "0              0  ...                           0\n",
              "1              0  ...                           1\n",
              "2              0  ...                           1\n",
              "3              0  ...                           0\n",
              "4              0  ...                           0\n",
              "\n",
              "[5 rows x 45 columns]"
            ]
          },
          "metadata": {
            "tags": []
          },
          "execution_count": 11
        }
      ]
    },
    {
      "cell_type": "code",
      "metadata": {
        "colab": {
          "base_uri": "https://localhost:8080/"
        },
        "id": "mTshFJryLne_",
        "outputId": "3ef2e6b5-e387-4dd7-c7c3-50778dcb0f3a"
      },
      "source": [
        "y.head()"
      ],
      "execution_count": null,
      "outputs": [
        {
          "output_type": "execute_result",
          "data": {
            "text/plain": [
              "0    0\n",
              "1    0\n",
              "2    1\n",
              "3    0\n",
              "4    1\n",
              "Name: Churn, dtype: int64"
            ]
          },
          "metadata": {
            "tags": []
          },
          "execution_count": 58
        }
      ]
    },
    {
      "cell_type": "markdown",
      "metadata": {
        "id": "dJybFhhVX77b"
      },
      "source": [
        "**Scaling**"
      ]
    },
    {
      "cell_type": "code",
      "metadata": {
        "id": "XZRVstEFNeYZ"
      },
      "source": [
        "from sklearn.preprocessing import StandardScaler\n",
        "\n",
        "scaler = StandardScaler()\n",
        "scaledX = scaler.fit_transform(x)"
      ],
      "execution_count": 12,
      "outputs": []
    },
    {
      "cell_type": "markdown",
      "metadata": {
        "id": "QaXDsdT9YCib"
      },
      "source": [
        "## **5.train test split**"
      ]
    },
    {
      "cell_type": "code",
      "metadata": {
        "id": "n68S5V9KMKOg"
      },
      "source": [
        "from sklearn.model_selection import train_test_split\n",
        "from sklearn.metrics import classification_report, confusion_matrix\n",
        "from sklearn.ensemble import RandomForestClassifier\n",
        "from sklearn.metrics import accuracy_score,confusion_matrix,classification_report"
      ],
      "execution_count": 13,
      "outputs": []
    },
    {
      "cell_type": "code",
      "metadata": {
        "id": "8pNrCx0dNluI"
      },
      "source": [
        "x_train, x_test, y_train, y_test= train_test_split(x,y,test_size=0.3, random_state=101)"
      ],
      "execution_count": 14,
      "outputs": []
    },
    {
      "cell_type": "markdown",
      "metadata": {
        "id": "-yP3COfSYFos"
      },
      "source": [
        "**Finding best Random State**"
      ]
    },
    {
      "cell_type": "code",
      "metadata": {
        "colab": {
          "base_uri": "https://localhost:8080/"
        },
        "id": "nhX-vb2IQjwg",
        "outputId": "cf320914-7ec1-4ef9-a56a-3874a1ffcde2"
      },
      "source": [
        "from sklearn.metrics import r2_score\n",
        "from sklearn.tree import DecisionTreeClassifier\n",
        "DTC=DecisionTreeClassifier()\n",
        "d=5\n",
        "for i in range(0,100):\n",
        "  x_train, x_test, y_train, y_test = train_test_split(x,y,test_size=0.2,random_state=i)\n",
        "  DTC.fit(x_train,y_train)\n",
        "  pred_train=DTC.predict(x_train)\n",
        "  pred_test = DTC.predict(x_test)\n",
        "  a=r2_score(y_train,pred_train)\n",
        "  b=r2_score(y_test,pred_test)\n",
        "  c=a-b\n",
        "  print(i,c)\n",
        "  if d>=c:\n",
        "    d=c\n",
        "    print(\"least value\",i,d)"
      ],
      "execution_count": 17,
      "outputs": [
        {
          "output_type": "stream",
          "text": [
            "0 1.3886058380620758\n",
            "least value 0 1.3886058380620758\n",
            "1 1.40967161580518\n",
            "2 1.4049549517879028\n",
            "3 1.4447677650148039\n",
            "4 1.5278751875016954\n",
            "5 1.4377028410903248\n",
            "6 1.4050525273244208\n",
            "7 1.3023652082083417\n",
            "least value 7 1.3023652082083417\n",
            "8 1.293605463971761\n",
            "least value 8 1.293605463971761\n",
            "9 1.420079335363634\n",
            "10 1.4141255727300936\n",
            "11 1.3728547059641232\n",
            "12 1.3547859893782663\n",
            "13 1.5226325682313306\n",
            "14 1.4526838275094964\n",
            "15 1.3601178607326645\n",
            "16 1.4046711283796125\n",
            "17 1.4075432678715005\n",
            "18 1.3731542820023204\n",
            "19 1.372630384403085\n",
            "20 1.4363848828144834\n",
            "21 1.4223177788052237\n",
            "22 1.3873515380216257\n",
            "23 1.378766151014195\n",
            "24 1.3845887906240466\n",
            "25 1.4054240007844279\n",
            "26 1.3287021484921824\n",
            "27 1.3189469368272961\n",
            "28 1.366776518460001\n",
            "29 1.4195941551999565\n",
            "30 1.2877056061603893\n",
            "least value 30 1.2877056061603893\n",
            "31 1.4746360174989204\n",
            "32 1.3455935130116665\n",
            "33 1.3928390709065832\n",
            "34 1.4055891249552146\n",
            "35 1.4556070705907183\n",
            "36 1.2555517020066342\n",
            "least value 36 1.2555517020066342\n",
            "37 1.4238735848981339\n",
            "38 1.3622951995555135\n",
            "39 1.30310690536297\n",
            "40 1.458940101279167\n",
            "41 1.3578372172694277\n",
            "42 1.4694366309506033\n",
            "43 1.4056648178165192\n",
            "44 1.3879614016538073\n",
            "45 1.294114519649208\n",
            "46 1.3086176339384616\n",
            "47 1.3578508126708626\n",
            "48 1.4286062535385018\n",
            "49 1.467078096145103\n",
            "50 1.4593961314352648\n",
            "51 1.3809893095557113\n",
            "52 1.3600799260972973\n",
            "53 1.3877349324348085\n",
            "54 1.386595471224314\n",
            "55 1.4222670910914768\n",
            "56 1.3691685722339604\n",
            "57 1.3516178358117465\n",
            "58 1.369090214117398\n",
            "59 1.4262353984243372\n",
            "60 1.3907657689797082\n",
            "61 1.3400106807069487\n",
            "62 1.3354425153828071\n",
            "63 1.4227412608067587\n",
            "64 1.3249432747111674\n",
            "65 1.3498115717845396\n",
            "66 1.2451712329647884\n",
            "least value 66 1.2451712329647884\n",
            "67 1.375440554055575\n",
            "68 1.4917052137186935\n",
            "69 1.4235223328030457\n",
            "70 1.4088615599223258\n",
            "71 1.2980082243178792\n",
            "72 1.3959950349131947\n",
            "73 1.3561299263316764\n",
            "74 1.3974281892987759\n",
            "75 1.2908602941230742\n",
            "76 1.4121906196338334\n",
            "77 1.3358137099294143\n",
            "78 1.4860503516346664\n",
            "79 1.3907148789542443\n",
            "80 1.3687119446902867\n",
            "81 1.400995875134555\n",
            "82 1.3502500356638478\n",
            "83 1.4103313778817292\n",
            "84 1.393452413261433\n",
            "85 1.369633273798964\n",
            "86 1.3992455706178932\n",
            "87 1.2989837384836385\n",
            "88 1.319024729422554\n",
            "89 1.3674061849266224\n",
            "90 1.4872007433948344\n",
            "91 1.4507616420324867\n",
            "92 1.5503928103269158\n",
            "93 1.5194749690105933\n",
            "94 1.4430372048568092\n",
            "95 1.3740412890162248\n",
            "96 1.377266246447146\n",
            "97 1.442351281651463\n",
            "98 1.413098044218684\n",
            "99 1.3512437179661794\n"
          ],
          "name": "stdout"
        }
      ]
    },
    {
      "cell_type": "code",
      "metadata": {
        "id": "IeUVSK4kgLEc"
      },
      "source": [
        "x_train, x_test, y_train, y_test= train_test_split(x,y,test_size=0.3, random_state=66)"
      ],
      "execution_count": 23,
      "outputs": []
    },
    {
      "cell_type": "markdown",
      "metadata": {
        "id": "pY8Xe0XpYTub"
      },
      "source": [
        "## **6.Model Construction**"
      ]
    },
    {
      "cell_type": "markdown",
      "metadata": {
        "id": "2gwbHpi9YQdK"
      },
      "source": [
        "**RandomForestClassifier**"
      ]
    },
    {
      "cell_type": "code",
      "metadata": {
        "colab": {
          "base_uri": "https://localhost:8080/"
        },
        "id": "Kq6cl5YLNPGp",
        "outputId": "3e229785-5d98-499d-b332-65133f610e71"
      },
      "source": [
        "clf= RandomForestClassifier().fit(x_train, y_train)\n",
        "predRFC= clf.predict(x_test)\n",
        "randomforest_accu=accuracy_score(y_test,predRFC)\n",
        "randomforest_accu\n",
        "print(confusion_matrix(y_test, predRFC))\n",
        "print(classification_report(y_test, predRFC))\n"
      ],
      "execution_count": 24,
      "outputs": [
        {
          "output_type": "stream",
          "text": [
            "[[1401  160]\n",
            " [ 290  262]]\n",
            "              precision    recall  f1-score   support\n",
            "\n",
            "           0       0.83      0.90      0.86      1561\n",
            "           1       0.62      0.47      0.54       552\n",
            "\n",
            "    accuracy                           0.79      2113\n",
            "   macro avg       0.72      0.69      0.70      2113\n",
            "weighted avg       0.77      0.79      0.78      2113\n",
            "\n"
          ],
          "name": "stdout"
        }
      ]
    },
    {
      "cell_type": "code",
      "metadata": {
        "colab": {
          "base_uri": "https://localhost:8080/"
        },
        "id": "8_UhBpeSPHrh",
        "outputId": "b9dd2ffd-8371-4cde-fef1-7fb9536d3688"
      },
      "source": [
        "from sklearn.model_selection import cross_val_score\n",
        "randomforest_cv= cross_val_score(clf,x,y,scoring='accuracy', cv = 10).mean()\n",
        "randomforest_cv"
      ],
      "execution_count": 25,
      "outputs": [
        {
          "output_type": "execute_result",
          "data": {
            "text/plain": [
              "0.7924137653127016"
            ]
          },
          "metadata": {
            "tags": []
          },
          "execution_count": 25
        }
      ]
    },
    {
      "cell_type": "markdown",
      "metadata": {
        "id": "DWuC1v-mYWPs"
      },
      "source": [
        "**LogisticRegression**"
      ]
    },
    {
      "cell_type": "code",
      "metadata": {
        "colab": {
          "base_uri": "https://localhost:8080/",
          "height": 255
        },
        "id": "zdG571q7PYMY",
        "outputId": "36e36f89-a803-492b-98c6-55cf06395b55"
      },
      "source": [
        "from sklearn.linear_model import LogisticRegression\n",
        "\n",
        "LReg = LogisticRegression()\n",
        "\n",
        "LReg.fit(x_train,y_train)\n",
        "\n",
        "predLReg = LReg.predict(x_test)\n",
        "\n",
        "reportLReg = classification_report(y_test, predLReg, output_dict = True)\n",
        "\n",
        "crLReg = pd.DataFrame(reportLReg).transpose()\n",
        "logisticregression_acc=accuracy_score(y_test,predLReg)\n",
        "print(logisticregression_acc)\n",
        "print(confusion_matrix(y_test, predLReg))\n",
        "crLReg"
      ],
      "execution_count": 40,
      "outputs": [
        {
          "output_type": "stream",
          "text": [
            "0.8088026502602934\n",
            "[[1405  141]\n",
            " [ 263  304]]\n"
          ],
          "name": "stdout"
        },
        {
          "output_type": "execute_result",
          "data": {
            "text/html": [
              "<div>\n",
              "<style scoped>\n",
              "    .dataframe tbody tr th:only-of-type {\n",
              "        vertical-align: middle;\n",
              "    }\n",
              "\n",
              "    .dataframe tbody tr th {\n",
              "        vertical-align: top;\n",
              "    }\n",
              "\n",
              "    .dataframe thead th {\n",
              "        text-align: right;\n",
              "    }\n",
              "</style>\n",
              "<table border=\"1\" class=\"dataframe\">\n",
              "  <thead>\n",
              "    <tr style=\"text-align: right;\">\n",
              "      <th></th>\n",
              "      <th>precision</th>\n",
              "      <th>recall</th>\n",
              "      <th>f1-score</th>\n",
              "      <th>support</th>\n",
              "    </tr>\n",
              "  </thead>\n",
              "  <tbody>\n",
              "    <tr>\n",
              "      <th>0</th>\n",
              "      <td>0.842326</td>\n",
              "      <td>0.908797</td>\n",
              "      <td>0.874300</td>\n",
              "      <td>1546.000000</td>\n",
              "    </tr>\n",
              "    <tr>\n",
              "      <th>1</th>\n",
              "      <td>0.683146</td>\n",
              "      <td>0.536155</td>\n",
              "      <td>0.600791</td>\n",
              "      <td>567.000000</td>\n",
              "    </tr>\n",
              "    <tr>\n",
              "      <th>accuracy</th>\n",
              "      <td>0.808803</td>\n",
              "      <td>0.808803</td>\n",
              "      <td>0.808803</td>\n",
              "      <td>0.808803</td>\n",
              "    </tr>\n",
              "    <tr>\n",
              "      <th>macro avg</th>\n",
              "      <td>0.762736</td>\n",
              "      <td>0.722476</td>\n",
              "      <td>0.737545</td>\n",
              "      <td>2113.000000</td>\n",
              "    </tr>\n",
              "    <tr>\n",
              "      <th>weighted avg</th>\n",
              "      <td>0.799612</td>\n",
              "      <td>0.808803</td>\n",
              "      <td>0.800907</td>\n",
              "      <td>2113.000000</td>\n",
              "    </tr>\n",
              "  </tbody>\n",
              "</table>\n",
              "</div>"
            ],
            "text/plain": [
              "              precision    recall  f1-score      support\n",
              "0              0.842326  0.908797  0.874300  1546.000000\n",
              "1              0.683146  0.536155  0.600791   567.000000\n",
              "accuracy       0.808803  0.808803  0.808803     0.808803\n",
              "macro avg      0.762736  0.722476  0.737545  2113.000000\n",
              "weighted avg   0.799612  0.808803  0.800907  2113.000000"
            ]
          },
          "metadata": {
            "tags": []
          },
          "execution_count": 40
        }
      ]
    },
    {
      "cell_type": "code",
      "metadata": {
        "colab": {
          "base_uri": "https://localhost:8080/"
        },
        "id": "A9rRiUTFPcU4",
        "outputId": "1e87f4a5-26e4-4bc6-d736-4c420c6a7ce8"
      },
      "source": [
        "logisticregression_cv= cross_val_score(LReg,x,y,scoring='accuracy', cv = 10).mean()\n",
        "logisticregression_cv"
      ],
      "execution_count": 41,
      "outputs": [
        {
          "output_type": "execute_result",
          "data": {
            "text/plain": [
              "0.8042035380399742"
            ]
          },
          "metadata": {
            "tags": []
          },
          "execution_count": 41
        }
      ]
    },
    {
      "cell_type": "markdown",
      "metadata": {
        "id": "C7Z0aGLOYYNC"
      },
      "source": [
        "**SVC**"
      ]
    },
    {
      "cell_type": "code",
      "metadata": {
        "colab": {
          "base_uri": "https://localhost:8080/"
        },
        "id": "0ff-eNRePfSI",
        "outputId": "f812e206-fbe3-49ea-80f2-aacc52c28ac0"
      },
      "source": [
        "from sklearn.svm import SVC\n",
        "from sklearn.model_selection import cross_val_score\n",
        "svc=SVC()\n",
        "svc.fit(x_train,y_train)\n",
        "svc.score(x_train,y_train)\n",
        "predsvc=svc.predict(x_test)\n",
        "svc_acc=accuracy_score(y_test,predsvc)\n",
        "print(svc_acc)\n",
        "print(confusion_matrix(y_test,predsvc))\n",
        "print(classification_report(y_test,predsvc))"
      ],
      "execution_count": 42,
      "outputs": [
        {
          "output_type": "stream",
          "text": [
            "0.7316611452910554\n",
            "[[1546    0]\n",
            " [ 567    0]]\n",
            "              precision    recall  f1-score   support\n",
            "\n",
            "           0       0.73      1.00      0.85      1546\n",
            "           1       0.00      0.00      0.00       567\n",
            "\n",
            "    accuracy                           0.73      2113\n",
            "   macro avg       0.37      0.50      0.42      2113\n",
            "weighted avg       0.54      0.73      0.62      2113\n",
            "\n"
          ],
          "name": "stdout"
        }
      ]
    },
    {
      "cell_type": "code",
      "metadata": {
        "colab": {
          "base_uri": "https://localhost:8080/"
        },
        "id": "4YsVvqY8PhTk",
        "outputId": "ffc714a1-f8b3-4a91-cb65-fa7fe7bf1cfc"
      },
      "source": [
        "svc_cv=cross_val_score(svc,x,y,scoring='accuracy', cv = 10).mean()\n",
        "svc_cv"
      ],
      "execution_count": 43,
      "outputs": [
        {
          "output_type": "execute_result",
          "data": {
            "text/plain": [
              "0.7346300773694391"
            ]
          },
          "metadata": {
            "tags": []
          },
          "execution_count": 43
        }
      ]
    },
    {
      "cell_type": "markdown",
      "metadata": {
        "id": "Yky8eQNTYaCO"
      },
      "source": [
        "**GaussianNB**"
      ]
    },
    {
      "cell_type": "code",
      "metadata": {
        "colab": {
          "base_uri": "https://localhost:8080/",
          "height": 221
        },
        "id": "5_TPB__bPq8N",
        "outputId": "a51ccf13-41e0-4cd5-8adf-9e926ed23e00"
      },
      "source": [
        "from sklearn.naive_bayes import GaussianNB\n",
        "GNB = GaussianNB()\n",
        "\n",
        "GNB.fit(x_train,y_train)\n",
        "\n",
        "predGNB = GNB.predict(x_test)\n",
        "\n",
        "reportGNB = classification_report(y_test, predGNB, output_dict = True)\n",
        "  \n",
        "crGNB = pd.DataFrame(reportGNB).transpose()\n",
        "gnb_acc=accuracy_score(y_test,predGNB)\n",
        "print(gnb_acc)\n",
        "crGNB"
      ],
      "execution_count": 44,
      "outputs": [
        {
          "output_type": "stream",
          "text": [
            "0.7061050638902036\n"
          ],
          "name": "stdout"
        },
        {
          "output_type": "execute_result",
          "data": {
            "text/html": [
              "<div>\n",
              "<style scoped>\n",
              "    .dataframe tbody tr th:only-of-type {\n",
              "        vertical-align: middle;\n",
              "    }\n",
              "\n",
              "    .dataframe tbody tr th {\n",
              "        vertical-align: top;\n",
              "    }\n",
              "\n",
              "    .dataframe thead th {\n",
              "        text-align: right;\n",
              "    }\n",
              "</style>\n",
              "<table border=\"1\" class=\"dataframe\">\n",
              "  <thead>\n",
              "    <tr style=\"text-align: right;\">\n",
              "      <th></th>\n",
              "      <th>precision</th>\n",
              "      <th>recall</th>\n",
              "      <th>f1-score</th>\n",
              "      <th>support</th>\n",
              "    </tr>\n",
              "  </thead>\n",
              "  <tbody>\n",
              "    <tr>\n",
              "      <th>0</th>\n",
              "      <td>0.917796</td>\n",
              "      <td>0.657180</td>\n",
              "      <td>0.765925</td>\n",
              "      <td>1546.000000</td>\n",
              "    </tr>\n",
              "    <tr>\n",
              "      <th>1</th>\n",
              "      <td>0.473161</td>\n",
              "      <td>0.839506</td>\n",
              "      <td>0.605213</td>\n",
              "      <td>567.000000</td>\n",
              "    </tr>\n",
              "    <tr>\n",
              "      <th>accuracy</th>\n",
              "      <td>0.706105</td>\n",
              "      <td>0.706105</td>\n",
              "      <td>0.706105</td>\n",
              "      <td>0.706105</td>\n",
              "    </tr>\n",
              "    <tr>\n",
              "      <th>macro avg</th>\n",
              "      <td>0.695478</td>\n",
              "      <td>0.748343</td>\n",
              "      <td>0.685569</td>\n",
              "      <td>2113.000000</td>\n",
              "    </tr>\n",
              "    <tr>\n",
              "      <th>weighted avg</th>\n",
              "      <td>0.798483</td>\n",
              "      <td>0.706105</td>\n",
              "      <td>0.722800</td>\n",
              "      <td>2113.000000</td>\n",
              "    </tr>\n",
              "  </tbody>\n",
              "</table>\n",
              "</div>"
            ],
            "text/plain": [
              "              precision    recall  f1-score      support\n",
              "0              0.917796  0.657180  0.765925  1546.000000\n",
              "1              0.473161  0.839506  0.605213   567.000000\n",
              "accuracy       0.706105  0.706105  0.706105     0.706105\n",
              "macro avg      0.695478  0.748343  0.685569  2113.000000\n",
              "weighted avg   0.798483  0.706105  0.722800  2113.000000"
            ]
          },
          "metadata": {
            "tags": []
          },
          "execution_count": 44
        }
      ]
    },
    {
      "cell_type": "code",
      "metadata": {
        "colab": {
          "base_uri": "https://localhost:8080/"
        },
        "id": "_7PjarO0Ps0t",
        "outputId": "6d75c843-37db-462e-f95d-ae45c59f482f"
      },
      "source": [
        "gnb_cv=cross_val_score(GNB,x,y,scoring='accuracy', cv = 10).mean()\n",
        "gnb_cv"
      ],
      "execution_count": 45,
      "outputs": [
        {
          "output_type": "execute_result",
          "data": {
            "text/plain": [
              "0.694731221792392"
            ]
          },
          "metadata": {
            "tags": []
          },
          "execution_count": 45
        }
      ]
    },
    {
      "cell_type": "markdown",
      "metadata": {
        "id": "_nlbVQMHYb01"
      },
      "source": [
        "**DecisionTreeClassifier**"
      ]
    },
    {
      "cell_type": "code",
      "metadata": {
        "colab": {
          "base_uri": "https://localhost:8080/",
          "height": 221
        },
        "id": "xKwMdGLxPvCt",
        "outputId": "f059f0a0-4d2b-4bba-bdb8-5ceed373cca8"
      },
      "source": [
        "from sklearn.tree import DecisionTreeClassifier\n",
        "DTC = DecisionTreeClassifier()\n",
        "\n",
        "DTC.fit(x_train,y_train)\n",
        "\n",
        "predDTC = DTC.predict(x_test)\n",
        "\n",
        "reportDTC = classification_report(y_test,predDTC, output_dict = True)\n",
        "\n",
        "crDTC = pd.DataFrame(reportDTC).transpose()\n",
        "dtc_acc=accuracy_score(y_test,predDTC)\n",
        "print(dtc_acc)\n",
        "crDTC"
      ],
      "execution_count": 46,
      "outputs": [
        {
          "output_type": "stream",
          "text": [
            "0.7160435399905348\n"
          ],
          "name": "stdout"
        },
        {
          "output_type": "execute_result",
          "data": {
            "text/html": [
              "<div>\n",
              "<style scoped>\n",
              "    .dataframe tbody tr th:only-of-type {\n",
              "        vertical-align: middle;\n",
              "    }\n",
              "\n",
              "    .dataframe tbody tr th {\n",
              "        vertical-align: top;\n",
              "    }\n",
              "\n",
              "    .dataframe thead th {\n",
              "        text-align: right;\n",
              "    }\n",
              "</style>\n",
              "<table border=\"1\" class=\"dataframe\">\n",
              "  <thead>\n",
              "    <tr style=\"text-align: right;\">\n",
              "      <th></th>\n",
              "      <th>precision</th>\n",
              "      <th>recall</th>\n",
              "      <th>f1-score</th>\n",
              "      <th>support</th>\n",
              "    </tr>\n",
              "  </thead>\n",
              "  <tbody>\n",
              "    <tr>\n",
              "      <th>0</th>\n",
              "      <td>0.807943</td>\n",
              "      <td>0.802717</td>\n",
              "      <td>0.805321</td>\n",
              "      <td>1546.000000</td>\n",
              "    </tr>\n",
              "    <tr>\n",
              "      <th>1</th>\n",
              "      <td>0.471404</td>\n",
              "      <td>0.479718</td>\n",
              "      <td>0.475524</td>\n",
              "      <td>567.000000</td>\n",
              "    </tr>\n",
              "    <tr>\n",
              "      <th>accuracy</th>\n",
              "      <td>0.716044</td>\n",
              "      <td>0.716044</td>\n",
              "      <td>0.716044</td>\n",
              "      <td>0.716044</td>\n",
              "    </tr>\n",
              "    <tr>\n",
              "      <th>macro avg</th>\n",
              "      <td>0.639673</td>\n",
              "      <td>0.641217</td>\n",
              "      <td>0.640423</td>\n",
              "      <td>2113.000000</td>\n",
              "    </tr>\n",
              "    <tr>\n",
              "      <th>weighted avg</th>\n",
              "      <td>0.717636</td>\n",
              "      <td>0.716044</td>\n",
              "      <td>0.716824</td>\n",
              "      <td>2113.000000</td>\n",
              "    </tr>\n",
              "  </tbody>\n",
              "</table>\n",
              "</div>"
            ],
            "text/plain": [
              "              precision    recall  f1-score      support\n",
              "0              0.807943  0.802717  0.805321  1546.000000\n",
              "1              0.471404  0.479718  0.475524   567.000000\n",
              "accuracy       0.716044  0.716044  0.716044     0.716044\n",
              "macro avg      0.639673  0.641217  0.640423  2113.000000\n",
              "weighted avg   0.717636  0.716044  0.716824  2113.000000"
            ]
          },
          "metadata": {
            "tags": []
          },
          "execution_count": 46
        }
      ]
    },
    {
      "cell_type": "code",
      "metadata": {
        "colab": {
          "base_uri": "https://localhost:8080/"
        },
        "id": "HlW2MVyFPxFW",
        "outputId": "28cdbff8-09d4-492a-ba2f-e62306e7a7be"
      },
      "source": [
        "dtc_cv=cross_val_score(DTC,x,y,scoring='accuracy', cv = 10).mean()\n",
        "dtc_cv"
      ],
      "execution_count": 47,
      "outputs": [
        {
          "output_type": "execute_result",
          "data": {
            "text/plain": [
              "0.7204311734364925"
            ]
          },
          "metadata": {
            "tags": []
          },
          "execution_count": 47
        }
      ]
    },
    {
      "cell_type": "markdown",
      "metadata": {
        "id": "dRsITpiwYeB7"
      },
      "source": [
        "**KNeighborsClassifier**"
      ]
    },
    {
      "cell_type": "code",
      "metadata": {
        "colab": {
          "base_uri": "https://localhost:8080/",
          "height": 221
        },
        "id": "Gz3CNs1RPzV_",
        "outputId": "da1df7f0-909e-477e-b678-546d0b1988d1"
      },
      "source": [
        "from sklearn.neighbors import KNeighborsClassifier\n",
        "KNN = KNeighborsClassifier()\n",
        "\n",
        "KNN.fit(x_train,y_train)\n",
        "\n",
        "predKNN = KNN.predict(x_test)\n",
        "\n",
        "reportKNN = classification_report(y_test,predKNN, output_dict = True)\n",
        "\n",
        "crKNN = pd.DataFrame(reportKNN).transpose()\n",
        "knn_acc=accuracy_score(y_test,predKNN)\n",
        "print(knn_acc)\n",
        "crKNN"
      ],
      "execution_count": 48,
      "outputs": [
        {
          "output_type": "stream",
          "text": [
            "0.7610033128253668\n"
          ],
          "name": "stdout"
        },
        {
          "output_type": "execute_result",
          "data": {
            "text/html": [
              "<div>\n",
              "<style scoped>\n",
              "    .dataframe tbody tr th:only-of-type {\n",
              "        vertical-align: middle;\n",
              "    }\n",
              "\n",
              "    .dataframe tbody tr th {\n",
              "        vertical-align: top;\n",
              "    }\n",
              "\n",
              "    .dataframe thead th {\n",
              "        text-align: right;\n",
              "    }\n",
              "</style>\n",
              "<table border=\"1\" class=\"dataframe\">\n",
              "  <thead>\n",
              "    <tr style=\"text-align: right;\">\n",
              "      <th></th>\n",
              "      <th>precision</th>\n",
              "      <th>recall</th>\n",
              "      <th>f1-score</th>\n",
              "      <th>support</th>\n",
              "    </tr>\n",
              "  </thead>\n",
              "  <tbody>\n",
              "    <tr>\n",
              "      <th>0</th>\n",
              "      <td>0.806357</td>\n",
              "      <td>0.886158</td>\n",
              "      <td>0.844376</td>\n",
              "      <td>1546.000000</td>\n",
              "    </tr>\n",
              "    <tr>\n",
              "      <th>1</th>\n",
              "      <td>0.574879</td>\n",
              "      <td>0.419753</td>\n",
              "      <td>0.485219</td>\n",
              "      <td>567.000000</td>\n",
              "    </tr>\n",
              "    <tr>\n",
              "      <th>accuracy</th>\n",
              "      <td>0.761003</td>\n",
              "      <td>0.761003</td>\n",
              "      <td>0.761003</td>\n",
              "      <td>0.761003</td>\n",
              "    </tr>\n",
              "    <tr>\n",
              "      <th>macro avg</th>\n",
              "      <td>0.690618</td>\n",
              "      <td>0.652955</td>\n",
              "      <td>0.664798</td>\n",
              "      <td>2113.000000</td>\n",
              "    </tr>\n",
              "    <tr>\n",
              "      <th>weighted avg</th>\n",
              "      <td>0.744242</td>\n",
              "      <td>0.761003</td>\n",
              "      <td>0.748000</td>\n",
              "      <td>2113.000000</td>\n",
              "    </tr>\n",
              "  </tbody>\n",
              "</table>\n",
              "</div>"
            ],
            "text/plain": [
              "              precision    recall  f1-score      support\n",
              "0              0.806357  0.886158  0.844376  1546.000000\n",
              "1              0.574879  0.419753  0.485219   567.000000\n",
              "accuracy       0.761003  0.761003  0.761003     0.761003\n",
              "macro avg      0.690618  0.652955  0.664798  2113.000000\n",
              "weighted avg   0.744242  0.761003  0.748000  2113.000000"
            ]
          },
          "metadata": {
            "tags": []
          },
          "execution_count": 48
        }
      ]
    },
    {
      "cell_type": "code",
      "metadata": {
        "colab": {
          "base_uri": "https://localhost:8080/"
        },
        "id": "a6zLd79CP1XA",
        "outputId": "95fcb3f7-6d10-479d-a084-2628ee306cef"
      },
      "source": [
        "knn_cv=cross_val_score(KNN,x,y,scoring='accuracy', cv = 10).mean()\n",
        "knn_cv"
      ],
      "execution_count": 49,
      "outputs": [
        {
          "output_type": "execute_result",
          "data": {
            "text/plain": [
              "0.7614635718891039"
            ]
          },
          "metadata": {
            "tags": []
          },
          "execution_count": 49
        }
      ]
    },
    {
      "cell_type": "markdown",
      "metadata": {
        "id": "IW79EE_1dS1B"
      },
      "source": [
        "**Choosing decission tree classifier and random forest for hyper parameter tuning**"
      ]
    },
    {
      "cell_type": "markdown",
      "metadata": {
        "id": "Ar47rCJpYkQy"
      },
      "source": [
        "## **7.Hyper Parameters Tuning**"
      ]
    },
    {
      "cell_type": "markdown",
      "metadata": {
        "id": "yI-LluBBYvtd"
      },
      "source": [
        "**RandomForestClassifier**"
      ]
    },
    {
      "cell_type": "code",
      "metadata": {
        "colab": {
          "base_uri": "https://localhost:8080/"
        },
        "id": "lgmHZ7avYVIm",
        "outputId": "31f097be-7d44-4282-bb2a-817e5f4e4f47"
      },
      "source": [
        "#With Hyper Parameters Tuning\n",
        "#2-2,Randomforest\n",
        "#importing modules\n",
        "from sklearn.model_selection import GridSearchCV\n",
        "from sklearn.ensemble import RandomForestClassifier\n",
        "#making the instance\n",
        "model=RandomForestClassifier()\n",
        "#hyper parameters set\n",
        "params = {'criterion':['gini','entropy'],\n",
        "          'n_estimators':[10,15,20,25,30],\n",
        "          'min_samples_leaf':[1,2,3],\n",
        "          'min_samples_split':[3,4,5,6,7], \n",
        "          'random_state':[123],\n",
        "          'n_jobs':[-1]}\n",
        "#Making models with hyper parameters sets\n",
        "model1 = GridSearchCV(model, param_grid=params, n_jobs=-1)\n",
        "#learning\n",
        "model1.fit(x_train,y_train)\n",
        "#The best hyper parameters set\n",
        "print(\"Best Hyper Parameters:\\n\",model1.best_params_)\n",
        "#Prediction\n",
        "prediction=model1.predict(x_test)\n",
        "#importing the metrics module\n",
        "from sklearn import metrics\n",
        "#evaluation(Accuracy)\n",
        "print(\"Accuracy:\",metrics.accuracy_score(prediction,y_test))\n",
        "#evaluation(Confusion Metrix)\n",
        "print(\"Confusion Metrix:\\n\",metrics.confusion_matrix(prediction,y_test))\n",
        "rf_final=prediction\n",
        "rf_finalmod=model1"
      ],
      "execution_count": 35,
      "outputs": [
        {
          "output_type": "stream",
          "text": [
            "Best Hyper Parameters:\n",
            " {'criterion': 'entropy', 'min_samples_leaf': 2, 'min_samples_split': 6, 'n_estimators': 20, 'n_jobs': -1, 'random_state': 123}\n",
            "Accuracy: 0.7875059157595835\n",
            "Confusion Metrix:\n",
            " [[1397  300]\n",
            " [ 149  267]]\n"
          ],
          "name": "stdout"
        }
      ]
    },
    {
      "cell_type": "code",
      "metadata": {
        "colab": {
          "base_uri": "https://localhost:8080/"
        },
        "id": "zGvWuAQnbFk5",
        "outputId": "562e833e-fd87-4165-8fbf-0944747d50f8"
      },
      "source": [
        "clf= RandomForestClassifier(criterion= 'entropy',min_samples_leaf= 3,random_state= 123,n_jobs= -1)\n",
        "clf.fit(x_train, y_train)\n",
        "predRFC= clf.predict(x_test)\n",
        "randomforest_accu=accuracy_score(y_test,predRFC)\n",
        "randomforest_accu\n",
        "print(confusion_matrix(y_test, predRFC))\n",
        "print(classification_report(y_test, predRFC))"
      ],
      "execution_count": 27,
      "outputs": [
        {
          "output_type": "stream",
          "text": [
            "[[1416  145]\n",
            " [ 284  268]]\n",
            "              precision    recall  f1-score   support\n",
            "\n",
            "           0       0.83      0.91      0.87      1561\n",
            "           1       0.65      0.49      0.56       552\n",
            "\n",
            "    accuracy                           0.80      2113\n",
            "   macro avg       0.74      0.70      0.71      2113\n",
            "weighted avg       0.78      0.80      0.79      2113\n",
            "\n"
          ],
          "name": "stdout"
        }
      ]
    },
    {
      "cell_type": "code",
      "metadata": {
        "id": "YayIQIgxSBXx",
        "colab": {
          "base_uri": "https://localhost:8080/"
        },
        "outputId": "bf0d3ea3-e446-497f-96b6-31d7c199663b"
      },
      "source": [
        "svc_cv=cross_val_score(clf,x,y,scoring='accuracy', cv = 10).mean()\n",
        "svc_cv"
      ],
      "execution_count": 29,
      "outputs": [
        {
          "output_type": "execute_result",
          "data": {
            "text/plain": [
              "0.8026390232108318"
            ]
          },
          "metadata": {
            "tags": []
          },
          "execution_count": 29
        }
      ]
    },
    {
      "cell_type": "markdown",
      "metadata": {
        "id": "P64BMqJhh7Rg"
      },
      "source": [
        "## **8.Evaluation metrics**"
      ]
    },
    {
      "cell_type": "code",
      "metadata": {
        "id": "ekkvy3BWhsPe"
      },
      "source": [
        "from sklearn.datasets import make_circles\n",
        "from sklearn.metrics import accuracy_score\n",
        "from sklearn.metrics import precision_score\n",
        "from sklearn.metrics import recall_score\n",
        "from sklearn.metrics import f1_score\n",
        "from sklearn.metrics import cohen_kappa_score\n",
        "from sklearn.metrics import roc_auc_score\n",
        "from sklearn.metrics import confusion_matrix"
      ],
      "execution_count": 31,
      "outputs": []
    },
    {
      "cell_type": "code",
      "metadata": {
        "colab": {
          "base_uri": "https://localhost:8080/"
        },
        "id": "Jyj402eEZNdU",
        "outputId": "a6cf8d53-0156-4f1d-9efa-0d9b085c7acf"
      },
      "source": [
        "print(\"Random Forest\")\n",
        "print(\"-----------------------------------------\")\n",
        "# accuracy: (tp + tn) / (p + n)\n",
        "accuracy_rfc = accuracy_score(y_test, predRFC)\n",
        "print('Accuracy: %f' % accuracy_rfc)\n",
        "# precision tp / (tp + fp)\n",
        "precision_rfc = precision_score(y_test, predRFC)\n",
        "print('Precision: %f' % precision_rfc)\n",
        "# recall: tp / (tp + fn)\n",
        "recall_rfc = recall_score(y_test, predRFC)\n",
        "print('Recall: %f' % recall_rfc)\n",
        "# f1: 2 tp / (2 tp + fp + fn)\n",
        "f1_rfc = f1_score(y_test, predRFC)\n",
        "print('F1 score: %f' % f1_rfc)"
      ],
      "execution_count": 35,
      "outputs": [
        {
          "output_type": "stream",
          "text": [
            "Random Forest\n",
            "-----------------------------------------\n",
            "Accuracy: 0.796971\n",
            "Precision: 0.648910\n",
            "Recall: 0.485507\n",
            "F1 score: 0.555440\n"
          ],
          "name": "stdout"
        }
      ]
    },
    {
      "cell_type": "markdown",
      "metadata": {
        "id": "Rb6Fo4T9h_ut"
      },
      "source": [
        "### **roc_auc_score**"
      ]
    },
    {
      "cell_type": "code",
      "metadata": {
        "id": "JILX1ZMFSmud"
      },
      "source": [
        "from sklearn.metrics import roc_curve\n",
        "import matplotlib.pyplot as plt\n",
        "from sklearn.metrics import roc_auc_score"
      ],
      "execution_count": null,
      "outputs": []
    },
    {
      "cell_type": "code",
      "metadata": {
        "colab": {
          "base_uri": "https://localhost:8080/"
        },
        "id": "0VeG5yN8h3Ya",
        "outputId": "b510d197-4503-478f-8bcb-2efefd63a39b"
      },
      "source": [
        "rf = RandomForestClassifier(criterion= 'entropy',min_samples_leaf= 3,random_state= 123,n_jobs= -1)\n",
        "rf.fit(x_train,y_train)\n",
        "y_pred_rf = rf.predict(x_test)\n",
        "y_pred_prob = rf.predict_proba(x_test)[:,1]\n",
        "y_pred_prob"
      ],
      "execution_count": null,
      "outputs": [
        {
          "output_type": "execute_result",
          "data": {
            "text/plain": [
              "array([0.02737515, 0.37665263, 0.0167619 , ..., 0.35611214, 0.4393593 ,\n",
              "       0.34082099])"
            ]
          },
          "metadata": {
            "tags": []
          },
          "execution_count": 147
        }
      ]
    },
    {
      "cell_type": "code",
      "metadata": {
        "colab": {
          "base_uri": "https://localhost:8080/",
          "height": 295
        },
        "id": "FYif03otibKC",
        "outputId": "9c665931-c6f6-4d4a-e475-bcfdaf284a41"
      },
      "source": [
        "rf = RandomForestClassifier()\n",
        "rf.fit(x_train,y_train)\n",
        "y_pred_rf = rf.predict(x_test)\n",
        "rf_roc_auc = roc_auc_score(y_test, rf.predict(x_test))\n",
        "fpr,tpr,thersholds = roc_curve(y_test,rf.predict_proba(x_test)[:,1])\n",
        "plt.figure()\n",
        "plt.plot(fpr,tpr,label='RandomForestClassifier'%rf_roc_auc)\n",
        "plt.plot([0,1],[0,1],'r--')\n",
        "plt.xlim([0.0,1.0])\n",
        "plt.ylim([0.0,1.05])\n",
        "plt.xlabel('False Positive Rate')\n",
        "plt.ylabel('True Positive Rate')\n",
        "plt.title('Receiver operating characteristic')\n",
        "plt.legend(loc=\"lower right\")\n",
        "plt.savefig('ROC')\n",
        "plt.show()"
      ],
      "execution_count": null,
      "outputs": [
        {
          "output_type": "display_data",
          "data": {
            "image/png": "[encoded data removed]",
            "text/plain": [
              "<Figure size 432x288 with 1 Axes>"
            ]
          },
          "metadata": {
            "tags": [],
            "needs_background": "light"
          }
        }
      ]
    },
    {
      "cell_type": "markdown",
      "metadata": {
        "id": "H6x656RyiKnw"
      },
      "source": [
        "## **9.Saving The Model**"
      ]
    },
    {
      "cell_type": "code",
      "metadata": {
        "colab": {
          "base_uri": "https://localhost:8080/"
        },
        "id": "lHOjmj-oiBhc",
        "outputId": "0d415f0a-dff3-4941-8e74-a9c0a137a6a2"
      },
      "source": [
        "import joblib\n",
        "joblib.dump(clf,\"final model.pkl\")"
      ],
      "execution_count": 36,
      "outputs": [
        {
          "output_type": "execute_result",
          "data": {
            "text/plain": [
              "['final model.pkl']"
            ]
          },
          "metadata": {
            "tags": []
          },
          "execution_count": 36
        }
      ]
    }
  ]
}